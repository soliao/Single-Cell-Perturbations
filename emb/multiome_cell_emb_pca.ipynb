{
 "cells": [
  {
   "cell_type": "code",
   "execution_count": 17,
   "id": "b183d80c-04ed-4bec-a104-4eb8e30abfac",
   "metadata": {
    "tags": []
   },
   "outputs": [],
   "source": [
    "import numpy as np\n",
    "import pandas as pd\n",
    "import os\n",
    "from sklearn.decomposition import PCA\n",
    "import tqdm"
   ]
  },
  {
   "cell_type": "markdown",
   "id": "288eb83b-e2c3-4846-9f11-2e148d1669b4",
   "metadata": {},
   "source": [
    "## Submission template"
   ]
  },
  {
   "cell_type": "code",
   "execution_count": 2,
   "id": "9e7cde99-8bc6-4ebd-a64b-f028faf57795",
   "metadata": {
    "tags": []
   },
   "outputs": [
    {
     "data": {
      "text/html": [
       "<div>\n",
       "<style scoped>\n",
       "    .dataframe tbody tr th:only-of-type {\n",
       "        vertical-align: middle;\n",
       "    }\n",
       "\n",
       "    .dataframe tbody tr th {\n",
       "        vertical-align: top;\n",
       "    }\n",
       "\n",
       "    .dataframe thead th {\n",
       "        text-align: right;\n",
       "    }\n",
       "</style>\n",
       "<table border=\"1\" class=\"dataframe\">\n",
       "  <thead>\n",
       "    <tr style=\"text-align: right;\">\n",
       "      <th></th>\n",
       "      <th>id</th>\n",
       "      <th>A1BG</th>\n",
       "      <th>A1BG-AS1</th>\n",
       "      <th>A2M</th>\n",
       "      <th>A2M-AS1</th>\n",
       "      <th>A2MP1</th>\n",
       "      <th>A4GALT</th>\n",
       "      <th>AAAS</th>\n",
       "      <th>AACS</th>\n",
       "      <th>AAGAB</th>\n",
       "      <th>...</th>\n",
       "      <th>ZUP1</th>\n",
       "      <th>ZW10</th>\n",
       "      <th>ZWILCH</th>\n",
       "      <th>ZWINT</th>\n",
       "      <th>ZXDA</th>\n",
       "      <th>ZXDB</th>\n",
       "      <th>ZXDC</th>\n",
       "      <th>ZYG11B</th>\n",
       "      <th>ZYX</th>\n",
       "      <th>ZZEF1</th>\n",
       "    </tr>\n",
       "  </thead>\n",
       "  <tbody>\n",
       "    <tr>\n",
       "      <th>0</th>\n",
       "      <td>0</td>\n",
       "      <td>0.0</td>\n",
       "      <td>0.0</td>\n",
       "      <td>0.0</td>\n",
       "      <td>0.0</td>\n",
       "      <td>0.0</td>\n",
       "      <td>0.0</td>\n",
       "      <td>0.0</td>\n",
       "      <td>0.0</td>\n",
       "      <td>0.0</td>\n",
       "      <td>...</td>\n",
       "      <td>0.0</td>\n",
       "      <td>0.0</td>\n",
       "      <td>0.0</td>\n",
       "      <td>0.0</td>\n",
       "      <td>0.0</td>\n",
       "      <td>0.0</td>\n",
       "      <td>0.0</td>\n",
       "      <td>0.0</td>\n",
       "      <td>0.0</td>\n",
       "      <td>0.0</td>\n",
       "    </tr>\n",
       "    <tr>\n",
       "      <th>1</th>\n",
       "      <td>1</td>\n",
       "      <td>0.0</td>\n",
       "      <td>0.0</td>\n",
       "      <td>0.0</td>\n",
       "      <td>0.0</td>\n",
       "      <td>0.0</td>\n",
       "      <td>0.0</td>\n",
       "      <td>0.0</td>\n",
       "      <td>0.0</td>\n",
       "      <td>0.0</td>\n",
       "      <td>...</td>\n",
       "      <td>0.0</td>\n",
       "      <td>0.0</td>\n",
       "      <td>0.0</td>\n",
       "      <td>0.0</td>\n",
       "      <td>0.0</td>\n",
       "      <td>0.0</td>\n",
       "      <td>0.0</td>\n",
       "      <td>0.0</td>\n",
       "      <td>0.0</td>\n",
       "      <td>0.0</td>\n",
       "    </tr>\n",
       "    <tr>\n",
       "      <th>2</th>\n",
       "      <td>2</td>\n",
       "      <td>0.0</td>\n",
       "      <td>0.0</td>\n",
       "      <td>0.0</td>\n",
       "      <td>0.0</td>\n",
       "      <td>0.0</td>\n",
       "      <td>0.0</td>\n",
       "      <td>0.0</td>\n",
       "      <td>0.0</td>\n",
       "      <td>0.0</td>\n",
       "      <td>...</td>\n",
       "      <td>0.0</td>\n",
       "      <td>0.0</td>\n",
       "      <td>0.0</td>\n",
       "      <td>0.0</td>\n",
       "      <td>0.0</td>\n",
       "      <td>0.0</td>\n",
       "      <td>0.0</td>\n",
       "      <td>0.0</td>\n",
       "      <td>0.0</td>\n",
       "      <td>0.0</td>\n",
       "    </tr>\n",
       "    <tr>\n",
       "      <th>3</th>\n",
       "      <td>3</td>\n",
       "      <td>0.0</td>\n",
       "      <td>0.0</td>\n",
       "      <td>0.0</td>\n",
       "      <td>0.0</td>\n",
       "      <td>0.0</td>\n",
       "      <td>0.0</td>\n",
       "      <td>0.0</td>\n",
       "      <td>0.0</td>\n",
       "      <td>0.0</td>\n",
       "      <td>...</td>\n",
       "      <td>0.0</td>\n",
       "      <td>0.0</td>\n",
       "      <td>0.0</td>\n",
       "      <td>0.0</td>\n",
       "      <td>0.0</td>\n",
       "      <td>0.0</td>\n",
       "      <td>0.0</td>\n",
       "      <td>0.0</td>\n",
       "      <td>0.0</td>\n",
       "      <td>0.0</td>\n",
       "    </tr>\n",
       "    <tr>\n",
       "      <th>4</th>\n",
       "      <td>4</td>\n",
       "      <td>0.0</td>\n",
       "      <td>0.0</td>\n",
       "      <td>0.0</td>\n",
       "      <td>0.0</td>\n",
       "      <td>0.0</td>\n",
       "      <td>0.0</td>\n",
       "      <td>0.0</td>\n",
       "      <td>0.0</td>\n",
       "      <td>0.0</td>\n",
       "      <td>...</td>\n",
       "      <td>0.0</td>\n",
       "      <td>0.0</td>\n",
       "      <td>0.0</td>\n",
       "      <td>0.0</td>\n",
       "      <td>0.0</td>\n",
       "      <td>0.0</td>\n",
       "      <td>0.0</td>\n",
       "      <td>0.0</td>\n",
       "      <td>0.0</td>\n",
       "      <td>0.0</td>\n",
       "    </tr>\n",
       "  </tbody>\n",
       "</table>\n",
       "<p>5 rows × 18212 columns</p>\n",
       "</div>"
      ],
      "text/plain": [
       "   id  A1BG  A1BG-AS1  A2M  A2M-AS1  A2MP1  A4GALT  AAAS  AACS  AAGAB  ...  \\\n",
       "0   0   0.0       0.0  0.0      0.0    0.0     0.0   0.0   0.0    0.0  ...   \n",
       "1   1   0.0       0.0  0.0      0.0    0.0     0.0   0.0   0.0    0.0  ...   \n",
       "2   2   0.0       0.0  0.0      0.0    0.0     0.0   0.0   0.0    0.0  ...   \n",
       "3   3   0.0       0.0  0.0      0.0    0.0     0.0   0.0   0.0    0.0  ...   \n",
       "4   4   0.0       0.0  0.0      0.0    0.0     0.0   0.0   0.0    0.0  ...   \n",
       "\n",
       "   ZUP1  ZW10  ZWILCH  ZWINT  ZXDA  ZXDB  ZXDC  ZYG11B  ZYX  ZZEF1  \n",
       "0   0.0   0.0     0.0    0.0   0.0   0.0   0.0     0.0  0.0    0.0  \n",
       "1   0.0   0.0     0.0    0.0   0.0   0.0   0.0     0.0  0.0    0.0  \n",
       "2   0.0   0.0     0.0    0.0   0.0   0.0   0.0     0.0  0.0    0.0  \n",
       "3   0.0   0.0     0.0    0.0   0.0   0.0   0.0     0.0  0.0    0.0  \n",
       "4   0.0   0.0     0.0    0.0   0.0   0.0   0.0     0.0  0.0    0.0  \n",
       "\n",
       "[5 rows x 18212 columns]"
      ]
     },
     "execution_count": 2,
     "metadata": {},
     "output_type": "execute_result"
    }
   ],
   "source": [
    "## load template\n",
    "template_df = pd.read_csv('../data/sample_submission.csv')\n",
    "assert template_df.shape[0] == 255\n",
    "template_df.head()"
   ]
  },
  {
   "cell_type": "code",
   "execution_count": 3,
   "id": "c79d4b1b-03d2-4f11-a821-1604d973f9c8",
   "metadata": {
    "tags": []
   },
   "outputs": [],
   "source": [
    "gene_list = template_df.columns[1:].tolist()"
   ]
  },
  {
   "cell_type": "code",
   "execution_count": 4,
   "id": "e51f20fc-29cc-4c68-8bfa-7d69e7529fca",
   "metadata": {
    "tags": []
   },
   "outputs": [
    {
     "data": {
      "text/plain": [
       "18211"
      ]
     },
     "execution_count": 4,
     "metadata": {},
     "output_type": "execute_result"
    }
   ],
   "source": [
    "len(gene_list)"
   ]
  },
  {
   "cell_type": "code",
   "execution_count": 5,
   "id": "8b665fb9-234b-431e-bacc-bef4b2f53b02",
   "metadata": {
    "tags": []
   },
   "outputs": [],
   "source": [
    "gene2idx = dict()\n",
    "idx2gene = dict()\n",
    "\n",
    "for idx, gene in enumerate(gene_list):\n",
    "    gene2idx[gene] = idx\n",
    "    idx2gene[idx] = gene\n",
    "\n",
    "del idx, gene"
   ]
  },
  {
   "cell_type": "markdown",
   "id": "9910c183-382c-44cb-b305-d3c3751c50c1",
   "metadata": {},
   "source": [
    "## Multiome data"
   ]
  },
  {
   "cell_type": "code",
   "execution_count": 6,
   "id": "6ab54d52-ea53-4581-9f31-f362b0afad9d",
   "metadata": {
    "tags": []
   },
   "outputs": [
    {
     "name": "stdout",
     "output_type": "stream",
     "text": [
      "(216251368, 4)\n"
     ]
    },
    {
     "data": {
      "text/html": [
       "<div>\n",
       "<style scoped>\n",
       "    .dataframe tbody tr th:only-of-type {\n",
       "        vertical-align: middle;\n",
       "    }\n",
       "\n",
       "    .dataframe tbody tr th {\n",
       "        vertical-align: top;\n",
       "    }\n",
       "\n",
       "    .dataframe thead th {\n",
       "        text-align: right;\n",
       "    }\n",
       "</style>\n",
       "<table border=\"1\" class=\"dataframe\">\n",
       "  <thead>\n",
       "    <tr style=\"text-align: right;\">\n",
       "      <th></th>\n",
       "      <th>obs_id</th>\n",
       "      <th>location</th>\n",
       "      <th>count</th>\n",
       "      <th>normalized_count</th>\n",
       "    </tr>\n",
       "  </thead>\n",
       "  <tbody>\n",
       "    <tr>\n",
       "      <th>0</th>\n",
       "      <td>000225c1151ab841</td>\n",
       "      <td>AAMP</td>\n",
       "      <td>1</td>\n",
       "      <td>6.320659</td>\n",
       "    </tr>\n",
       "    <tr>\n",
       "      <th>1</th>\n",
       "      <td>000225c1151ab841</td>\n",
       "      <td>AASS</td>\n",
       "      <td>1</td>\n",
       "      <td>6.320659</td>\n",
       "    </tr>\n",
       "    <tr>\n",
       "      <th>2</th>\n",
       "      <td>000225c1151ab841</td>\n",
       "      <td>ABCC11</td>\n",
       "      <td>1</td>\n",
       "      <td>6.320659</td>\n",
       "    </tr>\n",
       "    <tr>\n",
       "      <th>3</th>\n",
       "      <td>000225c1151ab841</td>\n",
       "      <td>ABCC2</td>\n",
       "      <td>1</td>\n",
       "      <td>6.320659</td>\n",
       "    </tr>\n",
       "    <tr>\n",
       "      <th>4</th>\n",
       "      <td>000225c1151ab841</td>\n",
       "      <td>ABR</td>\n",
       "      <td>1</td>\n",
       "      <td>6.320659</td>\n",
       "    </tr>\n",
       "  </tbody>\n",
       "</table>\n",
       "</div>"
      ],
      "text/plain": [
       "             obs_id location  count  normalized_count\n",
       "0  000225c1151ab841     AAMP      1          6.320659\n",
       "1  000225c1151ab841     AASS      1          6.320659\n",
       "2  000225c1151ab841   ABCC11      1          6.320659\n",
       "3  000225c1151ab841    ABCC2      1          6.320659\n",
       "4  000225c1151ab841      ABR      1          6.320659"
      ]
     },
     "execution_count": 6,
     "metadata": {},
     "output_type": "execute_result"
    }
   ],
   "source": [
    "df = pd.read_parquet('../data/multiome_train.parquet')\n",
    "print(df.shape)\n",
    "df.head()"
   ]
  },
  {
   "cell_type": "code",
   "execution_count": 7,
   "id": "2e184269-8d8d-4bf1-b995-aef6fa2034ca",
   "metadata": {
    "tags": []
   },
   "outputs": [
    {
     "data": {
      "text/html": [
       "<div>\n",
       "<style scoped>\n",
       "    .dataframe tbody tr th:only-of-type {\n",
       "        vertical-align: middle;\n",
       "    }\n",
       "\n",
       "    .dataframe tbody tr th {\n",
       "        vertical-align: top;\n",
       "    }\n",
       "\n",
       "    .dataframe thead th {\n",
       "        text-align: right;\n",
       "    }\n",
       "</style>\n",
       "<table border=\"1\" class=\"dataframe\">\n",
       "  <thead>\n",
       "    <tr style=\"text-align: right;\">\n",
       "      <th></th>\n",
       "      <th>obs_id</th>\n",
       "      <th>location</th>\n",
       "      <th>normalized_count</th>\n",
       "    </tr>\n",
       "  </thead>\n",
       "  <tbody>\n",
       "    <tr>\n",
       "      <th>0</th>\n",
       "      <td>000225c1151ab841</td>\n",
       "      <td>AAMP</td>\n",
       "      <td>6.320659</td>\n",
       "    </tr>\n",
       "    <tr>\n",
       "      <th>1</th>\n",
       "      <td>000225c1151ab841</td>\n",
       "      <td>AASS</td>\n",
       "      <td>6.320659</td>\n",
       "    </tr>\n",
       "    <tr>\n",
       "      <th>2</th>\n",
       "      <td>000225c1151ab841</td>\n",
       "      <td>ABCC11</td>\n",
       "      <td>6.320659</td>\n",
       "    </tr>\n",
       "    <tr>\n",
       "      <th>3</th>\n",
       "      <td>000225c1151ab841</td>\n",
       "      <td>ABCC2</td>\n",
       "      <td>6.320659</td>\n",
       "    </tr>\n",
       "    <tr>\n",
       "      <th>4</th>\n",
       "      <td>000225c1151ab841</td>\n",
       "      <td>ABR</td>\n",
       "      <td>6.320659</td>\n",
       "    </tr>\n",
       "  </tbody>\n",
       "</table>\n",
       "</div>"
      ],
      "text/plain": [
       "             obs_id location  normalized_count\n",
       "0  000225c1151ab841     AAMP          6.320659\n",
       "1  000225c1151ab841     AASS          6.320659\n",
       "2  000225c1151ab841   ABCC11          6.320659\n",
       "3  000225c1151ab841    ABCC2          6.320659\n",
       "4  000225c1151ab841      ABR          6.320659"
      ]
     },
     "execution_count": 7,
     "metadata": {},
     "output_type": "execute_result"
    }
   ],
   "source": [
    "df = df.drop(columns=['count'])\n",
    "df.head()"
   ]
  },
  {
   "cell_type": "code",
   "execution_count": 8,
   "id": "d2a47acc-1dd3-4c92-974b-17685bb688a6",
   "metadata": {
    "tags": []
   },
   "outputs": [
    {
     "data": {
      "text/html": [
       "<div>\n",
       "<style scoped>\n",
       "    .dataframe tbody tr th:only-of-type {\n",
       "        vertical-align: middle;\n",
       "    }\n",
       "\n",
       "    .dataframe tbody tr th {\n",
       "        vertical-align: top;\n",
       "    }\n",
       "\n",
       "    .dataframe thead th {\n",
       "        text-align: right;\n",
       "    }\n",
       "</style>\n",
       "<table border=\"1\" class=\"dataframe\">\n",
       "  <thead>\n",
       "    <tr style=\"text-align: right;\">\n",
       "      <th></th>\n",
       "      <th>obs_id</th>\n",
       "      <th>location</th>\n",
       "      <th>normalized_count</th>\n",
       "    </tr>\n",
       "  </thead>\n",
       "  <tbody>\n",
       "    <tr>\n",
       "      <th>0</th>\n",
       "      <td>000225c1151ab841</td>\n",
       "      <td>AAMP</td>\n",
       "      <td>6.320659</td>\n",
       "    </tr>\n",
       "    <tr>\n",
       "      <th>1</th>\n",
       "      <td>000225c1151ab841</td>\n",
       "      <td>AASS</td>\n",
       "      <td>6.320659</td>\n",
       "    </tr>\n",
       "    <tr>\n",
       "      <th>3</th>\n",
       "      <td>000225c1151ab841</td>\n",
       "      <td>ABCC2</td>\n",
       "      <td>6.320659</td>\n",
       "    </tr>\n",
       "    <tr>\n",
       "      <th>4</th>\n",
       "      <td>000225c1151ab841</td>\n",
       "      <td>ABR</td>\n",
       "      <td>6.320659</td>\n",
       "    </tr>\n",
       "    <tr>\n",
       "      <th>5</th>\n",
       "      <td>000225c1151ab841</td>\n",
       "      <td>ABRAXAS2</td>\n",
       "      <td>6.320659</td>\n",
       "    </tr>\n",
       "  </tbody>\n",
       "</table>\n",
       "</div>"
      ],
      "text/plain": [
       "             obs_id  location  normalized_count\n",
       "0  000225c1151ab841      AAMP          6.320659\n",
       "1  000225c1151ab841      AASS          6.320659\n",
       "3  000225c1151ab841     ABCC2          6.320659\n",
       "4  000225c1151ab841       ABR          6.320659\n",
       "5  000225c1151ab841  ABRAXAS2          6.320659"
      ]
     },
     "execution_count": 8,
     "metadata": {},
     "output_type": "execute_result"
    }
   ],
   "source": [
    "df = df[df['location'].isin(gene_list)]\n",
    "df.head()"
   ]
  },
  {
   "cell_type": "code",
   "execution_count": 9,
   "id": "5617d4fe-1d33-4641-945b-7ffdbe974843",
   "metadata": {
    "tags": []
   },
   "outputs": [
    {
     "data": {
      "text/plain": [
       "(40845122, 3)"
      ]
     },
     "execution_count": 9,
     "metadata": {},
     "output_type": "execute_result"
    }
   ],
   "source": [
    "df.shape"
   ]
  },
  {
   "cell_type": "code",
   "execution_count": 10,
   "id": "f3e39798-761e-4571-a0bc-2f3e4779486e",
   "metadata": {
    "tags": []
   },
   "outputs": [],
   "source": [
    "obsid2idx = dict()\n",
    "idx2obsid = dict()\n",
    "\n",
    "for idx, obsid in enumerate(df['obs_id'].unique().tolist()):\n",
    "    obsid2idx[obsid] = idx\n",
    "    idx2obsid[idx] = obsid\n",
    "\n",
    "del idx, obsid"
   ]
  },
  {
   "cell_type": "code",
   "execution_count": 11,
   "id": "488b8b46-2931-492f-9240-5ae16dea450b",
   "metadata": {
    "tags": []
   },
   "outputs": [
    {
     "data": {
      "text/plain": [
       "25551"
      ]
     },
     "execution_count": 11,
     "metadata": {},
     "output_type": "execute_result"
    }
   ],
   "source": [
    "len(obsid2idx)"
   ]
  },
  {
   "cell_type": "code",
   "execution_count": 12,
   "id": "f150f2c3-99e9-4051-abdc-77fc09081c5b",
   "metadata": {
    "tags": []
   },
   "outputs": [
    {
     "data": {
      "text/plain": [
       "25551"
      ]
     },
     "execution_count": 12,
     "metadata": {},
     "output_type": "execute_result"
    }
   ],
   "source": [
    "len(idx2obsid)"
   ]
  },
  {
   "cell_type": "markdown",
   "id": "15709534-8ab5-45a3-b5f6-302a26aa8241",
   "metadata": {},
   "source": [
    "## Look up cell types"
   ]
  },
  {
   "cell_type": "code",
   "execution_count": 27,
   "id": "de3f0444-0681-4e85-80e3-7102f31e1ac1",
   "metadata": {
    "tags": []
   },
   "outputs": [
    {
     "name": "stdout",
     "output_type": "stream",
     "text": [
      "(25551, 2)\n"
     ]
    },
    {
     "data": {
      "text/html": [
       "<div>\n",
       "<style scoped>\n",
       "    .dataframe tbody tr th:only-of-type {\n",
       "        vertical-align: middle;\n",
       "    }\n",
       "\n",
       "    .dataframe tbody tr th {\n",
       "        vertical-align: top;\n",
       "    }\n",
       "\n",
       "    .dataframe thead th {\n",
       "        text-align: right;\n",
       "    }\n",
       "</style>\n",
       "<table border=\"1\" class=\"dataframe\">\n",
       "  <thead>\n",
       "    <tr style=\"text-align: right;\">\n",
       "      <th></th>\n",
       "      <th>obs_id</th>\n",
       "      <th>cell_type</th>\n",
       "    </tr>\n",
       "  </thead>\n",
       "  <tbody>\n",
       "    <tr>\n",
       "      <th>0</th>\n",
       "      <td>000225c1151ab841</td>\n",
       "      <td>B cells</td>\n",
       "    </tr>\n",
       "    <tr>\n",
       "      <th>1</th>\n",
       "      <td>0003c40a54367871</td>\n",
       "      <td>T cells CD4+</td>\n",
       "    </tr>\n",
       "    <tr>\n",
       "      <th>2</th>\n",
       "      <td>0004bf574b822c3c</td>\n",
       "      <td>T cells CD4+</td>\n",
       "    </tr>\n",
       "    <tr>\n",
       "      <th>3</th>\n",
       "      <td>000d59b5478f28e2</td>\n",
       "      <td>B cells</td>\n",
       "    </tr>\n",
       "    <tr>\n",
       "      <th>4</th>\n",
       "      <td>0011b7473923d7b5</td>\n",
       "      <td>NK cells</td>\n",
       "    </tr>\n",
       "  </tbody>\n",
       "</table>\n",
       "</div>"
      ],
      "text/plain": [
       "             obs_id     cell_type\n",
       "0  000225c1151ab841       B cells\n",
       "1  0003c40a54367871  T cells CD4+\n",
       "2  0004bf574b822c3c  T cells CD4+\n",
       "3  000d59b5478f28e2       B cells\n",
       "4  0011b7473923d7b5      NK cells"
      ]
     },
     "execution_count": 27,
     "metadata": {},
     "output_type": "execute_result"
    }
   ],
   "source": [
    "meta = pd.read_csv('../data/multiome_obs_meta.csv')\n",
    "meta = meta.drop(columns=['donor_id'])\n",
    "print(meta.shape)\n",
    "meta.head()"
   ]
  },
  {
   "cell_type": "code",
   "execution_count": 28,
   "id": "fabb69cb-84f2-4e88-b65a-0875de0ca729",
   "metadata": {
    "tags": []
   },
   "outputs": [
    {
     "data": {
      "text/plain": [
       "25551"
      ]
     },
     "execution_count": 28,
     "metadata": {},
     "output_type": "execute_result"
    }
   ],
   "source": [
    "meta['obs_id'].nunique()"
   ]
  },
  {
   "cell_type": "code",
   "execution_count": 29,
   "id": "29d5cb61-53f9-4f88-aa24-a41d4654727b",
   "metadata": {
    "tags": []
   },
   "outputs": [],
   "source": [
    "obsid2celltype = dict()\n",
    "\n",
    "for i in range(meta.shape[0]):\n",
    "    obs_id = meta.iloc[i]['obs_id']\n",
    "    cell_type = meta.iloc[i]['cell_type']\n",
    "    obsid2celltype[obs_id] = cell_type"
   ]
  },
  {
   "cell_type": "code",
   "execution_count": 30,
   "id": "3791fd31-90ce-42f3-b4fa-22cf74e0c953",
   "metadata": {
    "tags": []
   },
   "outputs": [
    {
     "data": {
      "text/plain": [
       "cell_type\n",
       "T cells CD4+          9371\n",
       "Myeloid cells         6874\n",
       "NK cells              4497\n",
       "B cells               3809\n",
       "T cells CD8+           508\n",
       "T regulatory cells     492\n",
       "Name: count, dtype: int64"
      ]
     },
     "execution_count": 30,
     "metadata": {},
     "output_type": "execute_result"
    }
   ],
   "source": [
    "meta['cell_type'].value_counts()"
   ]
  },
  {
   "cell_type": "code",
   "execution_count": 31,
   "id": "638f8696-deaf-4545-9b41-8d8393618da3",
   "metadata": {
    "tags": []
   },
   "outputs": [
    {
     "data": {
      "text/plain": [
       "0"
      ]
     },
     "execution_count": 31,
     "metadata": {},
     "output_type": "execute_result"
    }
   ],
   "source": [
    "len(np.setdiff1d(df['obs_id'].unique(), meta['obs_id'].unique()))"
   ]
  },
  {
   "cell_type": "code",
   "execution_count": 32,
   "id": "26355527-5b87-4f49-bdb9-baa307e6a753",
   "metadata": {
    "tags": []
   },
   "outputs": [
    {
     "data": {
      "text/plain": [
       "0"
      ]
     },
     "execution_count": 32,
     "metadata": {},
     "output_type": "execute_result"
    }
   ],
   "source": [
    "len(np.setdiff1d(meta['obs_id'].unique(), df['obs_id'].unique()))"
   ]
  },
  {
   "cell_type": "code",
   "execution_count": 36,
   "id": "357cd75e-c4e5-448b-8ae0-9b82c18486cc",
   "metadata": {
    "tags": []
   },
   "outputs": [
    {
     "data": {
      "text/plain": [
       "{'T cells CD4+': 9371,\n",
       " 'Myeloid cells': 6874,\n",
       " 'NK cells': 4497,\n",
       " 'B cells': 3809,\n",
       " 'T cells CD8+': 508,\n",
       " 'T regulatory cells': 492}"
      ]
     },
     "execution_count": 36,
     "metadata": {},
     "output_type": "execute_result"
    }
   ],
   "source": [
    "celltype2cnt = meta['cell_type'].value_counts().to_dict()\n",
    "celltype2cnt"
   ]
  },
  {
   "cell_type": "code",
   "execution_count": 34,
   "id": "aaf79fb9-16a2-434e-9e3e-d1dd5e81fac2",
   "metadata": {
    "tags": []
   },
   "outputs": [
    {
     "data": {
      "text/plain": [
       "int"
      ]
     },
     "execution_count": 34,
     "metadata": {},
     "output_type": "execute_result"
    }
   ],
   "source": [
    "type(meta['cell_type'].value_counts().to_dict()['B cells'])"
   ]
  },
  {
   "cell_type": "code",
   "execution_count": 35,
   "id": "52c8c85c-60ad-43a7-95a5-f4a6be6ec77d",
   "metadata": {
    "tags": []
   },
   "outputs": [
    {
     "data": {
      "text/plain": [
       "['B cells',\n",
       " 'T cells CD4+',\n",
       " 'NK cells',\n",
       " 'Myeloid cells',\n",
       " 'T regulatory cells',\n",
       " 'T cells CD8+']"
      ]
     },
     "execution_count": 35,
     "metadata": {},
     "output_type": "execute_result"
    }
   ],
   "source": [
    "celltype_list = meta['cell_type'].unique().tolist()\n",
    "celltype_list"
   ]
  },
  {
   "cell_type": "markdown",
   "id": "52d688bd-6800-490f-868c-deea572b1d26",
   "metadata": {},
   "source": [
    "## PCA"
   ]
  },
  {
   "cell_type": "code",
   "execution_count": 16,
   "id": "69a2d49e-511e-47d5-bb70-03c12c39aec8",
   "metadata": {
    "tags": []
   },
   "outputs": [
    {
     "name": "stderr",
     "output_type": "stream",
     "text": [
      "100%|████████████████████████████████████████████████████████| 40845122/40845122 [41:06<00:00, 16556.84it/s]\n"
     ]
    }
   ],
   "source": [
    "M = np.zeros((len(obsid2idx), len(gene2idx)))\n",
    "\n",
    "for i in tqdm.tqdm(range(df.shape[0])):\n",
    "    obsid_idx = obsid2idx[df.iloc[i]['obs_id']]\n",
    "    gene_idx = gene2idx[df.iloc[i]['location']]\n",
    "    val = df.iloc[i]['normalized_count'].astype(float)\n",
    "\n",
    "    M[obsid_idx, gene_idx] = val"
   ]
  },
  {
   "cell_type": "code",
   "execution_count": 51,
   "id": "0f85ff87-fd3f-4fc9-b375-339a20591a52",
   "metadata": {
    "tags": []
   },
   "outputs": [],
   "source": [
    "def pca_reduction(M, n_components):\n",
    "    \n",
    "    # PCA\n",
    "    pca = PCA(n_components=n_components)\n",
    "    pca.fit(M)\n",
    "    \n",
    "    #print(pca.explained_variance_ratio_)\n",
    "    print(sum(pca.explained_variance_ratio_))\n",
    "    \n",
    "    M_red = pca.transform(M)\n",
    "    print(M_red.shape)\n",
    "    \n",
    "    # categorized by cell types\n",
    "    celltype2geneexp = dict()\n",
    "\n",
    "    for cell_type in celltype_list:\n",
    "        celltype2geneexp[cell_type] = np.array([0 for _ in range(n_components)])\n",
    "\n",
    "    for i in range(M_red.shape[0]):\n",
    "        \n",
    "        obs_id = idx2obsid[i]\n",
    "        cell_type = obsid2celltype[obs_id]\n",
    "\n",
    "        if obs_id not in obsid2celltype:\n",
    "            continue\n",
    "\n",
    "        celltype2geneexp[cell_type] = celltype2geneexp[cell_type] + M_red[i, :]/(1.0*celltype2cnt[cell_type])\n",
    "    \n",
    "    # convert to dataframe\n",
    "    cell_emb_df = pd.DataFrame(columns=['cell_type']+['PC_'+str(i) for i in range(1, n_components+1)])\n",
    "    \n",
    "    for k, v in celltype2geneexp.items():\n",
    "        cell_emb_df.loc[len(cell_emb_df.index)] = [k] + v.tolist()\n",
    "        \n",
    "    file_name = './cell_emb_normcnt_pca_' + str(n_components) + '.csv'\n",
    "    \n",
    "    cell_emb_df.to_csv(file_name, index=False)\n",
    "    \n",
    "    tmp = pd.read_csv(file_name)\n",
    "    print(tmp.shape)\n",
    "    del tmp\n",
    "    \n",
    "    return cell_emb_df"
   ]
  },
  {
   "cell_type": "code",
   "execution_count": 52,
   "id": "7d685d05-a8d2-497c-9938-7e780e319308",
   "metadata": {
    "tags": []
   },
   "outputs": [
    {
     "name": "stdout",
     "output_type": "stream",
     "text": [
      "0.10622993902630974\n",
      "(25551, 16)\n",
      "(6, 17)\n"
     ]
    },
    {
     "data": {
      "text/html": [
       "<div>\n",
       "<style scoped>\n",
       "    .dataframe tbody tr th:only-of-type {\n",
       "        vertical-align: middle;\n",
       "    }\n",
       "\n",
       "    .dataframe tbody tr th {\n",
       "        vertical-align: top;\n",
       "    }\n",
       "\n",
       "    .dataframe thead th {\n",
       "        text-align: right;\n",
       "    }\n",
       "</style>\n",
       "<table border=\"1\" class=\"dataframe\">\n",
       "  <thead>\n",
       "    <tr style=\"text-align: right;\">\n",
       "      <th></th>\n",
       "      <th>cell_type</th>\n",
       "      <th>PC_1</th>\n",
       "      <th>PC_2</th>\n",
       "      <th>PC_3</th>\n",
       "      <th>PC_4</th>\n",
       "      <th>PC_5</th>\n",
       "      <th>PC_6</th>\n",
       "      <th>PC_7</th>\n",
       "      <th>PC_8</th>\n",
       "      <th>PC_9</th>\n",
       "      <th>PC_10</th>\n",
       "      <th>PC_11</th>\n",
       "      <th>PC_12</th>\n",
       "      <th>PC_13</th>\n",
       "      <th>PC_14</th>\n",
       "      <th>PC_15</th>\n",
       "      <th>PC_16</th>\n",
       "    </tr>\n",
       "  </thead>\n",
       "  <tbody>\n",
       "    <tr>\n",
       "      <th>0</th>\n",
       "      <td>B cells</td>\n",
       "      <td>-16.645466</td>\n",
       "      <td>-9.937811</td>\n",
       "      <td>38.389760</td>\n",
       "      <td>-13.680453</td>\n",
       "      <td>3.392247</td>\n",
       "      <td>0.573510</td>\n",
       "      <td>1.166997</td>\n",
       "      <td>-1.193820</td>\n",
       "      <td>-1.034064</td>\n",
       "      <td>-0.292658</td>\n",
       "      <td>0.150563</td>\n",
       "      <td>0.050403</td>\n",
       "      <td>0.010908</td>\n",
       "      <td>0.262502</td>\n",
       "      <td>-0.372228</td>\n",
       "      <td>0.059870</td>\n",
       "    </tr>\n",
       "    <tr>\n",
       "      <th>1</th>\n",
       "      <td>T cells CD4+</td>\n",
       "      <td>-20.301091</td>\n",
       "      <td>21.494592</td>\n",
       "      <td>-4.919826</td>\n",
       "      <td>3.948149</td>\n",
       "      <td>-8.514178</td>\n",
       "      <td>0.414083</td>\n",
       "      <td>-0.534505</td>\n",
       "      <td>-1.421001</td>\n",
       "      <td>-0.040458</td>\n",
       "      <td>0.055026</td>\n",
       "      <td>-0.595126</td>\n",
       "      <td>-0.026152</td>\n",
       "      <td>0.076710</td>\n",
       "      <td>0.269101</td>\n",
       "      <td>0.294578</td>\n",
       "      <td>0.652199</td>\n",
       "    </tr>\n",
       "    <tr>\n",
       "      <th>2</th>\n",
       "      <td>NK cells</td>\n",
       "      <td>-24.776161</td>\n",
       "      <td>2.033651</td>\n",
       "      <td>-15.259671</td>\n",
       "      <td>-3.799439</td>\n",
       "      <td>20.975446</td>\n",
       "      <td>-0.586868</td>\n",
       "      <td>1.444727</td>\n",
       "      <td>2.714108</td>\n",
       "      <td>-0.113113</td>\n",
       "      <td>-0.119557</td>\n",
       "      <td>0.521539</td>\n",
       "      <td>0.435839</td>\n",
       "      <td>-0.624680</td>\n",
       "      <td>-0.348762</td>\n",
       "      <td>0.002319</td>\n",
       "      <td>-1.325414</td>\n",
       "    </tr>\n",
       "    <tr>\n",
       "      <th>3</th>\n",
       "      <td>Myeloid cells</td>\n",
       "      <td>57.544910</td>\n",
       "      <td>-26.085601</td>\n",
       "      <td>-4.039023</td>\n",
       "      <td>3.930486</td>\n",
       "      <td>-2.621671</td>\n",
       "      <td>-0.661969</td>\n",
       "      <td>-1.015971</td>\n",
       "      <td>0.582177</td>\n",
       "      <td>0.092216</td>\n",
       "      <td>0.145742</td>\n",
       "      <td>0.120291</td>\n",
       "      <td>0.164485</td>\n",
       "      <td>-0.014980</td>\n",
       "      <td>-0.377656</td>\n",
       "      <td>-0.434599</td>\n",
       "      <td>0.094791</td>\n",
       "    </tr>\n",
       "    <tr>\n",
       "      <th>4</th>\n",
       "      <td>T regulatory cells</td>\n",
       "      <td>-31.188498</td>\n",
       "      <td>0.774462</td>\n",
       "      <td>-4.064170</td>\n",
       "      <td>6.189435</td>\n",
       "      <td>-5.682527</td>\n",
       "      <td>1.086418</td>\n",
       "      <td>-2.508905</td>\n",
       "      <td>-4.408511</td>\n",
       "      <td>2.837978</td>\n",
       "      <td>-0.008703</td>\n",
       "      <td>3.448481</td>\n",
       "      <td>-3.421481</td>\n",
       "      <td>11.269329</td>\n",
       "      <td>3.688374</td>\n",
       "      <td>7.130860</td>\n",
       "      <td>0.597393</td>\n",
       "    </tr>\n",
       "    <tr>\n",
       "      <th>5</th>\n",
       "      <td>T cells CD8+</td>\n",
       "      <td>-29.835574</td>\n",
       "      <td>12.231034</td>\n",
       "      <td>-3.418006</td>\n",
       "      <td>4.199702</td>\n",
       "      <td>-13.078978</td>\n",
       "      <td>1.161660</td>\n",
       "      <td>4.498008</td>\n",
       "      <td>7.529962</td>\n",
       "      <td>5.504666</td>\n",
       "      <td>0.273984</td>\n",
       "      <td>0.264842</td>\n",
       "      <td>-2.665720</td>\n",
       "      <td>-6.678634</td>\n",
       "      <td>-2.306904</td>\n",
       "      <td>-3.689088</td>\n",
       "      <td>-2.608125</td>\n",
       "    </tr>\n",
       "  </tbody>\n",
       "</table>\n",
       "</div>"
      ],
      "text/plain": [
       "            cell_type       PC_1       PC_2       PC_3       PC_4       PC_5  \\\n",
       "0             B cells -16.645466  -9.937811  38.389760 -13.680453   3.392247   \n",
       "1        T cells CD4+ -20.301091  21.494592  -4.919826   3.948149  -8.514178   \n",
       "2            NK cells -24.776161   2.033651 -15.259671  -3.799439  20.975446   \n",
       "3       Myeloid cells  57.544910 -26.085601  -4.039023   3.930486  -2.621671   \n",
       "4  T regulatory cells -31.188498   0.774462  -4.064170   6.189435  -5.682527   \n",
       "5        T cells CD8+ -29.835574  12.231034  -3.418006   4.199702 -13.078978   \n",
       "\n",
       "       PC_6      PC_7      PC_8      PC_9     PC_10     PC_11     PC_12  \\\n",
       "0  0.573510  1.166997 -1.193820 -1.034064 -0.292658  0.150563  0.050403   \n",
       "1  0.414083 -0.534505 -1.421001 -0.040458  0.055026 -0.595126 -0.026152   \n",
       "2 -0.586868  1.444727  2.714108 -0.113113 -0.119557  0.521539  0.435839   \n",
       "3 -0.661969 -1.015971  0.582177  0.092216  0.145742  0.120291  0.164485   \n",
       "4  1.086418 -2.508905 -4.408511  2.837978 -0.008703  3.448481 -3.421481   \n",
       "5  1.161660  4.498008  7.529962  5.504666  0.273984  0.264842 -2.665720   \n",
       "\n",
       "       PC_13     PC_14     PC_15     PC_16  \n",
       "0   0.010908  0.262502 -0.372228  0.059870  \n",
       "1   0.076710  0.269101  0.294578  0.652199  \n",
       "2  -0.624680 -0.348762  0.002319 -1.325414  \n",
       "3  -0.014980 -0.377656 -0.434599  0.094791  \n",
       "4  11.269329  3.688374  7.130860  0.597393  \n",
       "5  -6.678634 -2.306904 -3.689088 -2.608125  "
      ]
     },
     "execution_count": 52,
     "metadata": {},
     "output_type": "execute_result"
    }
   ],
   "source": [
    "pca_reduction(M=M, n_components=16)"
   ]
  },
  {
   "cell_type": "code",
   "execution_count": 53,
   "id": "94b47744-8b2c-4988-81d2-b7475295aeab",
   "metadata": {},
   "outputs": [
    {
     "name": "stdout",
     "output_type": "stream",
     "text": [
      "0.3572867315115667\n",
      "(25551, 1000)\n",
      "(6, 1001)\n"
     ]
    },
    {
     "data": {
      "text/html": [
       "<div>\n",
       "<style scoped>\n",
       "    .dataframe tbody tr th:only-of-type {\n",
       "        vertical-align: middle;\n",
       "    }\n",
       "\n",
       "    .dataframe tbody tr th {\n",
       "        vertical-align: top;\n",
       "    }\n",
       "\n",
       "    .dataframe thead th {\n",
       "        text-align: right;\n",
       "    }\n",
       "</style>\n",
       "<table border=\"1\" class=\"dataframe\">\n",
       "  <thead>\n",
       "    <tr style=\"text-align: right;\">\n",
       "      <th></th>\n",
       "      <th>cell_type</th>\n",
       "      <th>PC_1</th>\n",
       "      <th>PC_2</th>\n",
       "      <th>PC_3</th>\n",
       "      <th>PC_4</th>\n",
       "      <th>PC_5</th>\n",
       "      <th>PC_6</th>\n",
       "      <th>PC_7</th>\n",
       "      <th>PC_8</th>\n",
       "      <th>PC_9</th>\n",
       "      <th>...</th>\n",
       "      <th>PC_991</th>\n",
       "      <th>PC_992</th>\n",
       "      <th>PC_993</th>\n",
       "      <th>PC_994</th>\n",
       "      <th>PC_995</th>\n",
       "      <th>PC_996</th>\n",
       "      <th>PC_997</th>\n",
       "      <th>PC_998</th>\n",
       "      <th>PC_999</th>\n",
       "      <th>PC_1000</th>\n",
       "    </tr>\n",
       "  </thead>\n",
       "  <tbody>\n",
       "    <tr>\n",
       "      <th>0</th>\n",
       "      <td>B cells</td>\n",
       "      <td>-16.645466</td>\n",
       "      <td>-9.937811</td>\n",
       "      <td>38.389760</td>\n",
       "      <td>-13.680453</td>\n",
       "      <td>3.392247</td>\n",
       "      <td>0.573510</td>\n",
       "      <td>1.166996</td>\n",
       "      <td>-1.193825</td>\n",
       "      <td>-1.034051</td>\n",
       "      <td>...</td>\n",
       "      <td>0.032999</td>\n",
       "      <td>-0.003236</td>\n",
       "      <td>0.013568</td>\n",
       "      <td>0.032793</td>\n",
       "      <td>-0.003595</td>\n",
       "      <td>-0.000152</td>\n",
       "      <td>0.022934</td>\n",
       "      <td>-0.000098</td>\n",
       "      <td>-0.012523</td>\n",
       "      <td>-0.001455</td>\n",
       "    </tr>\n",
       "    <tr>\n",
       "      <th>1</th>\n",
       "      <td>T cells CD4+</td>\n",
       "      <td>-20.301091</td>\n",
       "      <td>21.494592</td>\n",
       "      <td>-4.919826</td>\n",
       "      <td>3.948149</td>\n",
       "      <td>-8.514178</td>\n",
       "      <td>0.414082</td>\n",
       "      <td>-0.534504</td>\n",
       "      <td>-1.421013</td>\n",
       "      <td>-0.040454</td>\n",
       "      <td>...</td>\n",
       "      <td>-0.024949</td>\n",
       "      <td>0.022010</td>\n",
       "      <td>-0.005641</td>\n",
       "      <td>-0.019585</td>\n",
       "      <td>0.020725</td>\n",
       "      <td>-0.016510</td>\n",
       "      <td>-0.015397</td>\n",
       "      <td>-0.012385</td>\n",
       "      <td>0.012747</td>\n",
       "      <td>-0.005554</td>\n",
       "    </tr>\n",
       "    <tr>\n",
       "      <th>2</th>\n",
       "      <td>NK cells</td>\n",
       "      <td>-24.776161</td>\n",
       "      <td>2.033651</td>\n",
       "      <td>-15.259671</td>\n",
       "      <td>-3.799439</td>\n",
       "      <td>20.975446</td>\n",
       "      <td>-0.586868</td>\n",
       "      <td>1.444725</td>\n",
       "      <td>2.714108</td>\n",
       "      <td>-0.113097</td>\n",
       "      <td>...</td>\n",
       "      <td>-0.008559</td>\n",
       "      <td>-0.023819</td>\n",
       "      <td>-0.029611</td>\n",
       "      <td>0.026605</td>\n",
       "      <td>-0.017015</td>\n",
       "      <td>0.016960</td>\n",
       "      <td>0.015704</td>\n",
       "      <td>-0.005299</td>\n",
       "      <td>0.006463</td>\n",
       "      <td>0.025425</td>\n",
       "    </tr>\n",
       "    <tr>\n",
       "      <th>3</th>\n",
       "      <td>Myeloid cells</td>\n",
       "      <td>57.544910</td>\n",
       "      <td>-26.085601</td>\n",
       "      <td>-4.039023</td>\n",
       "      <td>3.930486</td>\n",
       "      <td>-2.621671</td>\n",
       "      <td>-0.661970</td>\n",
       "      <td>-1.015971</td>\n",
       "      <td>0.582191</td>\n",
       "      <td>0.092228</td>\n",
       "      <td>...</td>\n",
       "      <td>0.014131</td>\n",
       "      <td>0.002084</td>\n",
       "      <td>0.009278</td>\n",
       "      <td>-0.013473</td>\n",
       "      <td>-0.012390</td>\n",
       "      <td>0.001317</td>\n",
       "      <td>-0.004089</td>\n",
       "      <td>0.013217</td>\n",
       "      <td>-0.004310</td>\n",
       "      <td>-0.005791</td>\n",
       "    </tr>\n",
       "    <tr>\n",
       "      <th>4</th>\n",
       "      <td>T regulatory cells</td>\n",
       "      <td>-31.188498</td>\n",
       "      <td>0.774462</td>\n",
       "      <td>-4.064170</td>\n",
       "      <td>6.189435</td>\n",
       "      <td>-5.682527</td>\n",
       "      <td>1.086446</td>\n",
       "      <td>-2.508867</td>\n",
       "      <td>-4.408419</td>\n",
       "      <td>2.837998</td>\n",
       "      <td>...</td>\n",
       "      <td>-0.037547</td>\n",
       "      <td>0.039340</td>\n",
       "      <td>0.023422</td>\n",
       "      <td>0.056644</td>\n",
       "      <td>-0.097037</td>\n",
       "      <td>-0.026429</td>\n",
       "      <td>-0.057392</td>\n",
       "      <td>0.104181</td>\n",
       "      <td>-0.140718</td>\n",
       "      <td>-0.102839</td>\n",
       "    </tr>\n",
       "    <tr>\n",
       "      <th>5</th>\n",
       "      <td>T cells CD8+</td>\n",
       "      <td>-29.835574</td>\n",
       "      <td>12.231034</td>\n",
       "      <td>-3.418006</td>\n",
       "      <td>4.199702</td>\n",
       "      <td>-13.078978</td>\n",
       "      <td>1.161673</td>\n",
       "      <td>4.497970</td>\n",
       "      <td>7.529941</td>\n",
       "      <td>5.504173</td>\n",
       "      <td>...</td>\n",
       "      <td>0.133715</td>\n",
       "      <td>-0.237190</td>\n",
       "      <td>0.116231</td>\n",
       "      <td>0.007329</td>\n",
       "      <td>0.056895</td>\n",
       "      <td>0.163347</td>\n",
       "      <td>0.083964</td>\n",
       "      <td>-0.003633</td>\n",
       "      <td>-0.003846</td>\n",
       "      <td>0.066247</td>\n",
       "    </tr>\n",
       "  </tbody>\n",
       "</table>\n",
       "<p>6 rows × 1001 columns</p>\n",
       "</div>"
      ],
      "text/plain": [
       "            cell_type       PC_1       PC_2       PC_3       PC_4       PC_5  \\\n",
       "0             B cells -16.645466  -9.937811  38.389760 -13.680453   3.392247   \n",
       "1        T cells CD4+ -20.301091  21.494592  -4.919826   3.948149  -8.514178   \n",
       "2            NK cells -24.776161   2.033651 -15.259671  -3.799439  20.975446   \n",
       "3       Myeloid cells  57.544910 -26.085601  -4.039023   3.930486  -2.621671   \n",
       "4  T regulatory cells -31.188498   0.774462  -4.064170   6.189435  -5.682527   \n",
       "5        T cells CD8+ -29.835574  12.231034  -3.418006   4.199702 -13.078978   \n",
       "\n",
       "       PC_6      PC_7      PC_8      PC_9  ...    PC_991    PC_992    PC_993  \\\n",
       "0  0.573510  1.166996 -1.193825 -1.034051  ...  0.032999 -0.003236  0.013568   \n",
       "1  0.414082 -0.534504 -1.421013 -0.040454  ... -0.024949  0.022010 -0.005641   \n",
       "2 -0.586868  1.444725  2.714108 -0.113097  ... -0.008559 -0.023819 -0.029611   \n",
       "3 -0.661970 -1.015971  0.582191  0.092228  ...  0.014131  0.002084  0.009278   \n",
       "4  1.086446 -2.508867 -4.408419  2.837998  ... -0.037547  0.039340  0.023422   \n",
       "5  1.161673  4.497970  7.529941  5.504173  ...  0.133715 -0.237190  0.116231   \n",
       "\n",
       "     PC_994    PC_995    PC_996    PC_997    PC_998    PC_999   PC_1000  \n",
       "0  0.032793 -0.003595 -0.000152  0.022934 -0.000098 -0.012523 -0.001455  \n",
       "1 -0.019585  0.020725 -0.016510 -0.015397 -0.012385  0.012747 -0.005554  \n",
       "2  0.026605 -0.017015  0.016960  0.015704 -0.005299  0.006463  0.025425  \n",
       "3 -0.013473 -0.012390  0.001317 -0.004089  0.013217 -0.004310 -0.005791  \n",
       "4  0.056644 -0.097037 -0.026429 -0.057392  0.104181 -0.140718 -0.102839  \n",
       "5  0.007329  0.056895  0.163347  0.083964 -0.003633 -0.003846  0.066247  \n",
       "\n",
       "[6 rows x 1001 columns]"
      ]
     },
     "execution_count": 53,
     "metadata": {},
     "output_type": "execute_result"
    }
   ],
   "source": [
    "pca_reduction(M=M, n_components=1000)"
   ]
  },
  {
   "cell_type": "code",
   "execution_count": null,
   "id": "b689db90-5d5d-42ac-a0fa-101d6592cf00",
   "metadata": {},
   "outputs": [],
   "source": []
  }
 ],
 "metadata": {
  "kernelspec": {
   "display_name": "Python 3 (ipykernel)",
   "language": "python",
   "name": "python3"
  },
  "language_info": {
   "codemirror_mode": {
    "name": "ipython",
    "version": 3
   },
   "file_extension": ".py",
   "mimetype": "text/x-python",
   "name": "python",
   "nbconvert_exporter": "python",
   "pygments_lexer": "ipython3",
   "version": "3.11.5"
  }
 },
 "nbformat": 4,
 "nbformat_minor": 5
}
