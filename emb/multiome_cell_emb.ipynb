{
 "cells": [
  {
   "cell_type": "code",
   "execution_count": 1,
   "id": "b183d80c-04ed-4bec-a104-4eb8e30abfac",
   "metadata": {
    "tags": []
   },
   "outputs": [],
   "source": [
    "import numpy as np\n",
    "import pandas as pd\n",
    "import os"
   ]
  },
  {
   "cell_type": "markdown",
   "id": "288eb83b-e2c3-4846-9f11-2e148d1669b4",
   "metadata": {},
   "source": [
    "## Submission template"
   ]
  },
  {
   "cell_type": "code",
   "execution_count": 2,
   "id": "9e7cde99-8bc6-4ebd-a64b-f028faf57795",
   "metadata": {
    "tags": []
   },
   "outputs": [
    {
     "data": {
      "text/html": [
       "<div>\n",
       "<style scoped>\n",
       "    .dataframe tbody tr th:only-of-type {\n",
       "        vertical-align: middle;\n",
       "    }\n",
       "\n",
       "    .dataframe tbody tr th {\n",
       "        vertical-align: top;\n",
       "    }\n",
       "\n",
       "    .dataframe thead th {\n",
       "        text-align: right;\n",
       "    }\n",
       "</style>\n",
       "<table border=\"1\" class=\"dataframe\">\n",
       "  <thead>\n",
       "    <tr style=\"text-align: right;\">\n",
       "      <th></th>\n",
       "      <th>id</th>\n",
       "      <th>A1BG</th>\n",
       "      <th>A1BG-AS1</th>\n",
       "      <th>A2M</th>\n",
       "      <th>A2M-AS1</th>\n",
       "      <th>A2MP1</th>\n",
       "      <th>A4GALT</th>\n",
       "      <th>AAAS</th>\n",
       "      <th>AACS</th>\n",
       "      <th>AAGAB</th>\n",
       "      <th>...</th>\n",
       "      <th>ZUP1</th>\n",
       "      <th>ZW10</th>\n",
       "      <th>ZWILCH</th>\n",
       "      <th>ZWINT</th>\n",
       "      <th>ZXDA</th>\n",
       "      <th>ZXDB</th>\n",
       "      <th>ZXDC</th>\n",
       "      <th>ZYG11B</th>\n",
       "      <th>ZYX</th>\n",
       "      <th>ZZEF1</th>\n",
       "    </tr>\n",
       "  </thead>\n",
       "  <tbody>\n",
       "    <tr>\n",
       "      <th>0</th>\n",
       "      <td>0</td>\n",
       "      <td>0.0</td>\n",
       "      <td>0.0</td>\n",
       "      <td>0.0</td>\n",
       "      <td>0.0</td>\n",
       "      <td>0.0</td>\n",
       "      <td>0.0</td>\n",
       "      <td>0.0</td>\n",
       "      <td>0.0</td>\n",
       "      <td>0.0</td>\n",
       "      <td>...</td>\n",
       "      <td>0.0</td>\n",
       "      <td>0.0</td>\n",
       "      <td>0.0</td>\n",
       "      <td>0.0</td>\n",
       "      <td>0.0</td>\n",
       "      <td>0.0</td>\n",
       "      <td>0.0</td>\n",
       "      <td>0.0</td>\n",
       "      <td>0.0</td>\n",
       "      <td>0.0</td>\n",
       "    </tr>\n",
       "    <tr>\n",
       "      <th>1</th>\n",
       "      <td>1</td>\n",
       "      <td>0.0</td>\n",
       "      <td>0.0</td>\n",
       "      <td>0.0</td>\n",
       "      <td>0.0</td>\n",
       "      <td>0.0</td>\n",
       "      <td>0.0</td>\n",
       "      <td>0.0</td>\n",
       "      <td>0.0</td>\n",
       "      <td>0.0</td>\n",
       "      <td>...</td>\n",
       "      <td>0.0</td>\n",
       "      <td>0.0</td>\n",
       "      <td>0.0</td>\n",
       "      <td>0.0</td>\n",
       "      <td>0.0</td>\n",
       "      <td>0.0</td>\n",
       "      <td>0.0</td>\n",
       "      <td>0.0</td>\n",
       "      <td>0.0</td>\n",
       "      <td>0.0</td>\n",
       "    </tr>\n",
       "    <tr>\n",
       "      <th>2</th>\n",
       "      <td>2</td>\n",
       "      <td>0.0</td>\n",
       "      <td>0.0</td>\n",
       "      <td>0.0</td>\n",
       "      <td>0.0</td>\n",
       "      <td>0.0</td>\n",
       "      <td>0.0</td>\n",
       "      <td>0.0</td>\n",
       "      <td>0.0</td>\n",
       "      <td>0.0</td>\n",
       "      <td>...</td>\n",
       "      <td>0.0</td>\n",
       "      <td>0.0</td>\n",
       "      <td>0.0</td>\n",
       "      <td>0.0</td>\n",
       "      <td>0.0</td>\n",
       "      <td>0.0</td>\n",
       "      <td>0.0</td>\n",
       "      <td>0.0</td>\n",
       "      <td>0.0</td>\n",
       "      <td>0.0</td>\n",
       "    </tr>\n",
       "    <tr>\n",
       "      <th>3</th>\n",
       "      <td>3</td>\n",
       "      <td>0.0</td>\n",
       "      <td>0.0</td>\n",
       "      <td>0.0</td>\n",
       "      <td>0.0</td>\n",
       "      <td>0.0</td>\n",
       "      <td>0.0</td>\n",
       "      <td>0.0</td>\n",
       "      <td>0.0</td>\n",
       "      <td>0.0</td>\n",
       "      <td>...</td>\n",
       "      <td>0.0</td>\n",
       "      <td>0.0</td>\n",
       "      <td>0.0</td>\n",
       "      <td>0.0</td>\n",
       "      <td>0.0</td>\n",
       "      <td>0.0</td>\n",
       "      <td>0.0</td>\n",
       "      <td>0.0</td>\n",
       "      <td>0.0</td>\n",
       "      <td>0.0</td>\n",
       "    </tr>\n",
       "    <tr>\n",
       "      <th>4</th>\n",
       "      <td>4</td>\n",
       "      <td>0.0</td>\n",
       "      <td>0.0</td>\n",
       "      <td>0.0</td>\n",
       "      <td>0.0</td>\n",
       "      <td>0.0</td>\n",
       "      <td>0.0</td>\n",
       "      <td>0.0</td>\n",
       "      <td>0.0</td>\n",
       "      <td>0.0</td>\n",
       "      <td>...</td>\n",
       "      <td>0.0</td>\n",
       "      <td>0.0</td>\n",
       "      <td>0.0</td>\n",
       "      <td>0.0</td>\n",
       "      <td>0.0</td>\n",
       "      <td>0.0</td>\n",
       "      <td>0.0</td>\n",
       "      <td>0.0</td>\n",
       "      <td>0.0</td>\n",
       "      <td>0.0</td>\n",
       "    </tr>\n",
       "  </tbody>\n",
       "</table>\n",
       "<p>5 rows × 18212 columns</p>\n",
       "</div>"
      ],
      "text/plain": [
       "   id  A1BG  A1BG-AS1  A2M  A2M-AS1  A2MP1  A4GALT  AAAS  AACS  AAGAB  ...  \\\n",
       "0   0   0.0       0.0  0.0      0.0    0.0     0.0   0.0   0.0    0.0  ...   \n",
       "1   1   0.0       0.0  0.0      0.0    0.0     0.0   0.0   0.0    0.0  ...   \n",
       "2   2   0.0       0.0  0.0      0.0    0.0     0.0   0.0   0.0    0.0  ...   \n",
       "3   3   0.0       0.0  0.0      0.0    0.0     0.0   0.0   0.0    0.0  ...   \n",
       "4   4   0.0       0.0  0.0      0.0    0.0     0.0   0.0   0.0    0.0  ...   \n",
       "\n",
       "   ZUP1  ZW10  ZWILCH  ZWINT  ZXDA  ZXDB  ZXDC  ZYG11B  ZYX  ZZEF1  \n",
       "0   0.0   0.0     0.0    0.0   0.0   0.0   0.0     0.0  0.0    0.0  \n",
       "1   0.0   0.0     0.0    0.0   0.0   0.0   0.0     0.0  0.0    0.0  \n",
       "2   0.0   0.0     0.0    0.0   0.0   0.0   0.0     0.0  0.0    0.0  \n",
       "3   0.0   0.0     0.0    0.0   0.0   0.0   0.0     0.0  0.0    0.0  \n",
       "4   0.0   0.0     0.0    0.0   0.0   0.0   0.0     0.0  0.0    0.0  \n",
       "\n",
       "[5 rows x 18212 columns]"
      ]
     },
     "execution_count": 2,
     "metadata": {},
     "output_type": "execute_result"
    }
   ],
   "source": [
    "## load template\n",
    "template_df = pd.read_csv('../data/sample_submission.csv')\n",
    "assert template_df.shape[0] == 255\n",
    "template_df.head()"
   ]
  },
  {
   "cell_type": "code",
   "execution_count": 3,
   "id": "c79d4b1b-03d2-4f11-a821-1604d973f9c8",
   "metadata": {
    "tags": []
   },
   "outputs": [],
   "source": [
    "gene_list = template_df.columns[1:].tolist()"
   ]
  },
  {
   "cell_type": "code",
   "execution_count": 4,
   "id": "e51f20fc-29cc-4c68-8bfa-7d69e7529fca",
   "metadata": {
    "tags": []
   },
   "outputs": [
    {
     "data": {
      "text/plain": [
       "18211"
      ]
     },
     "execution_count": 4,
     "metadata": {},
     "output_type": "execute_result"
    }
   ],
   "source": [
    "len(gene_list)"
   ]
  },
  {
   "cell_type": "code",
   "execution_count": 5,
   "id": "8b665fb9-234b-431e-bacc-bef4b2f53b02",
   "metadata": {
    "tags": []
   },
   "outputs": [],
   "source": [
    "gene2idx = dict()\n",
    "idx2gene = dict()\n",
    "\n",
    "for idx, gene in enumerate(gene_list):\n",
    "    gene2idx[gene] = idx\n",
    "    idx2gene[idx] = gene\n",
    "\n",
    "del idx, gene"
   ]
  },
  {
   "cell_type": "markdown",
   "id": "9910c183-382c-44cb-b305-d3c3751c50c1",
   "metadata": {},
   "source": [
    "## Multiome data"
   ]
  },
  {
   "cell_type": "code",
   "execution_count": 6,
   "id": "6ab54d52-ea53-4581-9f31-f362b0afad9d",
   "metadata": {
    "tags": []
   },
   "outputs": [
    {
     "name": "stdout",
     "output_type": "stream",
     "text": [
      "(216251368, 4)\n"
     ]
    },
    {
     "data": {
      "text/html": [
       "<div>\n",
       "<style scoped>\n",
       "    .dataframe tbody tr th:only-of-type {\n",
       "        vertical-align: middle;\n",
       "    }\n",
       "\n",
       "    .dataframe tbody tr th {\n",
       "        vertical-align: top;\n",
       "    }\n",
       "\n",
       "    .dataframe thead th {\n",
       "        text-align: right;\n",
       "    }\n",
       "</style>\n",
       "<table border=\"1\" class=\"dataframe\">\n",
       "  <thead>\n",
       "    <tr style=\"text-align: right;\">\n",
       "      <th></th>\n",
       "      <th>obs_id</th>\n",
       "      <th>location</th>\n",
       "      <th>count</th>\n",
       "      <th>normalized_count</th>\n",
       "    </tr>\n",
       "  </thead>\n",
       "  <tbody>\n",
       "    <tr>\n",
       "      <th>0</th>\n",
       "      <td>000225c1151ab841</td>\n",
       "      <td>AAMP</td>\n",
       "      <td>1</td>\n",
       "      <td>6.320659</td>\n",
       "    </tr>\n",
       "    <tr>\n",
       "      <th>1</th>\n",
       "      <td>000225c1151ab841</td>\n",
       "      <td>AASS</td>\n",
       "      <td>1</td>\n",
       "      <td>6.320659</td>\n",
       "    </tr>\n",
       "    <tr>\n",
       "      <th>2</th>\n",
       "      <td>000225c1151ab841</td>\n",
       "      <td>ABCC11</td>\n",
       "      <td>1</td>\n",
       "      <td>6.320659</td>\n",
       "    </tr>\n",
       "    <tr>\n",
       "      <th>3</th>\n",
       "      <td>000225c1151ab841</td>\n",
       "      <td>ABCC2</td>\n",
       "      <td>1</td>\n",
       "      <td>6.320659</td>\n",
       "    </tr>\n",
       "    <tr>\n",
       "      <th>4</th>\n",
       "      <td>000225c1151ab841</td>\n",
       "      <td>ABR</td>\n",
       "      <td>1</td>\n",
       "      <td>6.320659</td>\n",
       "    </tr>\n",
       "  </tbody>\n",
       "</table>\n",
       "</div>"
      ],
      "text/plain": [
       "             obs_id location  count  normalized_count\n",
       "0  000225c1151ab841     AAMP      1          6.320659\n",
       "1  000225c1151ab841     AASS      1          6.320659\n",
       "2  000225c1151ab841   ABCC11      1          6.320659\n",
       "3  000225c1151ab841    ABCC2      1          6.320659\n",
       "4  000225c1151ab841      ABR      1          6.320659"
      ]
     },
     "execution_count": 6,
     "metadata": {},
     "output_type": "execute_result"
    }
   ],
   "source": [
    "df = pd.read_parquet('../data/multiome_train.parquet')\n",
    "print(df.shape)\n",
    "df.head()"
   ]
  },
  {
   "cell_type": "code",
   "execution_count": 7,
   "id": "2e184269-8d8d-4bf1-b995-aef6fa2034ca",
   "metadata": {
    "tags": []
   },
   "outputs": [
    {
     "data": {
      "text/html": [
       "<div>\n",
       "<style scoped>\n",
       "    .dataframe tbody tr th:only-of-type {\n",
       "        vertical-align: middle;\n",
       "    }\n",
       "\n",
       "    .dataframe tbody tr th {\n",
       "        vertical-align: top;\n",
       "    }\n",
       "\n",
       "    .dataframe thead th {\n",
       "        text-align: right;\n",
       "    }\n",
       "</style>\n",
       "<table border=\"1\" class=\"dataframe\">\n",
       "  <thead>\n",
       "    <tr style=\"text-align: right;\">\n",
       "      <th></th>\n",
       "      <th>obs_id</th>\n",
       "      <th>location</th>\n",
       "      <th>normalized_count</th>\n",
       "    </tr>\n",
       "  </thead>\n",
       "  <tbody>\n",
       "    <tr>\n",
       "      <th>0</th>\n",
       "      <td>000225c1151ab841</td>\n",
       "      <td>AAMP</td>\n",
       "      <td>6.320659</td>\n",
       "    </tr>\n",
       "    <tr>\n",
       "      <th>1</th>\n",
       "      <td>000225c1151ab841</td>\n",
       "      <td>AASS</td>\n",
       "      <td>6.320659</td>\n",
       "    </tr>\n",
       "    <tr>\n",
       "      <th>2</th>\n",
       "      <td>000225c1151ab841</td>\n",
       "      <td>ABCC11</td>\n",
       "      <td>6.320659</td>\n",
       "    </tr>\n",
       "    <tr>\n",
       "      <th>3</th>\n",
       "      <td>000225c1151ab841</td>\n",
       "      <td>ABCC2</td>\n",
       "      <td>6.320659</td>\n",
       "    </tr>\n",
       "    <tr>\n",
       "      <th>4</th>\n",
       "      <td>000225c1151ab841</td>\n",
       "      <td>ABR</td>\n",
       "      <td>6.320659</td>\n",
       "    </tr>\n",
       "  </tbody>\n",
       "</table>\n",
       "</div>"
      ],
      "text/plain": [
       "             obs_id location  normalized_count\n",
       "0  000225c1151ab841     AAMP          6.320659\n",
       "1  000225c1151ab841     AASS          6.320659\n",
       "2  000225c1151ab841   ABCC11          6.320659\n",
       "3  000225c1151ab841    ABCC2          6.320659\n",
       "4  000225c1151ab841      ABR          6.320659"
      ]
     },
     "execution_count": 7,
     "metadata": {},
     "output_type": "execute_result"
    }
   ],
   "source": [
    "df = df.drop(columns=['count'])\n",
    "df.head()"
   ]
  },
  {
   "cell_type": "code",
   "execution_count": 8,
   "id": "d2a47acc-1dd3-4c92-974b-17685bb688a6",
   "metadata": {
    "tags": []
   },
   "outputs": [
    {
     "data": {
      "text/html": [
       "<div>\n",
       "<style scoped>\n",
       "    .dataframe tbody tr th:only-of-type {\n",
       "        vertical-align: middle;\n",
       "    }\n",
       "\n",
       "    .dataframe tbody tr th {\n",
       "        vertical-align: top;\n",
       "    }\n",
       "\n",
       "    .dataframe thead th {\n",
       "        text-align: right;\n",
       "    }\n",
       "</style>\n",
       "<table border=\"1\" class=\"dataframe\">\n",
       "  <thead>\n",
       "    <tr style=\"text-align: right;\">\n",
       "      <th></th>\n",
       "      <th>obs_id</th>\n",
       "      <th>location</th>\n",
       "      <th>normalized_count</th>\n",
       "    </tr>\n",
       "  </thead>\n",
       "  <tbody>\n",
       "    <tr>\n",
       "      <th>0</th>\n",
       "      <td>000225c1151ab841</td>\n",
       "      <td>AAMP</td>\n",
       "      <td>6.320659</td>\n",
       "    </tr>\n",
       "    <tr>\n",
       "      <th>1</th>\n",
       "      <td>000225c1151ab841</td>\n",
       "      <td>AASS</td>\n",
       "      <td>6.320659</td>\n",
       "    </tr>\n",
       "    <tr>\n",
       "      <th>3</th>\n",
       "      <td>000225c1151ab841</td>\n",
       "      <td>ABCC2</td>\n",
       "      <td>6.320659</td>\n",
       "    </tr>\n",
       "    <tr>\n",
       "      <th>4</th>\n",
       "      <td>000225c1151ab841</td>\n",
       "      <td>ABR</td>\n",
       "      <td>6.320659</td>\n",
       "    </tr>\n",
       "    <tr>\n",
       "      <th>5</th>\n",
       "      <td>000225c1151ab841</td>\n",
       "      <td>ABRAXAS2</td>\n",
       "      <td>6.320659</td>\n",
       "    </tr>\n",
       "  </tbody>\n",
       "</table>\n",
       "</div>"
      ],
      "text/plain": [
       "             obs_id  location  normalized_count\n",
       "0  000225c1151ab841      AAMP          6.320659\n",
       "1  000225c1151ab841      AASS          6.320659\n",
       "3  000225c1151ab841     ABCC2          6.320659\n",
       "4  000225c1151ab841       ABR          6.320659\n",
       "5  000225c1151ab841  ABRAXAS2          6.320659"
      ]
     },
     "execution_count": 8,
     "metadata": {},
     "output_type": "execute_result"
    }
   ],
   "source": [
    "df = df[df['location'].isin(gene_list)]\n",
    "df.head()"
   ]
  },
  {
   "cell_type": "code",
   "execution_count": 9,
   "id": "5617d4fe-1d33-4641-945b-7ffdbe974843",
   "metadata": {
    "tags": []
   },
   "outputs": [
    {
     "data": {
      "text/plain": [
       "(40845122, 3)"
      ]
     },
     "execution_count": 9,
     "metadata": {},
     "output_type": "execute_result"
    }
   ],
   "source": [
    "df.shape"
   ]
  },
  {
   "cell_type": "code",
   "execution_count": 10,
   "id": "830dcc63-685f-4435-80c6-a57053572536",
   "metadata": {
    "tags": []
   },
   "outputs": [
    {
     "name": "stdout",
     "output_type": "stream",
     "text": [
      "3.9328556\n",
      "13.086681\n"
     ]
    }
   ],
   "source": [
    "print(min(df['normalized_count'].unique()))\n",
    "print(max(df['normalized_count'].unique()))"
   ]
  },
  {
   "cell_type": "markdown",
   "id": "15709534-8ab5-45a3-b5f6-302a26aa8241",
   "metadata": {},
   "source": [
    "## Look up cell types"
   ]
  },
  {
   "cell_type": "code",
   "execution_count": 11,
   "id": "de3f0444-0681-4e85-80e3-7102f31e1ac1",
   "metadata": {
    "tags": []
   },
   "outputs": [
    {
     "name": "stdout",
     "output_type": "stream",
     "text": [
      "(25551, 2)\n"
     ]
    },
    {
     "data": {
      "text/html": [
       "<div>\n",
       "<style scoped>\n",
       "    .dataframe tbody tr th:only-of-type {\n",
       "        vertical-align: middle;\n",
       "    }\n",
       "\n",
       "    .dataframe tbody tr th {\n",
       "        vertical-align: top;\n",
       "    }\n",
       "\n",
       "    .dataframe thead th {\n",
       "        text-align: right;\n",
       "    }\n",
       "</style>\n",
       "<table border=\"1\" class=\"dataframe\">\n",
       "  <thead>\n",
       "    <tr style=\"text-align: right;\">\n",
       "      <th></th>\n",
       "      <th>obs_id</th>\n",
       "      <th>cell_type</th>\n",
       "    </tr>\n",
       "  </thead>\n",
       "  <tbody>\n",
       "    <tr>\n",
       "      <th>0</th>\n",
       "      <td>000225c1151ab841</td>\n",
       "      <td>B cells</td>\n",
       "    </tr>\n",
       "    <tr>\n",
       "      <th>1</th>\n",
       "      <td>0003c40a54367871</td>\n",
       "      <td>T cells CD4+</td>\n",
       "    </tr>\n",
       "    <tr>\n",
       "      <th>2</th>\n",
       "      <td>0004bf574b822c3c</td>\n",
       "      <td>T cells CD4+</td>\n",
       "    </tr>\n",
       "    <tr>\n",
       "      <th>3</th>\n",
       "      <td>000d59b5478f28e2</td>\n",
       "      <td>B cells</td>\n",
       "    </tr>\n",
       "    <tr>\n",
       "      <th>4</th>\n",
       "      <td>0011b7473923d7b5</td>\n",
       "      <td>NK cells</td>\n",
       "    </tr>\n",
       "  </tbody>\n",
       "</table>\n",
       "</div>"
      ],
      "text/plain": [
       "             obs_id     cell_type\n",
       "0  000225c1151ab841       B cells\n",
       "1  0003c40a54367871  T cells CD4+\n",
       "2  0004bf574b822c3c  T cells CD4+\n",
       "3  000d59b5478f28e2       B cells\n",
       "4  0011b7473923d7b5      NK cells"
      ]
     },
     "execution_count": 11,
     "metadata": {},
     "output_type": "execute_result"
    }
   ],
   "source": [
    "meta = pd.read_csv('../data/multiome_obs_meta.csv')\n",
    "meta = meta.drop(columns=['donor_id'])\n",
    "print(meta.shape)\n",
    "meta.head()"
   ]
  },
  {
   "cell_type": "code",
   "execution_count": 12,
   "id": "fabb69cb-84f2-4e88-b65a-0875de0ca729",
   "metadata": {
    "tags": []
   },
   "outputs": [
    {
     "data": {
      "text/plain": [
       "25551"
      ]
     },
     "execution_count": 12,
     "metadata": {},
     "output_type": "execute_result"
    }
   ],
   "source": [
    "meta['obs_id'].nunique()"
   ]
  },
  {
   "cell_type": "code",
   "execution_count": 13,
   "id": "29d5cb61-53f9-4f88-aa24-a41d4654727b",
   "metadata": {
    "tags": []
   },
   "outputs": [],
   "source": [
    "obsid2celltype = dict()\n",
    "\n",
    "for i in range(meta.shape[0]):\n",
    "    obs_id = meta.iloc[i]['obs_id']\n",
    "    cell_type = meta.iloc[i]['cell_type']\n",
    "    obsid2celltype[obs_id] = cell_type"
   ]
  },
  {
   "cell_type": "code",
   "execution_count": 14,
   "id": "3791fd31-90ce-42f3-b4fa-22cf74e0c953",
   "metadata": {
    "tags": []
   },
   "outputs": [
    {
     "data": {
      "text/plain": [
       "cell_type\n",
       "T cells CD4+          9371\n",
       "Myeloid cells         6874\n",
       "NK cells              4497\n",
       "B cells               3809\n",
       "T cells CD8+           508\n",
       "T regulatory cells     492\n",
       "Name: count, dtype: int64"
      ]
     },
     "execution_count": 14,
     "metadata": {},
     "output_type": "execute_result"
    }
   ],
   "source": [
    "meta['cell_type'].value_counts()"
   ]
  },
  {
   "cell_type": "code",
   "execution_count": 15,
   "id": "638f8696-deaf-4545-9b41-8d8393618da3",
   "metadata": {
    "tags": []
   },
   "outputs": [
    {
     "data": {
      "text/plain": [
       "0"
      ]
     },
     "execution_count": 15,
     "metadata": {},
     "output_type": "execute_result"
    }
   ],
   "source": [
    "len(np.setdiff1d(df['obs_id'].unique(), meta['obs_id'].unique()))"
   ]
  },
  {
   "cell_type": "code",
   "execution_count": 16,
   "id": "26355527-5b87-4f49-bdb9-baa307e6a753",
   "metadata": {
    "tags": []
   },
   "outputs": [
    {
     "data": {
      "text/plain": [
       "0"
      ]
     },
     "execution_count": 16,
     "metadata": {},
     "output_type": "execute_result"
    }
   ],
   "source": [
    "len(np.setdiff1d(meta['obs_id'].unique(), df['obs_id'].unique()))"
   ]
  },
  {
   "cell_type": "code",
   "execution_count": 17,
   "id": "357cd75e-c4e5-448b-8ae0-9b82c18486cc",
   "metadata": {
    "tags": []
   },
   "outputs": [
    {
     "data": {
      "text/plain": [
       "{'T cells CD4+': 9371,\n",
       " 'Myeloid cells': 6874,\n",
       " 'NK cells': 4497,\n",
       " 'B cells': 3809,\n",
       " 'T cells CD8+': 508,\n",
       " 'T regulatory cells': 492}"
      ]
     },
     "execution_count": 17,
     "metadata": {},
     "output_type": "execute_result"
    }
   ],
   "source": [
    "meta['cell_type'].value_counts().to_dict()"
   ]
  },
  {
   "cell_type": "code",
   "execution_count": 18,
   "id": "aaf79fb9-16a2-434e-9e3e-d1dd5e81fac2",
   "metadata": {
    "tags": []
   },
   "outputs": [
    {
     "data": {
      "text/plain": [
       "int"
      ]
     },
     "execution_count": 18,
     "metadata": {},
     "output_type": "execute_result"
    }
   ],
   "source": [
    "type(meta['cell_type'].value_counts().to_dict()['B cells'])"
   ]
  },
  {
   "cell_type": "code",
   "execution_count": 19,
   "id": "52c8c85c-60ad-43a7-95a5-f4a6be6ec77d",
   "metadata": {
    "tags": []
   },
   "outputs": [
    {
     "data": {
      "text/plain": [
       "['B cells',\n",
       " 'T cells CD4+',\n",
       " 'NK cells',\n",
       " 'Myeloid cells',\n",
       " 'T regulatory cells',\n",
       " 'T cells CD8+']"
      ]
     },
     "execution_count": 19,
     "metadata": {},
     "output_type": "execute_result"
    }
   ],
   "source": [
    "celltype_list = meta['cell_type'].unique().tolist()\n",
    "celltype_list"
   ]
  },
  {
   "cell_type": "markdown",
   "id": "87a23aa4-bd4d-4a6a-8b88-8d2310b854aa",
   "metadata": {},
   "source": [
    "## Extract multiome gene expressions"
   ]
  },
  {
   "cell_type": "code",
   "execution_count": 20,
   "id": "9ab145c4-1fe6-474f-83dd-6a1c94590853",
   "metadata": {
    "tags": []
   },
   "outputs": [],
   "source": [
    "import tqdm"
   ]
  },
  {
   "cell_type": "code",
   "execution_count": 21,
   "id": "239ee21f-a40d-4557-819f-23bb2242d124",
   "metadata": {
    "tags": []
   },
   "outputs": [
    {
     "name": "stderr",
     "output_type": "stream",
     "text": [
      "100%|████████████████████████████████████████████████████████| 40845122/40845122 [46:03<00:00, 14781.09it/s]\n"
     ]
    }
   ],
   "source": [
    "celltype2cnt = meta['cell_type'].value_counts().to_dict()\n",
    "\n",
    "celltype2geneexp = dict()\n",
    "\n",
    "for cell_type in celltype_list:\n",
    "    celltype2geneexp[cell_type] = [0 for _ in range(18211)]\n",
    "\n",
    "for i in tqdm.tqdm(range(df.shape[0])):\n",
    "    obs_id = df.iloc[i]['obs_id']\n",
    "    gene = df.iloc[i]['location']\n",
    "    cnt = df.iloc[i]['normalized_count']\n",
    "    \n",
    "    cell_type = obsid2celltype[obs_id]\n",
    "    \n",
    "    if gene not in gene2idx:\n",
    "        continue\n",
    "        \n",
    "    if obs_id not in obsid2celltype:\n",
    "        continue\n",
    "        \n",
    "    if cnt < 1:\n",
    "        continue\n",
    "\n",
    "    celltype2geneexp[cell_type][gene2idx[gene]] = celltype2geneexp[cell_type][gene2idx[gene]] + cnt/(1.0*celltype2cnt[cell_type])"
   ]
  },
  {
   "cell_type": "code",
   "execution_count": null,
   "id": "c389dd27-514b-4df7-909f-56ffb35f4886",
   "metadata": {},
   "outputs": [],
   "source": []
  },
  {
   "cell_type": "markdown",
   "id": "f4475929-7418-43e0-a086-1714a1007a6b",
   "metadata": {},
   "source": [
    "## Save as csv"
   ]
  },
  {
   "cell_type": "code",
   "execution_count": 22,
   "id": "0e81a812-2024-425a-b655-b832b3233620",
   "metadata": {
    "tags": []
   },
   "outputs": [
    {
     "data": {
      "text/html": [
       "<div>\n",
       "<style scoped>\n",
       "    .dataframe tbody tr th:only-of-type {\n",
       "        vertical-align: middle;\n",
       "    }\n",
       "\n",
       "    .dataframe tbody tr th {\n",
       "        vertical-align: top;\n",
       "    }\n",
       "\n",
       "    .dataframe thead th {\n",
       "        text-align: right;\n",
       "    }\n",
       "</style>\n",
       "<table border=\"1\" class=\"dataframe\">\n",
       "  <thead>\n",
       "    <tr style=\"text-align: right;\">\n",
       "      <th></th>\n",
       "      <th>cell_type</th>\n",
       "      <th>A1BG</th>\n",
       "      <th>A1BG-AS1</th>\n",
       "      <th>A2M</th>\n",
       "      <th>A2M-AS1</th>\n",
       "      <th>A2MP1</th>\n",
       "      <th>A4GALT</th>\n",
       "      <th>AAAS</th>\n",
       "      <th>AACS</th>\n",
       "      <th>AAGAB</th>\n",
       "      <th>...</th>\n",
       "      <th>ZUP1</th>\n",
       "      <th>ZW10</th>\n",
       "      <th>ZWILCH</th>\n",
       "      <th>ZWINT</th>\n",
       "      <th>ZXDA</th>\n",
       "      <th>ZXDB</th>\n",
       "      <th>ZXDC</th>\n",
       "      <th>ZYG11B</th>\n",
       "      <th>ZYX</th>\n",
       "      <th>ZZEF1</th>\n",
       "    </tr>\n",
       "  </thead>\n",
       "  <tbody>\n",
       "    <tr>\n",
       "      <th>0</th>\n",
       "      <td>B cells</td>\n",
       "      <td>0.286709</td>\n",
       "      <td>0.369192</td>\n",
       "      <td>0.174579</td>\n",
       "      <td>0.040980</td>\n",
       "      <td>0.0</td>\n",
       "      <td>0.004556</td>\n",
       "      <td>0.160233</td>\n",
       "      <td>0.189103</td>\n",
       "      <td>0.508853</td>\n",
       "      <td>...</td>\n",
       "      <td>0.289054</td>\n",
       "      <td>0.218039</td>\n",
       "      <td>0.146898</td>\n",
       "      <td>0.010962</td>\n",
       "      <td>0.020037</td>\n",
       "      <td>0.055597</td>\n",
       "      <td>1.411210</td>\n",
       "      <td>0.731649</td>\n",
       "      <td>0.443267</td>\n",
       "      <td>1.138623</td>\n",
       "    </tr>\n",
       "    <tr>\n",
       "      <th>1</th>\n",
       "      <td>T cells CD4+</td>\n",
       "      <td>0.345561</td>\n",
       "      <td>0.276483</td>\n",
       "      <td>0.845896</td>\n",
       "      <td>0.397363</td>\n",
       "      <td>0.0</td>\n",
       "      <td>0.004368</td>\n",
       "      <td>0.207783</td>\n",
       "      <td>0.155854</td>\n",
       "      <td>0.671557</td>\n",
       "      <td>...</td>\n",
       "      <td>0.301208</td>\n",
       "      <td>0.231177</td>\n",
       "      <td>0.164825</td>\n",
       "      <td>0.013874</td>\n",
       "      <td>0.028687</td>\n",
       "      <td>0.059835</td>\n",
       "      <td>1.596086</td>\n",
       "      <td>0.810385</td>\n",
       "      <td>0.741314</td>\n",
       "      <td>1.573785</td>\n",
       "    </tr>\n",
       "    <tr>\n",
       "      <th>2</th>\n",
       "      <td>NK cells</td>\n",
       "      <td>0.198593</td>\n",
       "      <td>0.193077</td>\n",
       "      <td>2.525363</td>\n",
       "      <td>1.321400</td>\n",
       "      <td>0.0</td>\n",
       "      <td>0.006829</td>\n",
       "      <td>0.171567</td>\n",
       "      <td>0.138596</td>\n",
       "      <td>0.623483</td>\n",
       "      <td>...</td>\n",
       "      <td>0.264486</td>\n",
       "      <td>0.229794</td>\n",
       "      <td>0.147945</td>\n",
       "      <td>0.006202</td>\n",
       "      <td>0.010658</td>\n",
       "      <td>0.045880</td>\n",
       "      <td>1.375194</td>\n",
       "      <td>0.478963</td>\n",
       "      <td>0.794888</td>\n",
       "      <td>1.440577</td>\n",
       "    </tr>\n",
       "    <tr>\n",
       "      <th>3</th>\n",
       "      <td>Myeloid cells</td>\n",
       "      <td>0.426668</td>\n",
       "      <td>0.309088</td>\n",
       "      <td>0.842713</td>\n",
       "      <td>0.053280</td>\n",
       "      <td>0.0</td>\n",
       "      <td>0.057028</td>\n",
       "      <td>0.291705</td>\n",
       "      <td>0.120023</td>\n",
       "      <td>0.786532</td>\n",
       "      <td>...</td>\n",
       "      <td>0.578372</td>\n",
       "      <td>0.530244</td>\n",
       "      <td>0.217056</td>\n",
       "      <td>0.023516</td>\n",
       "      <td>0.014606</td>\n",
       "      <td>0.034963</td>\n",
       "      <td>1.783012</td>\n",
       "      <td>1.385160</td>\n",
       "      <td>1.725515</td>\n",
       "      <td>2.837625</td>\n",
       "    </tr>\n",
       "    <tr>\n",
       "      <th>4</th>\n",
       "      <td>T regulatory cells</td>\n",
       "      <td>0.244087</td>\n",
       "      <td>0.152090</td>\n",
       "      <td>0.146131</td>\n",
       "      <td>0.053442</td>\n",
       "      <td>0.0</td>\n",
       "      <td>0.000000</td>\n",
       "      <td>0.135021</td>\n",
       "      <td>0.064394</td>\n",
       "      <td>0.656290</td>\n",
       "      <td>...</td>\n",
       "      <td>0.242616</td>\n",
       "      <td>0.191995</td>\n",
       "      <td>0.124759</td>\n",
       "      <td>0.048676</td>\n",
       "      <td>0.023823</td>\n",
       "      <td>0.053844</td>\n",
       "      <td>1.144881</td>\n",
       "      <td>0.647710</td>\n",
       "      <td>0.464262</td>\n",
       "      <td>1.315307</td>\n",
       "    </tr>\n",
       "  </tbody>\n",
       "</table>\n",
       "<p>5 rows × 18212 columns</p>\n",
       "</div>"
      ],
      "text/plain": [
       "            cell_type      A1BG  A1BG-AS1       A2M   A2M-AS1  A2MP1  \\\n",
       "0             B cells  0.286709  0.369192  0.174579  0.040980    0.0   \n",
       "1        T cells CD4+  0.345561  0.276483  0.845896  0.397363    0.0   \n",
       "2            NK cells  0.198593  0.193077  2.525363  1.321400    0.0   \n",
       "3       Myeloid cells  0.426668  0.309088  0.842713  0.053280    0.0   \n",
       "4  T regulatory cells  0.244087  0.152090  0.146131  0.053442    0.0   \n",
       "\n",
       "     A4GALT      AAAS      AACS     AAGAB  ...      ZUP1      ZW10    ZWILCH  \\\n",
       "0  0.004556  0.160233  0.189103  0.508853  ...  0.289054  0.218039  0.146898   \n",
       "1  0.004368  0.207783  0.155854  0.671557  ...  0.301208  0.231177  0.164825   \n",
       "2  0.006829  0.171567  0.138596  0.623483  ...  0.264486  0.229794  0.147945   \n",
       "3  0.057028  0.291705  0.120023  0.786532  ...  0.578372  0.530244  0.217056   \n",
       "4  0.000000  0.135021  0.064394  0.656290  ...  0.242616  0.191995  0.124759   \n",
       "\n",
       "      ZWINT      ZXDA      ZXDB      ZXDC    ZYG11B       ZYX     ZZEF1  \n",
       "0  0.010962  0.020037  0.055597  1.411210  0.731649  0.443267  1.138623  \n",
       "1  0.013874  0.028687  0.059835  1.596086  0.810385  0.741314  1.573785  \n",
       "2  0.006202  0.010658  0.045880  1.375194  0.478963  0.794888  1.440577  \n",
       "3  0.023516  0.014606  0.034963  1.783012  1.385160  1.725515  2.837625  \n",
       "4  0.048676  0.023823  0.053844  1.144881  0.647710  0.464262  1.315307  \n",
       "\n",
       "[5 rows x 18212 columns]"
      ]
     },
     "execution_count": 22,
     "metadata": {},
     "output_type": "execute_result"
    }
   ],
   "source": [
    "cell_emb_df = pd.DataFrame(columns=['cell_type']+gene_list)\n",
    "\n",
    "for k, v in celltype2geneexp.items():\n",
    "    \n",
    "    v_np = np.array(v).astype(float)\n",
    "    #v_np /= np.sum(v_np)\n",
    "    \n",
    "    cell_emb_df.loc[len(cell_emb_df.index)] = [k] + v_np.tolist()\n",
    "\n",
    "cell_emb_df.head()"
   ]
  },
  {
   "cell_type": "code",
   "execution_count": 23,
   "id": "156be0ba-07c2-4b4e-beb5-94afbe5982bd",
   "metadata": {
    "tags": []
   },
   "outputs": [],
   "source": [
    "cell_emb_df.to_csv('./cell_emb_normcnt.csv', index=False)"
   ]
  },
  {
   "cell_type": "code",
   "execution_count": 24,
   "id": "ff4483e0-20fb-42ea-a332-3acfcc68bf1c",
   "metadata": {
    "tags": []
   },
   "outputs": [
    {
     "name": "stdout",
     "output_type": "stream",
     "text": [
      "(6, 18212)\n"
     ]
    },
    {
     "data": {
      "text/html": [
       "<div>\n",
       "<style scoped>\n",
       "    .dataframe tbody tr th:only-of-type {\n",
       "        vertical-align: middle;\n",
       "    }\n",
       "\n",
       "    .dataframe tbody tr th {\n",
       "        vertical-align: top;\n",
       "    }\n",
       "\n",
       "    .dataframe thead th {\n",
       "        text-align: right;\n",
       "    }\n",
       "</style>\n",
       "<table border=\"1\" class=\"dataframe\">\n",
       "  <thead>\n",
       "    <tr style=\"text-align: right;\">\n",
       "      <th></th>\n",
       "      <th>cell_type</th>\n",
       "      <th>A1BG</th>\n",
       "      <th>A1BG-AS1</th>\n",
       "      <th>A2M</th>\n",
       "      <th>A2M-AS1</th>\n",
       "      <th>A2MP1</th>\n",
       "      <th>A4GALT</th>\n",
       "      <th>AAAS</th>\n",
       "      <th>AACS</th>\n",
       "      <th>AAGAB</th>\n",
       "      <th>...</th>\n",
       "      <th>ZUP1</th>\n",
       "      <th>ZW10</th>\n",
       "      <th>ZWILCH</th>\n",
       "      <th>ZWINT</th>\n",
       "      <th>ZXDA</th>\n",
       "      <th>ZXDB</th>\n",
       "      <th>ZXDC</th>\n",
       "      <th>ZYG11B</th>\n",
       "      <th>ZYX</th>\n",
       "      <th>ZZEF1</th>\n",
       "    </tr>\n",
       "  </thead>\n",
       "  <tbody>\n",
       "    <tr>\n",
       "      <th>0</th>\n",
       "      <td>B cells</td>\n",
       "      <td>0.286709</td>\n",
       "      <td>0.369192</td>\n",
       "      <td>0.174579</td>\n",
       "      <td>0.040980</td>\n",
       "      <td>0.0</td>\n",
       "      <td>0.004556</td>\n",
       "      <td>0.160233</td>\n",
       "      <td>0.189103</td>\n",
       "      <td>0.508853</td>\n",
       "      <td>...</td>\n",
       "      <td>0.289054</td>\n",
       "      <td>0.218039</td>\n",
       "      <td>0.146898</td>\n",
       "      <td>0.010962</td>\n",
       "      <td>0.020037</td>\n",
       "      <td>0.055597</td>\n",
       "      <td>1.411210</td>\n",
       "      <td>0.731649</td>\n",
       "      <td>0.443267</td>\n",
       "      <td>1.138623</td>\n",
       "    </tr>\n",
       "    <tr>\n",
       "      <th>1</th>\n",
       "      <td>T cells CD4+</td>\n",
       "      <td>0.345561</td>\n",
       "      <td>0.276483</td>\n",
       "      <td>0.845896</td>\n",
       "      <td>0.397363</td>\n",
       "      <td>0.0</td>\n",
       "      <td>0.004368</td>\n",
       "      <td>0.207783</td>\n",
       "      <td>0.155854</td>\n",
       "      <td>0.671557</td>\n",
       "      <td>...</td>\n",
       "      <td>0.301208</td>\n",
       "      <td>0.231177</td>\n",
       "      <td>0.164825</td>\n",
       "      <td>0.013874</td>\n",
       "      <td>0.028687</td>\n",
       "      <td>0.059835</td>\n",
       "      <td>1.596086</td>\n",
       "      <td>0.810385</td>\n",
       "      <td>0.741314</td>\n",
       "      <td>1.573785</td>\n",
       "    </tr>\n",
       "    <tr>\n",
       "      <th>2</th>\n",
       "      <td>NK cells</td>\n",
       "      <td>0.198593</td>\n",
       "      <td>0.193077</td>\n",
       "      <td>2.525363</td>\n",
       "      <td>1.321400</td>\n",
       "      <td>0.0</td>\n",
       "      <td>0.006829</td>\n",
       "      <td>0.171567</td>\n",
       "      <td>0.138596</td>\n",
       "      <td>0.623483</td>\n",
       "      <td>...</td>\n",
       "      <td>0.264486</td>\n",
       "      <td>0.229794</td>\n",
       "      <td>0.147945</td>\n",
       "      <td>0.006202</td>\n",
       "      <td>0.010658</td>\n",
       "      <td>0.045880</td>\n",
       "      <td>1.375194</td>\n",
       "      <td>0.478963</td>\n",
       "      <td>0.794888</td>\n",
       "      <td>1.440577</td>\n",
       "    </tr>\n",
       "    <tr>\n",
       "      <th>3</th>\n",
       "      <td>Myeloid cells</td>\n",
       "      <td>0.426668</td>\n",
       "      <td>0.309088</td>\n",
       "      <td>0.842713</td>\n",
       "      <td>0.053280</td>\n",
       "      <td>0.0</td>\n",
       "      <td>0.057028</td>\n",
       "      <td>0.291705</td>\n",
       "      <td>0.120023</td>\n",
       "      <td>0.786532</td>\n",
       "      <td>...</td>\n",
       "      <td>0.578372</td>\n",
       "      <td>0.530244</td>\n",
       "      <td>0.217056</td>\n",
       "      <td>0.023516</td>\n",
       "      <td>0.014606</td>\n",
       "      <td>0.034963</td>\n",
       "      <td>1.783012</td>\n",
       "      <td>1.385160</td>\n",
       "      <td>1.725515</td>\n",
       "      <td>2.837625</td>\n",
       "    </tr>\n",
       "    <tr>\n",
       "      <th>4</th>\n",
       "      <td>T regulatory cells</td>\n",
       "      <td>0.244087</td>\n",
       "      <td>0.152090</td>\n",
       "      <td>0.146131</td>\n",
       "      <td>0.053442</td>\n",
       "      <td>0.0</td>\n",
       "      <td>0.000000</td>\n",
       "      <td>0.135021</td>\n",
       "      <td>0.064394</td>\n",
       "      <td>0.656290</td>\n",
       "      <td>...</td>\n",
       "      <td>0.242616</td>\n",
       "      <td>0.191995</td>\n",
       "      <td>0.124759</td>\n",
       "      <td>0.048676</td>\n",
       "      <td>0.023823</td>\n",
       "      <td>0.053844</td>\n",
       "      <td>1.144881</td>\n",
       "      <td>0.647710</td>\n",
       "      <td>0.464262</td>\n",
       "      <td>1.315307</td>\n",
       "    </tr>\n",
       "  </tbody>\n",
       "</table>\n",
       "<p>5 rows × 18212 columns</p>\n",
       "</div>"
      ],
      "text/plain": [
       "            cell_type      A1BG  A1BG-AS1       A2M   A2M-AS1  A2MP1  \\\n",
       "0             B cells  0.286709  0.369192  0.174579  0.040980    0.0   \n",
       "1        T cells CD4+  0.345561  0.276483  0.845896  0.397363    0.0   \n",
       "2            NK cells  0.198593  0.193077  2.525363  1.321400    0.0   \n",
       "3       Myeloid cells  0.426668  0.309088  0.842713  0.053280    0.0   \n",
       "4  T regulatory cells  0.244087  0.152090  0.146131  0.053442    0.0   \n",
       "\n",
       "     A4GALT      AAAS      AACS     AAGAB  ...      ZUP1      ZW10    ZWILCH  \\\n",
       "0  0.004556  0.160233  0.189103  0.508853  ...  0.289054  0.218039  0.146898   \n",
       "1  0.004368  0.207783  0.155854  0.671557  ...  0.301208  0.231177  0.164825   \n",
       "2  0.006829  0.171567  0.138596  0.623483  ...  0.264486  0.229794  0.147945   \n",
       "3  0.057028  0.291705  0.120023  0.786532  ...  0.578372  0.530244  0.217056   \n",
       "4  0.000000  0.135021  0.064394  0.656290  ...  0.242616  0.191995  0.124759   \n",
       "\n",
       "      ZWINT      ZXDA      ZXDB      ZXDC    ZYG11B       ZYX     ZZEF1  \n",
       "0  0.010962  0.020037  0.055597  1.411210  0.731649  0.443267  1.138623  \n",
       "1  0.013874  0.028687  0.059835  1.596086  0.810385  0.741314  1.573785  \n",
       "2  0.006202  0.010658  0.045880  1.375194  0.478963  0.794888  1.440577  \n",
       "3  0.023516  0.014606  0.034963  1.783012  1.385160  1.725515  2.837625  \n",
       "4  0.048676  0.023823  0.053844  1.144881  0.647710  0.464262  1.315307  \n",
       "\n",
       "[5 rows x 18212 columns]"
      ]
     },
     "execution_count": 24,
     "metadata": {},
     "output_type": "execute_result"
    }
   ],
   "source": [
    "tmp = pd.read_csv('./cell_emb_normcnt.csv')\n",
    "print(tmp.shape)\n",
    "tmp.head()"
   ]
  },
  {
   "cell_type": "code",
   "execution_count": 25,
   "id": "b83804ca-3eea-4275-a378-4b184941ab10",
   "metadata": {
    "tags": []
   },
   "outputs": [],
   "source": [
    "del tmp"
   ]
  },
  {
   "cell_type": "code",
   "execution_count": 26,
   "id": "99b414fb-4db7-46e7-9552-3fff955f0f4c",
   "metadata": {
    "tags": []
   },
   "outputs": [],
   "source": [
    "del meta"
   ]
  },
  {
   "cell_type": "code",
   "execution_count": 27,
   "id": "5c5c9207-e41e-43c1-b0ca-eac61dc7d07d",
   "metadata": {
    "tags": []
   },
   "outputs": [],
   "source": [
    "del df"
   ]
  },
  {
   "cell_type": "code",
   "execution_count": null,
   "id": "94b47744-8b2c-4988-81d2-b7475295aeab",
   "metadata": {},
   "outputs": [],
   "source": []
  }
 ],
 "metadata": {
  "kernelspec": {
   "display_name": "Python 3 (ipykernel)",
   "language": "python",
   "name": "python3"
  },
  "language_info": {
   "codemirror_mode": {
    "name": "ipython",
    "version": 3
   },
   "file_extension": ".py",
   "mimetype": "text/x-python",
   "name": "python",
   "nbconvert_exporter": "python",
   "pygments_lexer": "ipython3",
   "version": "3.11.5"
  }
 },
 "nbformat": 4,
 "nbformat_minor": 5
}
