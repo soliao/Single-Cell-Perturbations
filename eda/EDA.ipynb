{
 "cells": [
  {
   "cell_type": "code",
   "execution_count": 1,
   "id": "a2d4aeb1-c925-49e7-a99c-54b204523011",
   "metadata": {},
   "outputs": [],
   "source": [
    "import pandas as pd\n",
    "import numpy as np"
   ]
  },
  {
   "cell_type": "code",
   "execution_count": 2,
   "id": "f648b111-2667-476c-97b2-1e9cc7de163e",
   "metadata": {},
   "outputs": [],
   "source": [
    "df = pd.read_parquet('../data/de_train.parquet')"
   ]
  },
  {
   "cell_type": "code",
   "execution_count": 3,
   "id": "e1829f6a-d9a0-41dc-933a-28dac5973cb0",
   "metadata": {},
   "outputs": [
    {
     "data": {
      "text/plain": [
       "(614, 18216)"
      ]
     },
     "execution_count": 3,
     "metadata": {},
     "output_type": "execute_result"
    }
   ],
   "source": [
    "df.shape"
   ]
  },
  {
   "cell_type": "code",
   "execution_count": 4,
   "id": "84a3159a-80d6-4832-96e9-7a1c232f59ad",
   "metadata": {},
   "outputs": [
    {
     "data": {
      "text/html": [
       "<div>\n",
       "<style scoped>\n",
       "    .dataframe tbody tr th:only-of-type {\n",
       "        vertical-align: middle;\n",
       "    }\n",
       "\n",
       "    .dataframe tbody tr th {\n",
       "        vertical-align: top;\n",
       "    }\n",
       "\n",
       "    .dataframe thead th {\n",
       "        text-align: right;\n",
       "    }\n",
       "</style>\n",
       "<table border=\"1\" class=\"dataframe\">\n",
       "  <thead>\n",
       "    <tr style=\"text-align: right;\">\n",
       "      <th></th>\n",
       "      <th>cell_type</th>\n",
       "      <th>sm_name</th>\n",
       "      <th>sm_lincs_id</th>\n",
       "      <th>SMILES</th>\n",
       "      <th>control</th>\n",
       "      <th>A1BG</th>\n",
       "      <th>A1BG-AS1</th>\n",
       "      <th>A2M</th>\n",
       "      <th>A2M-AS1</th>\n",
       "      <th>A2MP1</th>\n",
       "      <th>...</th>\n",
       "      <th>ZUP1</th>\n",
       "      <th>ZW10</th>\n",
       "      <th>ZWILCH</th>\n",
       "      <th>ZWINT</th>\n",
       "      <th>ZXDA</th>\n",
       "      <th>ZXDB</th>\n",
       "      <th>ZXDC</th>\n",
       "      <th>ZYG11B</th>\n",
       "      <th>ZYX</th>\n",
       "      <th>ZZEF1</th>\n",
       "    </tr>\n",
       "  </thead>\n",
       "  <tbody>\n",
       "    <tr>\n",
       "      <th>0</th>\n",
       "      <td>NK cells</td>\n",
       "      <td>Clotrimazole</td>\n",
       "      <td>LSM-5341</td>\n",
       "      <td>Clc1ccccc1C(c1ccccc1)(c1ccccc1)n1ccnc1</td>\n",
       "      <td>0.0</td>\n",
       "      <td>0.104720</td>\n",
       "      <td>-0.077524</td>\n",
       "      <td>-1.625596</td>\n",
       "      <td>-0.144545</td>\n",
       "      <td>0.143555</td>\n",
       "      <td>...</td>\n",
       "      <td>-0.227781</td>\n",
       "      <td>-0.010752</td>\n",
       "      <td>-0.023881</td>\n",
       "      <td>0.674536</td>\n",
       "      <td>-0.453068</td>\n",
       "      <td>0.005164</td>\n",
       "      <td>-0.094959</td>\n",
       "      <td>0.034127</td>\n",
       "      <td>0.221377</td>\n",
       "      <td>0.368755</td>\n",
       "    </tr>\n",
       "    <tr>\n",
       "      <th>1</th>\n",
       "      <td>T cells CD4+</td>\n",
       "      <td>Clotrimazole</td>\n",
       "      <td>LSM-5341</td>\n",
       "      <td>Clc1ccccc1C(c1ccccc1)(c1ccccc1)n1ccnc1</td>\n",
       "      <td>0.0</td>\n",
       "      <td>0.915953</td>\n",
       "      <td>-0.884380</td>\n",
       "      <td>0.371834</td>\n",
       "      <td>-0.081677</td>\n",
       "      <td>-0.498266</td>\n",
       "      <td>...</td>\n",
       "      <td>-0.494985</td>\n",
       "      <td>-0.303419</td>\n",
       "      <td>0.304955</td>\n",
       "      <td>-0.333905</td>\n",
       "      <td>-0.315516</td>\n",
       "      <td>-0.369626</td>\n",
       "      <td>-0.095079</td>\n",
       "      <td>0.704780</td>\n",
       "      <td>1.096702</td>\n",
       "      <td>-0.869887</td>\n",
       "    </tr>\n",
       "    <tr>\n",
       "      <th>2</th>\n",
       "      <td>T cells CD8+</td>\n",
       "      <td>Clotrimazole</td>\n",
       "      <td>LSM-5341</td>\n",
       "      <td>Clc1ccccc1C(c1ccccc1)(c1ccccc1)n1ccnc1</td>\n",
       "      <td>0.0</td>\n",
       "      <td>-0.387721</td>\n",
       "      <td>-0.305378</td>\n",
       "      <td>0.567777</td>\n",
       "      <td>0.303895</td>\n",
       "      <td>-0.022653</td>\n",
       "      <td>...</td>\n",
       "      <td>-0.119422</td>\n",
       "      <td>-0.033608</td>\n",
       "      <td>-0.153123</td>\n",
       "      <td>0.183597</td>\n",
       "      <td>-0.555678</td>\n",
       "      <td>-1.494789</td>\n",
       "      <td>-0.213550</td>\n",
       "      <td>0.415768</td>\n",
       "      <td>0.078439</td>\n",
       "      <td>-0.259365</td>\n",
       "    </tr>\n",
       "    <tr>\n",
       "      <th>3</th>\n",
       "      <td>T regulatory cells</td>\n",
       "      <td>Clotrimazole</td>\n",
       "      <td>LSM-5341</td>\n",
       "      <td>Clc1ccccc1C(c1ccccc1)(c1ccccc1)n1ccnc1</td>\n",
       "      <td>0.0</td>\n",
       "      <td>0.232893</td>\n",
       "      <td>0.129029</td>\n",
       "      <td>0.336897</td>\n",
       "      <td>0.486946</td>\n",
       "      <td>0.767661</td>\n",
       "      <td>...</td>\n",
       "      <td>0.451679</td>\n",
       "      <td>0.704643</td>\n",
       "      <td>0.015468</td>\n",
       "      <td>-0.103868</td>\n",
       "      <td>0.865027</td>\n",
       "      <td>0.189114</td>\n",
       "      <td>0.224700</td>\n",
       "      <td>-0.048233</td>\n",
       "      <td>0.216139</td>\n",
       "      <td>-0.085024</td>\n",
       "    </tr>\n",
       "    <tr>\n",
       "      <th>4</th>\n",
       "      <td>NK cells</td>\n",
       "      <td>Mometasone Furoate</td>\n",
       "      <td>LSM-3349</td>\n",
       "      <td>C[C@@H]1C[C@H]2[C@@H]3CCC4=CC(=O)C=C[C@]4(C)[C...</td>\n",
       "      <td>0.0</td>\n",
       "      <td>4.290652</td>\n",
       "      <td>-0.063864</td>\n",
       "      <td>-0.017443</td>\n",
       "      <td>-0.541154</td>\n",
       "      <td>0.570982</td>\n",
       "      <td>...</td>\n",
       "      <td>0.758474</td>\n",
       "      <td>0.510762</td>\n",
       "      <td>0.607401</td>\n",
       "      <td>-0.123059</td>\n",
       "      <td>0.214366</td>\n",
       "      <td>0.487838</td>\n",
       "      <td>-0.819775</td>\n",
       "      <td>0.112365</td>\n",
       "      <td>-0.122193</td>\n",
       "      <td>0.676629</td>\n",
       "    </tr>\n",
       "  </tbody>\n",
       "</table>\n",
       "<p>5 rows × 18216 columns</p>\n",
       "</div>"
      ],
      "text/plain": [
       "            cell_type             sm_name sm_lincs_id  \\\n",
       "0            NK cells        Clotrimazole    LSM-5341   \n",
       "1        T cells CD4+        Clotrimazole    LSM-5341   \n",
       "2        T cells CD8+        Clotrimazole    LSM-5341   \n",
       "3  T regulatory cells        Clotrimazole    LSM-5341   \n",
       "4            NK cells  Mometasone Furoate    LSM-3349   \n",
       "\n",
       "                                              SMILES  control      A1BG  \\\n",
       "0             Clc1ccccc1C(c1ccccc1)(c1ccccc1)n1ccnc1      0.0  0.104720   \n",
       "1             Clc1ccccc1C(c1ccccc1)(c1ccccc1)n1ccnc1      0.0  0.915953   \n",
       "2             Clc1ccccc1C(c1ccccc1)(c1ccccc1)n1ccnc1      0.0 -0.387721   \n",
       "3             Clc1ccccc1C(c1ccccc1)(c1ccccc1)n1ccnc1      0.0  0.232893   \n",
       "4  C[C@@H]1C[C@H]2[C@@H]3CCC4=CC(=O)C=C[C@]4(C)[C...      0.0  4.290652   \n",
       "\n",
       "   A1BG-AS1       A2M   A2M-AS1     A2MP1  ...      ZUP1      ZW10    ZWILCH  \\\n",
       "0 -0.077524 -1.625596 -0.144545  0.143555  ... -0.227781 -0.010752 -0.023881   \n",
       "1 -0.884380  0.371834 -0.081677 -0.498266  ... -0.494985 -0.303419  0.304955   \n",
       "2 -0.305378  0.567777  0.303895 -0.022653  ... -0.119422 -0.033608 -0.153123   \n",
       "3  0.129029  0.336897  0.486946  0.767661  ...  0.451679  0.704643  0.015468   \n",
       "4 -0.063864 -0.017443 -0.541154  0.570982  ...  0.758474  0.510762  0.607401   \n",
       "\n",
       "      ZWINT      ZXDA      ZXDB      ZXDC    ZYG11B       ZYX     ZZEF1  \n",
       "0  0.674536 -0.453068  0.005164 -0.094959  0.034127  0.221377  0.368755  \n",
       "1 -0.333905 -0.315516 -0.369626 -0.095079  0.704780  1.096702 -0.869887  \n",
       "2  0.183597 -0.555678 -1.494789 -0.213550  0.415768  0.078439 -0.259365  \n",
       "3 -0.103868  0.865027  0.189114  0.224700 -0.048233  0.216139 -0.085024  \n",
       "4 -0.123059  0.214366  0.487838 -0.819775  0.112365 -0.122193  0.676629  \n",
       "\n",
       "[5 rows x 18216 columns]"
      ]
     },
     "execution_count": 4,
     "metadata": {},
     "output_type": "execute_result"
    }
   ],
   "source": [
    "df.head()"
   ]
  },
  {
   "cell_type": "code",
   "execution_count": 5,
   "id": "83a02408-6a8e-41ec-9e03-ae56af637a7c",
   "metadata": {},
   "outputs": [
    {
     "data": {
      "text/plain": [
       "array(['NK cells', 'T cells CD4+', 'T cells CD8+', 'T regulatory cells',\n",
       "       'B cells', 'Myeloid cells'], dtype=object)"
      ]
     },
     "execution_count": 5,
     "metadata": {},
     "output_type": "execute_result"
    }
   ],
   "source": [
    "df['cell_type'].unique()"
   ]
  },
  {
   "cell_type": "code",
   "execution_count": 9,
   "id": "a74e9461-fd24-4702-8898-ef81aae4a458",
   "metadata": {},
   "outputs": [],
   "source": [
    "df_head = df.head(492)\n",
    "df_tail = df.tail(122)"
   ]
  },
  {
   "cell_type": "code",
   "execution_count": 10,
   "id": "6a8ba51a-7458-4a8d-848f-b47b52695ac9",
   "metadata": {},
   "outputs": [
    {
     "data": {
      "text/plain": [
       "array(['Clotrimazole', 'Mometasone Furoate', 'Idelalisib', 'Vandetanib',\n",
       "       'Bosutinib', 'Ceritinib', 'Lamivudine', 'Crizotinib',\n",
       "       'Cabozantinib', 'Flutamide', 'Dasatinib', 'Selumetinib',\n",
       "       'Trametinib', 'ABT-199 (GDC-0199)', 'Oxybenzone', 'Vorinostat',\n",
       "       'Raloxifene', 'Linagliptin', 'Lapatinib', 'Canertinib',\n",
       "       'Disulfiram', 'Vardenafil', 'Palbociclib', 'Ricolinostat',\n",
       "       'Dabrafenib', 'Proscillaridin A;Proscillaridin-A', 'IN1451',\n",
       "       'Ixabepilone', 'CEP-18770 (Delanzomib)', 'RG7112', 'MK-5108',\n",
       "       'Resminostat', 'IMD-0354', 'Alvocidib', 'LY2090314',\n",
       "       'Methotrexate', 'LDN 193189', 'Tacalcitol', 'Colchicine', 'R428',\n",
       "       'TL_HRAS26', 'BMS-387032', 'CGP 60474', 'TIE2 Kinase Inhibitor',\n",
       "       'PD-0325901', 'Isoniazid', 'GSK-1070916', 'Masitinib',\n",
       "       'Saracatinib', 'CC-401', 'Decitabine', 'Ketoconazole',\n",
       "       'HYDROXYUREA', 'BAY 61-3606', 'Navitoclax', 'Porcn Inhibitor III',\n",
       "       'GW843682X', 'Prednisolone', 'Tamatinib', 'Tosedostat',\n",
       "       'GSK256066', 'MGCD-265', 'AZD-8330', 'RN-486', 'Amiodarone',\n",
       "       'Belinostat', 'RVX-208', 'GO-6976', 'Scriptaid', 'HMN-214',\n",
       "       'SB525334', 'AVL-292', 'BMS-777607', 'AZD4547', 'Foretinib',\n",
       "       'Tivozanib', 'Quizartinib', 'IKK Inhibitor VII', 'UNII-BXU45ZH6LI',\n",
       "       'Chlorpheniramine', 'Tivantinib', 'CEP-37440', 'TPCA-1', 'AZ628',\n",
       "       'OSI-930', 'AZD3514', 'Vanoxerine', 'PF-03814735', 'MLN 2238',\n",
       "       'Dovitinib', 'K-02288', 'Midostaurin', 'I-BET151', 'STK219801',\n",
       "       'PRT-062607', 'AT 7867', 'Sunitinib', 'Penfluridol', 'BMS-536924',\n",
       "       'Perhexiline', 'BI-D1870', 'FK 866', 'Mubritinib (TAK 165)',\n",
       "       'Doxorubicin', 'Pomalidomide', 'Colforsin', 'Phenylbutazone',\n",
       "       'Protriptyline', 'Buspirone', 'Clomipramine', 'Alogliptin',\n",
       "       'Nefazodone', 'ABT737', 'Dactolisib', 'Nilotinib', 'Defactinib',\n",
       "       'PF-04691502'], dtype=object)"
      ]
     },
     "execution_count": 10,
     "metadata": {},
     "output_type": "execute_result"
    }
   ],
   "source": [
    "df_head['sm_name'].unique()"
   ]
  },
  {
   "cell_type": "code",
   "execution_count": 11,
   "id": "10c93e40-d2e6-4624-82c8-3ba515c254c0",
   "metadata": {},
   "outputs": [
    {
     "data": {
      "text/plain": [
       "array(['PF-04691502', 'GLPG0634', 'Sgc-cbp30', 'BX 912', 'SCH-58261',\n",
       "       'Ruxolitinib', 'BAY 87-2243', 'O-Demethylated Adapalene',\n",
       "       'YK 4-279', 'Ganetespib (STA-9090)', 'SLx-2119',\n",
       "       'Oprozomib (ONX 0912)', 'Desloratadine', 'Pitavastatin Calcium',\n",
       "       'TR-14035', 'AT13387', 'CHIR-99021', 'RG7090',\n",
       "       'AMD-070 (hydrochloride)', 'BMS-265246', 'Tipifarnib', 'Imatinib',\n",
       "       'Topotecan', 'Clemastine',\n",
       "       '5-(9-Isopropyl-8-methyl-2-morpholino-9H-purin-6-yl)pyrimidin-2-amine',\n",
       "       'CGM-097', 'TGX 221', 'Azacitidine', 'Atorvastatin', 'Riociguat'],\n",
       "      dtype=object)"
      ]
     },
     "execution_count": 11,
     "metadata": {},
     "output_type": "execute_result"
    }
   ],
   "source": [
    "df_tail['sm_name'].unique()"
   ]
  },
  {
   "cell_type": "code",
   "execution_count": 13,
   "id": "84bb1e2f-d383-4da1-a94a-b7eea43bcff7",
   "metadata": {},
   "outputs": [
    {
     "data": {
      "text/plain": [
       "array(['5-(9-Isopropyl-8-methyl-2-morpholino-9H-purin-6-yl)pyrimidin-2-amine',\n",
       "       'AMD-070 (hydrochloride)', 'AT13387', 'Atorvastatin',\n",
       "       'Azacitidine', 'BAY 87-2243', 'BMS-265246', 'BX 912', 'CGM-097',\n",
       "       'CHIR-99021', 'Clemastine', 'Desloratadine', 'GLPG0634',\n",
       "       'Ganetespib (STA-9090)', 'Imatinib', 'O-Demethylated Adapalene',\n",
       "       'Oprozomib (ONX 0912)', 'Pitavastatin Calcium', 'RG7090',\n",
       "       'Riociguat', 'Ruxolitinib', 'SCH-58261', 'SLx-2119', 'Sgc-cbp30',\n",
       "       'TGX 221', 'TR-14035', 'Tipifarnib', 'Topotecan', 'YK 4-279'],\n",
       "      dtype=object)"
      ]
     },
     "execution_count": 13,
     "metadata": {},
     "output_type": "execute_result"
    }
   ],
   "source": [
    "np.setdiff1d(df_tail['sm_name'].unique(), df_head['sm_name'].unique())"
   ]
  },
  {
   "cell_type": "code",
   "execution_count": 14,
   "id": "0119eeed-883b-4354-aa24-bb0240ac2b21",
   "metadata": {},
   "outputs": [
    {
     "data": {
      "text/plain": [
       "29"
      ]
     },
     "execution_count": 14,
     "metadata": {},
     "output_type": "execute_result"
    }
   ],
   "source": [
    "len(np.setdiff1d(df_tail['sm_name'].unique(), df_head['sm_name'].unique()))"
   ]
  },
  {
   "cell_type": "code",
   "execution_count": 15,
   "id": "e4d1e981-61e1-47fb-8eb1-c4ad483fdd5e",
   "metadata": {},
   "outputs": [
    {
     "data": {
      "text/plain": [
       "30"
      ]
     },
     "execution_count": 15,
     "metadata": {},
     "output_type": "execute_result"
    }
   ],
   "source": [
    "len(df_tail['sm_name'].unique())"
   ]
  },
  {
   "cell_type": "code",
   "execution_count": null,
   "id": "71867ee6-b7e8-42df-b6e5-27fe4b624111",
   "metadata": {},
   "outputs": [],
   "source": []
  }
 ],
 "metadata": {
  "kernelspec": {
   "display_name": "Python 3 (ipykernel)",
   "language": "python",
   "name": "python3"
  },
  "language_info": {
   "codemirror_mode": {
    "name": "ipython",
    "version": 3
   },
   "file_extension": ".py",
   "mimetype": "text/x-python",
   "name": "python",
   "nbconvert_exporter": "python",
   "pygments_lexer": "ipython3",
   "version": "3.11.5"
  }
 },
 "nbformat": 4,
 "nbformat_minor": 5
}
