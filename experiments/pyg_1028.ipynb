{
 "cells": [
  {
   "cell_type": "markdown",
   "id": "d9f8c76c-1305-4d1c-ae66-052b711323ae",
   "metadata": {},
   "source": [
    "# PYG 1028"
   ]
  },
  {
   "cell_type": "markdown",
   "id": "acb868cd-9a1d-4987-bed6-11cf2b540edd",
   "metadata": {},
   "source": [
    "### Train best 3 models using cell embedding (normalized_counts) engineered from multiome data\n",
    "\n",
    "### Increase dimension of cell embedding\n",
    "\n",
    "### Use both gene expression and peak data"
   ]
  },
  {
   "cell_type": "code",
   "execution_count": 1,
   "id": "4db2bd90-8ab0-4195-a3b4-fa98ec83f163",
   "metadata": {
    "tags": []
   },
   "outputs": [
    {
     "data": {
      "text/plain": [
       "device(type='cuda')"
      ]
     },
     "execution_count": 1,
     "metadata": {},
     "output_type": "execute_result"
    }
   ],
   "source": [
    "import torch\n",
    "torch.device('cuda' if torch.cuda.is_available() else 'cpu')"
   ]
  },
  {
   "cell_type": "code",
   "execution_count": 2,
   "id": "8cbf824d-1e31-4845-b532-131987e685be",
   "metadata": {},
   "outputs": [],
   "source": [
    "import pandas as pd\n",
    "import numpy as np\n",
    "import tqdm\n",
    "import torch.nn.functional as F\n",
    "import copy\n",
    "\n",
    "from transformers import RobertaTokenizerFast, RobertaForMaskedLM, DataCollatorWithPadding\n",
    "\n",
    "from torch_geometric.data import Data, HeteroData\n",
    "import torch_geometric.transforms as T\n",
    "\n",
    "from sklearn.metrics import mean_squared_error\n",
    "import copy\n",
    "\n",
    "import os"
   ]
  },
  {
   "cell_type": "markdown",
   "id": "d41114a9-4902-42af-9e8e-b2b0338e8c3a",
   "metadata": {},
   "source": [
    "## Data\n",
    "\n",
    "Number of (cell_type, sm_name) pairs: 614\n",
    "\n",
    "Number of genes expressions to predict: 18211\n",
    "\n",
    "Control molecules: `Belinostat` and `Dabrafenib`."
   ]
  },
  {
   "cell_type": "code",
   "execution_count": 3,
   "id": "b33531bf-7376-4837-bcab-4aec42f0c2ab",
   "metadata": {},
   "outputs": [
    {
     "name": "stdout",
     "output_type": "stream",
     "text": [
      "(614, 18216)\n"
     ]
    },
    {
     "data": {
      "text/html": [
       "<div>\n",
       "<style scoped>\n",
       "    .dataframe tbody tr th:only-of-type {\n",
       "        vertical-align: middle;\n",
       "    }\n",
       "\n",
       "    .dataframe tbody tr th {\n",
       "        vertical-align: top;\n",
       "    }\n",
       "\n",
       "    .dataframe thead th {\n",
       "        text-align: right;\n",
       "    }\n",
       "</style>\n",
       "<table border=\"1\" class=\"dataframe\">\n",
       "  <thead>\n",
       "    <tr style=\"text-align: right;\">\n",
       "      <th></th>\n",
       "      <th>cell_type</th>\n",
       "      <th>sm_name</th>\n",
       "      <th>sm_lincs_id</th>\n",
       "      <th>SMILES</th>\n",
       "      <th>control</th>\n",
       "      <th>A1BG</th>\n",
       "      <th>A1BG-AS1</th>\n",
       "      <th>A2M</th>\n",
       "      <th>A2M-AS1</th>\n",
       "      <th>A2MP1</th>\n",
       "      <th>...</th>\n",
       "      <th>ZUP1</th>\n",
       "      <th>ZW10</th>\n",
       "      <th>ZWILCH</th>\n",
       "      <th>ZWINT</th>\n",
       "      <th>ZXDA</th>\n",
       "      <th>ZXDB</th>\n",
       "      <th>ZXDC</th>\n",
       "      <th>ZYG11B</th>\n",
       "      <th>ZYX</th>\n",
       "      <th>ZZEF1</th>\n",
       "    </tr>\n",
       "  </thead>\n",
       "  <tbody>\n",
       "    <tr>\n",
       "      <th>0</th>\n",
       "      <td>NK cells</td>\n",
       "      <td>Clotrimazole</td>\n",
       "      <td>LSM-5341</td>\n",
       "      <td>Clc1ccccc1C(c1ccccc1)(c1ccccc1)n1ccnc1</td>\n",
       "      <td>False</td>\n",
       "      <td>0.104720</td>\n",
       "      <td>-0.077524</td>\n",
       "      <td>-1.625596</td>\n",
       "      <td>-0.144545</td>\n",
       "      <td>0.143555</td>\n",
       "      <td>...</td>\n",
       "      <td>-0.227781</td>\n",
       "      <td>-0.010752</td>\n",
       "      <td>-0.023881</td>\n",
       "      <td>0.674536</td>\n",
       "      <td>-0.453068</td>\n",
       "      <td>0.005164</td>\n",
       "      <td>-0.094959</td>\n",
       "      <td>0.034127</td>\n",
       "      <td>0.221377</td>\n",
       "      <td>0.368755</td>\n",
       "    </tr>\n",
       "    <tr>\n",
       "      <th>1</th>\n",
       "      <td>T cells CD4+</td>\n",
       "      <td>Clotrimazole</td>\n",
       "      <td>LSM-5341</td>\n",
       "      <td>Clc1ccccc1C(c1ccccc1)(c1ccccc1)n1ccnc1</td>\n",
       "      <td>False</td>\n",
       "      <td>0.915953</td>\n",
       "      <td>-0.884380</td>\n",
       "      <td>0.371834</td>\n",
       "      <td>-0.081677</td>\n",
       "      <td>-0.498266</td>\n",
       "      <td>...</td>\n",
       "      <td>-0.494985</td>\n",
       "      <td>-0.303419</td>\n",
       "      <td>0.304955</td>\n",
       "      <td>-0.333905</td>\n",
       "      <td>-0.315516</td>\n",
       "      <td>-0.369626</td>\n",
       "      <td>-0.095079</td>\n",
       "      <td>0.704780</td>\n",
       "      <td>1.096702</td>\n",
       "      <td>-0.869887</td>\n",
       "    </tr>\n",
       "    <tr>\n",
       "      <th>2</th>\n",
       "      <td>T cells CD8+</td>\n",
       "      <td>Clotrimazole</td>\n",
       "      <td>LSM-5341</td>\n",
       "      <td>Clc1ccccc1C(c1ccccc1)(c1ccccc1)n1ccnc1</td>\n",
       "      <td>False</td>\n",
       "      <td>-0.387721</td>\n",
       "      <td>-0.305378</td>\n",
       "      <td>0.567777</td>\n",
       "      <td>0.303895</td>\n",
       "      <td>-0.022653</td>\n",
       "      <td>...</td>\n",
       "      <td>-0.119422</td>\n",
       "      <td>-0.033608</td>\n",
       "      <td>-0.153123</td>\n",
       "      <td>0.183597</td>\n",
       "      <td>-0.555678</td>\n",
       "      <td>-1.494789</td>\n",
       "      <td>-0.213550</td>\n",
       "      <td>0.415768</td>\n",
       "      <td>0.078439</td>\n",
       "      <td>-0.259365</td>\n",
       "    </tr>\n",
       "    <tr>\n",
       "      <th>3</th>\n",
       "      <td>T regulatory cells</td>\n",
       "      <td>Clotrimazole</td>\n",
       "      <td>LSM-5341</td>\n",
       "      <td>Clc1ccccc1C(c1ccccc1)(c1ccccc1)n1ccnc1</td>\n",
       "      <td>False</td>\n",
       "      <td>0.232893</td>\n",
       "      <td>0.129029</td>\n",
       "      <td>0.336897</td>\n",
       "      <td>0.486946</td>\n",
       "      <td>0.767661</td>\n",
       "      <td>...</td>\n",
       "      <td>0.451679</td>\n",
       "      <td>0.704643</td>\n",
       "      <td>0.015468</td>\n",
       "      <td>-0.103868</td>\n",
       "      <td>0.865027</td>\n",
       "      <td>0.189114</td>\n",
       "      <td>0.224700</td>\n",
       "      <td>-0.048233</td>\n",
       "      <td>0.216139</td>\n",
       "      <td>-0.085024</td>\n",
       "    </tr>\n",
       "    <tr>\n",
       "      <th>4</th>\n",
       "      <td>NK cells</td>\n",
       "      <td>Mometasone Furoate</td>\n",
       "      <td>LSM-3349</td>\n",
       "      <td>C[C@@H]1C[C@H]2[C@@H]3CCC4=CC(=O)C=C[C@]4(C)[C...</td>\n",
       "      <td>False</td>\n",
       "      <td>4.290652</td>\n",
       "      <td>-0.063864</td>\n",
       "      <td>-0.017443</td>\n",
       "      <td>-0.541154</td>\n",
       "      <td>0.570982</td>\n",
       "      <td>...</td>\n",
       "      <td>0.758474</td>\n",
       "      <td>0.510762</td>\n",
       "      <td>0.607401</td>\n",
       "      <td>-0.123059</td>\n",
       "      <td>0.214366</td>\n",
       "      <td>0.487838</td>\n",
       "      <td>-0.819775</td>\n",
       "      <td>0.112365</td>\n",
       "      <td>-0.122193</td>\n",
       "      <td>0.676629</td>\n",
       "    </tr>\n",
       "    <tr>\n",
       "      <th>5</th>\n",
       "      <td>T cells CD4+</td>\n",
       "      <td>Mometasone Furoate</td>\n",
       "      <td>LSM-3349</td>\n",
       "      <td>C[C@@H]1C[C@H]2[C@@H]3CCC4=CC(=O)C=C[C@]4(C)[C...</td>\n",
       "      <td>False</td>\n",
       "      <td>0.618061</td>\n",
       "      <td>0.180148</td>\n",
       "      <td>0.590015</td>\n",
       "      <td>0.035658</td>\n",
       "      <td>0.034297</td>\n",
       "      <td>...</td>\n",
       "      <td>-1.002997</td>\n",
       "      <td>0.177514</td>\n",
       "      <td>0.591768</td>\n",
       "      <td>-0.412400</td>\n",
       "      <td>-0.011633</td>\n",
       "      <td>-0.044739</td>\n",
       "      <td>0.213627</td>\n",
       "      <td>0.186406</td>\n",
       "      <td>-1.459477</td>\n",
       "      <td>1.164084</td>\n",
       "    </tr>\n",
       "    <tr>\n",
       "      <th>6</th>\n",
       "      <td>T cells CD8+</td>\n",
       "      <td>Mometasone Furoate</td>\n",
       "      <td>LSM-3349</td>\n",
       "      <td>C[C@@H]1C[C@H]2[C@@H]3CCC4=CC(=O)C=C[C@]4(C)[C...</td>\n",
       "      <td>False</td>\n",
       "      <td>-0.148131</td>\n",
       "      <td>0.091336</td>\n",
       "      <td>-0.097212</td>\n",
       "      <td>1.225601</td>\n",
       "      <td>0.045787</td>\n",
       "      <td>...</td>\n",
       "      <td>-0.228645</td>\n",
       "      <td>0.091248</td>\n",
       "      <td>-0.581765</td>\n",
       "      <td>0.405682</td>\n",
       "      <td>-0.034414</td>\n",
       "      <td>0.296333</td>\n",
       "      <td>0.170313</td>\n",
       "      <td>0.332022</td>\n",
       "      <td>-0.532363</td>\n",
       "      <td>0.134475</td>\n",
       "    </tr>\n",
       "    <tr>\n",
       "      <th>7</th>\n",
       "      <td>T regulatory cells</td>\n",
       "      <td>Mometasone Furoate</td>\n",
       "      <td>LSM-3349</td>\n",
       "      <td>C[C@@H]1C[C@H]2[C@@H]3CCC4=CC(=O)C=C[C@]4(C)[C...</td>\n",
       "      <td>False</td>\n",
       "      <td>0.561473</td>\n",
       "      <td>0.149415</td>\n",
       "      <td>3.224920</td>\n",
       "      <td>3.517419</td>\n",
       "      <td>1.361175</td>\n",
       "      <td>...</td>\n",
       "      <td>-0.156127</td>\n",
       "      <td>0.766118</td>\n",
       "      <td>0.702836</td>\n",
       "      <td>0.949482</td>\n",
       "      <td>0.757482</td>\n",
       "      <td>1.163063</td>\n",
       "      <td>1.532419</td>\n",
       "      <td>-0.399292</td>\n",
       "      <td>-2.412165</td>\n",
       "      <td>0.478977</td>\n",
       "    </tr>\n",
       "    <tr>\n",
       "      <th>8</th>\n",
       "      <td>B cells</td>\n",
       "      <td>Idelalisib</td>\n",
       "      <td>LSM-1205</td>\n",
       "      <td>CC[C@H](Nc1ncnc2[nH]cnc12)c1nc2cccc(F)c2c(=O)n...</td>\n",
       "      <td>False</td>\n",
       "      <td>0.394173</td>\n",
       "      <td>-0.153824</td>\n",
       "      <td>0.178232</td>\n",
       "      <td>0.566241</td>\n",
       "      <td>0.391377</td>\n",
       "      <td>...</td>\n",
       "      <td>-1.052302</td>\n",
       "      <td>-1.176587</td>\n",
       "      <td>-1.220291</td>\n",
       "      <td>-0.278944</td>\n",
       "      <td>-0.095066</td>\n",
       "      <td>1.101790</td>\n",
       "      <td>0.061803</td>\n",
       "      <td>1.406335</td>\n",
       "      <td>-0.264996</td>\n",
       "      <td>-0.119743</td>\n",
       "    </tr>\n",
       "    <tr>\n",
       "      <th>9</th>\n",
       "      <td>Myeloid cells</td>\n",
       "      <td>Idelalisib</td>\n",
       "      <td>LSM-1205</td>\n",
       "      <td>CC[C@H](Nc1ncnc2[nH]cnc12)c1nc2cccc(F)c2c(=O)n...</td>\n",
       "      <td>False</td>\n",
       "      <td>0.025146</td>\n",
       "      <td>0.316388</td>\n",
       "      <td>1.366885</td>\n",
       "      <td>1.301593</td>\n",
       "      <td>2.317619</td>\n",
       "      <td>...</td>\n",
       "      <td>-0.902546</td>\n",
       "      <td>-1.445523</td>\n",
       "      <td>0.794772</td>\n",
       "      <td>0.428973</td>\n",
       "      <td>0.605834</td>\n",
       "      <td>0.271988</td>\n",
       "      <td>0.492231</td>\n",
       "      <td>0.354721</td>\n",
       "      <td>1.471559</td>\n",
       "      <td>-0.259483</td>\n",
       "    </tr>\n",
       "  </tbody>\n",
       "</table>\n",
       "<p>10 rows × 18216 columns</p>\n",
       "</div>"
      ],
      "text/plain": [
       "            cell_type             sm_name sm_lincs_id  \\\n",
       "0            NK cells        Clotrimazole    LSM-5341   \n",
       "1        T cells CD4+        Clotrimazole    LSM-5341   \n",
       "2        T cells CD8+        Clotrimazole    LSM-5341   \n",
       "3  T regulatory cells        Clotrimazole    LSM-5341   \n",
       "4            NK cells  Mometasone Furoate    LSM-3349   \n",
       "5        T cells CD4+  Mometasone Furoate    LSM-3349   \n",
       "6        T cells CD8+  Mometasone Furoate    LSM-3349   \n",
       "7  T regulatory cells  Mometasone Furoate    LSM-3349   \n",
       "8             B cells          Idelalisib    LSM-1205   \n",
       "9       Myeloid cells          Idelalisib    LSM-1205   \n",
       "\n",
       "                                              SMILES  control      A1BG  \\\n",
       "0             Clc1ccccc1C(c1ccccc1)(c1ccccc1)n1ccnc1    False  0.104720   \n",
       "1             Clc1ccccc1C(c1ccccc1)(c1ccccc1)n1ccnc1    False  0.915953   \n",
       "2             Clc1ccccc1C(c1ccccc1)(c1ccccc1)n1ccnc1    False -0.387721   \n",
       "3             Clc1ccccc1C(c1ccccc1)(c1ccccc1)n1ccnc1    False  0.232893   \n",
       "4  C[C@@H]1C[C@H]2[C@@H]3CCC4=CC(=O)C=C[C@]4(C)[C...    False  4.290652   \n",
       "5  C[C@@H]1C[C@H]2[C@@H]3CCC4=CC(=O)C=C[C@]4(C)[C...    False  0.618061   \n",
       "6  C[C@@H]1C[C@H]2[C@@H]3CCC4=CC(=O)C=C[C@]4(C)[C...    False -0.148131   \n",
       "7  C[C@@H]1C[C@H]2[C@@H]3CCC4=CC(=O)C=C[C@]4(C)[C...    False  0.561473   \n",
       "8  CC[C@H](Nc1ncnc2[nH]cnc12)c1nc2cccc(F)c2c(=O)n...    False  0.394173   \n",
       "9  CC[C@H](Nc1ncnc2[nH]cnc12)c1nc2cccc(F)c2c(=O)n...    False  0.025146   \n",
       "\n",
       "   A1BG-AS1       A2M   A2M-AS1     A2MP1  ...      ZUP1      ZW10    ZWILCH  \\\n",
       "0 -0.077524 -1.625596 -0.144545  0.143555  ... -0.227781 -0.010752 -0.023881   \n",
       "1 -0.884380  0.371834 -0.081677 -0.498266  ... -0.494985 -0.303419  0.304955   \n",
       "2 -0.305378  0.567777  0.303895 -0.022653  ... -0.119422 -0.033608 -0.153123   \n",
       "3  0.129029  0.336897  0.486946  0.767661  ...  0.451679  0.704643  0.015468   \n",
       "4 -0.063864 -0.017443 -0.541154  0.570982  ...  0.758474  0.510762  0.607401   \n",
       "5  0.180148  0.590015  0.035658  0.034297  ... -1.002997  0.177514  0.591768   \n",
       "6  0.091336 -0.097212  1.225601  0.045787  ... -0.228645  0.091248 -0.581765   \n",
       "7  0.149415  3.224920  3.517419  1.361175  ... -0.156127  0.766118  0.702836   \n",
       "8 -0.153824  0.178232  0.566241  0.391377  ... -1.052302 -1.176587 -1.220291   \n",
       "9  0.316388  1.366885  1.301593  2.317619  ... -0.902546 -1.445523  0.794772   \n",
       "\n",
       "      ZWINT      ZXDA      ZXDB      ZXDC    ZYG11B       ZYX     ZZEF1  \n",
       "0  0.674536 -0.453068  0.005164 -0.094959  0.034127  0.221377  0.368755  \n",
       "1 -0.333905 -0.315516 -0.369626 -0.095079  0.704780  1.096702 -0.869887  \n",
       "2  0.183597 -0.555678 -1.494789 -0.213550  0.415768  0.078439 -0.259365  \n",
       "3 -0.103868  0.865027  0.189114  0.224700 -0.048233  0.216139 -0.085024  \n",
       "4 -0.123059  0.214366  0.487838 -0.819775  0.112365 -0.122193  0.676629  \n",
       "5 -0.412400 -0.011633 -0.044739  0.213627  0.186406 -1.459477  1.164084  \n",
       "6  0.405682 -0.034414  0.296333  0.170313  0.332022 -0.532363  0.134475  \n",
       "7  0.949482  0.757482  1.163063  1.532419 -0.399292 -2.412165  0.478977  \n",
       "8 -0.278944 -0.095066  1.101790  0.061803  1.406335 -0.264996 -0.119743  \n",
       "9  0.428973  0.605834  0.271988  0.492231  0.354721  1.471559 -0.259483  \n",
       "\n",
       "[10 rows x 18216 columns]"
      ]
     },
     "execution_count": 3,
     "metadata": {},
     "output_type": "execute_result"
    }
   ],
   "source": [
    "df = pd.read_parquet('../data/de_train.parquet')\n",
    "\n",
    "print(df.shape)\n",
    "df.head(10)"
   ]
  },
  {
   "cell_type": "code",
   "execution_count": 4,
   "id": "06d9bf45-363f-479d-bde4-dfb80b624788",
   "metadata": {},
   "outputs": [
    {
     "name": "stdout",
     "output_type": "stream",
     "text": [
      "{'NK cells': 0, 'T cells CD4+': 1, 'T cells CD8+': 2, 'T regulatory cells': 3, 'B cells': 4, 'Myeloid cells': 5}\n"
     ]
    }
   ],
   "source": [
    "# node index for cell types\n",
    "c2index = dict()\n",
    "cur = 0\n",
    "for x in df['cell_type'].unique():\n",
    "    assert x not in c2index\n",
    "    c2index[x] = cur\n",
    "    cur += 1\n",
    "print(c2index)\n",
    "del cur"
   ]
  },
  {
   "cell_type": "code",
   "execution_count": 5,
   "id": "aea84f35-0229-4218-9d87-fd028d615538",
   "metadata": {},
   "outputs": [
    {
     "data": {
      "text/plain": [
       "146"
      ]
     },
     "execution_count": 5,
     "metadata": {},
     "output_type": "execute_result"
    }
   ],
   "source": [
    "df['sm_name'].nunique()"
   ]
  },
  {
   "cell_type": "code",
   "execution_count": 6,
   "id": "3edf4523-7f5a-49e0-be85-3c067369b3db",
   "metadata": {},
   "outputs": [
    {
     "data": {
      "text/plain": [
       "146"
      ]
     },
     "execution_count": 6,
     "metadata": {},
     "output_type": "execute_result"
    }
   ],
   "source": [
    "# Assign the list of unique small molecules\n",
    "sm_list = df['sm_name'].unique().tolist()\n",
    "len(sm_list)"
   ]
  },
  {
   "cell_type": "code",
   "execution_count": 7,
   "id": "1cabf6e0-42ae-4b31-ac31-1dc390d02b87",
   "metadata": {},
   "outputs": [
    {
     "name": "stderr",
     "output_type": "stream",
     "text": [
      "You're using a RobertaTokenizerFast tokenizer. Please note that with a fast tokenizer, using the `__call__` method is faster than using a method to encode the text followed by a call to the `pad` method to get a padded encoding.\n"
     ]
    },
    {
     "name": "stdout",
     "output_type": "stream",
     "text": [
      "{'Clotrimazole': 0, 'Mometasone Furoate': 1, 'Idelalisib': 2, 'Vandetanib': 3, 'Bosutinib': 4, 'Ceritinib': 5, 'Lamivudine': 6, 'Crizotinib': 7, 'Cabozantinib': 8, 'Flutamide': 9, 'Dasatinib': 10, 'Selumetinib': 11, 'Trametinib': 12, 'ABT-199 (GDC-0199)': 13, 'Oxybenzone': 14, 'Vorinostat': 15, 'Raloxifene': 16, 'Linagliptin': 17, 'Lapatinib': 18, 'Canertinib': 19, 'Disulfiram': 20, 'Vardenafil': 21, 'Palbociclib': 22, 'Ricolinostat': 23, 'Dabrafenib': 24, 'Proscillaridin A;Proscillaridin-A': 25, 'IN1451': 26, 'Ixabepilone': 27, 'CEP-18770 (Delanzomib)': 28, 'RG7112': 29, 'MK-5108': 30, 'Resminostat': 31, 'IMD-0354': 32, 'Alvocidib': 33, 'LY2090314': 34, 'Methotrexate': 35, 'LDN 193189': 36, 'Tacalcitol': 37, 'Colchicine': 38, 'R428': 39, 'TL_HRAS26': 40, 'BMS-387032': 41, 'CGP 60474': 42, 'TIE2 Kinase Inhibitor': 43, 'PD-0325901': 44, 'Isoniazid': 45, 'GSK-1070916': 46, 'Masitinib': 47, 'Saracatinib': 48, 'CC-401': 49, 'Decitabine': 50, 'Ketoconazole': 51, 'HYDROXYUREA': 52, 'BAY 61-3606': 53, 'Navitoclax': 54, 'Porcn Inhibitor III': 55, 'GW843682X': 56, 'Prednisolone': 57, 'Tamatinib': 58, 'Tosedostat': 59, 'GSK256066': 60, 'MGCD-265': 61, 'AZD-8330': 62, 'RN-486': 63, 'Amiodarone': 64, 'Belinostat': 65, 'RVX-208': 66, 'GO-6976': 67, 'Scriptaid': 68, 'HMN-214': 69, 'SB525334': 70, 'AVL-292': 71, 'BMS-777607': 72, 'AZD4547': 73, 'Foretinib': 74, 'Tivozanib': 75, 'Quizartinib': 76, 'IKK Inhibitor VII': 77, 'UNII-BXU45ZH6LI': 78, 'Chlorpheniramine': 79, 'Tivantinib': 80, 'CEP-37440': 81, 'TPCA-1': 82, 'AZ628': 83, 'OSI-930': 84, 'AZD3514': 85, 'Vanoxerine': 86, 'PF-03814735': 87, 'MLN 2238': 88, 'Dovitinib': 89, 'K-02288': 90, 'Midostaurin': 91, 'I-BET151': 92, 'STK219801': 93, 'PRT-062607': 94, 'AT 7867': 95, 'Sunitinib': 96, 'Penfluridol': 97, 'BMS-536924': 98, 'Perhexiline': 99, 'BI-D1870': 100, 'FK 866': 101, 'Mubritinib (TAK 165)': 102, 'Doxorubicin': 103, 'Pomalidomide': 104, 'Colforsin': 105, 'Phenylbutazone': 106, 'Protriptyline': 107, 'Buspirone': 108, 'Clomipramine': 109, 'Alogliptin': 110, 'Nefazodone': 111, 'ABT737': 112, 'Dactolisib': 113, 'Nilotinib': 114, 'Defactinib': 115, 'PF-04691502': 116, 'GLPG0634': 117, 'Sgc-cbp30': 118, 'BX 912': 119, 'SCH-58261': 120, 'Ruxolitinib': 121, 'BAY 87-2243': 122, 'O-Demethylated Adapalene': 123, 'YK 4-279': 124, 'Ganetespib (STA-9090)': 125, 'SLx-2119': 126, 'Oprozomib (ONX 0912)': 127, 'Desloratadine': 128, 'Pitavastatin Calcium': 129, 'TR-14035': 130, 'AT13387': 131, 'CHIR-99021': 132, 'RG7090': 133, 'AMD-070 (hydrochloride)': 134, 'BMS-265246': 135, 'Tipifarnib': 136, 'Imatinib': 137, 'Topotecan': 138, 'Clemastine': 139, '5-(9-Isopropyl-8-methyl-2-morpholino-9H-purin-6-yl)pyrimidin-2-amine': 140, 'CGM-097': 141, 'TGX 221': 142, 'Azacitidine': 143, 'Atorvastatin': 144, 'Riociguat': 145}\n",
      "146\n"
     ]
    }
   ],
   "source": [
    "# small molecule embedding\n",
    "tokenizer = RobertaTokenizerFast.from_pretrained(\"entropy/roberta_zinc_480m\", max_len=128)\n",
    "model = RobertaForMaskedLM.from_pretrained('entropy/roberta_zinc_480m')\n",
    "collator = DataCollatorWithPadding(tokenizer, padding=True, return_tensors='pt')\n",
    "\n",
    "# Extract SMILES embeddings\n",
    "sm2emb = dict()\n",
    "sm2index = dict()\n",
    "cur = 0\n",
    "\n",
    "for i in range(df.shape[0]):\n",
    "    sm_name = df['sm_name'].iloc[i]\n",
    "    smiles = df['SMILES'].iloc[i]\n",
    "\n",
    "\n",
    "\n",
    "    if sm_name not in sm2emb:\n",
    "\n",
    "        if True: # if sm_name not in ['Belinostat', 'Dabrafenib']:\n",
    "            sm2index[sm_name] = cur\n",
    "            cur += 1\n",
    "        \n",
    "        inputs = collator(tokenizer([smiles]))\n",
    "        outputs = model(**inputs, output_hidden_states=True)\n",
    "        full_embeddings = outputs[1][-1].detach()\n",
    "        mask = inputs['attention_mask']\n",
    "        node_embedding = ((full_embeddings * mask.unsqueeze(-1)).sum(1) / mask.sum(-1).unsqueeze(-1))\n",
    "        node_embedding = torch.squeeze(node_embedding)\n",
    "        sm2emb[sm_name] = node_embedding\n",
    "\n",
    "del cur\n",
    "\n",
    "print(sm2index)\n",
    "print(len(sm2emb))"
   ]
  },
  {
   "cell_type": "markdown",
   "id": "8d914f26-fb45-4a68-b740-1c980b2fb91a",
   "metadata": {},
   "source": [
    "## Cell embedding"
   ]
  },
  {
   "cell_type": "code",
   "execution_count": 8,
   "id": "1a4cfe67-14ce-4ca6-92a2-2faaf1adc963",
   "metadata": {
    "tags": []
   },
   "outputs": [
    {
     "data": {
      "text/html": [
       "<div>\n",
       "<style scoped>\n",
       "    .dataframe tbody tr th:only-of-type {\n",
       "        vertical-align: middle;\n",
       "    }\n",
       "\n",
       "    .dataframe tbody tr th {\n",
       "        vertical-align: top;\n",
       "    }\n",
       "\n",
       "    .dataframe thead th {\n",
       "        text-align: right;\n",
       "    }\n",
       "</style>\n",
       "<table border=\"1\" class=\"dataframe\">\n",
       "  <thead>\n",
       "    <tr style=\"text-align: right;\">\n",
       "      <th></th>\n",
       "      <th>cell_type</th>\n",
       "      <th>AAMP</th>\n",
       "      <th>AASS</th>\n",
       "      <th>ABCC11</th>\n",
       "      <th>ABCC2</th>\n",
       "      <th>ABR</th>\n",
       "      <th>ABRAXAS2</th>\n",
       "      <th>AC002429.2</th>\n",
       "      <th>AC003102.1</th>\n",
       "      <th>AC007569.1</th>\n",
       "      <th>...</th>\n",
       "      <th>MYO3B-AS1</th>\n",
       "      <th>AF127936.1</th>\n",
       "      <th>RHOJ</th>\n",
       "      <th>AL021918.3</th>\n",
       "      <th>SYCE3</th>\n",
       "      <th>AC091906.1</th>\n",
       "      <th>OR7A17</th>\n",
       "      <th>CDC45</th>\n",
       "      <th>GABRA6</th>\n",
       "      <th>FST</th>\n",
       "    </tr>\n",
       "  </thead>\n",
       "  <tbody>\n",
       "    <tr>\n",
       "      <th>0</th>\n",
       "      <td>B cells</td>\n",
       "      <td>0.378421</td>\n",
       "      <td>0.292951</td>\n",
       "      <td>0.026902</td>\n",
       "      <td>0.091517</td>\n",
       "      <td>1.973495</td>\n",
       "      <td>0.502242</td>\n",
       "      <td>0.048453</td>\n",
       "      <td>0.132143</td>\n",
       "      <td>0.449569</td>\n",
       "      <td>...</td>\n",
       "      <td>0.004518</td>\n",
       "      <td>0.001416</td>\n",
       "      <td>0.002811</td>\n",
       "      <td>0.009294</td>\n",
       "      <td>0.001431</td>\n",
       "      <td>0.001694</td>\n",
       "      <td>0.000000</td>\n",
       "      <td>0.004596</td>\n",
       "      <td>0.007821</td>\n",
       "      <td>0.001665</td>\n",
       "    </tr>\n",
       "    <tr>\n",
       "      <th>1</th>\n",
       "      <td>T cells CD4+</td>\n",
       "      <td>0.406463</td>\n",
       "      <td>0.161780</td>\n",
       "      <td>0.029153</td>\n",
       "      <td>0.088855</td>\n",
       "      <td>1.264111</td>\n",
       "      <td>0.458575</td>\n",
       "      <td>0.010122</td>\n",
       "      <td>0.176167</td>\n",
       "      <td>0.034765</td>\n",
       "      <td>...</td>\n",
       "      <td>0.005329</td>\n",
       "      <td>0.000000</td>\n",
       "      <td>0.004449</td>\n",
       "      <td>0.003967</td>\n",
       "      <td>0.004804</td>\n",
       "      <td>0.007370</td>\n",
       "      <td>0.002894</td>\n",
       "      <td>0.001770</td>\n",
       "      <td>0.003694</td>\n",
       "      <td>0.008668</td>\n",
       "    </tr>\n",
       "    <tr>\n",
       "      <th>2</th>\n",
       "      <td>NK cells</td>\n",
       "      <td>0.326737</td>\n",
       "      <td>0.150077</td>\n",
       "      <td>0.017284</td>\n",
       "      <td>0.054711</td>\n",
       "      <td>1.255197</td>\n",
       "      <td>0.392022</td>\n",
       "      <td>0.021979</td>\n",
       "      <td>0.116615</td>\n",
       "      <td>0.036065</td>\n",
       "      <td>...</td>\n",
       "      <td>0.005350</td>\n",
       "      <td>0.000000</td>\n",
       "      <td>0.006698</td>\n",
       "      <td>0.008305</td>\n",
       "      <td>0.009473</td>\n",
       "      <td>0.001378</td>\n",
       "      <td>0.002723</td>\n",
       "      <td>0.001313</td>\n",
       "      <td>0.001240</td>\n",
       "      <td>0.001260</td>\n",
       "    </tr>\n",
       "    <tr>\n",
       "      <th>3</th>\n",
       "      <td>Myeloid cells</td>\n",
       "      <td>0.675277</td>\n",
       "      <td>0.083278</td>\n",
       "      <td>0.027169</td>\n",
       "      <td>0.082512</td>\n",
       "      <td>3.729312</td>\n",
       "      <td>0.833589</td>\n",
       "      <td>0.006327</td>\n",
       "      <td>0.116312</td>\n",
       "      <td>0.059618</td>\n",
       "      <td>...</td>\n",
       "      <td>0.001634</td>\n",
       "      <td>0.009832</td>\n",
       "      <td>0.003661</td>\n",
       "      <td>0.003481</td>\n",
       "      <td>0.006446</td>\n",
       "      <td>0.000629</td>\n",
       "      <td>0.002726</td>\n",
       "      <td>0.002356</td>\n",
       "      <td>0.002234</td>\n",
       "      <td>0.001680</td>\n",
       "    </tr>\n",
       "    <tr>\n",
       "      <th>4</th>\n",
       "      <td>T regulatory cells</td>\n",
       "      <td>0.353287</td>\n",
       "      <td>0.098467</td>\n",
       "      <td>0.000000</td>\n",
       "      <td>0.038467</td>\n",
       "      <td>0.942583</td>\n",
       "      <td>0.411683</td>\n",
       "      <td>0.000000</td>\n",
       "      <td>0.025606</td>\n",
       "      <td>0.060882</td>\n",
       "      <td>...</td>\n",
       "      <td>0.012295</td>\n",
       "      <td>0.000000</td>\n",
       "      <td>0.000000</td>\n",
       "      <td>0.000000</td>\n",
       "      <td>0.000000</td>\n",
       "      <td>0.000000</td>\n",
       "      <td>0.013335</td>\n",
       "      <td>0.000000</td>\n",
       "      <td>0.000000</td>\n",
       "      <td>0.000000</td>\n",
       "    </tr>\n",
       "  </tbody>\n",
       "</table>\n",
       "<p>5 rows × 158206 columns</p>\n",
       "</div>"
      ],
      "text/plain": [
       "            cell_type      AAMP      AASS    ABCC11     ABCC2       ABR  \\\n",
       "0             B cells  0.378421  0.292951  0.026902  0.091517  1.973495   \n",
       "1        T cells CD4+  0.406463  0.161780  0.029153  0.088855  1.264111   \n",
       "2            NK cells  0.326737  0.150077  0.017284  0.054711  1.255197   \n",
       "3       Myeloid cells  0.675277  0.083278  0.027169  0.082512  3.729312   \n",
       "4  T regulatory cells  0.353287  0.098467  0.000000  0.038467  0.942583   \n",
       "\n",
       "   ABRAXAS2  AC002429.2  AC003102.1  AC007569.1  ...  MYO3B-AS1  AF127936.1  \\\n",
       "0  0.502242    0.048453    0.132143    0.449569  ...   0.004518    0.001416   \n",
       "1  0.458575    0.010122    0.176167    0.034765  ...   0.005329    0.000000   \n",
       "2  0.392022    0.021979    0.116615    0.036065  ...   0.005350    0.000000   \n",
       "3  0.833589    0.006327    0.116312    0.059618  ...   0.001634    0.009832   \n",
       "4  0.411683    0.000000    0.025606    0.060882  ...   0.012295    0.000000   \n",
       "\n",
       "       RHOJ  AL021918.3     SYCE3  AC091906.1    OR7A17     CDC45    GABRA6  \\\n",
       "0  0.002811    0.009294  0.001431    0.001694  0.000000  0.004596  0.007821   \n",
       "1  0.004449    0.003967  0.004804    0.007370  0.002894  0.001770  0.003694   \n",
       "2  0.006698    0.008305  0.009473    0.001378  0.002723  0.001313  0.001240   \n",
       "3  0.003661    0.003481  0.006446    0.000629  0.002726  0.002356  0.002234   \n",
       "4  0.000000    0.000000  0.000000    0.000000  0.013335  0.000000  0.000000   \n",
       "\n",
       "        FST  \n",
       "0  0.001665  \n",
       "1  0.008668  \n",
       "2  0.001260  \n",
       "3  0.001680  \n",
       "4  0.000000  \n",
       "\n",
       "[5 rows x 158206 columns]"
      ]
     },
     "execution_count": 8,
     "metadata": {},
     "output_type": "execute_result"
    }
   ],
   "source": [
    "# cell embedding\n",
    "c2emb_df = pd.read_csv('./cell_emb_normcnt_peak.csv')\n",
    "c2emb_df.head()"
   ]
  },
  {
   "cell_type": "markdown",
   "id": "10e098c1-97cf-449e-add9-7f83e8ab7b1c",
   "metadata": {},
   "source": [
    "## Heterogenous Graph\n",
    "\n",
    "#### Cell nodes (c_nodes)\n",
    "\n",
    "There are 6 nodes for each unique cell types.\n",
    "\n",
    "#### Small molecule nodes (sm_nodes)\n",
    "\n",
    "There are 146 unique nodes for each small molecules.\n",
    "\n",
    "SMILES embedding are used as node embeddings (node_emb_dim = 768)."
   ]
  },
  {
   "cell_type": "code",
   "execution_count": 9,
   "id": "fc9afd51-fd95-415b-9c96-12c5da8346b4",
   "metadata": {},
   "outputs": [],
   "source": [
    "# initialize graph\n",
    "data = HeteroData()\n",
    "\n",
    "# number of unique cell nodes and sm nodes\n",
    "data['cell'].node_id = torch.arange(6)\n",
    "data['sm'].node_id = torch.arange(146) # 144 or 146\n",
    "\n",
    "## initialize cell node emb\n",
    "cell_node_x = []\n",
    "\n",
    "for cell_type, cell_index in c2index.items():\n",
    "    #cell_node_x.append([cell_index])  # turn of cell embedding\n",
    "    cell_node_x.append(c2emb_df[c2emb_df['cell_type']==cell_type].values[0][1:].tolist())\n",
    "    \n",
    "\n",
    "cell_node_x = torch.from_numpy(np.array(cell_node_x)).float()\n",
    "data['cell'].x = cell_node_x\n",
    "\n",
    "#print(data['cell'].x\n",
    "assert data['cell'].x.shape == (6, 158205)\n",
    "\n",
    "## initialize sm node emb\n",
    "data['sm'].x = torch.from_numpy(np.array([sm2emb[y].tolist() for y in sm_list])).float()\n",
    "assert data['sm'].x.shape == (146, 768)"
   ]
  },
  {
   "cell_type": "markdown",
   "id": "c4820ca3-4c8e-44f6-b869-6002239112cb",
   "metadata": {},
   "source": [
    "## Edges"
   ]
  },
  {
   "cell_type": "code",
   "execution_count": 10,
   "id": "1d1408e3-fd56-4e12-8f44-1634694fc7c0",
   "metadata": {},
   "outputs": [],
   "source": [
    "def add_edges(data):\n",
    "    \n",
    "    edge_index_c2sm = []\n",
    "\n",
    "    for cell_index in range(6):\n",
    "        for sm_index in range(146):\n",
    "            edge_index_c2sm.append([cell_index, sm_index])\n",
    "\n",
    "    print(\"Adding {} edges\".format(len(edge_index_c2sm)))\n",
    "    data['cell', 'gene_exp', 'sm'].edge_index = torch.tensor(edge_index_c2sm).t().contiguous().long()    \n",
    "        \n",
    "    # convert into bidirecitonal\n",
    "    data = T.ToUndirected()(data)\n",
    "\n",
    "    # data split (all for training)\n",
    "    transform = T.RandomLinkSplit(\n",
    "        num_val=0.0,\n",
    "        num_test=0.0,\n",
    "        is_undirected=True,\n",
    "        disjoint_train_ratio=0.0,  # was 0.3\n",
    "        neg_sampling_ratio=0.0,  # was 2.0\n",
    "        add_negative_train_samples=False,\n",
    "        edge_types=('cell', 'gene_exp', 'sm'),\n",
    "        rev_edge_types=('sm', 'rev_gene_exp', 'cell'), \n",
    "    )\n",
    "    \n",
    "    train_data, _, _ = transform(data)\n",
    "    \n",
    "    return train_data"
   ]
  },
  {
   "cell_type": "code",
   "execution_count": 11,
   "id": "fcb1b6d0-bc13-4c97-ad36-4ef465938007",
   "metadata": {},
   "outputs": [
    {
     "name": "stdout",
     "output_type": "stream",
     "text": [
      "Adding 876 edges\n",
      "HeteroData(\n",
      "  cell={\n",
      "    node_id=[6],\n",
      "    x=[6, 158205],\n",
      "  },\n",
      "  sm={\n",
      "    node_id=[146],\n",
      "    x=[146, 768],\n",
      "  },\n",
      "  (cell, gene_exp, sm)={\n",
      "    edge_index=[2, 876],\n",
      "    edge_label=[876],\n",
      "    edge_label_index=[2, 876],\n",
      "  },\n",
      "  (sm, rev_gene_exp, cell)={ edge_index=[2, 876] }\n",
      ")\n"
     ]
    }
   ],
   "source": [
    "data = add_edges(data)\n",
    "\n",
    "print(data)"
   ]
  },
  {
   "cell_type": "markdown",
   "id": "fb8420b6-94c4-4e3d-8fa3-73bbd26808b4",
   "metadata": {},
   "source": [
    "## Train/Validation/Test Splits"
   ]
  },
  {
   "cell_type": "code",
   "execution_count": 12,
   "id": "999b631f-f5c4-4369-8ce2-2fbe6bff85d1",
   "metadata": {},
   "outputs": [
    {
     "data": {
      "text/html": [
       "<div>\n",
       "<style scoped>\n",
       "    .dataframe tbody tr th:only-of-type {\n",
       "        vertical-align: middle;\n",
       "    }\n",
       "\n",
       "    .dataframe tbody tr th {\n",
       "        vertical-align: top;\n",
       "    }\n",
       "\n",
       "    .dataframe thead th {\n",
       "        text-align: right;\n",
       "    }\n",
       "</style>\n",
       "<table border=\"1\" class=\"dataframe\">\n",
       "  <thead>\n",
       "    <tr style=\"text-align: right;\">\n",
       "      <th></th>\n",
       "      <th>cell_type</th>\n",
       "      <th>sm_name</th>\n",
       "      <th>sm_lincs_id</th>\n",
       "      <th>SMILES</th>\n",
       "      <th>control</th>\n",
       "      <th>A1BG</th>\n",
       "      <th>A1BG-AS1</th>\n",
       "      <th>A2M</th>\n",
       "      <th>A2M-AS1</th>\n",
       "      <th>A2MP1</th>\n",
       "      <th>...</th>\n",
       "      <th>ZUP1</th>\n",
       "      <th>ZW10</th>\n",
       "      <th>ZWILCH</th>\n",
       "      <th>ZWINT</th>\n",
       "      <th>ZXDA</th>\n",
       "      <th>ZXDB</th>\n",
       "      <th>ZXDC</th>\n",
       "      <th>ZYG11B</th>\n",
       "      <th>ZYX</th>\n",
       "      <th>ZZEF1</th>\n",
       "    </tr>\n",
       "  </thead>\n",
       "  <tbody>\n",
       "    <tr>\n",
       "      <th>0</th>\n",
       "      <td>NK cells</td>\n",
       "      <td>Clotrimazole</td>\n",
       "      <td>LSM-5341</td>\n",
       "      <td>Clc1ccccc1C(c1ccccc1)(c1ccccc1)n1ccnc1</td>\n",
       "      <td>False</td>\n",
       "      <td>0.104720</td>\n",
       "      <td>-0.077524</td>\n",
       "      <td>-1.625596</td>\n",
       "      <td>-0.144545</td>\n",
       "      <td>0.143555</td>\n",
       "      <td>...</td>\n",
       "      <td>-0.227781</td>\n",
       "      <td>-0.010752</td>\n",
       "      <td>-0.023881</td>\n",
       "      <td>0.674536</td>\n",
       "      <td>-0.453068</td>\n",
       "      <td>0.005164</td>\n",
       "      <td>-0.094959</td>\n",
       "      <td>0.034127</td>\n",
       "      <td>0.221377</td>\n",
       "      <td>0.368755</td>\n",
       "    </tr>\n",
       "    <tr>\n",
       "      <th>1</th>\n",
       "      <td>T cells CD4+</td>\n",
       "      <td>Clotrimazole</td>\n",
       "      <td>LSM-5341</td>\n",
       "      <td>Clc1ccccc1C(c1ccccc1)(c1ccccc1)n1ccnc1</td>\n",
       "      <td>False</td>\n",
       "      <td>0.915953</td>\n",
       "      <td>-0.884380</td>\n",
       "      <td>0.371834</td>\n",
       "      <td>-0.081677</td>\n",
       "      <td>-0.498266</td>\n",
       "      <td>...</td>\n",
       "      <td>-0.494985</td>\n",
       "      <td>-0.303419</td>\n",
       "      <td>0.304955</td>\n",
       "      <td>-0.333905</td>\n",
       "      <td>-0.315516</td>\n",
       "      <td>-0.369626</td>\n",
       "      <td>-0.095079</td>\n",
       "      <td>0.704780</td>\n",
       "      <td>1.096702</td>\n",
       "      <td>-0.869887</td>\n",
       "    </tr>\n",
       "    <tr>\n",
       "      <th>2</th>\n",
       "      <td>T cells CD8+</td>\n",
       "      <td>Clotrimazole</td>\n",
       "      <td>LSM-5341</td>\n",
       "      <td>Clc1ccccc1C(c1ccccc1)(c1ccccc1)n1ccnc1</td>\n",
       "      <td>False</td>\n",
       "      <td>-0.387721</td>\n",
       "      <td>-0.305378</td>\n",
       "      <td>0.567777</td>\n",
       "      <td>0.303895</td>\n",
       "      <td>-0.022653</td>\n",
       "      <td>...</td>\n",
       "      <td>-0.119422</td>\n",
       "      <td>-0.033608</td>\n",
       "      <td>-0.153123</td>\n",
       "      <td>0.183597</td>\n",
       "      <td>-0.555678</td>\n",
       "      <td>-1.494789</td>\n",
       "      <td>-0.213550</td>\n",
       "      <td>0.415768</td>\n",
       "      <td>0.078439</td>\n",
       "      <td>-0.259365</td>\n",
       "    </tr>\n",
       "    <tr>\n",
       "      <th>3</th>\n",
       "      <td>T regulatory cells</td>\n",
       "      <td>Clotrimazole</td>\n",
       "      <td>LSM-5341</td>\n",
       "      <td>Clc1ccccc1C(c1ccccc1)(c1ccccc1)n1ccnc1</td>\n",
       "      <td>False</td>\n",
       "      <td>0.232893</td>\n",
       "      <td>0.129029</td>\n",
       "      <td>0.336897</td>\n",
       "      <td>0.486946</td>\n",
       "      <td>0.767661</td>\n",
       "      <td>...</td>\n",
       "      <td>0.451679</td>\n",
       "      <td>0.704643</td>\n",
       "      <td>0.015468</td>\n",
       "      <td>-0.103868</td>\n",
       "      <td>0.865027</td>\n",
       "      <td>0.189114</td>\n",
       "      <td>0.224700</td>\n",
       "      <td>-0.048233</td>\n",
       "      <td>0.216139</td>\n",
       "      <td>-0.085024</td>\n",
       "    </tr>\n",
       "    <tr>\n",
       "      <th>4</th>\n",
       "      <td>NK cells</td>\n",
       "      <td>Mometasone Furoate</td>\n",
       "      <td>LSM-3349</td>\n",
       "      <td>C[C@@H]1C[C@H]2[C@@H]3CCC4=CC(=O)C=C[C@]4(C)[C...</td>\n",
       "      <td>False</td>\n",
       "      <td>4.290652</td>\n",
       "      <td>-0.063864</td>\n",
       "      <td>-0.017443</td>\n",
       "      <td>-0.541154</td>\n",
       "      <td>0.570982</td>\n",
       "      <td>...</td>\n",
       "      <td>0.758474</td>\n",
       "      <td>0.510762</td>\n",
       "      <td>0.607401</td>\n",
       "      <td>-0.123059</td>\n",
       "      <td>0.214366</td>\n",
       "      <td>0.487838</td>\n",
       "      <td>-0.819775</td>\n",
       "      <td>0.112365</td>\n",
       "      <td>-0.122193</td>\n",
       "      <td>0.676629</td>\n",
       "    </tr>\n",
       "  </tbody>\n",
       "</table>\n",
       "<p>5 rows × 18216 columns</p>\n",
       "</div>"
      ],
      "text/plain": [
       "            cell_type             sm_name sm_lincs_id  \\\n",
       "0            NK cells        Clotrimazole    LSM-5341   \n",
       "1        T cells CD4+        Clotrimazole    LSM-5341   \n",
       "2        T cells CD8+        Clotrimazole    LSM-5341   \n",
       "3  T regulatory cells        Clotrimazole    LSM-5341   \n",
       "4            NK cells  Mometasone Furoate    LSM-3349   \n",
       "\n",
       "                                              SMILES  control      A1BG  \\\n",
       "0             Clc1ccccc1C(c1ccccc1)(c1ccccc1)n1ccnc1    False  0.104720   \n",
       "1             Clc1ccccc1C(c1ccccc1)(c1ccccc1)n1ccnc1    False  0.915953   \n",
       "2             Clc1ccccc1C(c1ccccc1)(c1ccccc1)n1ccnc1    False -0.387721   \n",
       "3             Clc1ccccc1C(c1ccccc1)(c1ccccc1)n1ccnc1    False  0.232893   \n",
       "4  C[C@@H]1C[C@H]2[C@@H]3CCC4=CC(=O)C=C[C@]4(C)[C...    False  4.290652   \n",
       "\n",
       "   A1BG-AS1       A2M   A2M-AS1     A2MP1  ...      ZUP1      ZW10    ZWILCH  \\\n",
       "0 -0.077524 -1.625596 -0.144545  0.143555  ... -0.227781 -0.010752 -0.023881   \n",
       "1 -0.884380  0.371834 -0.081677 -0.498266  ... -0.494985 -0.303419  0.304955   \n",
       "2 -0.305378  0.567777  0.303895 -0.022653  ... -0.119422 -0.033608 -0.153123   \n",
       "3  0.129029  0.336897  0.486946  0.767661  ...  0.451679  0.704643  0.015468   \n",
       "4 -0.063864 -0.017443 -0.541154  0.570982  ...  0.758474  0.510762  0.607401   \n",
       "\n",
       "      ZWINT      ZXDA      ZXDB      ZXDC    ZYG11B       ZYX     ZZEF1  \n",
       "0  0.674536 -0.453068  0.005164 -0.094959  0.034127  0.221377  0.368755  \n",
       "1 -0.333905 -0.315516 -0.369626 -0.095079  0.704780  1.096702 -0.869887  \n",
       "2  0.183597 -0.555678 -1.494789 -0.213550  0.415768  0.078439 -0.259365  \n",
       "3 -0.103868  0.865027  0.189114  0.224700 -0.048233  0.216139 -0.085024  \n",
       "4 -0.123059  0.214366  0.487838 -0.819775  0.112365 -0.122193  0.676629  \n",
       "\n",
       "[5 rows x 18216 columns]"
      ]
     },
     "execution_count": 12,
     "metadata": {},
     "output_type": "execute_result"
    }
   ],
   "source": [
    "df.head()"
   ]
  },
  {
   "cell_type": "code",
   "execution_count": 13,
   "id": "f3c01692-1887-4078-83b1-fa2ec781e46a",
   "metadata": {},
   "outputs": [],
   "source": [
    "from sklearn.model_selection import train_test_split\n",
    "\n",
    "train_df, valid_df = train_test_split(df, test_size=0.2, random_state=14, shuffle=True, stratify=df['cell_type'])\n",
    "\n",
    "\n",
    "# all edge indeces and gene expressions for training\n",
    "train_edge_indeces = set()\n",
    "train_edge2feat = dict()\n",
    "\n",
    "for i in range(train_df.shape[0]):\n",
    "    cell_idx = c2index[train_df.iloc[i]['cell_type']]\n",
    "    sm_idx = sm2index[train_df.iloc[i]['sm_name']]\n",
    "\n",
    "    train_edge_indeces.add((cell_idx, sm_idx))\n",
    "    \n",
    "    train_edge2feat[(cell_idx, sm_idx)] = train_df.iloc[i, 5:].values.tolist()\n",
    "    assert len(train_edge2feat[(cell_idx, sm_idx)]) == 18211\n",
    "\n",
    "\n",
    "# all edge indeces and gene expressions for validation\n",
    "valid_edge_indeces = set()\n",
    "valid_edge2feat = dict()\n",
    "\n",
    "for i in range(valid_df.shape[0]):\n",
    "    cell_idx = c2index[valid_df.iloc[i]['cell_type']]\n",
    "    sm_idx = sm2index[valid_df.iloc[i]['sm_name']]\n",
    "\n",
    "    valid_edge_indeces.add((cell_idx, sm_idx))\n",
    "    \n",
    "    valid_edge2feat[(cell_idx, sm_idx)] = valid_df.iloc[i, 5:].values.tolist()\n",
    "    assert len(valid_edge2feat[(cell_idx, sm_idx)]) == 18211"
   ]
  },
  {
   "cell_type": "code",
   "execution_count": 14,
   "id": "2b8b4bf3-b33e-47f7-8546-53e952a67f57",
   "metadata": {},
   "outputs": [
    {
     "name": "stdout",
     "output_type": "stream",
     "text": [
      "(491, 18216)\n"
     ]
    },
    {
     "data": {
      "text/html": [
       "<div>\n",
       "<style scoped>\n",
       "    .dataframe tbody tr th:only-of-type {\n",
       "        vertical-align: middle;\n",
       "    }\n",
       "\n",
       "    .dataframe tbody tr th {\n",
       "        vertical-align: top;\n",
       "    }\n",
       "\n",
       "    .dataframe thead th {\n",
       "        text-align: right;\n",
       "    }\n",
       "</style>\n",
       "<table border=\"1\" class=\"dataframe\">\n",
       "  <thead>\n",
       "    <tr style=\"text-align: right;\">\n",
       "      <th></th>\n",
       "      <th>cell_type</th>\n",
       "      <th>sm_name</th>\n",
       "      <th>sm_lincs_id</th>\n",
       "      <th>SMILES</th>\n",
       "      <th>control</th>\n",
       "      <th>A1BG</th>\n",
       "      <th>A1BG-AS1</th>\n",
       "      <th>A2M</th>\n",
       "      <th>A2M-AS1</th>\n",
       "      <th>A2MP1</th>\n",
       "      <th>...</th>\n",
       "      <th>ZUP1</th>\n",
       "      <th>ZW10</th>\n",
       "      <th>ZWILCH</th>\n",
       "      <th>ZWINT</th>\n",
       "      <th>ZXDA</th>\n",
       "      <th>ZXDB</th>\n",
       "      <th>ZXDC</th>\n",
       "      <th>ZYG11B</th>\n",
       "      <th>ZYX</th>\n",
       "      <th>ZZEF1</th>\n",
       "    </tr>\n",
       "  </thead>\n",
       "  <tbody>\n",
       "    <tr>\n",
       "      <th>373</th>\n",
       "      <td>NK cells</td>\n",
       "      <td>MLN 2238</td>\n",
       "      <td>LSM-4944</td>\n",
       "      <td>CC(C)C[C@H](NC(=O)CNC(=O)c1cc(Cl)ccc1Cl)B(O)O</td>\n",
       "      <td>False</td>\n",
       "      <td>9.497701</td>\n",
       "      <td>5.478697</td>\n",
       "      <td>0.129686</td>\n",
       "      <td>-2.328127</td>\n",
       "      <td>5.732667</td>\n",
       "      <td>...</td>\n",
       "      <td>1.047863</td>\n",
       "      <td>3.069138</td>\n",
       "      <td>3.280055</td>\n",
       "      <td>5.284819</td>\n",
       "      <td>5.440957</td>\n",
       "      <td>5.702465</td>\n",
       "      <td>2.486294</td>\n",
       "      <td>1.484651</td>\n",
       "      <td>-1.385248</td>\n",
       "      <td>0.063061</td>\n",
       "    </tr>\n",
       "    <tr>\n",
       "      <th>391</th>\n",
       "      <td>T cells CD8+</td>\n",
       "      <td>I-BET151</td>\n",
       "      <td>LSM-6335</td>\n",
       "      <td>COc1cc2c(cc1-c1c(C)noc1C)ncc1[nH]c(=O)n([C@H](...</td>\n",
       "      <td>False</td>\n",
       "      <td>-0.012250</td>\n",
       "      <td>0.174611</td>\n",
       "      <td>-0.099221</td>\n",
       "      <td>-0.134166</td>\n",
       "      <td>0.143319</td>\n",
       "      <td>...</td>\n",
       "      <td>-0.301498</td>\n",
       "      <td>-0.534493</td>\n",
       "      <td>-0.066710</td>\n",
       "      <td>0.647332</td>\n",
       "      <td>0.153865</td>\n",
       "      <td>0.478001</td>\n",
       "      <td>0.884914</td>\n",
       "      <td>0.558577</td>\n",
       "      <td>-1.453534</td>\n",
       "      <td>1.611454</td>\n",
       "    </tr>\n",
       "    <tr>\n",
       "      <th>568</th>\n",
       "      <td>T cells CD8+</td>\n",
       "      <td>AMD-070 (hydrochloride)</td>\n",
       "      <td>LSM-45591</td>\n",
       "      <td>NCCCCN(Cc1nc2ccccc2[nH]1)[C@H]1CCCc2cccnc21</td>\n",
       "      <td>False</td>\n",
       "      <td>0.909501</td>\n",
       "      <td>-0.011053</td>\n",
       "      <td>0.622651</td>\n",
       "      <td>-0.315069</td>\n",
       "      <td>0.142047</td>\n",
       "      <td>...</td>\n",
       "      <td>0.042186</td>\n",
       "      <td>0.001675</td>\n",
       "      <td>0.263338</td>\n",
       "      <td>0.077565</td>\n",
       "      <td>-0.028096</td>\n",
       "      <td>-0.006699</td>\n",
       "      <td>-0.175771</td>\n",
       "      <td>-0.451758</td>\n",
       "      <td>0.163957</td>\n",
       "      <td>-0.320038</td>\n",
       "    </tr>\n",
       "    <tr>\n",
       "      <th>15</th>\n",
       "      <td>T cells CD4+</td>\n",
       "      <td>Vandetanib</td>\n",
       "      <td>LSM-1199</td>\n",
       "      <td>COc1cc2c(Nc3ccc(Br)cc3F)ncnc2cc1OCC1CCN(C)CC1</td>\n",
       "      <td>False</td>\n",
       "      <td>0.106623</td>\n",
       "      <td>0.006949</td>\n",
       "      <td>0.424472</td>\n",
       "      <td>-0.124439</td>\n",
       "      <td>1.123565</td>\n",
       "      <td>...</td>\n",
       "      <td>-0.053448</td>\n",
       "      <td>0.072833</td>\n",
       "      <td>-0.421440</td>\n",
       "      <td>0.067708</td>\n",
       "      <td>1.215890</td>\n",
       "      <td>0.226569</td>\n",
       "      <td>0.084715</td>\n",
       "      <td>-0.668755</td>\n",
       "      <td>0.798338</td>\n",
       "      <td>-0.060044</td>\n",
       "    </tr>\n",
       "    <tr>\n",
       "      <th>190</th>\n",
       "      <td>T cells CD4+</td>\n",
       "      <td>PD-0325901</td>\n",
       "      <td>LSM-1101</td>\n",
       "      <td>O=C(NOC[C@H](O)CO)c1ccc(F)c(F)c1Nc1ccc(I)cc1F</td>\n",
       "      <td>False</td>\n",
       "      <td>-0.237122</td>\n",
       "      <td>-0.694187</td>\n",
       "      <td>0.395870</td>\n",
       "      <td>0.210085</td>\n",
       "      <td>-0.081793</td>\n",
       "      <td>...</td>\n",
       "      <td>-1.153235</td>\n",
       "      <td>-0.131176</td>\n",
       "      <td>0.497080</td>\n",
       "      <td>0.604248</td>\n",
       "      <td>0.313291</td>\n",
       "      <td>-0.730704</td>\n",
       "      <td>1.744382</td>\n",
       "      <td>1.603138</td>\n",
       "      <td>-0.143792</td>\n",
       "      <td>-0.194503</td>\n",
       "    </tr>\n",
       "  </tbody>\n",
       "</table>\n",
       "<p>5 rows × 18216 columns</p>\n",
       "</div>"
      ],
      "text/plain": [
       "        cell_type                  sm_name sm_lincs_id  \\\n",
       "373      NK cells                 MLN 2238    LSM-4944   \n",
       "391  T cells CD8+                 I-BET151    LSM-6335   \n",
       "568  T cells CD8+  AMD-070 (hydrochloride)   LSM-45591   \n",
       "15   T cells CD4+               Vandetanib    LSM-1199   \n",
       "190  T cells CD4+               PD-0325901    LSM-1101   \n",
       "\n",
       "                                                SMILES  control      A1BG  \\\n",
       "373      CC(C)C[C@H](NC(=O)CNC(=O)c1cc(Cl)ccc1Cl)B(O)O    False  9.497701   \n",
       "391  COc1cc2c(cc1-c1c(C)noc1C)ncc1[nH]c(=O)n([C@H](...    False -0.012250   \n",
       "568        NCCCCN(Cc1nc2ccccc2[nH]1)[C@H]1CCCc2cccnc21    False  0.909501   \n",
       "15       COc1cc2c(Nc3ccc(Br)cc3F)ncnc2cc1OCC1CCN(C)CC1    False  0.106623   \n",
       "190      O=C(NOC[C@H](O)CO)c1ccc(F)c(F)c1Nc1ccc(I)cc1F    False -0.237122   \n",
       "\n",
       "     A1BG-AS1       A2M   A2M-AS1     A2MP1  ...      ZUP1      ZW10  \\\n",
       "373  5.478697  0.129686 -2.328127  5.732667  ...  1.047863  3.069138   \n",
       "391  0.174611 -0.099221 -0.134166  0.143319  ... -0.301498 -0.534493   \n",
       "568 -0.011053  0.622651 -0.315069  0.142047  ...  0.042186  0.001675   \n",
       "15   0.006949  0.424472 -0.124439  1.123565  ... -0.053448  0.072833   \n",
       "190 -0.694187  0.395870  0.210085 -0.081793  ... -1.153235 -0.131176   \n",
       "\n",
       "       ZWILCH     ZWINT      ZXDA      ZXDB      ZXDC    ZYG11B       ZYX  \\\n",
       "373  3.280055  5.284819  5.440957  5.702465  2.486294  1.484651 -1.385248   \n",
       "391 -0.066710  0.647332  0.153865  0.478001  0.884914  0.558577 -1.453534   \n",
       "568  0.263338  0.077565 -0.028096 -0.006699 -0.175771 -0.451758  0.163957   \n",
       "15  -0.421440  0.067708  1.215890  0.226569  0.084715 -0.668755  0.798338   \n",
       "190  0.497080  0.604248  0.313291 -0.730704  1.744382  1.603138 -0.143792   \n",
       "\n",
       "        ZZEF1  \n",
       "373  0.063061  \n",
       "391  1.611454  \n",
       "568 -0.320038  \n",
       "15  -0.060044  \n",
       "190 -0.194503  \n",
       "\n",
       "[5 rows x 18216 columns]"
      ]
     },
     "execution_count": 14,
     "metadata": {},
     "output_type": "execute_result"
    }
   ],
   "source": [
    "print(train_df.shape)\n",
    "train_df.head()"
   ]
  },
  {
   "cell_type": "code",
   "execution_count": 15,
   "id": "94c28ec7-cdcd-4767-8742-6aed5728d219",
   "metadata": {},
   "outputs": [
    {
     "name": "stdout",
     "output_type": "stream",
     "text": [
      "(123, 18216)\n"
     ]
    },
    {
     "data": {
      "text/html": [
       "<div>\n",
       "<style scoped>\n",
       "    .dataframe tbody tr th:only-of-type {\n",
       "        vertical-align: middle;\n",
       "    }\n",
       "\n",
       "    .dataframe tbody tr th {\n",
       "        vertical-align: top;\n",
       "    }\n",
       "\n",
       "    .dataframe thead th {\n",
       "        text-align: right;\n",
       "    }\n",
       "</style>\n",
       "<table border=\"1\" class=\"dataframe\">\n",
       "  <thead>\n",
       "    <tr style=\"text-align: right;\">\n",
       "      <th></th>\n",
       "      <th>cell_type</th>\n",
       "      <th>sm_name</th>\n",
       "      <th>sm_lincs_id</th>\n",
       "      <th>SMILES</th>\n",
       "      <th>control</th>\n",
       "      <th>A1BG</th>\n",
       "      <th>A1BG-AS1</th>\n",
       "      <th>A2M</th>\n",
       "      <th>A2M-AS1</th>\n",
       "      <th>A2MP1</th>\n",
       "      <th>...</th>\n",
       "      <th>ZUP1</th>\n",
       "      <th>ZW10</th>\n",
       "      <th>ZWILCH</th>\n",
       "      <th>ZWINT</th>\n",
       "      <th>ZXDA</th>\n",
       "      <th>ZXDB</th>\n",
       "      <th>ZXDC</th>\n",
       "      <th>ZYG11B</th>\n",
       "      <th>ZYX</th>\n",
       "      <th>ZZEF1</th>\n",
       "    </tr>\n",
       "  </thead>\n",
       "  <tbody>\n",
       "    <tr>\n",
       "      <th>342</th>\n",
       "      <td>T regulatory cells</td>\n",
       "      <td>Tivantinib</td>\n",
       "      <td>LSM-1131</td>\n",
       "      <td>O=C1NC(=O)[C@@H](c2cn3c4c(cccc24)CCC3)[C@@H]1c...</td>\n",
       "      <td>False</td>\n",
       "      <td>0.193286</td>\n",
       "      <td>0.665367</td>\n",
       "      <td>-0.142059</td>\n",
       "      <td>0.047231</td>\n",
       "      <td>-0.062032</td>\n",
       "      <td>...</td>\n",
       "      <td>0.086186</td>\n",
       "      <td>-0.119378</td>\n",
       "      <td>0.071182</td>\n",
       "      <td>-0.694750</td>\n",
       "      <td>0.225487</td>\n",
       "      <td>0.352343</td>\n",
       "      <td>-0.127136</td>\n",
       "      <td>0.499296</td>\n",
       "      <td>0.904340</td>\n",
       "      <td>0.266353</td>\n",
       "    </tr>\n",
       "    <tr>\n",
       "      <th>244</th>\n",
       "      <td>T cells CD4+</td>\n",
       "      <td>Prednisolone</td>\n",
       "      <td>LSM-24954</td>\n",
       "      <td>C[C@]12C=CC(=O)C=C1CC[C@@H]1[C@@H]2[C@@H](O)C[...</td>\n",
       "      <td>False</td>\n",
       "      <td>0.134272</td>\n",
       "      <td>-0.051087</td>\n",
       "      <td>0.516691</td>\n",
       "      <td>-0.391710</td>\n",
       "      <td>-0.411336</td>\n",
       "      <td>...</td>\n",
       "      <td>-0.842898</td>\n",
       "      <td>-0.443645</td>\n",
       "      <td>1.415605</td>\n",
       "      <td>-0.823260</td>\n",
       "      <td>-0.084823</td>\n",
       "      <td>0.622433</td>\n",
       "      <td>0.845683</td>\n",
       "      <td>1.280901</td>\n",
       "      <td>-2.258758</td>\n",
       "      <td>0.635675</td>\n",
       "    </tr>\n",
       "    <tr>\n",
       "      <th>343</th>\n",
       "      <td>NK cells</td>\n",
       "      <td>CEP-37440</td>\n",
       "      <td>LSM-45849</td>\n",
       "      <td>CNC(=O)c1ccccc1Nc1nc(Nc2ccc3c(c2OC)CCC[C@H](N2...</td>\n",
       "      <td>False</td>\n",
       "      <td>0.791306</td>\n",
       "      <td>0.738089</td>\n",
       "      <td>-0.599179</td>\n",
       "      <td>-0.372779</td>\n",
       "      <td>-0.930951</td>\n",
       "      <td>...</td>\n",
       "      <td>-0.029370</td>\n",
       "      <td>-0.345004</td>\n",
       "      <td>0.096796</td>\n",
       "      <td>-0.287745</td>\n",
       "      <td>-0.267073</td>\n",
       "      <td>2.065996</td>\n",
       "      <td>0.243810</td>\n",
       "      <td>0.488007</td>\n",
       "      <td>-0.436535</td>\n",
       "      <td>0.361004</td>\n",
       "    </tr>\n",
       "    <tr>\n",
       "      <th>313</th>\n",
       "      <td>B cells</td>\n",
       "      <td>Foretinib</td>\n",
       "      <td>LSM-1158</td>\n",
       "      <td>COc1cc2c(Oc3ccc(NC(=O)C4(C(=O)Nc5ccc(F)cc5)CC4...</td>\n",
       "      <td>False</td>\n",
       "      <td>-0.176871</td>\n",
       "      <td>0.320933</td>\n",
       "      <td>0.532543</td>\n",
       "      <td>0.570455</td>\n",
       "      <td>0.725136</td>\n",
       "      <td>...</td>\n",
       "      <td>-0.432899</td>\n",
       "      <td>0.017530</td>\n",
       "      <td>-0.110185</td>\n",
       "      <td>0.207273</td>\n",
       "      <td>-0.184022</td>\n",
       "      <td>0.858617</td>\n",
       "      <td>0.271281</td>\n",
       "      <td>-0.311170</td>\n",
       "      <td>-0.230995</td>\n",
       "      <td>-1.423259</td>\n",
       "    </tr>\n",
       "    <tr>\n",
       "      <th>243</th>\n",
       "      <td>NK cells</td>\n",
       "      <td>Prednisolone</td>\n",
       "      <td>LSM-24954</td>\n",
       "      <td>C[C@]12C=CC(=O)C=C1CC[C@@H]1[C@@H]2[C@@H](O)C[...</td>\n",
       "      <td>False</td>\n",
       "      <td>0.054650</td>\n",
       "      <td>0.401233</td>\n",
       "      <td>0.258088</td>\n",
       "      <td>-0.396746</td>\n",
       "      <td>0.355001</td>\n",
       "      <td>...</td>\n",
       "      <td>0.093196</td>\n",
       "      <td>0.051984</td>\n",
       "      <td>-0.114204</td>\n",
       "      <td>-0.170931</td>\n",
       "      <td>-0.600998</td>\n",
       "      <td>0.242447</td>\n",
       "      <td>0.009419</td>\n",
       "      <td>0.249872</td>\n",
       "      <td>-1.248088</td>\n",
       "      <td>-0.018520</td>\n",
       "    </tr>\n",
       "  </tbody>\n",
       "</table>\n",
       "<p>5 rows × 18216 columns</p>\n",
       "</div>"
      ],
      "text/plain": [
       "              cell_type       sm_name sm_lincs_id  \\\n",
       "342  T regulatory cells    Tivantinib    LSM-1131   \n",
       "244        T cells CD4+  Prednisolone   LSM-24954   \n",
       "343            NK cells     CEP-37440   LSM-45849   \n",
       "313             B cells     Foretinib    LSM-1158   \n",
       "243            NK cells  Prednisolone   LSM-24954   \n",
       "\n",
       "                                                SMILES  control      A1BG  \\\n",
       "342  O=C1NC(=O)[C@@H](c2cn3c4c(cccc24)CCC3)[C@@H]1c...    False  0.193286   \n",
       "244  C[C@]12C=CC(=O)C=C1CC[C@@H]1[C@@H]2[C@@H](O)C[...    False  0.134272   \n",
       "343  CNC(=O)c1ccccc1Nc1nc(Nc2ccc3c(c2OC)CCC[C@H](N2...    False  0.791306   \n",
       "313  COc1cc2c(Oc3ccc(NC(=O)C4(C(=O)Nc5ccc(F)cc5)CC4...    False -0.176871   \n",
       "243  C[C@]12C=CC(=O)C=C1CC[C@@H]1[C@@H]2[C@@H](O)C[...    False  0.054650   \n",
       "\n",
       "     A1BG-AS1       A2M   A2M-AS1     A2MP1  ...      ZUP1      ZW10  \\\n",
       "342  0.665367 -0.142059  0.047231 -0.062032  ...  0.086186 -0.119378   \n",
       "244 -0.051087  0.516691 -0.391710 -0.411336  ... -0.842898 -0.443645   \n",
       "343  0.738089 -0.599179 -0.372779 -0.930951  ... -0.029370 -0.345004   \n",
       "313  0.320933  0.532543  0.570455  0.725136  ... -0.432899  0.017530   \n",
       "243  0.401233  0.258088 -0.396746  0.355001  ...  0.093196  0.051984   \n",
       "\n",
       "       ZWILCH     ZWINT      ZXDA      ZXDB      ZXDC    ZYG11B       ZYX  \\\n",
       "342  0.071182 -0.694750  0.225487  0.352343 -0.127136  0.499296  0.904340   \n",
       "244  1.415605 -0.823260 -0.084823  0.622433  0.845683  1.280901 -2.258758   \n",
       "343  0.096796 -0.287745 -0.267073  2.065996  0.243810  0.488007 -0.436535   \n",
       "313 -0.110185  0.207273 -0.184022  0.858617  0.271281 -0.311170 -0.230995   \n",
       "243 -0.114204 -0.170931 -0.600998  0.242447  0.009419  0.249872 -1.248088   \n",
       "\n",
       "        ZZEF1  \n",
       "342  0.266353  \n",
       "244  0.635675  \n",
       "343  0.361004  \n",
       "313 -1.423259  \n",
       "243 -0.018520  \n",
       "\n",
       "[5 rows x 18216 columns]"
      ]
     },
     "execution_count": 15,
     "metadata": {},
     "output_type": "execute_result"
    }
   ],
   "source": [
    "print(valid_df.shape)\n",
    "valid_df.head()"
   ]
  },
  {
   "cell_type": "markdown",
   "id": "9afeb884-d7e5-475c-880e-dd0b1219941e",
   "metadata": {},
   "source": [
    "## Training routines"
   ]
  },
  {
   "cell_type": "code",
   "execution_count": 16,
   "id": "35817f9b-9707-4bf7-9a4b-1b0c3b39ab05",
   "metadata": {},
   "outputs": [
    {
     "data": {
      "text/plain": [
       "HeteroData(\n",
       "  cell={\n",
       "    node_id=[6],\n",
       "    x=[6, 158205],\n",
       "  },\n",
       "  sm={\n",
       "    node_id=[146],\n",
       "    x=[146, 768],\n",
       "  },\n",
       "  (cell, gene_exp, sm)={\n",
       "    edge_index=[2, 876],\n",
       "    edge_label=[876],\n",
       "    edge_label_index=[2, 876],\n",
       "  },\n",
       "  (sm, rev_gene_exp, cell)={ edge_index=[2, 876] }\n",
       ")"
      ]
     },
     "execution_count": 16,
     "metadata": {},
     "output_type": "execute_result"
    }
   ],
   "source": [
    "data"
   ]
  },
  {
   "cell_type": "code",
   "execution_count": 17,
   "id": "03039c13-f857-44f8-bc03-02e5bb92ea37",
   "metadata": {},
   "outputs": [
    {
     "name": "stdout",
     "output_type": "stream",
     "text": [
      "torch.Size([2, 876])\n"
     ]
    },
    {
     "data": {
      "text/plain": [
       "tensor([[  4,   1,   1,  ...,   5,   3,   0],\n",
       "        [ 60,   2, 118,  ...,  95,  48,   2]])"
      ]
     },
     "execution_count": 17,
     "metadata": {},
     "output_type": "execute_result"
    }
   ],
   "source": [
    "print(data['cell', 'gene_exp', 'sm'].edge_label_index.shape)\n",
    "data['cell', 'gene_exp', 'sm'].edge_label_index"
   ]
  },
  {
   "cell_type": "code",
   "execution_count": 18,
   "id": "820b0c66-ee77-4753-a27f-beb7b7aeff5e",
   "metadata": {},
   "outputs": [
    {
     "name": "stdout",
     "output_type": "stream",
     "text": [
      "tensor(491.)\n",
      "tensor([[False,  True, False,  ..., False,  True,  True],\n",
      "        [False,  True, False,  ..., False,  True,  True]])\n",
      "tensor(123.)\n",
      "tensor([[False, False,  True,  ..., False, False, False],\n",
      "        [False, False,  True,  ..., False, False, False]])\n"
     ]
    }
   ],
   "source": [
    "train_mask = torch.zeros_like(data['cell', 'gene_exp', 'sm'].edge_label_index, dtype=torch.bool)\n",
    "valid_mask = torch.zeros_like(data['cell', 'gene_exp', 'sm'].edge_label_index, dtype=torch.bool)\n",
    "\n",
    "for i in range(data['cell', 'gene_exp', 'sm'].edge_label_index.shape[1]):\n",
    "    if (data['cell', 'gene_exp', 'sm'].edge_label_index[0, i].item(), data['cell', 'gene_exp', 'sm'].edge_label_index[1, i].item()) in train_edge_indeces:\n",
    "        train_mask[:, i] = True\n",
    "    if (data['cell', 'gene_exp', 'sm'].edge_label_index[0, i].item(), data['cell', 'gene_exp', 'sm'].edge_label_index[1, i].item()) in valid_edge_indeces:\n",
    "        valid_mask[:, i] = True\n",
    "\n",
    "print(train_mask.sum()/2)\n",
    "print(train_mask)\n",
    "\n",
    "print(valid_mask.sum()/2)\n",
    "print(valid_mask)"
   ]
  },
  {
   "cell_type": "code",
   "execution_count": 19,
   "id": "691333fd-d35b-44cc-a76e-ad36eb478710",
   "metadata": {},
   "outputs": [],
   "source": [
    "def train(data,\n",
    "          train_edge_indeces,\n",
    "          valid_edge_indeces,\n",
    "          train_edge2feat,\n",
    "          valid_edge2feat,\n",
    "          train_mask,\n",
    "          valid_mask,\n",
    "          cell_emb_dim=1,\n",
    "          sm_emb_dim=4,\n",
    "          lr=0.01,\n",
    "          hidden_channels=32,\n",
    "          p_dropout=0.1,\n",
    "          num_epochs=100,\n",
    "          print_every=1):\n",
    "    \n",
    "    # clone data\n",
    "    data = data.clone()\n",
    "    \n",
    "    # show device information\n",
    "    device = torch.device('cuda' if torch.cuda.is_available() else 'cpu')\n",
    "\n",
    "    # create model (data, cell_emb_dim, sm_emb_dim, hidden_channels, p_dropout)\n",
    "    model = Model(data=data,\n",
    "                  cell_emb_dim=cell_emb_dim,\n",
    "                  sm_emb_dim=sm_emb_dim,\n",
    "                  hidden_channels=hidden_channels,\n",
    "                  p_dropout=p_dropout).to(device)\n",
    "    \n",
    "    #print(\"Number of trainable parameters: {}\".format(sum(param.numel() for param in model.parameters() if param.requires_grad)))\n",
    "    \n",
    "    model = model.to(device)\n",
    "    \n",
    "    # print hypoparameters and model settings\n",
    "    if print_every > 0:\n",
    "        print(\"Device: {}, lr = {}, hidden_channels = {}, num_epochs = {}\".format(device, lr, hidden_channels, num_epochs))\n",
    "        print(model)\n",
    "\n",
    "    # prepare data\n",
    "    data = data.to(device)\n",
    "    \n",
    "    train_mask = train_mask.to(device)\n",
    "    valid_mask = valid_mask.to(device)\n",
    "\n",
    "    #n_train = len(train_edge_indeces)\n",
    "    #n_valid = len(valid_edge_indeces)\n",
    "\n",
    "    # optimizer\n",
    "    optimizer = torch.optim.Adam(model.parameters(), lr=lr)\n",
    "    \n",
    "    # model with best performance\n",
    "    best_epoch = 0\n",
    "    best_valid_loss = float('inf')\n",
    "    best_model = copy.deepcopy(model)\n",
    "    \n",
    "    for epoch in tqdm.tqdm(range(1, num_epochs+1)):\n",
    "                \n",
    "        optimizer.zero_grad()\n",
    "        \n",
    "        \"\"\"\n",
    "        Train\n",
    "        \"\"\"\n",
    "        model.train()\n",
    "        pred = model(data)  # (876, 18211)\n",
    "\n",
    "        # ground truth\n",
    "        target = []\n",
    "        for i in range(data['cell', 'gene_exp', 'sm'].edge_label_index.shape[1]):\n",
    "            cell_idx = data['cell', 'gene_exp', 'sm'].edge_label_index[0, i].item()\n",
    "            sm_idx = data['cell', 'gene_exp', 'sm'].edge_label_index[1, i].item()\n",
    "            if (cell_idx, sm_idx) in train_edge_indeces:\n",
    "                target.append([train_edge2feat[(cell_idx, sm_idx)]])    \n",
    "        target = torch.from_numpy(np.array(target)).float().squeeze().to(device)  # (491, 18211)\n",
    "        \n",
    "        total_train_loss = F.mse_loss(pred[train_mask[0]], target)\n",
    "\n",
    "        total_train_loss.backward()\n",
    "        optimizer.step()\n",
    "        \n",
    "\n",
    "        \"\"\"\n",
    "        Validation\n",
    "        \"\"\"\n",
    "        model.eval()\n",
    "        with torch.no_grad():\n",
    "            \n",
    "            # ground truth\n",
    "            valid_target = []\n",
    "            for i in range(data['cell', 'gene_exp', 'sm'].edge_label_index.shape[1]):\n",
    "                cell_idx = data['cell', 'gene_exp', 'sm'].edge_label_index[0, i].item()\n",
    "                sm_idx = data['cell', 'gene_exp', 'sm'].edge_label_index[1, i].item()\n",
    "                if (cell_idx, sm_idx) in valid_edge_indeces:\n",
    "                    valid_target.append([valid_edge2feat[(cell_idx, sm_idx)]])    \n",
    "            valid_target = torch.from_numpy(np.array(valid_target)).float().squeeze()  # (123, 18211)\n",
    "          \n",
    "            total_valid_loss = mean_squared_error(valid_target.numpy(), pred[valid_mask[0]].detach().cpu().numpy())\n",
    "               \n",
    "            # check if model is better\n",
    "            if total_valid_loss < best_valid_loss:\n",
    "                best_epoch = epoch\n",
    "                best_valid_loss = total_valid_loss\n",
    "                best_model = copy.deepcopy(model)\n",
    "                best_status = '<<<'\n",
    "            else:\n",
    "                best_status = ''\n",
    "\n",
    "        if print_every > 0:\n",
    "            if (epoch-1) % print_every == 0:\n",
    "                print(\"Epoch: {:03d}, Loss: {:.4f}, Val: {:.4f} {}\".format(epoch, total_train_loss, total_valid_loss, best_status))\n",
    "            elif epoch == num_epochs:\n",
    "                print(\"Epoch: {:03d}, Loss: {:.4f}, Val: {:.4f} {}\".format(epoch, total_train_loss, total_valid_loss, best_status))\n",
    "\n",
    "    if print_every > 0:\n",
    "        print(\"\\nBest epoch: {}, val_loss: {:.4f}\".format(best_epoch, best_valid_loss))\n",
    "    else:\n",
    "        print(\"Cell_emb: {}, sm_emb: {}, lr = {}, hidden_channels = {}  >>>  \".format(cell_emb_dim, sm_emb_dim, lr, hidden_channels) +\n",
    "              \"Best epoch: {}/{}, val_loss: {:.4f}\".format(best_epoch, num_epochs, best_valid_loss))\n",
    "        \n",
    "    print(\"---------------------------------\")\n",
    "    return best_model, best_valid_loss\n",
    "        "
   ]
  },
  {
   "cell_type": "code",
   "execution_count": 20,
   "id": "ed1a400d-81d6-45b3-9ff9-93acb8576645",
   "metadata": {},
   "outputs": [],
   "source": [
    "def final_submission(data, model_name='test_model', model=None):\n",
    "\n",
    "    assert model is not None\n",
    "    \n",
    "    data = data.clone()\n",
    "    \n",
    "    ## load test indeces\n",
    "    id_map = pd.read_csv('../data/id_map.csv')\n",
    "    assert id_map.shape[0] == 255\n",
    "    #print(\"ID map loaded\")\n",
    "    #print(id_map.shape)\n",
    "\n",
    "    ## load template\n",
    "    res_df = pd.read_csv('../data/sample_submission.csv')\n",
    "    assert res_df.shape[0] == 255\n",
    "    #print(\"Submission template loaded\")\n",
    "    #print(res_df.shape)\n",
    "\n",
    "    ## device\n",
    "    device = torch.device('cuda' if torch.cuda.is_available() else 'cpu')\n",
    "    \n",
    "    ## load model\n",
    "    model = copy.deepcopy(model).to(device)\n",
    "    model.eval()\n",
    "    \n",
    "    data = data.to(device)\n",
    "    \n",
    "    ## Inference\n",
    "    with torch.no_grad():\n",
    "        pred = model(data).detach().cpu().numpy()  # (876, 18211)\n",
    "        \n",
    "    for i in tqdm.tqdm(range(id_map.shape[0])):\n",
    "        cell_idx = c2index[id_map['cell_type'].iloc[i]]\n",
    "        sm_idx = sm2index[id_map['sm_name'].iloc[i]]\n",
    "\n",
    "        all_edge_indeces = data['cell', 'gene_exp', 'sm'].edge_label_index\n",
    "        #print(all_edge_indeces)\n",
    "        \n",
    "        for j in range(all_edge_indeces.shape[1]):\n",
    "            if all_edge_indeces[0, j].item() == cell_idx and all_edge_indeces[1, j].item() == sm_idx:\n",
    "                #print(\"{} + {} | {:.4f}\".format(id_map['cell_type'].iloc[i],\n",
    "                #                                     id_map['sm_name'].iloc[i],\n",
    "                #                                     pred[j, :].sum()))\n",
    "                \n",
    "                #print(\"{}\".format(pred[j, :3]))\n",
    "                res_df.iloc[i, 1:] = pred[j, :]\n",
    "                break\n",
    "                \n",
    "    res_df.to_csv('../submissions/' + model_name + '.csv', index=False)\n",
    "    print(\"File saved.\")\n",
    "    print(res_df.shape)\n",
    "\n",
    "    # sanity check\n",
    "    tmp = pd.read_csv('../submissions/' + model_name + '.csv')\n",
    "    assert tmp.shape == res_df.shape\n",
    "\n",
    "    del tmp\n"
   ]
  },
  {
   "cell_type": "markdown",
   "id": "91d2307b-9c45-4b62-8dd2-d7025d40b3c9",
   "metadata": {},
   "source": [
    "### Experiment 1 -- model_1022_exp3_29"
   ]
  },
  {
   "cell_type": "code",
   "execution_count": 21,
   "id": "7aaf2e8d-9943-49cd-aca2-b9a405d1e701",
   "metadata": {
    "tags": []
   },
   "outputs": [],
   "source": [
    "from torch_geometric.nn import SAGEConv, to_hetero\n",
    "from torch.nn import Linear, Dropout, Embedding\n",
    "import torch.nn.functional as F\n",
    "\n",
    "class GNN(torch.nn.Module):\n",
    "    \"\"\"\n",
    "    Compute node embedding\n",
    "    \"\"\"\n",
    "    def __init__(self, hidden_channels, p_dropout=0.2):\n",
    "        super().__init__()       \n",
    "        self.conv1 = SAGEConv(-1, hidden_channels, normalize=True)\n",
    "        self.conv2 = SAGEConv(hidden_channels, hidden_channels, normalize=True)\n",
    "        self.dropout1 = Dropout(p=p_dropout)\n",
    "        \n",
    "    def forward(self, x, edge_index):\n",
    "        x = self.dropout1(F.elu(self.conv1(x, edge_index)))        \n",
    "        x = self.conv2(x, edge_index)\n",
    "        return x\n",
    "\n",
    "class MLP(torch.nn.Module):\n",
    "    \"\"\"\n",
    "    Model that predicts the gene expression given node features at the two ends\n",
    "    \n",
    "    1020: Change inner layer from (1024, 1024) units to (256, 256) units \n",
    "    \"\"\"\n",
    "    def __init__(self, hidden_channels, p_dropout=0.2):\n",
    "        super().__init__()\n",
    "\n",
    "        self.dropout1 = Dropout(p=p_dropout)\n",
    "        self.dropout2 = Dropout(p=p_dropout)\n",
    "        \n",
    "        self.layer1 = Linear(2*hidden_channels, 256)\n",
    "        self.layer2 = Linear(256, 1024)\n",
    "        self.layer3 = Linear(1024, 18211)\n",
    "    \n",
    "    def forward(self, x_cell, x_sm, edge_label_index):\n",
    "        \n",
    "        # Retrieve embeddings from the two nodes\n",
    "        feat_cell = x_cell[edge_label_index[0]]  # dim = hidden_channels\n",
    "        feat_sm = x_sm[edge_label_index[1]]  #  dim = hidden_channels\n",
    "\n",
    "        # calculate the gene expression\n",
    "        y = torch.cat((feat_cell, feat_sm), dim=1)  # dim = 2*hidden_channels\n",
    "        \n",
    "        y = F.relu(self.layer1(y))  # dim = 256\n",
    "        y = self.dropout1(y)\n",
    "        \n",
    "        y = F.relu(self.layer2(y))  # dim = 1024\n",
    "        y = self.dropout2(y)\n",
    "        \n",
    "        y = self.layer3(y)  # dim = 18211\n",
    "        \n",
    "        return y\n",
    "\n",
    "\n",
    "class Model(torch.nn.Module):\n",
    "    def __init__(self, data, cell_emb_dim, sm_emb_dim, hidden_channels, p_dropout):\n",
    "        super().__init__()\n",
    "\n",
    "        # cell emb for each cell type\n",
    "        self.cell_emb = Embedding(data[\"cell\"].num_nodes, cell_emb_dim)\n",
    "        \n",
    "        \"\"\"\n",
    "        1027 - change from hidden_channels to 64\n",
    "        \"\"\"\n",
    "        # cell emb leveraging control gene expression\n",
    "        self.cell_lin = Linear(158205, 64)\n",
    "\n",
    "        # sm emb for each sm type\n",
    "        if sm_emb_dim > 0:\n",
    "            self.sm_emb = Embedding(data[\"sm\"].num_nodes, sm_emb_dim)\n",
    "        else:\n",
    "            self.sm_emb = None\n",
    "        # sm emb leveraging SMILES embedding\n",
    "        self.sm_lin = Linear(768, hidden_channels)\n",
    "        \n",
    "        # Instantiate homogeneous GNN:\n",
    "        self.gnn = GNN(hidden_channels=hidden_channels, p_dropout=p_dropout)\n",
    "        # Convert GNN model into a heterogeneous variant:\n",
    "        self.gnn = to_hetero(self.gnn, metadata=data.metadata())\n",
    "        \n",
    "        self.MLP = MLP(hidden_channels=hidden_channels, p_dropout=p_dropout)\n",
    "        \n",
    "                \n",
    "    def forward(self, data):\n",
    "        # calculate node embedding\n",
    "        #x_cell = self.cell_emb(data[\"cell\"].node_id)\n",
    "        x_cell = torch.cat((self.cell_emb(data[\"cell\"].node_id), self.cell_lin(data[\"cell\"].x)), dim=1)\n",
    "\n",
    "        if self.sm_emb:\n",
    "            x_sm = torch.cat((self.sm_emb(data[\"sm\"].node_id), self.sm_lin(data[\"sm\"].x)), dim=1)\n",
    "        else:\n",
    "            x_sm = self.sm_lin(data[\"sm\"].x)\n",
    "            \n",
    "        \n",
    "        x_dict = {\n",
    "          \"cell\": x_cell,\n",
    "          \"sm\": x_sm,\n",
    "        } \n",
    "\n",
    "        # compute final node embedding\n",
    "        x_dict = self.gnn(x_dict, data.edge_index_dict)\n",
    "\n",
    "        # Use node embedding to predict gene expression\n",
    "        pred = self.MLP(\n",
    "            x_dict[\"cell\"],\n",
    "            x_dict[\"sm\"],\n",
    "            data[\"cell\", \"gene_exp\", \"sm\"].edge_label_index,\n",
    "        )\n",
    "        return pred"
   ]
  },
  {
   "cell_type": "code",
   "execution_count": 22,
   "id": "4e39290f-9d05-4b58-9ff7-f5aed0d03211",
   "metadata": {},
   "outputs": [
    {
     "name": "stderr",
     "output_type": "stream",
     "text": [
      "/home/songmao/anaconda3/envs/pyg/lib/python3.11/site-packages/torch/overrides.py:110: UserWarning: 'has_cuda' is deprecated, please use 'torch.backends.cuda.is_built()'\n",
      "  torch.has_cuda,\n",
      "/home/songmao/anaconda3/envs/pyg/lib/python3.11/site-packages/torch/overrides.py:111: UserWarning: 'has_cudnn' is deprecated, please use 'torch.backends.cudnn.is_available()'\n",
      "  torch.has_cudnn,\n",
      "/home/songmao/anaconda3/envs/pyg/lib/python3.11/site-packages/torch/overrides.py:117: UserWarning: 'has_mps' is deprecated, please use 'torch.backends.mps.is_built()'\n",
      "  torch.has_mps,\n",
      "/home/songmao/anaconda3/envs/pyg/lib/python3.11/site-packages/torch/overrides.py:118: UserWarning: 'has_mkldnn' is deprecated, please use 'torch.backends.mkldnn.is_available()'\n",
      "  torch.has_mkldnn,\n",
      "100%|███████████████████████████████████████████████████████████████████| 2000/2000 [14:25<00:00,  2.31it/s]\n"
     ]
    },
    {
     "name": "stdout",
     "output_type": "stream",
     "text": [
      "Cell_emb: 2, sm_emb: 32, lr = 0.0005, hidden_channels = 8  >>>  Best epoch: 1719/2000, val_loss: 4.9447\n",
      "---------------------------------\n",
      "model_1028_exp1_1\n",
      "Model(\n",
      "  (cell_emb): Embedding(6, 2)\n",
      "  (cell_lin): Linear(in_features=158205, out_features=64, bias=True)\n",
      "  (sm_emb): Embedding(146, 32)\n",
      "  (sm_lin): Linear(in_features=768, out_features=8, bias=True)\n",
      "  (gnn): GraphModule(\n",
      "    (conv1): Module(\n",
      "      (cell__gene_exp__sm): SAGEConv(-1, 8, aggr=mean)\n",
      "      (sm__rev_gene_exp__cell): SAGEConv(-1, 8, aggr=mean)\n",
      "    )\n",
      "    (dropout1): Module(\n",
      "      (cell): Dropout(p=0.2, inplace=False)\n",
      "      (sm): Dropout(p=0.2, inplace=False)\n",
      "    )\n",
      "    (conv2): Module(\n",
      "      (cell__gene_exp__sm): SAGEConv(8, 8, aggr=mean)\n",
      "      (sm__rev_gene_exp__cell): SAGEConv(8, 8, aggr=mean)\n",
      "    )\n",
      "  )\n",
      "  (MLP): MLP(\n",
      "    (dropout1): Dropout(p=0.2, inplace=False)\n",
      "    (dropout2): Dropout(p=0.2, inplace=False)\n",
      "    (layer1): Linear(in_features=16, out_features=256, bias=True)\n",
      "    (layer2): Linear(in_features=256, out_features=1024, bias=True)\n",
      "    (layer3): Linear(in_features=1024, out_features=18211, bias=True)\n",
      "  )\n",
      ")\n"
     ]
    },
    {
     "name": "stderr",
     "output_type": "stream",
     "text": [
      "100%|█████████████████████████████████████████████████████████████████████| 255/255 [01:01<00:00,  4.12it/s]\n"
     ]
    },
    {
     "name": "stdout",
     "output_type": "stream",
     "text": [
      "File saved.\n",
      "(255, 18212)\n"
     ]
    },
    {
     "name": "stderr",
     "output_type": "stream",
     "text": [
      "100%|███████████████████████████████████████████████████████████████████| 2000/2000 [15:14<00:00,  2.19it/s]\n"
     ]
    },
    {
     "name": "stdout",
     "output_type": "stream",
     "text": [
      "Cell_emb: 2, sm_emb: 32, lr = 0.0005, hidden_channels = 8  >>>  Best epoch: 1350/2000, val_loss: 5.6959\n",
      "---------------------------------\n"
     ]
    },
    {
     "name": "stderr",
     "output_type": "stream",
     "text": [
      "100%|███████████████████████████████████████████████████████████████████| 2000/2000 [15:16<00:00,  2.18it/s]\n"
     ]
    },
    {
     "name": "stdout",
     "output_type": "stream",
     "text": [
      "Cell_emb: 2, sm_emb: 32, lr = 0.0005, hidden_channels = 8  >>>  Best epoch: 1673/2000, val_loss: 5.2964\n",
      "---------------------------------\n"
     ]
    },
    {
     "name": "stderr",
     "output_type": "stream",
     "text": [
      "100%|███████████████████████████████████████████████████████████████████| 2000/2000 [15:16<00:00,  2.18it/s]\n"
     ]
    },
    {
     "name": "stdout",
     "output_type": "stream",
     "text": [
      "Cell_emb: 2, sm_emb: 32, lr = 0.0005, hidden_channels = 8  >>>  Best epoch: 1911/2000, val_loss: 5.0469\n",
      "---------------------------------\n"
     ]
    },
    {
     "name": "stderr",
     "output_type": "stream",
     "text": [
      "100%|███████████████████████████████████████████████████████████████████| 2000/2000 [15:14<00:00,  2.19it/s]\n"
     ]
    },
    {
     "name": "stdout",
     "output_type": "stream",
     "text": [
      "Cell_emb: 2, sm_emb: 32, lr = 0.0005, hidden_channels = 8  >>>  Best epoch: 1570/2000, val_loss: 5.4692\n",
      "---------------------------------\n"
     ]
    },
    {
     "name": "stderr",
     "output_type": "stream",
     "text": [
      "100%|███████████████████████████████████████████████████████████████████| 2000/2000 [15:21<00:00,  2.17it/s]\n"
     ]
    },
    {
     "name": "stdout",
     "output_type": "stream",
     "text": [
      "Cell_emb: 2, sm_emb: 32, lr = 0.0005, hidden_channels = 8  >>>  Best epoch: 1664/2000, val_loss: 4.7027\n",
      "---------------------------------\n",
      "model_1028_exp1_6\n",
      "Model(\n",
      "  (cell_emb): Embedding(6, 2)\n",
      "  (cell_lin): Linear(in_features=158205, out_features=64, bias=True)\n",
      "  (sm_emb): Embedding(146, 32)\n",
      "  (sm_lin): Linear(in_features=768, out_features=8, bias=True)\n",
      "  (gnn): GraphModule(\n",
      "    (conv1): Module(\n",
      "      (cell__gene_exp__sm): SAGEConv(-1, 8, aggr=mean)\n",
      "      (sm__rev_gene_exp__cell): SAGEConv(-1, 8, aggr=mean)\n",
      "    )\n",
      "    (dropout1): Module(\n",
      "      (cell): Dropout(p=0.2, inplace=False)\n",
      "      (sm): Dropout(p=0.2, inplace=False)\n",
      "    )\n",
      "    (conv2): Module(\n",
      "      (cell__gene_exp__sm): SAGEConv(8, 8, aggr=mean)\n",
      "      (sm__rev_gene_exp__cell): SAGEConv(8, 8, aggr=mean)\n",
      "    )\n",
      "  )\n",
      "  (MLP): MLP(\n",
      "    (dropout1): Dropout(p=0.2, inplace=False)\n",
      "    (dropout2): Dropout(p=0.2, inplace=False)\n",
      "    (layer1): Linear(in_features=16, out_features=256, bias=True)\n",
      "    (layer2): Linear(in_features=256, out_features=1024, bias=True)\n",
      "    (layer3): Linear(in_features=1024, out_features=18211, bias=True)\n",
      "  )\n",
      ")\n"
     ]
    },
    {
     "name": "stderr",
     "output_type": "stream",
     "text": [
      "100%|█████████████████████████████████████████████████████████████████████| 255/255 [01:03<00:00,  4.02it/s]\n"
     ]
    },
    {
     "name": "stdout",
     "output_type": "stream",
     "text": [
      "File saved.\n",
      "(255, 18212)\n"
     ]
    },
    {
     "name": "stderr",
     "output_type": "stream",
     "text": [
      "100%|███████████████████████████████████████████████████████████████████| 2000/2000 [15:17<00:00,  2.18it/s]\n"
     ]
    },
    {
     "name": "stdout",
     "output_type": "stream",
     "text": [
      "Cell_emb: 2, sm_emb: 32, lr = 0.0005, hidden_channels = 8  >>>  Best epoch: 1776/2000, val_loss: 5.2636\n",
      "---------------------------------\n"
     ]
    },
    {
     "name": "stderr",
     "output_type": "stream",
     "text": [
      "100%|███████████████████████████████████████████████████████████████████| 2000/2000 [15:10<00:00,  2.20it/s]\n"
     ]
    },
    {
     "name": "stdout",
     "output_type": "stream",
     "text": [
      "Cell_emb: 2, sm_emb: 32, lr = 0.0005, hidden_channels = 8  >>>  Best epoch: 1529/2000, val_loss: 5.6438\n",
      "---------------------------------\n"
     ]
    },
    {
     "name": "stderr",
     "output_type": "stream",
     "text": [
      "100%|███████████████████████████████████████████████████████████████████| 2000/2000 [15:13<00:00,  2.19it/s]\n"
     ]
    },
    {
     "name": "stdout",
     "output_type": "stream",
     "text": [
      "Cell_emb: 2, sm_emb: 32, lr = 0.0005, hidden_channels = 8  >>>  Best epoch: 1712/2000, val_loss: 5.3616\n",
      "---------------------------------\n"
     ]
    },
    {
     "name": "stderr",
     "output_type": "stream",
     "text": [
      "100%|███████████████████████████████████████████████████████████████████| 2000/2000 [15:11<00:00,  2.19it/s]\n"
     ]
    },
    {
     "name": "stdout",
     "output_type": "stream",
     "text": [
      "Cell_emb: 2, sm_emb: 32, lr = 0.0005, hidden_channels = 8  >>>  Best epoch: 1945/2000, val_loss: 4.9682\n",
      "---------------------------------\n",
      "model_1028_exp1_10\n",
      "Model(\n",
      "  (cell_emb): Embedding(6, 2)\n",
      "  (cell_lin): Linear(in_features=158205, out_features=64, bias=True)\n",
      "  (sm_emb): Embedding(146, 32)\n",
      "  (sm_lin): Linear(in_features=768, out_features=8, bias=True)\n",
      "  (gnn): GraphModule(\n",
      "    (conv1): Module(\n",
      "      (cell__gene_exp__sm): SAGEConv(-1, 8, aggr=mean)\n",
      "      (sm__rev_gene_exp__cell): SAGEConv(-1, 8, aggr=mean)\n",
      "    )\n",
      "    (dropout1): Module(\n",
      "      (cell): Dropout(p=0.2, inplace=False)\n",
      "      (sm): Dropout(p=0.2, inplace=False)\n",
      "    )\n",
      "    (conv2): Module(\n",
      "      (cell__gene_exp__sm): SAGEConv(8, 8, aggr=mean)\n",
      "      (sm__rev_gene_exp__cell): SAGEConv(8, 8, aggr=mean)\n",
      "    )\n",
      "  )\n",
      "  (MLP): MLP(\n",
      "    (dropout1): Dropout(p=0.2, inplace=False)\n",
      "    (dropout2): Dropout(p=0.2, inplace=False)\n",
      "    (layer1): Linear(in_features=16, out_features=256, bias=True)\n",
      "    (layer2): Linear(in_features=256, out_features=1024, bias=True)\n",
      "    (layer3): Linear(in_features=1024, out_features=18211, bias=True)\n",
      "  )\n",
      ")\n"
     ]
    },
    {
     "name": "stderr",
     "output_type": "stream",
     "text": [
      "100%|█████████████████████████████████████████████████████████████████████| 255/255 [01:03<00:00,  4.00it/s]\n"
     ]
    },
    {
     "name": "stdout",
     "output_type": "stream",
     "text": [
      "File saved.\n",
      "(255, 18212)\n"
     ]
    },
    {
     "name": "stderr",
     "output_type": "stream",
     "text": [
      "100%|███████████████████████████████████████████████████████████████████| 2000/2000 [15:13<00:00,  2.19it/s]\n"
     ]
    },
    {
     "name": "stdout",
     "output_type": "stream",
     "text": [
      "Cell_emb: 2, sm_emb: 32, lr = 0.0005, hidden_channels = 8  >>>  Best epoch: 1561/2000, val_loss: 5.3714\n",
      "---------------------------------\n"
     ]
    },
    {
     "name": "stderr",
     "output_type": "stream",
     "text": [
      "100%|███████████████████████████████████████████████████████████████████| 2000/2000 [15:07<00:00,  2.20it/s]\n"
     ]
    },
    {
     "name": "stdout",
     "output_type": "stream",
     "text": [
      "Cell_emb: 2, sm_emb: 32, lr = 0.0005, hidden_channels = 8  >>>  Best epoch: 1832/2000, val_loss: 4.7360\n",
      "---------------------------------\n",
      "model_1028_exp1_12\n",
      "Model(\n",
      "  (cell_emb): Embedding(6, 2)\n",
      "  (cell_lin): Linear(in_features=158205, out_features=64, bias=True)\n",
      "  (sm_emb): Embedding(146, 32)\n",
      "  (sm_lin): Linear(in_features=768, out_features=8, bias=True)\n",
      "  (gnn): GraphModule(\n",
      "    (conv1): Module(\n",
      "      (cell__gene_exp__sm): SAGEConv(-1, 8, aggr=mean)\n",
      "      (sm__rev_gene_exp__cell): SAGEConv(-1, 8, aggr=mean)\n",
      "    )\n",
      "    (dropout1): Module(\n",
      "      (cell): Dropout(p=0.2, inplace=False)\n",
      "      (sm): Dropout(p=0.2, inplace=False)\n",
      "    )\n",
      "    (conv2): Module(\n",
      "      (cell__gene_exp__sm): SAGEConv(8, 8, aggr=mean)\n",
      "      (sm__rev_gene_exp__cell): SAGEConv(8, 8, aggr=mean)\n",
      "    )\n",
      "  )\n",
      "  (MLP): MLP(\n",
      "    (dropout1): Dropout(p=0.2, inplace=False)\n",
      "    (dropout2): Dropout(p=0.2, inplace=False)\n",
      "    (layer1): Linear(in_features=16, out_features=256, bias=True)\n",
      "    (layer2): Linear(in_features=256, out_features=1024, bias=True)\n",
      "    (layer3): Linear(in_features=1024, out_features=18211, bias=True)\n",
      "  )\n",
      ")\n"
     ]
    },
    {
     "name": "stderr",
     "output_type": "stream",
     "text": [
      "100%|█████████████████████████████████████████████████████████████████████| 255/255 [01:03<00:00,  4.02it/s]\n"
     ]
    },
    {
     "name": "stdout",
     "output_type": "stream",
     "text": [
      "File saved.\n",
      "(255, 18212)\n"
     ]
    },
    {
     "name": "stderr",
     "output_type": "stream",
     "text": [
      "100%|███████████████████████████████████████████████████████████████████| 2000/2000 [15:02<00:00,  2.22it/s]\n"
     ]
    },
    {
     "name": "stdout",
     "output_type": "stream",
     "text": [
      "Cell_emb: 2, sm_emb: 32, lr = 0.0005, hidden_channels = 8  >>>  Best epoch: 1927/2000, val_loss: 4.8150\n",
      "---------------------------------\n",
      "model_1028_exp1_13\n",
      "Model(\n",
      "  (cell_emb): Embedding(6, 2)\n",
      "  (cell_lin): Linear(in_features=158205, out_features=64, bias=True)\n",
      "  (sm_emb): Embedding(146, 32)\n",
      "  (sm_lin): Linear(in_features=768, out_features=8, bias=True)\n",
      "  (gnn): GraphModule(\n",
      "    (conv1): Module(\n",
      "      (cell__gene_exp__sm): SAGEConv(-1, 8, aggr=mean)\n",
      "      (sm__rev_gene_exp__cell): SAGEConv(-1, 8, aggr=mean)\n",
      "    )\n",
      "    (dropout1): Module(\n",
      "      (cell): Dropout(p=0.2, inplace=False)\n",
      "      (sm): Dropout(p=0.2, inplace=False)\n",
      "    )\n",
      "    (conv2): Module(\n",
      "      (cell__gene_exp__sm): SAGEConv(8, 8, aggr=mean)\n",
      "      (sm__rev_gene_exp__cell): SAGEConv(8, 8, aggr=mean)\n",
      "    )\n",
      "  )\n",
      "  (MLP): MLP(\n",
      "    (dropout1): Dropout(p=0.2, inplace=False)\n",
      "    (dropout2): Dropout(p=0.2, inplace=False)\n",
      "    (layer1): Linear(in_features=16, out_features=256, bias=True)\n",
      "    (layer2): Linear(in_features=256, out_features=1024, bias=True)\n",
      "    (layer3): Linear(in_features=1024, out_features=18211, bias=True)\n",
      "  )\n",
      ")\n"
     ]
    },
    {
     "name": "stderr",
     "output_type": "stream",
     "text": [
      "100%|█████████████████████████████████████████████████████████████████████| 255/255 [01:02<00:00,  4.06it/s]\n"
     ]
    },
    {
     "name": "stdout",
     "output_type": "stream",
     "text": [
      "File saved.\n",
      "(255, 18212)\n"
     ]
    },
    {
     "name": "stderr",
     "output_type": "stream",
     "text": [
      "100%|███████████████████████████████████████████████████████████████████| 2000/2000 [15:06<00:00,  2.21it/s]\n"
     ]
    },
    {
     "name": "stdout",
     "output_type": "stream",
     "text": [
      "Cell_emb: 2, sm_emb: 32, lr = 0.0005, hidden_channels = 8  >>>  Best epoch: 1936/2000, val_loss: 4.4772\n",
      "---------------------------------\n",
      "model_1028_exp1_14\n",
      "Model(\n",
      "  (cell_emb): Embedding(6, 2)\n",
      "  (cell_lin): Linear(in_features=158205, out_features=64, bias=True)\n",
      "  (sm_emb): Embedding(146, 32)\n",
      "  (sm_lin): Linear(in_features=768, out_features=8, bias=True)\n",
      "  (gnn): GraphModule(\n",
      "    (conv1): Module(\n",
      "      (cell__gene_exp__sm): SAGEConv(-1, 8, aggr=mean)\n",
      "      (sm__rev_gene_exp__cell): SAGEConv(-1, 8, aggr=mean)\n",
      "    )\n",
      "    (dropout1): Module(\n",
      "      (cell): Dropout(p=0.2, inplace=False)\n",
      "      (sm): Dropout(p=0.2, inplace=False)\n",
      "    )\n",
      "    (conv2): Module(\n",
      "      (cell__gene_exp__sm): SAGEConv(8, 8, aggr=mean)\n",
      "      (sm__rev_gene_exp__cell): SAGEConv(8, 8, aggr=mean)\n",
      "    )\n",
      "  )\n",
      "  (MLP): MLP(\n",
      "    (dropout1): Dropout(p=0.2, inplace=False)\n",
      "    (dropout2): Dropout(p=0.2, inplace=False)\n",
      "    (layer1): Linear(in_features=16, out_features=256, bias=True)\n",
      "    (layer2): Linear(in_features=256, out_features=1024, bias=True)\n",
      "    (layer3): Linear(in_features=1024, out_features=18211, bias=True)\n",
      "  )\n",
      ")\n"
     ]
    },
    {
     "name": "stderr",
     "output_type": "stream",
     "text": [
      "100%|█████████████████████████████████████████████████████████████████████| 255/255 [01:02<00:00,  4.06it/s]\n"
     ]
    },
    {
     "name": "stdout",
     "output_type": "stream",
     "text": [
      "File saved.\n",
      "(255, 18212)\n"
     ]
    },
    {
     "name": "stderr",
     "output_type": "stream",
     "text": [
      "100%|███████████████████████████████████████████████████████████████████| 2000/2000 [15:06<00:00,  2.21it/s]\n"
     ]
    },
    {
     "name": "stdout",
     "output_type": "stream",
     "text": [
      "Cell_emb: 2, sm_emb: 32, lr = 0.0005, hidden_channels = 8  >>>  Best epoch: 1842/2000, val_loss: 4.8585\n",
      "---------------------------------\n",
      "model_1028_exp1_15\n",
      "Model(\n",
      "  (cell_emb): Embedding(6, 2)\n",
      "  (cell_lin): Linear(in_features=158205, out_features=64, bias=True)\n",
      "  (sm_emb): Embedding(146, 32)\n",
      "  (sm_lin): Linear(in_features=768, out_features=8, bias=True)\n",
      "  (gnn): GraphModule(\n",
      "    (conv1): Module(\n",
      "      (cell__gene_exp__sm): SAGEConv(-1, 8, aggr=mean)\n",
      "      (sm__rev_gene_exp__cell): SAGEConv(-1, 8, aggr=mean)\n",
      "    )\n",
      "    (dropout1): Module(\n",
      "      (cell): Dropout(p=0.2, inplace=False)\n",
      "      (sm): Dropout(p=0.2, inplace=False)\n",
      "    )\n",
      "    (conv2): Module(\n",
      "      (cell__gene_exp__sm): SAGEConv(8, 8, aggr=mean)\n",
      "      (sm__rev_gene_exp__cell): SAGEConv(8, 8, aggr=mean)\n",
      "    )\n",
      "  )\n",
      "  (MLP): MLP(\n",
      "    (dropout1): Dropout(p=0.2, inplace=False)\n",
      "    (dropout2): Dropout(p=0.2, inplace=False)\n",
      "    (layer1): Linear(in_features=16, out_features=256, bias=True)\n",
      "    (layer2): Linear(in_features=256, out_features=1024, bias=True)\n",
      "    (layer3): Linear(in_features=1024, out_features=18211, bias=True)\n",
      "  )\n",
      ")\n"
     ]
    },
    {
     "name": "stderr",
     "output_type": "stream",
     "text": [
      "100%|█████████████████████████████████████████████████████████████████████| 255/255 [01:01<00:00,  4.12it/s]\n"
     ]
    },
    {
     "name": "stdout",
     "output_type": "stream",
     "text": [
      "File saved.\n",
      "(255, 18212)\n"
     ]
    },
    {
     "name": "stderr",
     "output_type": "stream",
     "text": [
      "100%|███████████████████████████████████████████████████████████████████| 2000/2000 [15:16<00:00,  2.18it/s]\n"
     ]
    },
    {
     "name": "stdout",
     "output_type": "stream",
     "text": [
      "Cell_emb: 2, sm_emb: 32, lr = 0.0005, hidden_channels = 8  >>>  Best epoch: 1237/2000, val_loss: 5.6481\n",
      "---------------------------------\n"
     ]
    },
    {
     "name": "stderr",
     "output_type": "stream",
     "text": [
      "100%|███████████████████████████████████████████████████████████████████| 2000/2000 [15:27<00:00,  2.16it/s]\n"
     ]
    },
    {
     "name": "stdout",
     "output_type": "stream",
     "text": [
      "Cell_emb: 2, sm_emb: 32, lr = 0.0005, hidden_channels = 8  >>>  Best epoch: 1873/2000, val_loss: 5.2409\n",
      "---------------------------------\n"
     ]
    },
    {
     "name": "stderr",
     "output_type": "stream",
     "text": [
      "100%|███████████████████████████████████████████████████████████████████| 2000/2000 [15:21<00:00,  2.17it/s]\n"
     ]
    },
    {
     "name": "stdout",
     "output_type": "stream",
     "text": [
      "Cell_emb: 2, sm_emb: 32, lr = 0.0005, hidden_channels = 8  >>>  Best epoch: 1933/2000, val_loss: 5.2653\n",
      "---------------------------------\n"
     ]
    },
    {
     "name": "stderr",
     "output_type": "stream",
     "text": [
      "100%|███████████████████████████████████████████████████████████████████| 2000/2000 [15:19<00:00,  2.18it/s]\n"
     ]
    },
    {
     "name": "stdout",
     "output_type": "stream",
     "text": [
      "Cell_emb: 2, sm_emb: 32, lr = 0.0005, hidden_channels = 8  >>>  Best epoch: 1711/2000, val_loss: 4.7735\n",
      "---------------------------------\n",
      "model_1028_exp1_19\n",
      "Model(\n",
      "  (cell_emb): Embedding(6, 2)\n",
      "  (cell_lin): Linear(in_features=158205, out_features=64, bias=True)\n",
      "  (sm_emb): Embedding(146, 32)\n",
      "  (sm_lin): Linear(in_features=768, out_features=8, bias=True)\n",
      "  (gnn): GraphModule(\n",
      "    (conv1): Module(\n",
      "      (cell__gene_exp__sm): SAGEConv(-1, 8, aggr=mean)\n",
      "      (sm__rev_gene_exp__cell): SAGEConv(-1, 8, aggr=mean)\n",
      "    )\n",
      "    (dropout1): Module(\n",
      "      (cell): Dropout(p=0.2, inplace=False)\n",
      "      (sm): Dropout(p=0.2, inplace=False)\n",
      "    )\n",
      "    (conv2): Module(\n",
      "      (cell__gene_exp__sm): SAGEConv(8, 8, aggr=mean)\n",
      "      (sm__rev_gene_exp__cell): SAGEConv(8, 8, aggr=mean)\n",
      "    )\n",
      "  )\n",
      "  (MLP): MLP(\n",
      "    (dropout1): Dropout(p=0.2, inplace=False)\n",
      "    (dropout2): Dropout(p=0.2, inplace=False)\n",
      "    (layer1): Linear(in_features=16, out_features=256, bias=True)\n",
      "    (layer2): Linear(in_features=256, out_features=1024, bias=True)\n",
      "    (layer3): Linear(in_features=1024, out_features=18211, bias=True)\n",
      "  )\n",
      ")\n"
     ]
    },
    {
     "name": "stderr",
     "output_type": "stream",
     "text": [
      "100%|█████████████████████████████████████████████████████████████████████| 255/255 [01:02<00:00,  4.10it/s]\n"
     ]
    },
    {
     "name": "stdout",
     "output_type": "stream",
     "text": [
      "File saved.\n",
      "(255, 18212)\n"
     ]
    },
    {
     "name": "stderr",
     "output_type": "stream",
     "text": [
      "100%|███████████████████████████████████████████████████████████████████| 2000/2000 [15:23<00:00,  2.17it/s]"
     ]
    },
    {
     "name": "stdout",
     "output_type": "stream",
     "text": [
      "Cell_emb: 2, sm_emb: 32, lr = 0.0005, hidden_channels = 8  >>>  Best epoch: 1972/2000, val_loss: 6.0093\n",
      "---------------------------------\n"
     ]
    },
    {
     "name": "stderr",
     "output_type": "stream",
     "text": [
      "\n"
     ]
    }
   ],
   "source": [
    "cur_model = None\n",
    "cur_valid_loss = float('inf')\n",
    "\n",
    "cur_sub_index = 0\n",
    "\n",
    "for _ in range(20):\n",
    "\n",
    "    cur_sub_index += 1\n",
    "\n",
    "    tmp_model, tmp_valid_loss = train(data,\n",
    "                                      train_edge_indeces,\n",
    "                                      valid_edge_indeces,\n",
    "                                      train_edge2feat,\n",
    "                                      valid_edge2feat,\n",
    "                                      train_mask,\n",
    "                                      valid_mask,\n",
    "                                      cell_emb_dim=2,\n",
    "                                      sm_emb_dim=32,\n",
    "                                      lr=5e-4,\n",
    "                                      hidden_channels=8,\n",
    "                                      p_dropout=0.2,\n",
    "                                      num_epochs=2000,\n",
    "                                      print_every=-1)\n",
    "    \n",
    "    if tmp_valid_loss >= 5.0:\n",
    "        continue\n",
    "    \n",
    "    \"\"\"\n",
    "    Save all models\n",
    "    \"\"\"\n",
    "    cur_valid_loss = tmp_valid_loss\n",
    "    cur_model = tmp_model\n",
    "    cur_model_name = 'model_1028_exp1_' + str(cur_sub_index)\n",
    "    print(cur_model_name)\n",
    "    print(cur_model)\n",
    "    final_submission(data=data, model_name=cur_model_name, model=cur_model)\n",
    "    torch.save(cur_model.state_dict(), os.path.join('../pyg_models/', cur_model_name+'.pth'))"
   ]
  },
  {
   "cell_type": "markdown",
   "id": "dca0d01b-5363-4d82-bace-2f6d81a2bdc4",
   "metadata": {},
   "source": [
    "### Experiment 2 -- model_1023_exp5_4"
   ]
  },
  {
   "cell_type": "code",
   "execution_count": 23,
   "id": "bb047409-775b-41a6-90d4-5ee236d64e02",
   "metadata": {
    "tags": []
   },
   "outputs": [],
   "source": [
    "from torch_geometric.nn import SAGEConv, to_hetero\n",
    "from torch.nn import Linear, Dropout, Embedding\n",
    "import torch.nn.functional as F\n",
    "\n",
    "class GNN(torch.nn.Module):\n",
    "    \"\"\"\n",
    "    Compute node embedding\n",
    "    \"\"\"\n",
    "    def __init__(self, hidden_channels, p_dropout=0.2):\n",
    "        super().__init__()       \n",
    "        self.conv1 = SAGEConv(-1, hidden_channels, normalize=True)\n",
    "        self.conv2 = SAGEConv(hidden_channels, hidden_channels, normalize=True)\n",
    "        self.dropout1 = Dropout(p=p_dropout)\n",
    "        \n",
    "    def forward(self, x, edge_index):\n",
    "        x = self.dropout1(F.elu(self.conv1(x, edge_index)))        \n",
    "        x = self.conv2(x, edge_index)\n",
    "        return x\n",
    "\n",
    "class MLP(torch.nn.Module):\n",
    "    \"\"\"\n",
    "    Model that predicts the gene expression given node features at the two ends\n",
    "    \n",
    "    1020: Change inner layer from (1024, 1024) units to (256, 256) units \n",
    "    \"\"\"\n",
    "    def __init__(self, hidden_channels, p_dropout=0.2):\n",
    "        super().__init__()\n",
    "\n",
    "        self.dropout1 = Dropout(p=p_dropout)\n",
    "        self.dropout2 = Dropout(p=p_dropout)\n",
    "        \n",
    "        self.layer1 = Linear(2*hidden_channels, 256)\n",
    "        self.layer2 = Linear(256, 1024)\n",
    "        self.layer3 = Linear(1024, 18211)\n",
    "    \n",
    "    def forward(self, x_cell, x_sm, edge_label_index):\n",
    "        \n",
    "        # Retrieve embeddings from the two nodes\n",
    "        feat_cell = x_cell[edge_label_index[0]]  # dim = hidden_channels\n",
    "        feat_sm = x_sm[edge_label_index[1]]  #  dim = hidden_channels\n",
    "\n",
    "        # calculate the gene expression\n",
    "        y = torch.cat((feat_cell, feat_sm), dim=1)  # dim = 2*hidden_channels\n",
    "        \n",
    "        y = F.relu(self.layer1(y))  # dim = 256\n",
    "        y = self.dropout1(y)\n",
    "        \n",
    "        y = F.relu(self.layer2(y))  # dim = 1024\n",
    "        y = self.dropout2(y)\n",
    "        \n",
    "        y = self.layer3(y)  # dim = 18211\n",
    "        \n",
    "        return y\n",
    "\n",
    "\n",
    "class Model(torch.nn.Module):\n",
    "    def __init__(self, data, cell_emb_dim, sm_emb_dim, hidden_channels, p_dropout):\n",
    "        super().__init__()\n",
    "\n",
    "        # cell emb for each cell type\n",
    "        self.cell_emb = Embedding(data[\"cell\"].num_nodes, cell_emb_dim)\n",
    "        \n",
    "        \"\"\"\n",
    "        1027 - change from hidden_channels to 64\n",
    "        \"\"\"\n",
    "        # cell emb leveraging control gene expression\n",
    "        self.cell_lin = Linear(158205, 64)\n",
    "\n",
    "        # sm emb for each sm type\n",
    "        if sm_emb_dim > 0:\n",
    "            self.sm_emb = Embedding(data[\"sm\"].num_nodes, sm_emb_dim)\n",
    "        else:\n",
    "            self.sm_emb = None\n",
    "        # sm emb leveraging SMILES embedding\n",
    "        self.sm_lin = Linear(768, hidden_channels)\n",
    "        \n",
    "        # Instantiate homogeneous GNN:\n",
    "        self.gnn = GNN(hidden_channels=hidden_channels, p_dropout=p_dropout)\n",
    "        # Convert GNN model into a heterogeneous variant:\n",
    "        self.gnn = to_hetero(self.gnn, metadata=data.metadata())\n",
    "        \n",
    "        self.MLP = MLP(hidden_channels=hidden_channels, p_dropout=p_dropout)\n",
    "        \n",
    "                \n",
    "    def forward(self, data):\n",
    "        # calculate node embedding\n",
    "        #x_cell = self.cell_emb(data[\"cell\"].node_id)\n",
    "        x_cell = torch.cat((self.cell_emb(data[\"cell\"].node_id), self.cell_lin(data[\"cell\"].x)), dim=1)\n",
    "        \n",
    "        \n",
    "        if self.sm_emb:\n",
    "            x_sm = torch.cat((self.sm_emb(data[\"sm\"].node_id), self.sm_lin(data[\"sm\"].x)), dim=1)\n",
    "        else:\n",
    "            x_sm = self.sm_lin(data[\"sm\"].x)\n",
    "            \n",
    "        \n",
    "        x_dict = {\n",
    "          \"cell\": x_cell,\n",
    "          \"sm\": x_sm,\n",
    "        } \n",
    "\n",
    "        # compute final node embedding\n",
    "        x_dict = self.gnn(x_dict, data.edge_index_dict)\n",
    "\n",
    "        # Use node embedding to predict gene expression\n",
    "        pred = self.MLP(\n",
    "            x_dict[\"cell\"],\n",
    "            x_dict[\"sm\"],\n",
    "            data[\"cell\", \"gene_exp\", \"sm\"].edge_label_index,\n",
    "        )\n",
    "        return pred"
   ]
  },
  {
   "cell_type": "code",
   "execution_count": 24,
   "id": "6b501df4-3ab4-48b1-8d47-5a388b2d66be",
   "metadata": {
    "tags": []
   },
   "outputs": [
    {
     "name": "stderr",
     "output_type": "stream",
     "text": [
      "100%|███████████████████████████████████████████████████████████████████| 2000/2000 [15:05<00:00,  2.21it/s]\n"
     ]
    },
    {
     "name": "stdout",
     "output_type": "stream",
     "text": [
      "Cell_emb: 2, sm_emb: 32, lr = 0.0005, hidden_channels = 16  >>>  Best epoch: 888/2000, val_loss: 5.3643\n",
      "---------------------------------\n"
     ]
    },
    {
     "name": "stderr",
     "output_type": "stream",
     "text": [
      "100%|███████████████████████████████████████████████████████████████████| 2000/2000 [15:04<00:00,  2.21it/s]\n"
     ]
    },
    {
     "name": "stdout",
     "output_type": "stream",
     "text": [
      "Cell_emb: 2, sm_emb: 32, lr = 0.0005, hidden_channels = 16  >>>  Best epoch: 939/2000, val_loss: 4.6904\n",
      "---------------------------------\n",
      "model_1028_exp2_2\n",
      "Model(\n",
      "  (cell_emb): Embedding(6, 2)\n",
      "  (cell_lin): Linear(in_features=158205, out_features=64, bias=True)\n",
      "  (sm_emb): Embedding(146, 32)\n",
      "  (sm_lin): Linear(in_features=768, out_features=16, bias=True)\n",
      "  (gnn): GraphModule(\n",
      "    (conv1): Module(\n",
      "      (cell__gene_exp__sm): SAGEConv(-1, 16, aggr=mean)\n",
      "      (sm__rev_gene_exp__cell): SAGEConv(-1, 16, aggr=mean)\n",
      "    )\n",
      "    (dropout1): Module(\n",
      "      (cell): Dropout(p=0.2, inplace=False)\n",
      "      (sm): Dropout(p=0.2, inplace=False)\n",
      "    )\n",
      "    (conv2): Module(\n",
      "      (cell__gene_exp__sm): SAGEConv(16, 16, aggr=mean)\n",
      "      (sm__rev_gene_exp__cell): SAGEConv(16, 16, aggr=mean)\n",
      "    )\n",
      "  )\n",
      "  (MLP): MLP(\n",
      "    (dropout1): Dropout(p=0.2, inplace=False)\n",
      "    (dropout2): Dropout(p=0.2, inplace=False)\n",
      "    (layer1): Linear(in_features=32, out_features=256, bias=True)\n",
      "    (layer2): Linear(in_features=256, out_features=1024, bias=True)\n",
      "    (layer3): Linear(in_features=1024, out_features=18211, bias=True)\n",
      "  )\n",
      ")\n"
     ]
    },
    {
     "name": "stderr",
     "output_type": "stream",
     "text": [
      "100%|█████████████████████████████████████████████████████████████████████| 255/255 [01:02<00:00,  4.06it/s]\n"
     ]
    },
    {
     "name": "stdout",
     "output_type": "stream",
     "text": [
      "File saved.\n",
      "(255, 18212)\n"
     ]
    },
    {
     "name": "stderr",
     "output_type": "stream",
     "text": [
      "100%|███████████████████████████████████████████████████████████████████| 2000/2000 [15:12<00:00,  2.19it/s]\n"
     ]
    },
    {
     "name": "stdout",
     "output_type": "stream",
     "text": [
      "Cell_emb: 2, sm_emb: 32, lr = 0.0005, hidden_channels = 16  >>>  Best epoch: 1955/2000, val_loss: 4.7159\n",
      "---------------------------------\n",
      "model_1028_exp2_3\n",
      "Model(\n",
      "  (cell_emb): Embedding(6, 2)\n",
      "  (cell_lin): Linear(in_features=158205, out_features=64, bias=True)\n",
      "  (sm_emb): Embedding(146, 32)\n",
      "  (sm_lin): Linear(in_features=768, out_features=16, bias=True)\n",
      "  (gnn): GraphModule(\n",
      "    (conv1): Module(\n",
      "      (cell__gene_exp__sm): SAGEConv(-1, 16, aggr=mean)\n",
      "      (sm__rev_gene_exp__cell): SAGEConv(-1, 16, aggr=mean)\n",
      "    )\n",
      "    (dropout1): Module(\n",
      "      (cell): Dropout(p=0.2, inplace=False)\n",
      "      (sm): Dropout(p=0.2, inplace=False)\n",
      "    )\n",
      "    (conv2): Module(\n",
      "      (cell__gene_exp__sm): SAGEConv(16, 16, aggr=mean)\n",
      "      (sm__rev_gene_exp__cell): SAGEConv(16, 16, aggr=mean)\n",
      "    )\n",
      "  )\n",
      "  (MLP): MLP(\n",
      "    (dropout1): Dropout(p=0.2, inplace=False)\n",
      "    (dropout2): Dropout(p=0.2, inplace=False)\n",
      "    (layer1): Linear(in_features=32, out_features=256, bias=True)\n",
      "    (layer2): Linear(in_features=256, out_features=1024, bias=True)\n",
      "    (layer3): Linear(in_features=1024, out_features=18211, bias=True)\n",
      "  )\n",
      ")\n"
     ]
    },
    {
     "name": "stderr",
     "output_type": "stream",
     "text": [
      "100%|█████████████████████████████████████████████████████████████████████| 255/255 [01:03<00:00,  4.01it/s]\n"
     ]
    },
    {
     "name": "stdout",
     "output_type": "stream",
     "text": [
      "File saved.\n",
      "(255, 18212)\n"
     ]
    },
    {
     "name": "stderr",
     "output_type": "stream",
     "text": [
      "100%|███████████████████████████████████████████████████████████████████| 2000/2000 [15:07<00:00,  2.21it/s]\n"
     ]
    },
    {
     "name": "stdout",
     "output_type": "stream",
     "text": [
      "Cell_emb: 2, sm_emb: 32, lr = 0.0005, hidden_channels = 16  >>>  Best epoch: 1161/2000, val_loss: 5.3731\n",
      "---------------------------------\n"
     ]
    },
    {
     "name": "stderr",
     "output_type": "stream",
     "text": [
      "100%|███████████████████████████████████████████████████████████████████| 2000/2000 [15:14<00:00,  2.19it/s]\n"
     ]
    },
    {
     "name": "stdout",
     "output_type": "stream",
     "text": [
      "Cell_emb: 2, sm_emb: 32, lr = 0.0005, hidden_channels = 16  >>>  Best epoch: 1113/2000, val_loss: 4.5782\n",
      "---------------------------------\n",
      "model_1028_exp2_5\n",
      "Model(\n",
      "  (cell_emb): Embedding(6, 2)\n",
      "  (cell_lin): Linear(in_features=158205, out_features=64, bias=True)\n",
      "  (sm_emb): Embedding(146, 32)\n",
      "  (sm_lin): Linear(in_features=768, out_features=16, bias=True)\n",
      "  (gnn): GraphModule(\n",
      "    (conv1): Module(\n",
      "      (cell__gene_exp__sm): SAGEConv(-1, 16, aggr=mean)\n",
      "      (sm__rev_gene_exp__cell): SAGEConv(-1, 16, aggr=mean)\n",
      "    )\n",
      "    (dropout1): Module(\n",
      "      (cell): Dropout(p=0.2, inplace=False)\n",
      "      (sm): Dropout(p=0.2, inplace=False)\n",
      "    )\n",
      "    (conv2): Module(\n",
      "      (cell__gene_exp__sm): SAGEConv(16, 16, aggr=mean)\n",
      "      (sm__rev_gene_exp__cell): SAGEConv(16, 16, aggr=mean)\n",
      "    )\n",
      "  )\n",
      "  (MLP): MLP(\n",
      "    (dropout1): Dropout(p=0.2, inplace=False)\n",
      "    (dropout2): Dropout(p=0.2, inplace=False)\n",
      "    (layer1): Linear(in_features=32, out_features=256, bias=True)\n",
      "    (layer2): Linear(in_features=256, out_features=1024, bias=True)\n",
      "    (layer3): Linear(in_features=1024, out_features=18211, bias=True)\n",
      "  )\n",
      ")\n"
     ]
    },
    {
     "name": "stderr",
     "output_type": "stream",
     "text": [
      "100%|█████████████████████████████████████████████████████████████████████| 255/255 [01:03<00:00,  4.03it/s]\n"
     ]
    },
    {
     "name": "stdout",
     "output_type": "stream",
     "text": [
      "File saved.\n",
      "(255, 18212)\n"
     ]
    },
    {
     "name": "stderr",
     "output_type": "stream",
     "text": [
      "100%|███████████████████████████████████████████████████████████████████| 2000/2000 [15:30<00:00,  2.15it/s]\n"
     ]
    },
    {
     "name": "stdout",
     "output_type": "stream",
     "text": [
      "Cell_emb: 2, sm_emb: 32, lr = 0.0005, hidden_channels = 16  >>>  Best epoch: 1276/2000, val_loss: 5.2302\n",
      "---------------------------------\n"
     ]
    },
    {
     "name": "stderr",
     "output_type": "stream",
     "text": [
      "100%|███████████████████████████████████████████████████████████████████| 2000/2000 [15:21<00:00,  2.17it/s]\n"
     ]
    },
    {
     "name": "stdout",
     "output_type": "stream",
     "text": [
      "Cell_emb: 2, sm_emb: 32, lr = 0.0005, hidden_channels = 16  >>>  Best epoch: 1739/2000, val_loss: 4.8652\n",
      "---------------------------------\n",
      "model_1028_exp2_7\n",
      "Model(\n",
      "  (cell_emb): Embedding(6, 2)\n",
      "  (cell_lin): Linear(in_features=158205, out_features=64, bias=True)\n",
      "  (sm_emb): Embedding(146, 32)\n",
      "  (sm_lin): Linear(in_features=768, out_features=16, bias=True)\n",
      "  (gnn): GraphModule(\n",
      "    (conv1): Module(\n",
      "      (cell__gene_exp__sm): SAGEConv(-1, 16, aggr=mean)\n",
      "      (sm__rev_gene_exp__cell): SAGEConv(-1, 16, aggr=mean)\n",
      "    )\n",
      "    (dropout1): Module(\n",
      "      (cell): Dropout(p=0.2, inplace=False)\n",
      "      (sm): Dropout(p=0.2, inplace=False)\n",
      "    )\n",
      "    (conv2): Module(\n",
      "      (cell__gene_exp__sm): SAGEConv(16, 16, aggr=mean)\n",
      "      (sm__rev_gene_exp__cell): SAGEConv(16, 16, aggr=mean)\n",
      "    )\n",
      "  )\n",
      "  (MLP): MLP(\n",
      "    (dropout1): Dropout(p=0.2, inplace=False)\n",
      "    (dropout2): Dropout(p=0.2, inplace=False)\n",
      "    (layer1): Linear(in_features=32, out_features=256, bias=True)\n",
      "    (layer2): Linear(in_features=256, out_features=1024, bias=True)\n",
      "    (layer3): Linear(in_features=1024, out_features=18211, bias=True)\n",
      "  )\n",
      ")\n"
     ]
    },
    {
     "name": "stderr",
     "output_type": "stream",
     "text": [
      "100%|█████████████████████████████████████████████████████████████████████| 255/255 [01:01<00:00,  4.11it/s]\n"
     ]
    },
    {
     "name": "stdout",
     "output_type": "stream",
     "text": [
      "File saved.\n",
      "(255, 18212)\n"
     ]
    },
    {
     "name": "stderr",
     "output_type": "stream",
     "text": [
      "100%|███████████████████████████████████████████████████████████████████| 2000/2000 [15:12<00:00,  2.19it/s]\n"
     ]
    },
    {
     "name": "stdout",
     "output_type": "stream",
     "text": [
      "Cell_emb: 2, sm_emb: 32, lr = 0.0005, hidden_channels = 16  >>>  Best epoch: 1078/2000, val_loss: 4.7972\n",
      "---------------------------------\n",
      "model_1028_exp2_8\n",
      "Model(\n",
      "  (cell_emb): Embedding(6, 2)\n",
      "  (cell_lin): Linear(in_features=158205, out_features=64, bias=True)\n",
      "  (sm_emb): Embedding(146, 32)\n",
      "  (sm_lin): Linear(in_features=768, out_features=16, bias=True)\n",
      "  (gnn): GraphModule(\n",
      "    (conv1): Module(\n",
      "      (cell__gene_exp__sm): SAGEConv(-1, 16, aggr=mean)\n",
      "      (sm__rev_gene_exp__cell): SAGEConv(-1, 16, aggr=mean)\n",
      "    )\n",
      "    (dropout1): Module(\n",
      "      (cell): Dropout(p=0.2, inplace=False)\n",
      "      (sm): Dropout(p=0.2, inplace=False)\n",
      "    )\n",
      "    (conv2): Module(\n",
      "      (cell__gene_exp__sm): SAGEConv(16, 16, aggr=mean)\n",
      "      (sm__rev_gene_exp__cell): SAGEConv(16, 16, aggr=mean)\n",
      "    )\n",
      "  )\n",
      "  (MLP): MLP(\n",
      "    (dropout1): Dropout(p=0.2, inplace=False)\n",
      "    (dropout2): Dropout(p=0.2, inplace=False)\n",
      "    (layer1): Linear(in_features=32, out_features=256, bias=True)\n",
      "    (layer2): Linear(in_features=256, out_features=1024, bias=True)\n",
      "    (layer3): Linear(in_features=1024, out_features=18211, bias=True)\n",
      "  )\n",
      ")\n"
     ]
    },
    {
     "name": "stderr",
     "output_type": "stream",
     "text": [
      "100%|█████████████████████████████████████████████████████████████████████| 255/255 [01:03<00:00,  4.00it/s]\n"
     ]
    },
    {
     "name": "stdout",
     "output_type": "stream",
     "text": [
      "File saved.\n",
      "(255, 18212)\n"
     ]
    },
    {
     "name": "stderr",
     "output_type": "stream",
     "text": [
      "100%|███████████████████████████████████████████████████████████████████| 2000/2000 [15:01<00:00,  2.22it/s]\n"
     ]
    },
    {
     "name": "stdout",
     "output_type": "stream",
     "text": [
      "Cell_emb: 2, sm_emb: 32, lr = 0.0005, hidden_channels = 16  >>>  Best epoch: 1841/2000, val_loss: 4.4979\n",
      "---------------------------------\n",
      "model_1028_exp2_9\n",
      "Model(\n",
      "  (cell_emb): Embedding(6, 2)\n",
      "  (cell_lin): Linear(in_features=158205, out_features=64, bias=True)\n",
      "  (sm_emb): Embedding(146, 32)\n",
      "  (sm_lin): Linear(in_features=768, out_features=16, bias=True)\n",
      "  (gnn): GraphModule(\n",
      "    (conv1): Module(\n",
      "      (cell__gene_exp__sm): SAGEConv(-1, 16, aggr=mean)\n",
      "      (sm__rev_gene_exp__cell): SAGEConv(-1, 16, aggr=mean)\n",
      "    )\n",
      "    (dropout1): Module(\n",
      "      (cell): Dropout(p=0.2, inplace=False)\n",
      "      (sm): Dropout(p=0.2, inplace=False)\n",
      "    )\n",
      "    (conv2): Module(\n",
      "      (cell__gene_exp__sm): SAGEConv(16, 16, aggr=mean)\n",
      "      (sm__rev_gene_exp__cell): SAGEConv(16, 16, aggr=mean)\n",
      "    )\n",
      "  )\n",
      "  (MLP): MLP(\n",
      "    (dropout1): Dropout(p=0.2, inplace=False)\n",
      "    (dropout2): Dropout(p=0.2, inplace=False)\n",
      "    (layer1): Linear(in_features=32, out_features=256, bias=True)\n",
      "    (layer2): Linear(in_features=256, out_features=1024, bias=True)\n",
      "    (layer3): Linear(in_features=1024, out_features=18211, bias=True)\n",
      "  )\n",
      ")\n"
     ]
    },
    {
     "name": "stderr",
     "output_type": "stream",
     "text": [
      "100%|█████████████████████████████████████████████████████████████████████| 255/255 [01:03<00:00,  4.03it/s]\n"
     ]
    },
    {
     "name": "stdout",
     "output_type": "stream",
     "text": [
      "File saved.\n",
      "(255, 18212)\n"
     ]
    },
    {
     "name": "stderr",
     "output_type": "stream",
     "text": [
      "100%|███████████████████████████████████████████████████████████████████| 2000/2000 [14:56<00:00,  2.23it/s]\n"
     ]
    },
    {
     "name": "stdout",
     "output_type": "stream",
     "text": [
      "Cell_emb: 2, sm_emb: 32, lr = 0.0005, hidden_channels = 16  >>>  Best epoch: 1991/2000, val_loss: 4.6483\n",
      "---------------------------------\n",
      "model_1028_exp2_10\n",
      "Model(\n",
      "  (cell_emb): Embedding(6, 2)\n",
      "  (cell_lin): Linear(in_features=158205, out_features=64, bias=True)\n",
      "  (sm_emb): Embedding(146, 32)\n",
      "  (sm_lin): Linear(in_features=768, out_features=16, bias=True)\n",
      "  (gnn): GraphModule(\n",
      "    (conv1): Module(\n",
      "      (cell__gene_exp__sm): SAGEConv(-1, 16, aggr=mean)\n",
      "      (sm__rev_gene_exp__cell): SAGEConv(-1, 16, aggr=mean)\n",
      "    )\n",
      "    (dropout1): Module(\n",
      "      (cell): Dropout(p=0.2, inplace=False)\n",
      "      (sm): Dropout(p=0.2, inplace=False)\n",
      "    )\n",
      "    (conv2): Module(\n",
      "      (cell__gene_exp__sm): SAGEConv(16, 16, aggr=mean)\n",
      "      (sm__rev_gene_exp__cell): SAGEConv(16, 16, aggr=mean)\n",
      "    )\n",
      "  )\n",
      "  (MLP): MLP(\n",
      "    (dropout1): Dropout(p=0.2, inplace=False)\n",
      "    (dropout2): Dropout(p=0.2, inplace=False)\n",
      "    (layer1): Linear(in_features=32, out_features=256, bias=True)\n",
      "    (layer2): Linear(in_features=256, out_features=1024, bias=True)\n",
      "    (layer3): Linear(in_features=1024, out_features=18211, bias=True)\n",
      "  )\n",
      ")\n"
     ]
    },
    {
     "name": "stderr",
     "output_type": "stream",
     "text": [
      "100%|█████████████████████████████████████████████████████████████████████| 255/255 [01:03<00:00,  4.04it/s]\n"
     ]
    },
    {
     "name": "stdout",
     "output_type": "stream",
     "text": [
      "File saved.\n",
      "(255, 18212)\n"
     ]
    }
   ],
   "source": [
    "cur_model = None\n",
    "cur_valid_loss = float('inf')\n",
    "\n",
    "cur_sub_index = 0\n",
    "\n",
    "for _ in range(10):\n",
    "\n",
    "    cur_sub_index += 1\n",
    "\n",
    "    tmp_model, tmp_valid_loss = train(data,\n",
    "                                      train_edge_indeces,\n",
    "                                      valid_edge_indeces,\n",
    "                                      train_edge2feat,\n",
    "                                      valid_edge2feat,\n",
    "                                      train_mask,\n",
    "                                      valid_mask,\n",
    "                                      cell_emb_dim=2,\n",
    "                                      sm_emb_dim=32,\n",
    "                                      lr=5e-4,\n",
    "                                      hidden_channels=16,\n",
    "                                      p_dropout=0.2,\n",
    "                                      num_epochs=2000,\n",
    "                                      print_every=-1)\n",
    "\n",
    "    if tmp_valid_loss >= 5.0:\n",
    "        continue\n",
    "    \n",
    "    \"\"\"\n",
    "    Save all models\n",
    "    \"\"\"\n",
    "    cur_valid_loss = tmp_valid_loss\n",
    "    cur_model = tmp_model\n",
    "    cur_model_name = 'model_1028_exp2_' + str(cur_sub_index)\n",
    "    print(cur_model_name)\n",
    "    print(cur_model)\n",
    "    final_submission(data=data, model_name=cur_model_name, model=cur_model)\n",
    "    torch.save(cur_model.state_dict(), os.path.join('../pyg_models/', cur_model_name+'.pth'))"
   ]
  },
  {
   "cell_type": "markdown",
   "id": "5045385a-ec11-41f3-86bf-8fba111571d3",
   "metadata": {},
   "source": [
    "### Experiment 3 -- model_1020_exp3"
   ]
  },
  {
   "cell_type": "code",
   "execution_count": 25,
   "id": "5cc0d2e2-8c8b-48b5-995b-94683e98223c",
   "metadata": {
    "tags": []
   },
   "outputs": [],
   "source": [
    "from torch_geometric.nn import SAGEConv, to_hetero\n",
    "from torch.nn import Linear, Dropout, Embedding\n",
    "import torch.nn.functional as F\n",
    "\n",
    "class GNN(torch.nn.Module):\n",
    "    \"\"\"\n",
    "    Compute node embedding\n",
    "    \"\"\"\n",
    "    def __init__(self, hidden_channels, p_dropout=0.2):\n",
    "        super().__init__()       \n",
    "        self.conv1 = SAGEConv(-1, hidden_channels, normalize=True)\n",
    "        self.conv2 = SAGEConv(hidden_channels, hidden_channels, normalize=True)\n",
    "        self.conv3 = SAGEConv(hidden_channels, hidden_channels, normalize=True)\n",
    "        self.dropout1 = Dropout(p=p_dropout)\n",
    "        self.dropout2 = Dropout(p=p_dropout)\n",
    "        \n",
    "    def forward(self, x, edge_index):\n",
    "        x = self.dropout1(F.elu(self.conv1(x, edge_index)))        \n",
    "        x = self.dropout2(F.elu(self.conv2(x, edge_index)))\n",
    "        x = self.conv3(x, edge_index)\n",
    "        return x\n",
    "\n",
    "class MLP(torch.nn.Module):\n",
    "    \"\"\"\n",
    "    Model that predicts the gene expression given node features at the two ends\n",
    "    \n",
    "    1020: Change inner layer from (1024, 1024) units to (256, 256) units \n",
    "    \"\"\"\n",
    "    def __init__(self, hidden_channels, p_dropout=0.2):\n",
    "        super().__init__()\n",
    "\n",
    "        self.dropout1 = Dropout(p=p_dropout)\n",
    "        self.dropout2 = Dropout(p=p_dropout)\n",
    "        \n",
    "        self.layer1 = Linear(2*hidden_channels, 256)\n",
    "        self.layer2 = Linear(256, 256)\n",
    "        self.layer3 = Linear(256, 18211)\n",
    "    \n",
    "    def forward(self, x_cell, x_sm, edge_label_index):\n",
    "        \n",
    "        # Retrieve embeddings from the two nodes\n",
    "        feat_cell = x_cell[edge_label_index[0]]  # dim = hidden_channels\n",
    "        feat_sm = x_sm[edge_label_index[1]]  #  dim = hidden_channels\n",
    "\n",
    "        # calculate the gene expression\n",
    "        y = torch.cat((feat_cell, feat_sm), dim=1)  # dim = 2*hidden_channels\n",
    "        \n",
    "        y = F.relu(self.layer1(y))  # dim = 256\n",
    "        y = self.dropout1(y)\n",
    "        \n",
    "        y = F.relu(self.layer2(y))  # dim = 256\n",
    "        y = self.dropout2(y)\n",
    "        \n",
    "        y = self.layer3(y)  # dim = 18211\n",
    "        \n",
    "        return y\n",
    "\n",
    "\n",
    "class Model(torch.nn.Module):\n",
    "    def __init__(self, data, cell_emb_dim, sm_emb_dim, hidden_channels, p_dropout):\n",
    "        super().__init__()\n",
    "\n",
    "        # cell emb for each cell type\n",
    "        self.cell_emb = Embedding(data[\"cell\"].num_nodes, cell_emb_dim)\n",
    "\n",
    "        \n",
    "        \"\"\"\n",
    "        1027 - change from hidden_channels to 64\n",
    "        \"\"\"\n",
    "        # cell emb leveraging control gene expression\n",
    "        self.cell_lin = Linear(158205, 64)\n",
    "        \n",
    "\n",
    "        # sm emb for each sm type\n",
    "        if sm_emb_dim > 0:\n",
    "            self.sm_emb = Embedding(data[\"sm\"].num_nodes, sm_emb_dim)\n",
    "        else:\n",
    "            self.sm_emb = None\n",
    "        # sm emb leveraging SMILES embedding\n",
    "        self.sm_lin = Linear(768, hidden_channels)\n",
    "        \n",
    "        # Instantiate homogeneous GNN:\n",
    "        self.gnn = GNN(hidden_channels=hidden_channels, p_dropout=p_dropout)\n",
    "        # Convert GNN model into a heterogeneous variant:\n",
    "        self.gnn = to_hetero(self.gnn, metadata=data.metadata())\n",
    "        \n",
    "        self.MLP = MLP(hidden_channels=hidden_channels, p_dropout=p_dropout)\n",
    "        \n",
    "                \n",
    "    def forward(self, data):\n",
    "        # calculate node embedding\n",
    "        #x_cell = self.cell_emb(data[\"cell\"].node_id)\n",
    "        x_cell = torch.cat((self.cell_emb(data[\"cell\"].node_id), self.cell_lin(data[\"cell\"].x)), dim=1)\n",
    "\n",
    "        if self.sm_emb:\n",
    "            x_sm = torch.cat((self.sm_emb(data[\"sm\"].node_id), self.sm_lin(data[\"sm\"].x)), dim=1)\n",
    "        else:\n",
    "            x_sm = self.sm_lin(data[\"sm\"].x)\n",
    "            \n",
    "        \n",
    "        x_dict = {\n",
    "          \"cell\": x_cell,\n",
    "          \"sm\": x_sm,\n",
    "        } \n",
    "\n",
    "        # compute final node embedding\n",
    "        x_dict = self.gnn(x_dict, data.edge_index_dict)\n",
    "\n",
    "        # Use node embedding to predict gene expression\n",
    "        pred = self.MLP(\n",
    "            x_dict[\"cell\"],\n",
    "            x_dict[\"sm\"],\n",
    "            data[\"cell\", \"gene_exp\", \"sm\"].edge_label_index,\n",
    "        )\n",
    "        return pred"
   ]
  },
  {
   "cell_type": "code",
   "execution_count": 26,
   "id": "99096a79-08b1-4493-bfe2-f1784261ee89",
   "metadata": {
    "tags": []
   },
   "outputs": [
    {
     "name": "stderr",
     "output_type": "stream",
     "text": [
      "100%|███████████████████████████████████████████████████████████████████| 2000/2000 [15:05<00:00,  2.21it/s]\n"
     ]
    },
    {
     "name": "stdout",
     "output_type": "stream",
     "text": [
      "Cell_emb: 2, sm_emb: 32, lr = 0.0005, hidden_channels = 8  >>>  Best epoch: 629/2000, val_loss: 5.9420\n",
      "---------------------------------\n"
     ]
    },
    {
     "name": "stderr",
     "output_type": "stream",
     "text": [
      "100%|███████████████████████████████████████████████████████████████████| 2000/2000 [14:15<00:00,  2.34it/s]\n"
     ]
    },
    {
     "name": "stdout",
     "output_type": "stream",
     "text": [
      "Cell_emb: 2, sm_emb: 32, lr = 0.0005, hidden_channels = 8  >>>  Best epoch: 944/2000, val_loss: 6.2729\n",
      "---------------------------------\n"
     ]
    },
    {
     "name": "stderr",
     "output_type": "stream",
     "text": [
      "100%|███████████████████████████████████████████████████████████████████| 2000/2000 [13:50<00:00,  2.41it/s]\n"
     ]
    },
    {
     "name": "stdout",
     "output_type": "stream",
     "text": [
      "Cell_emb: 2, sm_emb: 32, lr = 0.0005, hidden_channels = 8  >>>  Best epoch: 498/2000, val_loss: 6.4474\n",
      "---------------------------------\n"
     ]
    },
    {
     "name": "stderr",
     "output_type": "stream",
     "text": [
      "100%|███████████████████████████████████████████████████████████████████| 2000/2000 [14:22<00:00,  2.32it/s]\n"
     ]
    },
    {
     "name": "stdout",
     "output_type": "stream",
     "text": [
      "Cell_emb: 2, sm_emb: 32, lr = 0.0005, hidden_channels = 8  >>>  Best epoch: 763/2000, val_loss: 5.9063\n",
      "---------------------------------\n"
     ]
    },
    {
     "name": "stderr",
     "output_type": "stream",
     "text": [
      "100%|███████████████████████████████████████████████████████████████████| 2000/2000 [14:30<00:00,  2.30it/s]\n"
     ]
    },
    {
     "name": "stdout",
     "output_type": "stream",
     "text": [
      "Cell_emb: 2, sm_emb: 32, lr = 0.0005, hidden_channels = 8  >>>  Best epoch: 1636/2000, val_loss: 6.4632\n",
      "---------------------------------\n"
     ]
    },
    {
     "name": "stderr",
     "output_type": "stream",
     "text": [
      "100%|███████████████████████████████████████████████████████████████████| 2000/2000 [14:28<00:00,  2.30it/s]\n"
     ]
    },
    {
     "name": "stdout",
     "output_type": "stream",
     "text": [
      "Cell_emb: 2, sm_emb: 32, lr = 0.0005, hidden_channels = 8  >>>  Best epoch: 869/2000, val_loss: 6.3737\n",
      "---------------------------------\n"
     ]
    },
    {
     "name": "stderr",
     "output_type": "stream",
     "text": [
      "100%|███████████████████████████████████████████████████████████████████| 2000/2000 [14:25<00:00,  2.31it/s]\n"
     ]
    },
    {
     "name": "stdout",
     "output_type": "stream",
     "text": [
      "Cell_emb: 2, sm_emb: 32, lr = 0.0005, hidden_channels = 8  >>>  Best epoch: 604/2000, val_loss: 6.3499\n",
      "---------------------------------\n"
     ]
    },
    {
     "name": "stderr",
     "output_type": "stream",
     "text": [
      "100%|███████████████████████████████████████████████████████████████████| 2000/2000 [14:26<00:00,  2.31it/s]\n"
     ]
    },
    {
     "name": "stdout",
     "output_type": "stream",
     "text": [
      "Cell_emb: 2, sm_emb: 32, lr = 0.0005, hidden_channels = 8  >>>  Best epoch: 668/2000, val_loss: 6.0288\n",
      "---------------------------------\n"
     ]
    },
    {
     "name": "stderr",
     "output_type": "stream",
     "text": [
      "100%|███████████████████████████████████████████████████████████████████| 2000/2000 [14:44<00:00,  2.26it/s]\n"
     ]
    },
    {
     "name": "stdout",
     "output_type": "stream",
     "text": [
      "Cell_emb: 2, sm_emb: 32, lr = 0.0005, hidden_channels = 8  >>>  Best epoch: 588/2000, val_loss: 6.1188\n",
      "---------------------------------\n"
     ]
    },
    {
     "name": "stderr",
     "output_type": "stream",
     "text": [
      "100%|███████████████████████████████████████████████████████████████████| 2000/2000 [14:43<00:00,  2.26it/s]\n"
     ]
    },
    {
     "name": "stdout",
     "output_type": "stream",
     "text": [
      "Cell_emb: 2, sm_emb: 32, lr = 0.0005, hidden_channels = 8  >>>  Best epoch: 721/2000, val_loss: 6.0472\n",
      "---------------------------------\n"
     ]
    },
    {
     "name": "stderr",
     "output_type": "stream",
     "text": [
      "100%|███████████████████████████████████████████████████████████████████| 2000/2000 [14:49<00:00,  2.25it/s]\n"
     ]
    },
    {
     "name": "stdout",
     "output_type": "stream",
     "text": [
      "Cell_emb: 2, sm_emb: 32, lr = 0.0005, hidden_channels = 8  >>>  Best epoch: 744/2000, val_loss: 6.6446\n",
      "---------------------------------\n"
     ]
    },
    {
     "name": "stderr",
     "output_type": "stream",
     "text": [
      "100%|███████████████████████████████████████████████████████████████████| 2000/2000 [14:48<00:00,  2.25it/s]\n"
     ]
    },
    {
     "name": "stdout",
     "output_type": "stream",
     "text": [
      "Cell_emb: 2, sm_emb: 32, lr = 0.0005, hidden_channels = 8  >>>  Best epoch: 912/2000, val_loss: 6.5027\n",
      "---------------------------------\n"
     ]
    },
    {
     "name": "stderr",
     "output_type": "stream",
     "text": [
      "100%|███████████████████████████████████████████████████████████████████| 2000/2000 [14:50<00:00,  2.24it/s]\n"
     ]
    },
    {
     "name": "stdout",
     "output_type": "stream",
     "text": [
      "Cell_emb: 2, sm_emb: 32, lr = 0.0005, hidden_channels = 8  >>>  Best epoch: 855/2000, val_loss: 6.4116\n",
      "---------------------------------\n"
     ]
    },
    {
     "name": "stderr",
     "output_type": "stream",
     "text": [
      "100%|███████████████████████████████████████████████████████████████████| 2000/2000 [14:45<00:00,  2.26it/s]\n"
     ]
    },
    {
     "name": "stdout",
     "output_type": "stream",
     "text": [
      "Cell_emb: 2, sm_emb: 32, lr = 0.0005, hidden_channels = 8  >>>  Best epoch: 1831/2000, val_loss: 6.5011\n",
      "---------------------------------\n"
     ]
    },
    {
     "name": "stderr",
     "output_type": "stream",
     "text": [
      "100%|███████████████████████████████████████████████████████████████████| 2000/2000 [14:48<00:00,  2.25it/s]\n"
     ]
    },
    {
     "name": "stdout",
     "output_type": "stream",
     "text": [
      "Cell_emb: 2, sm_emb: 32, lr = 0.0005, hidden_channels = 8  >>>  Best epoch: 1348/2000, val_loss: 5.8858\n",
      "---------------------------------\n"
     ]
    },
    {
     "name": "stderr",
     "output_type": "stream",
     "text": [
      "100%|███████████████████████████████████████████████████████████████████| 2000/2000 [14:47<00:00,  2.25it/s]\n"
     ]
    },
    {
     "name": "stdout",
     "output_type": "stream",
     "text": [
      "Cell_emb: 2, sm_emb: 32, lr = 0.0005, hidden_channels = 8  >>>  Best epoch: 849/2000, val_loss: 6.1120\n",
      "---------------------------------\n"
     ]
    },
    {
     "name": "stderr",
     "output_type": "stream",
     "text": [
      "100%|███████████████████████████████████████████████████████████████████| 2000/2000 [14:50<00:00,  2.25it/s]\n"
     ]
    },
    {
     "name": "stdout",
     "output_type": "stream",
     "text": [
      "Cell_emb: 2, sm_emb: 32, lr = 0.0005, hidden_channels = 8  >>>  Best epoch: 801/2000, val_loss: 6.3791\n",
      "---------------------------------\n"
     ]
    },
    {
     "name": "stderr",
     "output_type": "stream",
     "text": [
      "100%|███████████████████████████████████████████████████████████████████| 2000/2000 [14:48<00:00,  2.25it/s]\n"
     ]
    },
    {
     "name": "stdout",
     "output_type": "stream",
     "text": [
      "Cell_emb: 2, sm_emb: 32, lr = 0.0005, hidden_channels = 8  >>>  Best epoch: 780/2000, val_loss: 6.3831\n",
      "---------------------------------\n"
     ]
    },
    {
     "name": "stderr",
     "output_type": "stream",
     "text": [
      "100%|███████████████████████████████████████████████████████████████████| 2000/2000 [14:52<00:00,  2.24it/s]\n"
     ]
    },
    {
     "name": "stdout",
     "output_type": "stream",
     "text": [
      "Cell_emb: 2, sm_emb: 32, lr = 0.0005, hidden_channels = 8  >>>  Best epoch: 677/2000, val_loss: 6.1685\n",
      "---------------------------------\n"
     ]
    },
    {
     "name": "stderr",
     "output_type": "stream",
     "text": [
      "100%|███████████████████████████████████████████████████████████████████| 2000/2000 [14:46<00:00,  2.26it/s]"
     ]
    },
    {
     "name": "stdout",
     "output_type": "stream",
     "text": [
      "Cell_emb: 2, sm_emb: 32, lr = 0.0005, hidden_channels = 8  >>>  Best epoch: 674/2000, val_loss: 6.4222\n",
      "---------------------------------\n"
     ]
    },
    {
     "name": "stderr",
     "output_type": "stream",
     "text": [
      "\n"
     ]
    }
   ],
   "source": [
    "cur_model = None\n",
    "cur_valid_loss = float('inf')\n",
    "\n",
    "cur_sub_index = 0\n",
    "\n",
    "for _ in range(20):\n",
    "\n",
    "    cur_sub_index += 1\n",
    "\n",
    "    tmp_model, tmp_valid_loss = train(data,\n",
    "                                      train_edge_indeces,\n",
    "                                      valid_edge_indeces,\n",
    "                                      train_edge2feat,\n",
    "                                      valid_edge2feat,\n",
    "                                      train_mask,\n",
    "                                      valid_mask,\n",
    "                                      cell_emb_dim=2,\n",
    "                                      sm_emb_dim=32,\n",
    "                                      lr=5e-4,\n",
    "                                      hidden_channels=8,\n",
    "                                      p_dropout=0.2,\n",
    "                                      num_epochs=2000,\n",
    "                                      print_every=-1)\n",
    "    \n",
    "    if tmp_valid_loss >= 5.0:\n",
    "        continue\n",
    "    \n",
    "    \"\"\"\n",
    "    Save all models\n",
    "    \"\"\"\n",
    "    cur_valid_loss = tmp_valid_loss\n",
    "    cur_model = tmp_model\n",
    "    cur_model_name = 'model_1028_exp3_' + str(cur_sub_index)\n",
    "    print(cur_model_name)\n",
    "    print(cur_model)\n",
    "    final_submission(data=data, model_name=cur_model_name, model=cur_model)\n",
    "    torch.save(cur_model.state_dict(), os.path.join('../pyg_models/', cur_model_name+'.pth'))"
   ]
  },
  {
   "cell_type": "code",
   "execution_count": null,
   "id": "46ff124c-280e-4d9e-9a68-55305c21935a",
   "metadata": {},
   "outputs": [],
   "source": []
  },
  {
   "cell_type": "markdown",
   "id": "c6dea622-cf7f-45d7-99fb-b60a587a2739",
   "metadata": {},
   "source": [
    "### Experiment 4 -- model_1022_exp3_29\n",
    "\n",
    "Change dropout to 0.1 from experiment 1"
   ]
  },
  {
   "cell_type": "code",
   "execution_count": 27,
   "id": "e4269fc1-9689-42e7-be5a-90b6898d153f",
   "metadata": {
    "tags": []
   },
   "outputs": [],
   "source": [
    "from torch_geometric.nn import SAGEConv, to_hetero\n",
    "from torch.nn import Linear, Dropout, Embedding\n",
    "import torch.nn.functional as F\n",
    "\n",
    "class GNN(torch.nn.Module):\n",
    "    \"\"\"\n",
    "    Compute node embedding\n",
    "    \"\"\"\n",
    "    def __init__(self, hidden_channels, p_dropout=0.2):\n",
    "        super().__init__()       \n",
    "        self.conv1 = SAGEConv(-1, hidden_channels, normalize=True)\n",
    "        self.conv2 = SAGEConv(hidden_channels, hidden_channels, normalize=True)\n",
    "        self.dropout1 = Dropout(p=p_dropout)\n",
    "        \n",
    "    def forward(self, x, edge_index):\n",
    "        x = self.dropout1(F.elu(self.conv1(x, edge_index)))        \n",
    "        x = self.conv2(x, edge_index)\n",
    "        return x\n",
    "\n",
    "class MLP(torch.nn.Module):\n",
    "    \"\"\"\n",
    "    Model that predicts the gene expression given node features at the two ends\n",
    "    \n",
    "    1020: Change inner layer from (1024, 1024) units to (256, 256) units \n",
    "    \"\"\"\n",
    "    def __init__(self, hidden_channels, p_dropout=0.2):\n",
    "        super().__init__()\n",
    "\n",
    "        self.dropout1 = Dropout(p=p_dropout)\n",
    "        self.dropout2 = Dropout(p=p_dropout)\n",
    "        \n",
    "        self.layer1 = Linear(2*hidden_channels, 256)\n",
    "        self.layer2 = Linear(256, 1024)\n",
    "        self.layer3 = Linear(1024, 18211)\n",
    "    \n",
    "    def forward(self, x_cell, x_sm, edge_label_index):\n",
    "        \n",
    "        # Retrieve embeddings from the two nodes\n",
    "        feat_cell = x_cell[edge_label_index[0]]  # dim = hidden_channels\n",
    "        feat_sm = x_sm[edge_label_index[1]]  #  dim = hidden_channels\n",
    "\n",
    "        # calculate the gene expression\n",
    "        y = torch.cat((feat_cell, feat_sm), dim=1)  # dim = 2*hidden_channels\n",
    "        \n",
    "        y = F.relu(self.layer1(y))  # dim = 256\n",
    "        y = self.dropout1(y)\n",
    "        \n",
    "        y = F.relu(self.layer2(y))  # dim = 1024\n",
    "        y = self.dropout2(y)\n",
    "        \n",
    "        y = self.layer3(y)  # dim = 18211\n",
    "        \n",
    "        return y\n",
    "\n",
    "\n",
    "class Model(torch.nn.Module):\n",
    "    def __init__(self, data, cell_emb_dim, sm_emb_dim, hidden_channels, p_dropout):\n",
    "        super().__init__()\n",
    "\n",
    "        # cell emb for each cell type\n",
    "        self.cell_emb = Embedding(data[\"cell\"].num_nodes, cell_emb_dim)\n",
    "        \n",
    "        \"\"\"\n",
    "        1027 - change from hidden_channels to 64\n",
    "        \"\"\"\n",
    "        # cell emb leveraging control gene expression\n",
    "        self.cell_lin = Linear(158205, 64)\n",
    "\n",
    "        # sm emb for each sm type\n",
    "        if sm_emb_dim > 0:\n",
    "            self.sm_emb = Embedding(data[\"sm\"].num_nodes, sm_emb_dim)\n",
    "        else:\n",
    "            self.sm_emb = None\n",
    "        # sm emb leveraging SMILES embedding\n",
    "        self.sm_lin = Linear(768, hidden_channels)\n",
    "        \n",
    "        # Instantiate homogeneous GNN:\n",
    "        self.gnn = GNN(hidden_channels=hidden_channels, p_dropout=p_dropout)\n",
    "        # Convert GNN model into a heterogeneous variant:\n",
    "        self.gnn = to_hetero(self.gnn, metadata=data.metadata())\n",
    "        \n",
    "        self.MLP = MLP(hidden_channels=hidden_channels, p_dropout=p_dropout)\n",
    "        \n",
    "                \n",
    "    def forward(self, data):\n",
    "        # calculate node embedding\n",
    "        #x_cell = self.cell_emb(data[\"cell\"].node_id)\n",
    "        x_cell = torch.cat((self.cell_emb(data[\"cell\"].node_id), self.cell_lin(data[\"cell\"].x)), dim=1)\n",
    "\n",
    "        if self.sm_emb:\n",
    "            x_sm = torch.cat((self.sm_emb(data[\"sm\"].node_id), self.sm_lin(data[\"sm\"].x)), dim=1)\n",
    "        else:\n",
    "            x_sm = self.sm_lin(data[\"sm\"].x)\n",
    "            \n",
    "        \n",
    "        x_dict = {\n",
    "          \"cell\": x_cell,\n",
    "          \"sm\": x_sm,\n",
    "        } \n",
    "\n",
    "        # compute final node embedding\n",
    "        x_dict = self.gnn(x_dict, data.edge_index_dict)\n",
    "\n",
    "        # Use node embedding to predict gene expression\n",
    "        pred = self.MLP(\n",
    "            x_dict[\"cell\"],\n",
    "            x_dict[\"sm\"],\n",
    "            data[\"cell\", \"gene_exp\", \"sm\"].edge_label_index,\n",
    "        )\n",
    "        return pred"
   ]
  },
  {
   "cell_type": "code",
   "execution_count": 28,
   "id": "a00b0942-fe30-4ab8-b634-4e43743bbf7c",
   "metadata": {
    "tags": []
   },
   "outputs": [
    {
     "name": "stderr",
     "output_type": "stream",
     "text": [
      "100%|███████████████████████████████████████████████████████████████████| 2000/2000 [14:16<00:00,  2.33it/s]\n"
     ]
    },
    {
     "name": "stdout",
     "output_type": "stream",
     "text": [
      "Cell_emb: 2, sm_emb: 32, lr = 0.0005, hidden_channels = 8  >>>  Best epoch: 1193/2000, val_loss: 5.2763\n",
      "---------------------------------\n"
     ]
    },
    {
     "name": "stderr",
     "output_type": "stream",
     "text": [
      "100%|███████████████████████████████████████████████████████████████████| 2000/2000 [14:13<00:00,  2.34it/s]\n"
     ]
    },
    {
     "name": "stdout",
     "output_type": "stream",
     "text": [
      "Cell_emb: 2, sm_emb: 32, lr = 0.0005, hidden_channels = 8  >>>  Best epoch: 1968/2000, val_loss: 5.2195\n",
      "---------------------------------\n"
     ]
    },
    {
     "name": "stderr",
     "output_type": "stream",
     "text": [
      "100%|███████████████████████████████████████████████████████████████████| 2000/2000 [14:17<00:00,  2.33it/s]\n"
     ]
    },
    {
     "name": "stdout",
     "output_type": "stream",
     "text": [
      "Cell_emb: 2, sm_emb: 32, lr = 0.0005, hidden_channels = 8  >>>  Best epoch: 1486/2000, val_loss: 5.0494\n",
      "---------------------------------\n"
     ]
    },
    {
     "name": "stderr",
     "output_type": "stream",
     "text": [
      "100%|███████████████████████████████████████████████████████████████████| 2000/2000 [14:15<00:00,  2.34it/s]\n"
     ]
    },
    {
     "name": "stdout",
     "output_type": "stream",
     "text": [
      "Cell_emb: 2, sm_emb: 32, lr = 0.0005, hidden_channels = 8  >>>  Best epoch: 1515/2000, val_loss: 5.1751\n",
      "---------------------------------\n"
     ]
    },
    {
     "name": "stderr",
     "output_type": "stream",
     "text": [
      "100%|███████████████████████████████████████████████████████████████████| 2000/2000 [14:12<00:00,  2.35it/s]\n"
     ]
    },
    {
     "name": "stdout",
     "output_type": "stream",
     "text": [
      "Cell_emb: 2, sm_emb: 32, lr = 0.0005, hidden_channels = 8  >>>  Best epoch: 1685/2000, val_loss: 5.2330\n",
      "---------------------------------\n"
     ]
    },
    {
     "name": "stderr",
     "output_type": "stream",
     "text": [
      "100%|███████████████████████████████████████████████████████████████████| 2000/2000 [14:19<00:00,  2.33it/s]\n"
     ]
    },
    {
     "name": "stdout",
     "output_type": "stream",
     "text": [
      "Cell_emb: 2, sm_emb: 32, lr = 0.0005, hidden_channels = 8  >>>  Best epoch: 1429/2000, val_loss: 4.8843\n",
      "---------------------------------\n",
      "model_1028_exp4_6\n",
      "Model(\n",
      "  (cell_emb): Embedding(6, 2)\n",
      "  (cell_lin): Linear(in_features=158205, out_features=64, bias=True)\n",
      "  (sm_emb): Embedding(146, 32)\n",
      "  (sm_lin): Linear(in_features=768, out_features=8, bias=True)\n",
      "  (gnn): GraphModule(\n",
      "    (conv1): Module(\n",
      "      (cell__gene_exp__sm): SAGEConv(-1, 8, aggr=mean)\n",
      "      (sm__rev_gene_exp__cell): SAGEConv(-1, 8, aggr=mean)\n",
      "    )\n",
      "    (dropout1): Module(\n",
      "      (cell): Dropout(p=0.1, inplace=False)\n",
      "      (sm): Dropout(p=0.1, inplace=False)\n",
      "    )\n",
      "    (conv2): Module(\n",
      "      (cell__gene_exp__sm): SAGEConv(8, 8, aggr=mean)\n",
      "      (sm__rev_gene_exp__cell): SAGEConv(8, 8, aggr=mean)\n",
      "    )\n",
      "  )\n",
      "  (MLP): MLP(\n",
      "    (dropout1): Dropout(p=0.1, inplace=False)\n",
      "    (dropout2): Dropout(p=0.1, inplace=False)\n",
      "    (layer1): Linear(in_features=16, out_features=256, bias=True)\n",
      "    (layer2): Linear(in_features=256, out_features=1024, bias=True)\n",
      "    (layer3): Linear(in_features=1024, out_features=18211, bias=True)\n",
      "  )\n",
      ")\n"
     ]
    },
    {
     "name": "stderr",
     "output_type": "stream",
     "text": [
      "100%|█████████████████████████████████████████████████████████████████████| 255/255 [01:02<00:00,  4.09it/s]\n"
     ]
    },
    {
     "name": "stdout",
     "output_type": "stream",
     "text": [
      "File saved.\n",
      "(255, 18212)\n"
     ]
    },
    {
     "name": "stderr",
     "output_type": "stream",
     "text": [
      "100%|███████████████████████████████████████████████████████████████████| 2000/2000 [14:22<00:00,  2.32it/s]\n"
     ]
    },
    {
     "name": "stdout",
     "output_type": "stream",
     "text": [
      "Cell_emb: 2, sm_emb: 32, lr = 0.0005, hidden_channels = 8  >>>  Best epoch: 1944/2000, val_loss: 5.1289\n",
      "---------------------------------\n"
     ]
    },
    {
     "name": "stderr",
     "output_type": "stream",
     "text": [
      "100%|███████████████████████████████████████████████████████████████████| 2000/2000 [14:22<00:00,  2.32it/s]\n"
     ]
    },
    {
     "name": "stdout",
     "output_type": "stream",
     "text": [
      "Cell_emb: 2, sm_emb: 32, lr = 0.0005, hidden_channels = 8  >>>  Best epoch: 1076/2000, val_loss: 5.1560\n",
      "---------------------------------\n"
     ]
    },
    {
     "name": "stderr",
     "output_type": "stream",
     "text": [
      "100%|███████████████████████████████████████████████████████████████████| 2000/2000 [14:29<00:00,  2.30it/s]\n"
     ]
    },
    {
     "name": "stdout",
     "output_type": "stream",
     "text": [
      "Cell_emb: 2, sm_emb: 32, lr = 0.0005, hidden_channels = 8  >>>  Best epoch: 1586/2000, val_loss: 5.2080\n",
      "---------------------------------\n"
     ]
    },
    {
     "name": "stderr",
     "output_type": "stream",
     "text": [
      "100%|███████████████████████████████████████████████████████████████████| 2000/2000 [14:30<00:00,  2.30it/s]\n"
     ]
    },
    {
     "name": "stdout",
     "output_type": "stream",
     "text": [
      "Cell_emb: 2, sm_emb: 32, lr = 0.0005, hidden_channels = 8  >>>  Best epoch: 1761/2000, val_loss: 4.9489\n",
      "---------------------------------\n",
      "model_1028_exp4_10\n",
      "Model(\n",
      "  (cell_emb): Embedding(6, 2)\n",
      "  (cell_lin): Linear(in_features=158205, out_features=64, bias=True)\n",
      "  (sm_emb): Embedding(146, 32)\n",
      "  (sm_lin): Linear(in_features=768, out_features=8, bias=True)\n",
      "  (gnn): GraphModule(\n",
      "    (conv1): Module(\n",
      "      (cell__gene_exp__sm): SAGEConv(-1, 8, aggr=mean)\n",
      "      (sm__rev_gene_exp__cell): SAGEConv(-1, 8, aggr=mean)\n",
      "    )\n",
      "    (dropout1): Module(\n",
      "      (cell): Dropout(p=0.1, inplace=False)\n",
      "      (sm): Dropout(p=0.1, inplace=False)\n",
      "    )\n",
      "    (conv2): Module(\n",
      "      (cell__gene_exp__sm): SAGEConv(8, 8, aggr=mean)\n",
      "      (sm__rev_gene_exp__cell): SAGEConv(8, 8, aggr=mean)\n",
      "    )\n",
      "  )\n",
      "  (MLP): MLP(\n",
      "    (dropout1): Dropout(p=0.1, inplace=False)\n",
      "    (dropout2): Dropout(p=0.1, inplace=False)\n",
      "    (layer1): Linear(in_features=16, out_features=256, bias=True)\n",
      "    (layer2): Linear(in_features=256, out_features=1024, bias=True)\n",
      "    (layer3): Linear(in_features=1024, out_features=18211, bias=True)\n",
      "  )\n",
      ")\n"
     ]
    },
    {
     "name": "stderr",
     "output_type": "stream",
     "text": [
      "100%|█████████████████████████████████████████████████████████████████████| 255/255 [01:01<00:00,  4.18it/s]\n"
     ]
    },
    {
     "name": "stdout",
     "output_type": "stream",
     "text": [
      "File saved.\n",
      "(255, 18212)\n"
     ]
    },
    {
     "name": "stderr",
     "output_type": "stream",
     "text": [
      "100%|███████████████████████████████████████████████████████████████████| 2000/2000 [14:25<00:00,  2.31it/s]\n"
     ]
    },
    {
     "name": "stdout",
     "output_type": "stream",
     "text": [
      "Cell_emb: 2, sm_emb: 32, lr = 0.0005, hidden_channels = 8  >>>  Best epoch: 1777/2000, val_loss: 5.3123\n",
      "---------------------------------\n"
     ]
    },
    {
     "name": "stderr",
     "output_type": "stream",
     "text": [
      "100%|███████████████████████████████████████████████████████████████████| 2000/2000 [14:21<00:00,  2.32it/s]\n"
     ]
    },
    {
     "name": "stdout",
     "output_type": "stream",
     "text": [
      "Cell_emb: 2, sm_emb: 32, lr = 0.0005, hidden_channels = 8  >>>  Best epoch: 1131/2000, val_loss: 4.7959\n",
      "---------------------------------\n",
      "model_1028_exp4_12\n",
      "Model(\n",
      "  (cell_emb): Embedding(6, 2)\n",
      "  (cell_lin): Linear(in_features=158205, out_features=64, bias=True)\n",
      "  (sm_emb): Embedding(146, 32)\n",
      "  (sm_lin): Linear(in_features=768, out_features=8, bias=True)\n",
      "  (gnn): GraphModule(\n",
      "    (conv1): Module(\n",
      "      (cell__gene_exp__sm): SAGEConv(-1, 8, aggr=mean)\n",
      "      (sm__rev_gene_exp__cell): SAGEConv(-1, 8, aggr=mean)\n",
      "    )\n",
      "    (dropout1): Module(\n",
      "      (cell): Dropout(p=0.1, inplace=False)\n",
      "      (sm): Dropout(p=0.1, inplace=False)\n",
      "    )\n",
      "    (conv2): Module(\n",
      "      (cell__gene_exp__sm): SAGEConv(8, 8, aggr=mean)\n",
      "      (sm__rev_gene_exp__cell): SAGEConv(8, 8, aggr=mean)\n",
      "    )\n",
      "  )\n",
      "  (MLP): MLP(\n",
      "    (dropout1): Dropout(p=0.1, inplace=False)\n",
      "    (dropout2): Dropout(p=0.1, inplace=False)\n",
      "    (layer1): Linear(in_features=16, out_features=256, bias=True)\n",
      "    (layer2): Linear(in_features=256, out_features=1024, bias=True)\n",
      "    (layer3): Linear(in_features=1024, out_features=18211, bias=True)\n",
      "  )\n",
      ")\n"
     ]
    },
    {
     "name": "stderr",
     "output_type": "stream",
     "text": [
      "100%|█████████████████████████████████████████████████████████████████████| 255/255 [01:03<00:00,  4.03it/s]\n"
     ]
    },
    {
     "name": "stdout",
     "output_type": "stream",
     "text": [
      "File saved.\n",
      "(255, 18212)\n"
     ]
    },
    {
     "name": "stderr",
     "output_type": "stream",
     "text": [
      "100%|███████████████████████████████████████████████████████████████████| 2000/2000 [14:32<00:00,  2.29it/s]\n"
     ]
    },
    {
     "name": "stdout",
     "output_type": "stream",
     "text": [
      "Cell_emb: 2, sm_emb: 32, lr = 0.0005, hidden_channels = 8  >>>  Best epoch: 1191/2000, val_loss: 5.2924\n",
      "---------------------------------\n"
     ]
    },
    {
     "name": "stderr",
     "output_type": "stream",
     "text": [
      "100%|███████████████████████████████████████████████████████████████████| 2000/2000 [14:28<00:00,  2.30it/s]\n"
     ]
    },
    {
     "name": "stdout",
     "output_type": "stream",
     "text": [
      "Cell_emb: 2, sm_emb: 32, lr = 0.0005, hidden_channels = 8  >>>  Best epoch: 1998/2000, val_loss: 4.6771\n",
      "---------------------------------\n",
      "model_1028_exp4_14\n",
      "Model(\n",
      "  (cell_emb): Embedding(6, 2)\n",
      "  (cell_lin): Linear(in_features=158205, out_features=64, bias=True)\n",
      "  (sm_emb): Embedding(146, 32)\n",
      "  (sm_lin): Linear(in_features=768, out_features=8, bias=True)\n",
      "  (gnn): GraphModule(\n",
      "    (conv1): Module(\n",
      "      (cell__gene_exp__sm): SAGEConv(-1, 8, aggr=mean)\n",
      "      (sm__rev_gene_exp__cell): SAGEConv(-1, 8, aggr=mean)\n",
      "    )\n",
      "    (dropout1): Module(\n",
      "      (cell): Dropout(p=0.1, inplace=False)\n",
      "      (sm): Dropout(p=0.1, inplace=False)\n",
      "    )\n",
      "    (conv2): Module(\n",
      "      (cell__gene_exp__sm): SAGEConv(8, 8, aggr=mean)\n",
      "      (sm__rev_gene_exp__cell): SAGEConv(8, 8, aggr=mean)\n",
      "    )\n",
      "  )\n",
      "  (MLP): MLP(\n",
      "    (dropout1): Dropout(p=0.1, inplace=False)\n",
      "    (dropout2): Dropout(p=0.1, inplace=False)\n",
      "    (layer1): Linear(in_features=16, out_features=256, bias=True)\n",
      "    (layer2): Linear(in_features=256, out_features=1024, bias=True)\n",
      "    (layer3): Linear(in_features=1024, out_features=18211, bias=True)\n",
      "  )\n",
      ")\n"
     ]
    },
    {
     "name": "stderr",
     "output_type": "stream",
     "text": [
      "100%|█████████████████████████████████████████████████████████████████████| 255/255 [01:01<00:00,  4.13it/s]\n"
     ]
    },
    {
     "name": "stdout",
     "output_type": "stream",
     "text": [
      "File saved.\n",
      "(255, 18212)\n"
     ]
    },
    {
     "name": "stderr",
     "output_type": "stream",
     "text": [
      "100%|███████████████████████████████████████████████████████████████████| 2000/2000 [14:22<00:00,  2.32it/s]\n"
     ]
    },
    {
     "name": "stdout",
     "output_type": "stream",
     "text": [
      "Cell_emb: 2, sm_emb: 32, lr = 0.0005, hidden_channels = 8  >>>  Best epoch: 991/2000, val_loss: 5.4500\n",
      "---------------------------------\n"
     ]
    },
    {
     "name": "stderr",
     "output_type": "stream",
     "text": [
      "100%|███████████████████████████████████████████████████████████████████| 2000/2000 [14:22<00:00,  2.32it/s]\n"
     ]
    },
    {
     "name": "stdout",
     "output_type": "stream",
     "text": [
      "Cell_emb: 2, sm_emb: 32, lr = 0.0005, hidden_channels = 8  >>>  Best epoch: 1976/2000, val_loss: 5.3703\n",
      "---------------------------------\n"
     ]
    },
    {
     "name": "stderr",
     "output_type": "stream",
     "text": [
      "100%|███████████████████████████████████████████████████████████████████| 2000/2000 [14:25<00:00,  2.31it/s]\n"
     ]
    },
    {
     "name": "stdout",
     "output_type": "stream",
     "text": [
      "Cell_emb: 2, sm_emb: 32, lr = 0.0005, hidden_channels = 8  >>>  Best epoch: 1528/2000, val_loss: 4.8200\n",
      "---------------------------------\n",
      "model_1028_exp4_17\n",
      "Model(\n",
      "  (cell_emb): Embedding(6, 2)\n",
      "  (cell_lin): Linear(in_features=158205, out_features=64, bias=True)\n",
      "  (sm_emb): Embedding(146, 32)\n",
      "  (sm_lin): Linear(in_features=768, out_features=8, bias=True)\n",
      "  (gnn): GraphModule(\n",
      "    (conv1): Module(\n",
      "      (cell__gene_exp__sm): SAGEConv(-1, 8, aggr=mean)\n",
      "      (sm__rev_gene_exp__cell): SAGEConv(-1, 8, aggr=mean)\n",
      "    )\n",
      "    (dropout1): Module(\n",
      "      (cell): Dropout(p=0.1, inplace=False)\n",
      "      (sm): Dropout(p=0.1, inplace=False)\n",
      "    )\n",
      "    (conv2): Module(\n",
      "      (cell__gene_exp__sm): SAGEConv(8, 8, aggr=mean)\n",
      "      (sm__rev_gene_exp__cell): SAGEConv(8, 8, aggr=mean)\n",
      "    )\n",
      "  )\n",
      "  (MLP): MLP(\n",
      "    (dropout1): Dropout(p=0.1, inplace=False)\n",
      "    (dropout2): Dropout(p=0.1, inplace=False)\n",
      "    (layer1): Linear(in_features=16, out_features=256, bias=True)\n",
      "    (layer2): Linear(in_features=256, out_features=1024, bias=True)\n",
      "    (layer3): Linear(in_features=1024, out_features=18211, bias=True)\n",
      "  )\n",
      ")\n"
     ]
    },
    {
     "name": "stderr",
     "output_type": "stream",
     "text": [
      "100%|█████████████████████████████████████████████████████████████████████| 255/255 [01:01<00:00,  4.17it/s]\n"
     ]
    },
    {
     "name": "stdout",
     "output_type": "stream",
     "text": [
      "File saved.\n",
      "(255, 18212)\n"
     ]
    },
    {
     "name": "stderr",
     "output_type": "stream",
     "text": [
      "100%|███████████████████████████████████████████████████████████████████| 2000/2000 [14:25<00:00,  2.31it/s]\n"
     ]
    },
    {
     "name": "stdout",
     "output_type": "stream",
     "text": [
      "Cell_emb: 2, sm_emb: 32, lr = 0.0005, hidden_channels = 8  >>>  Best epoch: 1357/2000, val_loss: 4.8715\n",
      "---------------------------------\n",
      "model_1028_exp4_18\n",
      "Model(\n",
      "  (cell_emb): Embedding(6, 2)\n",
      "  (cell_lin): Linear(in_features=158205, out_features=64, bias=True)\n",
      "  (sm_emb): Embedding(146, 32)\n",
      "  (sm_lin): Linear(in_features=768, out_features=8, bias=True)\n",
      "  (gnn): GraphModule(\n",
      "    (conv1): Module(\n",
      "      (cell__gene_exp__sm): SAGEConv(-1, 8, aggr=mean)\n",
      "      (sm__rev_gene_exp__cell): SAGEConv(-1, 8, aggr=mean)\n",
      "    )\n",
      "    (dropout1): Module(\n",
      "      (cell): Dropout(p=0.1, inplace=False)\n",
      "      (sm): Dropout(p=0.1, inplace=False)\n",
      "    )\n",
      "    (conv2): Module(\n",
      "      (cell__gene_exp__sm): SAGEConv(8, 8, aggr=mean)\n",
      "      (sm__rev_gene_exp__cell): SAGEConv(8, 8, aggr=mean)\n",
      "    )\n",
      "  )\n",
      "  (MLP): MLP(\n",
      "    (dropout1): Dropout(p=0.1, inplace=False)\n",
      "    (dropout2): Dropout(p=0.1, inplace=False)\n",
      "    (layer1): Linear(in_features=16, out_features=256, bias=True)\n",
      "    (layer2): Linear(in_features=256, out_features=1024, bias=True)\n",
      "    (layer3): Linear(in_features=1024, out_features=18211, bias=True)\n",
      "  )\n",
      ")\n"
     ]
    },
    {
     "name": "stderr",
     "output_type": "stream",
     "text": [
      "100%|█████████████████████████████████████████████████████████████████████| 255/255 [01:01<00:00,  4.15it/s]\n"
     ]
    },
    {
     "name": "stdout",
     "output_type": "stream",
     "text": [
      "File saved.\n",
      "(255, 18212)\n"
     ]
    },
    {
     "name": "stderr",
     "output_type": "stream",
     "text": [
      "100%|███████████████████████████████████████████████████████████████████| 2000/2000 [14:26<00:00,  2.31it/s]\n"
     ]
    },
    {
     "name": "stdout",
     "output_type": "stream",
     "text": [
      "Cell_emb: 2, sm_emb: 32, lr = 0.0005, hidden_channels = 8  >>>  Best epoch: 1969/2000, val_loss: 5.1329\n",
      "---------------------------------\n"
     ]
    },
    {
     "name": "stderr",
     "output_type": "stream",
     "text": [
      "100%|███████████████████████████████████████████████████████████████████| 2000/2000 [14:23<00:00,  2.32it/s]\n"
     ]
    },
    {
     "name": "stdout",
     "output_type": "stream",
     "text": [
      "Cell_emb: 2, sm_emb: 32, lr = 0.0005, hidden_channels = 8  >>>  Best epoch: 1557/2000, val_loss: 4.6986\n",
      "---------------------------------\n",
      "model_1028_exp4_20\n",
      "Model(\n",
      "  (cell_emb): Embedding(6, 2)\n",
      "  (cell_lin): Linear(in_features=158205, out_features=64, bias=True)\n",
      "  (sm_emb): Embedding(146, 32)\n",
      "  (sm_lin): Linear(in_features=768, out_features=8, bias=True)\n",
      "  (gnn): GraphModule(\n",
      "    (conv1): Module(\n",
      "      (cell__gene_exp__sm): SAGEConv(-1, 8, aggr=mean)\n",
      "      (sm__rev_gene_exp__cell): SAGEConv(-1, 8, aggr=mean)\n",
      "    )\n",
      "    (dropout1): Module(\n",
      "      (cell): Dropout(p=0.1, inplace=False)\n",
      "      (sm): Dropout(p=0.1, inplace=False)\n",
      "    )\n",
      "    (conv2): Module(\n",
      "      (cell__gene_exp__sm): SAGEConv(8, 8, aggr=mean)\n",
      "      (sm__rev_gene_exp__cell): SAGEConv(8, 8, aggr=mean)\n",
      "    )\n",
      "  )\n",
      "  (MLP): MLP(\n",
      "    (dropout1): Dropout(p=0.1, inplace=False)\n",
      "    (dropout2): Dropout(p=0.1, inplace=False)\n",
      "    (layer1): Linear(in_features=16, out_features=256, bias=True)\n",
      "    (layer2): Linear(in_features=256, out_features=1024, bias=True)\n",
      "    (layer3): Linear(in_features=1024, out_features=18211, bias=True)\n",
      "  )\n",
      ")\n"
     ]
    },
    {
     "name": "stderr",
     "output_type": "stream",
     "text": [
      "100%|█████████████████████████████████████████████████████████████████████| 255/255 [01:01<00:00,  4.12it/s]\n"
     ]
    },
    {
     "name": "stdout",
     "output_type": "stream",
     "text": [
      "File saved.\n",
      "(255, 18212)\n"
     ]
    }
   ],
   "source": [
    "cur_model = None\n",
    "cur_valid_loss = float('inf')\n",
    "\n",
    "cur_sub_index = 0\n",
    "\n",
    "for _ in range(20):\n",
    "\n",
    "    cur_sub_index += 1\n",
    "\n",
    "    tmp_model, tmp_valid_loss = train(data,\n",
    "                                      train_edge_indeces,\n",
    "                                      valid_edge_indeces,\n",
    "                                      train_edge2feat,\n",
    "                                      valid_edge2feat,\n",
    "                                      train_mask,\n",
    "                                      valid_mask,\n",
    "                                      cell_emb_dim=2,\n",
    "                                      sm_emb_dim=32,\n",
    "                                      lr=5e-4,\n",
    "                                      hidden_channels=8,\n",
    "                                      p_dropout=0.1,\n",
    "                                      num_epochs=2000,\n",
    "                                      print_every=-1)\n",
    "    \n",
    "    if tmp_valid_loss >= 5.0:\n",
    "        continue\n",
    "    \n",
    "    \"\"\"\n",
    "    Save all models\n",
    "    \"\"\"\n",
    "    cur_valid_loss = tmp_valid_loss\n",
    "    cur_model = tmp_model\n",
    "    cur_model_name = 'model_1028_exp4_' + str(cur_sub_index)\n",
    "    print(cur_model_name)\n",
    "    print(cur_model)\n",
    "    final_submission(data=data, model_name=cur_model_name, model=cur_model)\n",
    "    torch.save(cur_model.state_dict(), os.path.join('../pyg_models/', cur_model_name+'.pth'))"
   ]
  },
  {
   "cell_type": "markdown",
   "id": "94f61f54-75ec-492e-985c-298d6b0ba7d6",
   "metadata": {},
   "source": [
    "### Experiment 5"
   ]
  },
  {
   "cell_type": "code",
   "execution_count": 29,
   "id": "f007619f-d8e7-4c9c-9dcb-fccf9d8f528e",
   "metadata": {
    "tags": []
   },
   "outputs": [],
   "source": [
    "from torch_geometric.nn import SAGEConv, to_hetero\n",
    "from torch.nn import Linear, Dropout, Embedding\n",
    "import torch.nn.functional as F\n",
    "\n",
    "class GNN(torch.nn.Module):\n",
    "    \"\"\"\n",
    "    Compute node embedding\n",
    "    \"\"\"\n",
    "    def __init__(self, hidden_channels, p_dropout=0.2):\n",
    "        super().__init__()       \n",
    "        self.conv1 = SAGEConv(-1, hidden_channels, normalize=True)\n",
    "        self.conv2 = SAGEConv(hidden_channels, hidden_channels, normalize=True)\n",
    "        self.dropout1 = Dropout(p=p_dropout)\n",
    "        \n",
    "    def forward(self, x, edge_index):\n",
    "        x = self.dropout1(F.elu(self.conv1(x, edge_index)))        \n",
    "        x = self.conv2(x, edge_index)\n",
    "        return x\n",
    "\n",
    "class MLP(torch.nn.Module):\n",
    "    \"\"\"\n",
    "    Model that predicts the gene expression given node features at the two ends\n",
    "    \n",
    "    1020: Change inner layer from (1024, 1024) units to (256, 256) units \n",
    "    1029: Use a single 2048 dense layer\n",
    "    \"\"\"\n",
    "    def __init__(self, hidden_channels, p_dropout=0.2):\n",
    "        super().__init__()\n",
    "\n",
    "        self.dropout1 = Dropout(p=p_dropout)\n",
    "        \n",
    "        self.layer1 = Linear(2*hidden_channels, 2048)\n",
    "        self.layer2 = Linear(2048, 18211)\n",
    "    \n",
    "    def forward(self, x_cell, x_sm, edge_label_index):\n",
    "        \n",
    "        # Retrieve embeddings from the two nodes\n",
    "        feat_cell = x_cell[edge_label_index[0]]  # dim = hidden_channels\n",
    "        feat_sm = x_sm[edge_label_index[1]]  #  dim = hidden_channels\n",
    "\n",
    "        # calculate the gene expression\n",
    "        y = torch.cat((feat_cell, feat_sm), dim=1)  # dim = 2*hidden_channels\n",
    "        \n",
    "        y = F.relu(self.layer1(y))  # dim = 2048\n",
    "        y = self.dropout1(y)\n",
    "        \n",
    "        y = self.layer2(y)  # dim = 18211\n",
    "        \n",
    "        return y\n",
    "\n",
    "\n",
    "class Model(torch.nn.Module):\n",
    "    def __init__(self, data, cell_emb_dim, sm_emb_dim, hidden_channels, p_dropout):\n",
    "        super().__init__()\n",
    "\n",
    "        # cell emb for each cell type\n",
    "        self.cell_emb = Embedding(data[\"cell\"].num_nodes, cell_emb_dim)\n",
    "        \n",
    "        \"\"\"\n",
    "        1027 - change from hidden_channels to 64\n",
    "        \"\"\"\n",
    "        # cell emb leveraging control gene expression\n",
    "        self.cell_lin = Linear(158205, 64)\n",
    "\n",
    "        # sm emb for each sm type\n",
    "        if sm_emb_dim > 0:\n",
    "            self.sm_emb = Embedding(data[\"sm\"].num_nodes, sm_emb_dim)\n",
    "        else:\n",
    "            self.sm_emb = None\n",
    "        # sm emb leveraging SMILES embedding\n",
    "        self.sm_lin = Linear(768, hidden_channels)\n",
    "        \n",
    "        # Instantiate homogeneous GNN:\n",
    "        self.gnn = GNN(hidden_channels=hidden_channels, p_dropout=p_dropout)\n",
    "        # Convert GNN model into a heterogeneous variant:\n",
    "        self.gnn = to_hetero(self.gnn, metadata=data.metadata())\n",
    "        \n",
    "        self.MLP = MLP(hidden_channels=hidden_channels, p_dropout=p_dropout)\n",
    "        \n",
    "                \n",
    "    def forward(self, data):\n",
    "        # calculate node embedding\n",
    "        #x_cell = self.cell_emb(data[\"cell\"].node_id)\n",
    "        x_cell = torch.cat((self.cell_emb(data[\"cell\"].node_id), self.cell_lin(data[\"cell\"].x)), dim=1)\n",
    "\n",
    "        if self.sm_emb:\n",
    "            x_sm = torch.cat((self.sm_emb(data[\"sm\"].node_id), self.sm_lin(data[\"sm\"].x)), dim=1)\n",
    "        else:\n",
    "            x_sm = self.sm_lin(data[\"sm\"].x)\n",
    "            \n",
    "        \n",
    "        x_dict = {\n",
    "          \"cell\": x_cell,\n",
    "          \"sm\": x_sm,\n",
    "        } \n",
    "\n",
    "        # compute final node embedding\n",
    "        x_dict = self.gnn(x_dict, data.edge_index_dict)\n",
    "\n",
    "        # Use node embedding to predict gene expression\n",
    "        pred = self.MLP(\n",
    "            x_dict[\"cell\"],\n",
    "            x_dict[\"sm\"],\n",
    "            data[\"cell\", \"gene_exp\", \"sm\"].edge_label_index,\n",
    "        )\n",
    "        return pred"
   ]
  },
  {
   "cell_type": "code",
   "execution_count": 30,
   "id": "67573dd8-e374-4425-8729-e2a5be5e71ba",
   "metadata": {
    "tags": []
   },
   "outputs": [
    {
     "name": "stderr",
     "output_type": "stream",
     "text": [
      "100%|███████████████████████████████████████████████████████████████████| 2000/2000 [15:02<00:00,  2.22it/s]\n"
     ]
    },
    {
     "name": "stdout",
     "output_type": "stream",
     "text": [
      "Cell_emb: 2, sm_emb: 32, lr = 0.0005, hidden_channels = 8  >>>  Best epoch: 1614/2000, val_loss: 6.1035\n",
      "---------------------------------\n"
     ]
    },
    {
     "name": "stderr",
     "output_type": "stream",
     "text": [
      "100%|███████████████████████████████████████████████████████████████████| 2000/2000 [14:59<00:00,  2.22it/s]\n"
     ]
    },
    {
     "name": "stdout",
     "output_type": "stream",
     "text": [
      "Cell_emb: 2, sm_emb: 32, lr = 0.0005, hidden_channels = 8  >>>  Best epoch: 1934/2000, val_loss: 5.3862\n",
      "---------------------------------\n"
     ]
    },
    {
     "name": "stderr",
     "output_type": "stream",
     "text": [
      "100%|███████████████████████████████████████████████████████████████████| 2000/2000 [15:02<00:00,  2.21it/s]\n"
     ]
    },
    {
     "name": "stdout",
     "output_type": "stream",
     "text": [
      "Cell_emb: 2, sm_emb: 32, lr = 0.0005, hidden_channels = 8  >>>  Best epoch: 1796/2000, val_loss: 5.1239\n",
      "---------------------------------\n"
     ]
    },
    {
     "name": "stderr",
     "output_type": "stream",
     "text": [
      "100%|███████████████████████████████████████████████████████████████████| 2000/2000 [14:59<00:00,  2.22it/s]\n"
     ]
    },
    {
     "name": "stdout",
     "output_type": "stream",
     "text": [
      "Cell_emb: 2, sm_emb: 32, lr = 0.0005, hidden_channels = 8  >>>  Best epoch: 1916/2000, val_loss: 5.4370\n",
      "---------------------------------\n"
     ]
    },
    {
     "name": "stderr",
     "output_type": "stream",
     "text": [
      "100%|███████████████████████████████████████████████████████████████████| 2000/2000 [15:02<00:00,  2.21it/s]\n"
     ]
    },
    {
     "name": "stdout",
     "output_type": "stream",
     "text": [
      "Cell_emb: 2, sm_emb: 32, lr = 0.0005, hidden_channels = 8  >>>  Best epoch: 1940/2000, val_loss: 5.4158\n",
      "---------------------------------\n"
     ]
    },
    {
     "name": "stderr",
     "output_type": "stream",
     "text": [
      "100%|███████████████████████████████████████████████████████████████████| 2000/2000 [15:02<00:00,  2.22it/s]\n"
     ]
    },
    {
     "name": "stdout",
     "output_type": "stream",
     "text": [
      "Cell_emb: 2, sm_emb: 32, lr = 0.0005, hidden_channels = 8  >>>  Best epoch: 1287/2000, val_loss: 5.7643\n",
      "---------------------------------\n"
     ]
    },
    {
     "name": "stderr",
     "output_type": "stream",
     "text": [
      "100%|███████████████████████████████████████████████████████████████████| 2000/2000 [15:00<00:00,  2.22it/s]\n"
     ]
    },
    {
     "name": "stdout",
     "output_type": "stream",
     "text": [
      "Cell_emb: 2, sm_emb: 32, lr = 0.0005, hidden_channels = 8  >>>  Best epoch: 1996/2000, val_loss: 5.1126\n",
      "---------------------------------\n"
     ]
    },
    {
     "name": "stderr",
     "output_type": "stream",
     "text": [
      "100%|███████████████████████████████████████████████████████████████████| 2000/2000 [15:01<00:00,  2.22it/s]\n"
     ]
    },
    {
     "name": "stdout",
     "output_type": "stream",
     "text": [
      "Cell_emb: 2, sm_emb: 32, lr = 0.0005, hidden_channels = 8  >>>  Best epoch: 1815/2000, val_loss: 5.4179\n",
      "---------------------------------\n"
     ]
    },
    {
     "name": "stderr",
     "output_type": "stream",
     "text": [
      "100%|███████████████████████████████████████████████████████████████████| 2000/2000 [15:01<00:00,  2.22it/s]\n"
     ]
    },
    {
     "name": "stdout",
     "output_type": "stream",
     "text": [
      "Cell_emb: 2, sm_emb: 32, lr = 0.0005, hidden_channels = 8  >>>  Best epoch: 1999/2000, val_loss: 5.2043\n",
      "---------------------------------\n"
     ]
    },
    {
     "name": "stderr",
     "output_type": "stream",
     "text": [
      "100%|███████████████████████████████████████████████████████████████████| 2000/2000 [14:58<00:00,  2.23it/s]\n"
     ]
    },
    {
     "name": "stdout",
     "output_type": "stream",
     "text": [
      "Cell_emb: 2, sm_emb: 32, lr = 0.0005, hidden_channels = 8  >>>  Best epoch: 1307/2000, val_loss: 5.1913\n",
      "---------------------------------\n"
     ]
    },
    {
     "name": "stderr",
     "output_type": "stream",
     "text": [
      "100%|███████████████████████████████████████████████████████████████████| 2000/2000 [14:59<00:00,  2.22it/s]\n"
     ]
    },
    {
     "name": "stdout",
     "output_type": "stream",
     "text": [
      "Cell_emb: 2, sm_emb: 32, lr = 0.0005, hidden_channels = 8  >>>  Best epoch: 1789/2000, val_loss: 4.7409\n",
      "---------------------------------\n",
      "model_1028_exp5_11\n",
      "Model(\n",
      "  (cell_emb): Embedding(6, 2)\n",
      "  (cell_lin): Linear(in_features=158205, out_features=64, bias=True)\n",
      "  (sm_emb): Embedding(146, 32)\n",
      "  (sm_lin): Linear(in_features=768, out_features=8, bias=True)\n",
      "  (gnn): GraphModule(\n",
      "    (conv1): Module(\n",
      "      (cell__gene_exp__sm): SAGEConv(-1, 8, aggr=mean)\n",
      "      (sm__rev_gene_exp__cell): SAGEConv(-1, 8, aggr=mean)\n",
      "    )\n",
      "    (dropout1): Module(\n",
      "      (cell): Dropout(p=0.1, inplace=False)\n",
      "      (sm): Dropout(p=0.1, inplace=False)\n",
      "    )\n",
      "    (conv2): Module(\n",
      "      (cell__gene_exp__sm): SAGEConv(8, 8, aggr=mean)\n",
      "      (sm__rev_gene_exp__cell): SAGEConv(8, 8, aggr=mean)\n",
      "    )\n",
      "  )\n",
      "  (MLP): MLP(\n",
      "    (dropout1): Dropout(p=0.1, inplace=False)\n",
      "    (layer1): Linear(in_features=16, out_features=2048, bias=True)\n",
      "    (layer2): Linear(in_features=2048, out_features=18211, bias=True)\n",
      "  )\n",
      ")\n"
     ]
    },
    {
     "name": "stderr",
     "output_type": "stream",
     "text": [
      "100%|█████████████████████████████████████████████████████████████████████| 255/255 [01:01<00:00,  4.12it/s]\n"
     ]
    },
    {
     "name": "stdout",
     "output_type": "stream",
     "text": [
      "File saved.\n",
      "(255, 18212)\n"
     ]
    },
    {
     "name": "stderr",
     "output_type": "stream",
     "text": [
      "100%|███████████████████████████████████████████████████████████████████| 2000/2000 [15:00<00:00,  2.22it/s]\n"
     ]
    },
    {
     "name": "stdout",
     "output_type": "stream",
     "text": [
      "Cell_emb: 2, sm_emb: 32, lr = 0.0005, hidden_channels = 8  >>>  Best epoch: 1654/2000, val_loss: 5.5162\n",
      "---------------------------------\n"
     ]
    },
    {
     "name": "stderr",
     "output_type": "stream",
     "text": [
      "100%|███████████████████████████████████████████████████████████████████| 2000/2000 [15:00<00:00,  2.22it/s]\n"
     ]
    },
    {
     "name": "stdout",
     "output_type": "stream",
     "text": [
      "Cell_emb: 2, sm_emb: 32, lr = 0.0005, hidden_channels = 8  >>>  Best epoch: 1551/2000, val_loss: 5.6127\n",
      "---------------------------------\n"
     ]
    },
    {
     "name": "stderr",
     "output_type": "stream",
     "text": [
      "100%|███████████████████████████████████████████████████████████████████| 2000/2000 [15:03<00:00,  2.21it/s]\n"
     ]
    },
    {
     "name": "stdout",
     "output_type": "stream",
     "text": [
      "Cell_emb: 2, sm_emb: 32, lr = 0.0005, hidden_channels = 8  >>>  Best epoch: 1634/2000, val_loss: 5.6513\n",
      "---------------------------------\n"
     ]
    },
    {
     "name": "stderr",
     "output_type": "stream",
     "text": [
      "100%|███████████████████████████████████████████████████████████████████| 2000/2000 [15:02<00:00,  2.22it/s]\n"
     ]
    },
    {
     "name": "stdout",
     "output_type": "stream",
     "text": [
      "Cell_emb: 2, sm_emb: 32, lr = 0.0005, hidden_channels = 8  >>>  Best epoch: 1093/2000, val_loss: 5.9193\n",
      "---------------------------------\n"
     ]
    },
    {
     "name": "stderr",
     "output_type": "stream",
     "text": [
      "100%|███████████████████████████████████████████████████████████████████| 2000/2000 [15:01<00:00,  2.22it/s]\n"
     ]
    },
    {
     "name": "stdout",
     "output_type": "stream",
     "text": [
      "Cell_emb: 2, sm_emb: 32, lr = 0.0005, hidden_channels = 8  >>>  Best epoch: 1673/2000, val_loss: 6.0254\n",
      "---------------------------------\n"
     ]
    },
    {
     "name": "stderr",
     "output_type": "stream",
     "text": [
      "100%|███████████████████████████████████████████████████████████████████| 2000/2000 [15:02<00:00,  2.22it/s]\n"
     ]
    },
    {
     "name": "stdout",
     "output_type": "stream",
     "text": [
      "Cell_emb: 2, sm_emb: 32, lr = 0.0005, hidden_channels = 8  >>>  Best epoch: 1977/2000, val_loss: 5.3910\n",
      "---------------------------------\n"
     ]
    },
    {
     "name": "stderr",
     "output_type": "stream",
     "text": [
      "100%|███████████████████████████████████████████████████████████████████| 2000/2000 [15:02<00:00,  2.22it/s]\n"
     ]
    },
    {
     "name": "stdout",
     "output_type": "stream",
     "text": [
      "Cell_emb: 2, sm_emb: 32, lr = 0.0005, hidden_channels = 8  >>>  Best epoch: 1564/2000, val_loss: 5.1927\n",
      "---------------------------------\n"
     ]
    },
    {
     "name": "stderr",
     "output_type": "stream",
     "text": [
      "100%|███████████████████████████████████████████████████████████████████| 2000/2000 [15:01<00:00,  2.22it/s]\n"
     ]
    },
    {
     "name": "stdout",
     "output_type": "stream",
     "text": [
      "Cell_emb: 2, sm_emb: 32, lr = 0.0005, hidden_channels = 8  >>>  Best epoch: 1893/2000, val_loss: 5.6357\n",
      "---------------------------------\n"
     ]
    },
    {
     "name": "stderr",
     "output_type": "stream",
     "text": [
      "100%|███████████████████████████████████████████████████████████████████| 2000/2000 [15:13<00:00,  2.19it/s]"
     ]
    },
    {
     "name": "stdout",
     "output_type": "stream",
     "text": [
      "Cell_emb: 2, sm_emb: 32, lr = 0.0005, hidden_channels = 8  >>>  Best epoch: 1476/2000, val_loss: 5.3265\n",
      "---------------------------------\n"
     ]
    },
    {
     "name": "stderr",
     "output_type": "stream",
     "text": [
      "\n"
     ]
    }
   ],
   "source": [
    "cur_model = None\n",
    "cur_valid_loss = float('inf')\n",
    "\n",
    "cur_sub_index = 0\n",
    "\n",
    "for _ in range(20):\n",
    "\n",
    "    cur_sub_index += 1\n",
    "\n",
    "    tmp_model, tmp_valid_loss = train(data,\n",
    "                                      train_edge_indeces,\n",
    "                                      valid_edge_indeces,\n",
    "                                      train_edge2feat,\n",
    "                                      valid_edge2feat,\n",
    "                                      train_mask,\n",
    "                                      valid_mask,\n",
    "                                      cell_emb_dim=2,\n",
    "                                      sm_emb_dim=32,\n",
    "                                      lr=5e-4,\n",
    "                                      hidden_channels=8,\n",
    "                                      p_dropout=0.1,\n",
    "                                      num_epochs=2000,\n",
    "                                      print_every=-1)\n",
    "    \n",
    "    if tmp_valid_loss >= 5.0:\n",
    "        continue\n",
    "    \n",
    "    \"\"\"\n",
    "    Save all models\n",
    "    \"\"\"\n",
    "    cur_valid_loss = tmp_valid_loss\n",
    "    cur_model = tmp_model\n",
    "    cur_model_name = 'model_1028_exp5_' + str(cur_sub_index)\n",
    "    print(cur_model_name)\n",
    "    print(cur_model)\n",
    "    final_submission(data=data, model_name=cur_model_name, model=cur_model)\n",
    "    torch.save(cur_model.state_dict(), os.path.join('../pyg_models/', cur_model_name+'.pth'))"
   ]
  },
  {
   "cell_type": "markdown",
   "id": "e8bb8982-cca6-4a6e-9435-e03ac8129bfa",
   "metadata": {},
   "source": [
    "### Experiment 6\n",
    "\n",
    "dropout from 0.1 to 0.2"
   ]
  },
  {
   "cell_type": "code",
   "execution_count": 31,
   "id": "ae961d90-ca1c-49d9-8488-a1fddd4316ac",
   "metadata": {
    "tags": []
   },
   "outputs": [
    {
     "name": "stderr",
     "output_type": "stream",
     "text": [
      "100%|███████████████████████████████████████████████████████████████████| 2000/2000 [15:11<00:00,  2.19it/s]\n"
     ]
    },
    {
     "name": "stdout",
     "output_type": "stream",
     "text": [
      "Cell_emb: 2, sm_emb: 32, lr = 0.0005, hidden_channels = 8  >>>  Best epoch: 1340/2000, val_loss: 5.4348\n",
      "---------------------------------\n"
     ]
    },
    {
     "name": "stderr",
     "output_type": "stream",
     "text": [
      "100%|███████████████████████████████████████████████████████████████████| 2000/2000 [14:51<00:00,  2.24it/s]\n"
     ]
    },
    {
     "name": "stdout",
     "output_type": "stream",
     "text": [
      "Cell_emb: 2, sm_emb: 32, lr = 0.0005, hidden_channels = 8  >>>  Best epoch: 1637/2000, val_loss: 5.8212\n",
      "---------------------------------\n"
     ]
    },
    {
     "name": "stderr",
     "output_type": "stream",
     "text": [
      "100%|███████████████████████████████████████████████████████████████████| 2000/2000 [14:31<00:00,  2.30it/s]\n"
     ]
    },
    {
     "name": "stdout",
     "output_type": "stream",
     "text": [
      "Cell_emb: 2, sm_emb: 32, lr = 0.0005, hidden_channels = 8  >>>  Best epoch: 1717/2000, val_loss: 5.2926\n",
      "---------------------------------\n"
     ]
    },
    {
     "name": "stderr",
     "output_type": "stream",
     "text": [
      "100%|███████████████████████████████████████████████████████████████████| 2000/2000 [15:36<00:00,  2.14it/s]\n"
     ]
    },
    {
     "name": "stdout",
     "output_type": "stream",
     "text": [
      "Cell_emb: 2, sm_emb: 32, lr = 0.0005, hidden_channels = 8  >>>  Best epoch: 1251/2000, val_loss: 5.6421\n",
      "---------------------------------\n"
     ]
    },
    {
     "name": "stderr",
     "output_type": "stream",
     "text": [
      "100%|███████████████████████████████████████████████████████████████████| 2000/2000 [15:52<00:00,  2.10it/s]\n"
     ]
    },
    {
     "name": "stdout",
     "output_type": "stream",
     "text": [
      "Cell_emb: 2, sm_emb: 32, lr = 0.0005, hidden_channels = 8  >>>  Best epoch: 1757/2000, val_loss: 5.6326\n",
      "---------------------------------\n"
     ]
    },
    {
     "name": "stderr",
     "output_type": "stream",
     "text": [
      "100%|███████████████████████████████████████████████████████████████████| 2000/2000 [15:55<00:00,  2.09it/s]\n"
     ]
    },
    {
     "name": "stdout",
     "output_type": "stream",
     "text": [
      "Cell_emb: 2, sm_emb: 32, lr = 0.0005, hidden_channels = 8  >>>  Best epoch: 1823/2000, val_loss: 6.0930\n",
      "---------------------------------\n"
     ]
    },
    {
     "name": "stderr",
     "output_type": "stream",
     "text": [
      "100%|███████████████████████████████████████████████████████████████████| 2000/2000 [15:54<00:00,  2.09it/s]\n"
     ]
    },
    {
     "name": "stdout",
     "output_type": "stream",
     "text": [
      "Cell_emb: 2, sm_emb: 32, lr = 0.0005, hidden_channels = 8  >>>  Best epoch: 1225/2000, val_loss: 5.5031\n",
      "---------------------------------\n"
     ]
    },
    {
     "name": "stderr",
     "output_type": "stream",
     "text": [
      "100%|███████████████████████████████████████████████████████████████████| 2000/2000 [15:53<00:00,  2.10it/s]\n"
     ]
    },
    {
     "name": "stdout",
     "output_type": "stream",
     "text": [
      "Cell_emb: 2, sm_emb: 32, lr = 0.0005, hidden_channels = 8  >>>  Best epoch: 1604/2000, val_loss: 5.3857\n",
      "---------------------------------\n"
     ]
    },
    {
     "name": "stderr",
     "output_type": "stream",
     "text": [
      "100%|███████████████████████████████████████████████████████████████████| 2000/2000 [15:52<00:00,  2.10it/s]\n"
     ]
    },
    {
     "name": "stdout",
     "output_type": "stream",
     "text": [
      "Cell_emb: 2, sm_emb: 32, lr = 0.0005, hidden_channels = 8  >>>  Best epoch: 1599/2000, val_loss: 5.6482\n",
      "---------------------------------\n"
     ]
    },
    {
     "name": "stderr",
     "output_type": "stream",
     "text": [
      "100%|███████████████████████████████████████████████████████████████████| 2000/2000 [15:46<00:00,  2.11it/s]\n"
     ]
    },
    {
     "name": "stdout",
     "output_type": "stream",
     "text": [
      "Cell_emb: 2, sm_emb: 32, lr = 0.0005, hidden_channels = 8  >>>  Best epoch: 716/2000, val_loss: 6.3894\n",
      "---------------------------------\n"
     ]
    },
    {
     "name": "stderr",
     "output_type": "stream",
     "text": [
      "100%|███████████████████████████████████████████████████████████████████| 2000/2000 [15:43<00:00,  2.12it/s]\n"
     ]
    },
    {
     "name": "stdout",
     "output_type": "stream",
     "text": [
      "Cell_emb: 2, sm_emb: 32, lr = 0.0005, hidden_channels = 8  >>>  Best epoch: 589/2000, val_loss: 6.4321\n",
      "---------------------------------\n"
     ]
    },
    {
     "name": "stderr",
     "output_type": "stream",
     "text": [
      "100%|███████████████████████████████████████████████████████████████████| 2000/2000 [15:47<00:00,  2.11it/s]\n"
     ]
    },
    {
     "name": "stdout",
     "output_type": "stream",
     "text": [
      "Cell_emb: 2, sm_emb: 32, lr = 0.0005, hidden_channels = 8  >>>  Best epoch: 1373/2000, val_loss: 5.5676\n",
      "---------------------------------\n"
     ]
    },
    {
     "name": "stderr",
     "output_type": "stream",
     "text": [
      "100%|███████████████████████████████████████████████████████████████████| 2000/2000 [15:43<00:00,  2.12it/s]\n"
     ]
    },
    {
     "name": "stdout",
     "output_type": "stream",
     "text": [
      "Cell_emb: 2, sm_emb: 32, lr = 0.0005, hidden_channels = 8  >>>  Best epoch: 1581/2000, val_loss: 5.5209\n",
      "---------------------------------\n"
     ]
    },
    {
     "name": "stderr",
     "output_type": "stream",
     "text": [
      "100%|███████████████████████████████████████████████████████████████████| 2000/2000 [15:41<00:00,  2.12it/s]\n"
     ]
    },
    {
     "name": "stdout",
     "output_type": "stream",
     "text": [
      "Cell_emb: 2, sm_emb: 32, lr = 0.0005, hidden_channels = 8  >>>  Best epoch: 1849/2000, val_loss: 5.6324\n",
      "---------------------------------\n"
     ]
    },
    {
     "name": "stderr",
     "output_type": "stream",
     "text": [
      "100%|███████████████████████████████████████████████████████████████████| 2000/2000 [15:42<00:00,  2.12it/s]\n"
     ]
    },
    {
     "name": "stdout",
     "output_type": "stream",
     "text": [
      "Cell_emb: 2, sm_emb: 32, lr = 0.0005, hidden_channels = 8  >>>  Best epoch: 1724/2000, val_loss: 6.4558\n",
      "---------------------------------\n"
     ]
    },
    {
     "name": "stderr",
     "output_type": "stream",
     "text": [
      "100%|███████████████████████████████████████████████████████████████████| 2000/2000 [15:37<00:00,  2.13it/s]\n"
     ]
    },
    {
     "name": "stdout",
     "output_type": "stream",
     "text": [
      "Cell_emb: 2, sm_emb: 32, lr = 0.0005, hidden_channels = 8  >>>  Best epoch: 1967/2000, val_loss: 5.3454\n",
      "---------------------------------\n"
     ]
    },
    {
     "name": "stderr",
     "output_type": "stream",
     "text": [
      "100%|███████████████████████████████████████████████████████████████████| 2000/2000 [15:43<00:00,  2.12it/s]\n"
     ]
    },
    {
     "name": "stdout",
     "output_type": "stream",
     "text": [
      "Cell_emb: 2, sm_emb: 32, lr = 0.0005, hidden_channels = 8  >>>  Best epoch: 1249/2000, val_loss: 5.5275\n",
      "---------------------------------\n"
     ]
    },
    {
     "name": "stderr",
     "output_type": "stream",
     "text": [
      "100%|███████████████████████████████████████████████████████████████████| 2000/2000 [15:39<00:00,  2.13it/s]\n"
     ]
    },
    {
     "name": "stdout",
     "output_type": "stream",
     "text": [
      "Cell_emb: 2, sm_emb: 32, lr = 0.0005, hidden_channels = 8  >>>  Best epoch: 1803/2000, val_loss: 5.1799\n",
      "---------------------------------\n"
     ]
    },
    {
     "name": "stderr",
     "output_type": "stream",
     "text": [
      "100%|███████████████████████████████████████████████████████████████████| 2000/2000 [15:39<00:00,  2.13it/s]\n"
     ]
    },
    {
     "name": "stdout",
     "output_type": "stream",
     "text": [
      "Cell_emb: 2, sm_emb: 32, lr = 0.0005, hidden_channels = 8  >>>  Best epoch: 1908/2000, val_loss: 5.7750\n",
      "---------------------------------\n"
     ]
    },
    {
     "name": "stderr",
     "output_type": "stream",
     "text": [
      "100%|███████████████████████████████████████████████████████████████████| 2000/2000 [15:38<00:00,  2.13it/s]"
     ]
    },
    {
     "name": "stdout",
     "output_type": "stream",
     "text": [
      "Cell_emb: 2, sm_emb: 32, lr = 0.0005, hidden_channels = 8  >>>  Best epoch: 1512/2000, val_loss: 5.3052\n",
      "---------------------------------\n"
     ]
    },
    {
     "name": "stderr",
     "output_type": "stream",
     "text": [
      "\n"
     ]
    }
   ],
   "source": [
    "cur_model = None\n",
    "cur_valid_loss = float('inf')\n",
    "\n",
    "cur_sub_index = 0\n",
    "\n",
    "for _ in range(20):\n",
    "\n",
    "    cur_sub_index += 1\n",
    "\n",
    "    tmp_model, tmp_valid_loss = train(data,\n",
    "                                      train_edge_indeces,\n",
    "                                      valid_edge_indeces,\n",
    "                                      train_edge2feat,\n",
    "                                      valid_edge2feat,\n",
    "                                      train_mask,\n",
    "                                      valid_mask,\n",
    "                                      cell_emb_dim=2,\n",
    "                                      sm_emb_dim=32,\n",
    "                                      lr=5e-4,\n",
    "                                      hidden_channels=8,\n",
    "                                      p_dropout=0.2,\n",
    "                                      num_epochs=2000,\n",
    "                                      print_every=-1)\n",
    "    \n",
    "    if tmp_valid_loss >= 5.0:\n",
    "        continue\n",
    "    \n",
    "    \"\"\"\n",
    "    Save all models\n",
    "    \"\"\"\n",
    "    cur_valid_loss = tmp_valid_loss\n",
    "    cur_model = tmp_model\n",
    "    cur_model_name = 'model_1028_exp6_' + str(cur_sub_index)\n",
    "    print(cur_model_name)\n",
    "    print(cur_model)\n",
    "    final_submission(data=data, model_name=cur_model_name, model=cur_model)\n",
    "    torch.save(cur_model.state_dict(), os.path.join('../pyg_models/', cur_model_name+'.pth'))"
   ]
  },
  {
   "cell_type": "code",
   "execution_count": null,
   "id": "31f99566-ca57-49d8-ae2a-02c7f3d91e9e",
   "metadata": {},
   "outputs": [],
   "source": []
  }
 ],
 "metadata": {
  "kernelspec": {
   "display_name": "Python 3 (ipykernel)",
   "language": "python",
   "name": "python3"
  },
  "language_info": {
   "codemirror_mode": {
    "name": "ipython",
    "version": 3
   },
   "file_extension": ".py",
   "mimetype": "text/x-python",
   "name": "python",
   "nbconvert_exporter": "python",
   "pygments_lexer": "ipython3",
   "version": "3.11.5"
  }
 },
 "nbformat": 4,
 "nbformat_minor": 5
}
