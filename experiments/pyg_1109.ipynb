{
 "cells": [
  {
   "cell_type": "markdown",
   "id": "d9f8c76c-1305-4d1c-ae66-052b711323ae",
   "metadata": {},
   "source": [
    "# PYG 1109"
   ]
  },
  {
   "cell_type": "markdown",
   "id": "acb868cd-9a1d-4987-bed6-11cf2b540edd",
   "metadata": {},
   "source": [
    "### Train best 3 models using cell embedding (normalized_counts) engineered from multiome data\n",
    "\n",
    "### Increase dimension of cell embedding\n",
    "\n",
    "### Put more penalty on B cells and M cells"
   ]
  },
  {
   "cell_type": "code",
   "execution_count": 1,
   "id": "4db2bd90-8ab0-4195-a3b4-fa98ec83f163",
   "metadata": {
    "tags": []
   },
   "outputs": [
    {
     "data": {
      "text/plain": [
       "device(type='cuda')"
      ]
     },
     "execution_count": 1,
     "metadata": {},
     "output_type": "execute_result"
    }
   ],
   "source": [
    "import torch\n",
    "torch.device('cuda' if torch.cuda.is_available() else 'cpu')"
   ]
  },
  {
   "cell_type": "code",
   "execution_count": 2,
   "id": "8cbf824d-1e31-4845-b532-131987e685be",
   "metadata": {},
   "outputs": [],
   "source": [
    "import pandas as pd\n",
    "import numpy as np\n",
    "import tqdm\n",
    "import torch.nn.functional as F\n",
    "import copy\n",
    "\n",
    "from transformers import RobertaTokenizerFast, RobertaForMaskedLM, DataCollatorWithPadding\n",
    "\n",
    "from torch_geometric.data import Data, HeteroData\n",
    "import torch_geometric.transforms as T\n",
    "\n",
    "from sklearn.metrics import mean_squared_error\n",
    "import copy\n",
    "\n",
    "import os"
   ]
  },
  {
   "cell_type": "markdown",
   "id": "d41114a9-4902-42af-9e8e-b2b0338e8c3a",
   "metadata": {},
   "source": [
    "## Data\n",
    "\n",
    "Number of (cell_type, sm_name) pairs: 614\n",
    "\n",
    "Number of genes expressions to predict: 18211\n",
    "\n",
    "Control molecules: `Belinostat` and `Dabrafenib`."
   ]
  },
  {
   "cell_type": "code",
   "execution_count": 3,
   "id": "b33531bf-7376-4837-bcab-4aec42f0c2ab",
   "metadata": {},
   "outputs": [
    {
     "name": "stdout",
     "output_type": "stream",
     "text": [
      "(614, 18216)\n"
     ]
    },
    {
     "data": {
      "text/html": [
       "<div>\n",
       "<style scoped>\n",
       "    .dataframe tbody tr th:only-of-type {\n",
       "        vertical-align: middle;\n",
       "    }\n",
       "\n",
       "    .dataframe tbody tr th {\n",
       "        vertical-align: top;\n",
       "    }\n",
       "\n",
       "    .dataframe thead th {\n",
       "        text-align: right;\n",
       "    }\n",
       "</style>\n",
       "<table border=\"1\" class=\"dataframe\">\n",
       "  <thead>\n",
       "    <tr style=\"text-align: right;\">\n",
       "      <th></th>\n",
       "      <th>cell_type</th>\n",
       "      <th>sm_name</th>\n",
       "      <th>sm_lincs_id</th>\n",
       "      <th>SMILES</th>\n",
       "      <th>control</th>\n",
       "      <th>A1BG</th>\n",
       "      <th>A1BG-AS1</th>\n",
       "      <th>A2M</th>\n",
       "      <th>A2M-AS1</th>\n",
       "      <th>A2MP1</th>\n",
       "      <th>...</th>\n",
       "      <th>ZUP1</th>\n",
       "      <th>ZW10</th>\n",
       "      <th>ZWILCH</th>\n",
       "      <th>ZWINT</th>\n",
       "      <th>ZXDA</th>\n",
       "      <th>ZXDB</th>\n",
       "      <th>ZXDC</th>\n",
       "      <th>ZYG11B</th>\n",
       "      <th>ZYX</th>\n",
       "      <th>ZZEF1</th>\n",
       "    </tr>\n",
       "  </thead>\n",
       "  <tbody>\n",
       "    <tr>\n",
       "      <th>0</th>\n",
       "      <td>NK cells</td>\n",
       "      <td>Clotrimazole</td>\n",
       "      <td>LSM-5341</td>\n",
       "      <td>Clc1ccccc1C(c1ccccc1)(c1ccccc1)n1ccnc1</td>\n",
       "      <td>False</td>\n",
       "      <td>0.104720</td>\n",
       "      <td>-0.077524</td>\n",
       "      <td>-1.625596</td>\n",
       "      <td>-0.144545</td>\n",
       "      <td>0.143555</td>\n",
       "      <td>...</td>\n",
       "      <td>-0.227781</td>\n",
       "      <td>-0.010752</td>\n",
       "      <td>-0.023881</td>\n",
       "      <td>0.674536</td>\n",
       "      <td>-0.453068</td>\n",
       "      <td>0.005164</td>\n",
       "      <td>-0.094959</td>\n",
       "      <td>0.034127</td>\n",
       "      <td>0.221377</td>\n",
       "      <td>0.368755</td>\n",
       "    </tr>\n",
       "    <tr>\n",
       "      <th>1</th>\n",
       "      <td>T cells CD4+</td>\n",
       "      <td>Clotrimazole</td>\n",
       "      <td>LSM-5341</td>\n",
       "      <td>Clc1ccccc1C(c1ccccc1)(c1ccccc1)n1ccnc1</td>\n",
       "      <td>False</td>\n",
       "      <td>0.915953</td>\n",
       "      <td>-0.884380</td>\n",
       "      <td>0.371834</td>\n",
       "      <td>-0.081677</td>\n",
       "      <td>-0.498266</td>\n",
       "      <td>...</td>\n",
       "      <td>-0.494985</td>\n",
       "      <td>-0.303419</td>\n",
       "      <td>0.304955</td>\n",
       "      <td>-0.333905</td>\n",
       "      <td>-0.315516</td>\n",
       "      <td>-0.369626</td>\n",
       "      <td>-0.095079</td>\n",
       "      <td>0.704780</td>\n",
       "      <td>1.096702</td>\n",
       "      <td>-0.869887</td>\n",
       "    </tr>\n",
       "    <tr>\n",
       "      <th>2</th>\n",
       "      <td>T cells CD8+</td>\n",
       "      <td>Clotrimazole</td>\n",
       "      <td>LSM-5341</td>\n",
       "      <td>Clc1ccccc1C(c1ccccc1)(c1ccccc1)n1ccnc1</td>\n",
       "      <td>False</td>\n",
       "      <td>-0.387721</td>\n",
       "      <td>-0.305378</td>\n",
       "      <td>0.567777</td>\n",
       "      <td>0.303895</td>\n",
       "      <td>-0.022653</td>\n",
       "      <td>...</td>\n",
       "      <td>-0.119422</td>\n",
       "      <td>-0.033608</td>\n",
       "      <td>-0.153123</td>\n",
       "      <td>0.183597</td>\n",
       "      <td>-0.555678</td>\n",
       "      <td>-1.494789</td>\n",
       "      <td>-0.213550</td>\n",
       "      <td>0.415768</td>\n",
       "      <td>0.078439</td>\n",
       "      <td>-0.259365</td>\n",
       "    </tr>\n",
       "    <tr>\n",
       "      <th>3</th>\n",
       "      <td>T regulatory cells</td>\n",
       "      <td>Clotrimazole</td>\n",
       "      <td>LSM-5341</td>\n",
       "      <td>Clc1ccccc1C(c1ccccc1)(c1ccccc1)n1ccnc1</td>\n",
       "      <td>False</td>\n",
       "      <td>0.232893</td>\n",
       "      <td>0.129029</td>\n",
       "      <td>0.336897</td>\n",
       "      <td>0.486946</td>\n",
       "      <td>0.767661</td>\n",
       "      <td>...</td>\n",
       "      <td>0.451679</td>\n",
       "      <td>0.704643</td>\n",
       "      <td>0.015468</td>\n",
       "      <td>-0.103868</td>\n",
       "      <td>0.865027</td>\n",
       "      <td>0.189114</td>\n",
       "      <td>0.224700</td>\n",
       "      <td>-0.048233</td>\n",
       "      <td>0.216139</td>\n",
       "      <td>-0.085024</td>\n",
       "    </tr>\n",
       "    <tr>\n",
       "      <th>4</th>\n",
       "      <td>NK cells</td>\n",
       "      <td>Mometasone Furoate</td>\n",
       "      <td>LSM-3349</td>\n",
       "      <td>C[C@@H]1C[C@H]2[C@@H]3CCC4=CC(=O)C=C[C@]4(C)[C...</td>\n",
       "      <td>False</td>\n",
       "      <td>4.290652</td>\n",
       "      <td>-0.063864</td>\n",
       "      <td>-0.017443</td>\n",
       "      <td>-0.541154</td>\n",
       "      <td>0.570982</td>\n",
       "      <td>...</td>\n",
       "      <td>0.758474</td>\n",
       "      <td>0.510762</td>\n",
       "      <td>0.607401</td>\n",
       "      <td>-0.123059</td>\n",
       "      <td>0.214366</td>\n",
       "      <td>0.487838</td>\n",
       "      <td>-0.819775</td>\n",
       "      <td>0.112365</td>\n",
       "      <td>-0.122193</td>\n",
       "      <td>0.676629</td>\n",
       "    </tr>\n",
       "    <tr>\n",
       "      <th>5</th>\n",
       "      <td>T cells CD4+</td>\n",
       "      <td>Mometasone Furoate</td>\n",
       "      <td>LSM-3349</td>\n",
       "      <td>C[C@@H]1C[C@H]2[C@@H]3CCC4=CC(=O)C=C[C@]4(C)[C...</td>\n",
       "      <td>False</td>\n",
       "      <td>0.618061</td>\n",
       "      <td>0.180148</td>\n",
       "      <td>0.590015</td>\n",
       "      <td>0.035658</td>\n",
       "      <td>0.034297</td>\n",
       "      <td>...</td>\n",
       "      <td>-1.002997</td>\n",
       "      <td>0.177514</td>\n",
       "      <td>0.591768</td>\n",
       "      <td>-0.412400</td>\n",
       "      <td>-0.011633</td>\n",
       "      <td>-0.044739</td>\n",
       "      <td>0.213627</td>\n",
       "      <td>0.186406</td>\n",
       "      <td>-1.459477</td>\n",
       "      <td>1.164084</td>\n",
       "    </tr>\n",
       "    <tr>\n",
       "      <th>6</th>\n",
       "      <td>T cells CD8+</td>\n",
       "      <td>Mometasone Furoate</td>\n",
       "      <td>LSM-3349</td>\n",
       "      <td>C[C@@H]1C[C@H]2[C@@H]3CCC4=CC(=O)C=C[C@]4(C)[C...</td>\n",
       "      <td>False</td>\n",
       "      <td>-0.148131</td>\n",
       "      <td>0.091336</td>\n",
       "      <td>-0.097212</td>\n",
       "      <td>1.225601</td>\n",
       "      <td>0.045787</td>\n",
       "      <td>...</td>\n",
       "      <td>-0.228645</td>\n",
       "      <td>0.091248</td>\n",
       "      <td>-0.581765</td>\n",
       "      <td>0.405682</td>\n",
       "      <td>-0.034414</td>\n",
       "      <td>0.296333</td>\n",
       "      <td>0.170313</td>\n",
       "      <td>0.332022</td>\n",
       "      <td>-0.532363</td>\n",
       "      <td>0.134475</td>\n",
       "    </tr>\n",
       "    <tr>\n",
       "      <th>7</th>\n",
       "      <td>T regulatory cells</td>\n",
       "      <td>Mometasone Furoate</td>\n",
       "      <td>LSM-3349</td>\n",
       "      <td>C[C@@H]1C[C@H]2[C@@H]3CCC4=CC(=O)C=C[C@]4(C)[C...</td>\n",
       "      <td>False</td>\n",
       "      <td>0.561473</td>\n",
       "      <td>0.149415</td>\n",
       "      <td>3.224920</td>\n",
       "      <td>3.517419</td>\n",
       "      <td>1.361175</td>\n",
       "      <td>...</td>\n",
       "      <td>-0.156127</td>\n",
       "      <td>0.766118</td>\n",
       "      <td>0.702836</td>\n",
       "      <td>0.949482</td>\n",
       "      <td>0.757482</td>\n",
       "      <td>1.163063</td>\n",
       "      <td>1.532419</td>\n",
       "      <td>-0.399292</td>\n",
       "      <td>-2.412165</td>\n",
       "      <td>0.478977</td>\n",
       "    </tr>\n",
       "    <tr>\n",
       "      <th>8</th>\n",
       "      <td>B cells</td>\n",
       "      <td>Idelalisib</td>\n",
       "      <td>LSM-1205</td>\n",
       "      <td>CC[C@H](Nc1ncnc2[nH]cnc12)c1nc2cccc(F)c2c(=O)n...</td>\n",
       "      <td>False</td>\n",
       "      <td>0.394173</td>\n",
       "      <td>-0.153824</td>\n",
       "      <td>0.178232</td>\n",
       "      <td>0.566241</td>\n",
       "      <td>0.391377</td>\n",
       "      <td>...</td>\n",
       "      <td>-1.052302</td>\n",
       "      <td>-1.176587</td>\n",
       "      <td>-1.220291</td>\n",
       "      <td>-0.278944</td>\n",
       "      <td>-0.095066</td>\n",
       "      <td>1.101790</td>\n",
       "      <td>0.061803</td>\n",
       "      <td>1.406335</td>\n",
       "      <td>-0.264996</td>\n",
       "      <td>-0.119743</td>\n",
       "    </tr>\n",
       "    <tr>\n",
       "      <th>9</th>\n",
       "      <td>Myeloid cells</td>\n",
       "      <td>Idelalisib</td>\n",
       "      <td>LSM-1205</td>\n",
       "      <td>CC[C@H](Nc1ncnc2[nH]cnc12)c1nc2cccc(F)c2c(=O)n...</td>\n",
       "      <td>False</td>\n",
       "      <td>0.025146</td>\n",
       "      <td>0.316388</td>\n",
       "      <td>1.366885</td>\n",
       "      <td>1.301593</td>\n",
       "      <td>2.317619</td>\n",
       "      <td>...</td>\n",
       "      <td>-0.902546</td>\n",
       "      <td>-1.445523</td>\n",
       "      <td>0.794772</td>\n",
       "      <td>0.428973</td>\n",
       "      <td>0.605834</td>\n",
       "      <td>0.271988</td>\n",
       "      <td>0.492231</td>\n",
       "      <td>0.354721</td>\n",
       "      <td>1.471559</td>\n",
       "      <td>-0.259483</td>\n",
       "    </tr>\n",
       "  </tbody>\n",
       "</table>\n",
       "<p>10 rows × 18216 columns</p>\n",
       "</div>"
      ],
      "text/plain": [
       "            cell_type             sm_name sm_lincs_id  \\\n",
       "0            NK cells        Clotrimazole    LSM-5341   \n",
       "1        T cells CD4+        Clotrimazole    LSM-5341   \n",
       "2        T cells CD8+        Clotrimazole    LSM-5341   \n",
       "3  T regulatory cells        Clotrimazole    LSM-5341   \n",
       "4            NK cells  Mometasone Furoate    LSM-3349   \n",
       "5        T cells CD4+  Mometasone Furoate    LSM-3349   \n",
       "6        T cells CD8+  Mometasone Furoate    LSM-3349   \n",
       "7  T regulatory cells  Mometasone Furoate    LSM-3349   \n",
       "8             B cells          Idelalisib    LSM-1205   \n",
       "9       Myeloid cells          Idelalisib    LSM-1205   \n",
       "\n",
       "                                              SMILES  control      A1BG  \\\n",
       "0             Clc1ccccc1C(c1ccccc1)(c1ccccc1)n1ccnc1    False  0.104720   \n",
       "1             Clc1ccccc1C(c1ccccc1)(c1ccccc1)n1ccnc1    False  0.915953   \n",
       "2             Clc1ccccc1C(c1ccccc1)(c1ccccc1)n1ccnc1    False -0.387721   \n",
       "3             Clc1ccccc1C(c1ccccc1)(c1ccccc1)n1ccnc1    False  0.232893   \n",
       "4  C[C@@H]1C[C@H]2[C@@H]3CCC4=CC(=O)C=C[C@]4(C)[C...    False  4.290652   \n",
       "5  C[C@@H]1C[C@H]2[C@@H]3CCC4=CC(=O)C=C[C@]4(C)[C...    False  0.618061   \n",
       "6  C[C@@H]1C[C@H]2[C@@H]3CCC4=CC(=O)C=C[C@]4(C)[C...    False -0.148131   \n",
       "7  C[C@@H]1C[C@H]2[C@@H]3CCC4=CC(=O)C=C[C@]4(C)[C...    False  0.561473   \n",
       "8  CC[C@H](Nc1ncnc2[nH]cnc12)c1nc2cccc(F)c2c(=O)n...    False  0.394173   \n",
       "9  CC[C@H](Nc1ncnc2[nH]cnc12)c1nc2cccc(F)c2c(=O)n...    False  0.025146   \n",
       "\n",
       "   A1BG-AS1       A2M   A2M-AS1     A2MP1  ...      ZUP1      ZW10    ZWILCH  \\\n",
       "0 -0.077524 -1.625596 -0.144545  0.143555  ... -0.227781 -0.010752 -0.023881   \n",
       "1 -0.884380  0.371834 -0.081677 -0.498266  ... -0.494985 -0.303419  0.304955   \n",
       "2 -0.305378  0.567777  0.303895 -0.022653  ... -0.119422 -0.033608 -0.153123   \n",
       "3  0.129029  0.336897  0.486946  0.767661  ...  0.451679  0.704643  0.015468   \n",
       "4 -0.063864 -0.017443 -0.541154  0.570982  ...  0.758474  0.510762  0.607401   \n",
       "5  0.180148  0.590015  0.035658  0.034297  ... -1.002997  0.177514  0.591768   \n",
       "6  0.091336 -0.097212  1.225601  0.045787  ... -0.228645  0.091248 -0.581765   \n",
       "7  0.149415  3.224920  3.517419  1.361175  ... -0.156127  0.766118  0.702836   \n",
       "8 -0.153824  0.178232  0.566241  0.391377  ... -1.052302 -1.176587 -1.220291   \n",
       "9  0.316388  1.366885  1.301593  2.317619  ... -0.902546 -1.445523  0.794772   \n",
       "\n",
       "      ZWINT      ZXDA      ZXDB      ZXDC    ZYG11B       ZYX     ZZEF1  \n",
       "0  0.674536 -0.453068  0.005164 -0.094959  0.034127  0.221377  0.368755  \n",
       "1 -0.333905 -0.315516 -0.369626 -0.095079  0.704780  1.096702 -0.869887  \n",
       "2  0.183597 -0.555678 -1.494789 -0.213550  0.415768  0.078439 -0.259365  \n",
       "3 -0.103868  0.865027  0.189114  0.224700 -0.048233  0.216139 -0.085024  \n",
       "4 -0.123059  0.214366  0.487838 -0.819775  0.112365 -0.122193  0.676629  \n",
       "5 -0.412400 -0.011633 -0.044739  0.213627  0.186406 -1.459477  1.164084  \n",
       "6  0.405682 -0.034414  0.296333  0.170313  0.332022 -0.532363  0.134475  \n",
       "7  0.949482  0.757482  1.163063  1.532419 -0.399292 -2.412165  0.478977  \n",
       "8 -0.278944 -0.095066  1.101790  0.061803  1.406335 -0.264996 -0.119743  \n",
       "9  0.428973  0.605834  0.271988  0.492231  0.354721  1.471559 -0.259483  \n",
       "\n",
       "[10 rows x 18216 columns]"
      ]
     },
     "execution_count": 3,
     "metadata": {},
     "output_type": "execute_result"
    }
   ],
   "source": [
    "df = pd.read_parquet('../data/de_train.parquet')\n",
    "\n",
    "print(df.shape)\n",
    "df.head(10)"
   ]
  },
  {
   "cell_type": "code",
   "execution_count": 4,
   "id": "06d9bf45-363f-479d-bde4-dfb80b624788",
   "metadata": {},
   "outputs": [
    {
     "name": "stdout",
     "output_type": "stream",
     "text": [
      "{'NK cells': 0, 'T cells CD4+': 1, 'T cells CD8+': 2, 'T regulatory cells': 3, 'B cells': 4, 'Myeloid cells': 5}\n"
     ]
    }
   ],
   "source": [
    "# node index for cell types\n",
    "c2index = dict()\n",
    "cur = 0\n",
    "for x in df['cell_type'].unique():\n",
    "    assert x not in c2index\n",
    "    c2index[x] = cur\n",
    "    cur += 1\n",
    "print(c2index)\n",
    "del cur"
   ]
  },
  {
   "cell_type": "code",
   "execution_count": 5,
   "id": "aea84f35-0229-4218-9d87-fd028d615538",
   "metadata": {},
   "outputs": [
    {
     "data": {
      "text/plain": [
       "146"
      ]
     },
     "execution_count": 5,
     "metadata": {},
     "output_type": "execute_result"
    }
   ],
   "source": [
    "df['sm_name'].nunique()"
   ]
  },
  {
   "cell_type": "code",
   "execution_count": 6,
   "id": "3edf4523-7f5a-49e0-be85-3c067369b3db",
   "metadata": {},
   "outputs": [
    {
     "data": {
      "text/plain": [
       "146"
      ]
     },
     "execution_count": 6,
     "metadata": {},
     "output_type": "execute_result"
    }
   ],
   "source": [
    "# Assign the list of unique small molecules\n",
    "sm_list = df['sm_name'].unique().tolist()\n",
    "len(sm_list)"
   ]
  },
  {
   "cell_type": "code",
   "execution_count": 7,
   "id": "1cabf6e0-42ae-4b31-ac31-1dc390d02b87",
   "metadata": {},
   "outputs": [
    {
     "name": "stderr",
     "output_type": "stream",
     "text": [
      "You're using a RobertaTokenizerFast tokenizer. Please note that with a fast tokenizer, using the `__call__` method is faster than using a method to encode the text followed by a call to the `pad` method to get a padded encoding.\n"
     ]
    },
    {
     "name": "stdout",
     "output_type": "stream",
     "text": [
      "{'Clotrimazole': 0, 'Mometasone Furoate': 1, 'Idelalisib': 2, 'Vandetanib': 3, 'Bosutinib': 4, 'Ceritinib': 5, 'Lamivudine': 6, 'Crizotinib': 7, 'Cabozantinib': 8, 'Flutamide': 9, 'Dasatinib': 10, 'Selumetinib': 11, 'Trametinib': 12, 'ABT-199 (GDC-0199)': 13, 'Oxybenzone': 14, 'Vorinostat': 15, 'Raloxifene': 16, 'Linagliptin': 17, 'Lapatinib': 18, 'Canertinib': 19, 'Disulfiram': 20, 'Vardenafil': 21, 'Palbociclib': 22, 'Ricolinostat': 23, 'Dabrafenib': 24, 'Proscillaridin A;Proscillaridin-A': 25, 'IN1451': 26, 'Ixabepilone': 27, 'CEP-18770 (Delanzomib)': 28, 'RG7112': 29, 'MK-5108': 30, 'Resminostat': 31, 'IMD-0354': 32, 'Alvocidib': 33, 'LY2090314': 34, 'Methotrexate': 35, 'LDN 193189': 36, 'Tacalcitol': 37, 'Colchicine': 38, 'R428': 39, 'TL_HRAS26': 40, 'BMS-387032': 41, 'CGP 60474': 42, 'TIE2 Kinase Inhibitor': 43, 'PD-0325901': 44, 'Isoniazid': 45, 'GSK-1070916': 46, 'Masitinib': 47, 'Saracatinib': 48, 'CC-401': 49, 'Decitabine': 50, 'Ketoconazole': 51, 'HYDROXYUREA': 52, 'BAY 61-3606': 53, 'Navitoclax': 54, 'Porcn Inhibitor III': 55, 'GW843682X': 56, 'Prednisolone': 57, 'Tamatinib': 58, 'Tosedostat': 59, 'GSK256066': 60, 'MGCD-265': 61, 'AZD-8330': 62, 'RN-486': 63, 'Amiodarone': 64, 'Belinostat': 65, 'RVX-208': 66, 'GO-6976': 67, 'Scriptaid': 68, 'HMN-214': 69, 'SB525334': 70, 'AVL-292': 71, 'BMS-777607': 72, 'AZD4547': 73, 'Foretinib': 74, 'Tivozanib': 75, 'Quizartinib': 76, 'IKK Inhibitor VII': 77, 'UNII-BXU45ZH6LI': 78, 'Chlorpheniramine': 79, 'Tivantinib': 80, 'CEP-37440': 81, 'TPCA-1': 82, 'AZ628': 83, 'OSI-930': 84, 'AZD3514': 85, 'Vanoxerine': 86, 'PF-03814735': 87, 'MLN 2238': 88, 'Dovitinib': 89, 'K-02288': 90, 'Midostaurin': 91, 'I-BET151': 92, 'STK219801': 93, 'PRT-062607': 94, 'AT 7867': 95, 'Sunitinib': 96, 'Penfluridol': 97, 'BMS-536924': 98, 'Perhexiline': 99, 'BI-D1870': 100, 'FK 866': 101, 'Mubritinib (TAK 165)': 102, 'Doxorubicin': 103, 'Pomalidomide': 104, 'Colforsin': 105, 'Phenylbutazone': 106, 'Protriptyline': 107, 'Buspirone': 108, 'Clomipramine': 109, 'Alogliptin': 110, 'Nefazodone': 111, 'ABT737': 112, 'Dactolisib': 113, 'Nilotinib': 114, 'Defactinib': 115, 'PF-04691502': 116, 'GLPG0634': 117, 'Sgc-cbp30': 118, 'BX 912': 119, 'SCH-58261': 120, 'Ruxolitinib': 121, 'BAY 87-2243': 122, 'O-Demethylated Adapalene': 123, 'YK 4-279': 124, 'Ganetespib (STA-9090)': 125, 'SLx-2119': 126, 'Oprozomib (ONX 0912)': 127, 'Desloratadine': 128, 'Pitavastatin Calcium': 129, 'TR-14035': 130, 'AT13387': 131, 'CHIR-99021': 132, 'RG7090': 133, 'AMD-070 (hydrochloride)': 134, 'BMS-265246': 135, 'Tipifarnib': 136, 'Imatinib': 137, 'Topotecan': 138, 'Clemastine': 139, '5-(9-Isopropyl-8-methyl-2-morpholino-9H-purin-6-yl)pyrimidin-2-amine': 140, 'CGM-097': 141, 'TGX 221': 142, 'Azacitidine': 143, 'Atorvastatin': 144, 'Riociguat': 145}\n",
      "146\n"
     ]
    }
   ],
   "source": [
    "# small molecule embedding\n",
    "tokenizer = RobertaTokenizerFast.from_pretrained(\"entropy/roberta_zinc_480m\", max_len=128)\n",
    "model = RobertaForMaskedLM.from_pretrained('entropy/roberta_zinc_480m')\n",
    "collator = DataCollatorWithPadding(tokenizer, padding=True, return_tensors='pt')\n",
    "\n",
    "# Extract SMILES embeddings\n",
    "sm2emb = dict()\n",
    "sm2index = dict()\n",
    "cur = 0\n",
    "\n",
    "for i in range(df.shape[0]):\n",
    "    sm_name = df['sm_name'].iloc[i]\n",
    "    smiles = df['SMILES'].iloc[i]\n",
    "\n",
    "\n",
    "\n",
    "    if sm_name not in sm2emb:\n",
    "\n",
    "        if True: # if sm_name not in ['Belinostat', 'Dabrafenib']:\n",
    "            sm2index[sm_name] = cur\n",
    "            cur += 1\n",
    "        \n",
    "        inputs = collator(tokenizer([smiles]))\n",
    "        outputs = model(**inputs, output_hidden_states=True)\n",
    "        full_embeddings = outputs[1][-1].detach()\n",
    "        mask = inputs['attention_mask']\n",
    "        node_embedding = ((full_embeddings * mask.unsqueeze(-1)).sum(1) / mask.sum(-1).unsqueeze(-1))\n",
    "        node_embedding = torch.squeeze(node_embedding)\n",
    "        sm2emb[sm_name] = node_embedding\n",
    "\n",
    "del cur\n",
    "\n",
    "print(sm2index)\n",
    "print(len(sm2emb))"
   ]
  },
  {
   "cell_type": "markdown",
   "id": "8d914f26-fb45-4a68-b740-1c980b2fb91a",
   "metadata": {},
   "source": [
    "## Cell embedding"
   ]
  },
  {
   "cell_type": "code",
   "execution_count": 8,
   "id": "1a4cfe67-14ce-4ca6-92a2-2faaf1adc963",
   "metadata": {
    "tags": []
   },
   "outputs": [
    {
     "data": {
      "text/html": [
       "<div>\n",
       "<style scoped>\n",
       "    .dataframe tbody tr th:only-of-type {\n",
       "        vertical-align: middle;\n",
       "    }\n",
       "\n",
       "    .dataframe tbody tr th {\n",
       "        vertical-align: top;\n",
       "    }\n",
       "\n",
       "    .dataframe thead th {\n",
       "        text-align: right;\n",
       "    }\n",
       "</style>\n",
       "<table border=\"1\" class=\"dataframe\">\n",
       "  <thead>\n",
       "    <tr style=\"text-align: right;\">\n",
       "      <th></th>\n",
       "      <th>cell_type</th>\n",
       "      <th>A1BG</th>\n",
       "      <th>A1BG-AS1</th>\n",
       "      <th>A2M</th>\n",
       "      <th>A2M-AS1</th>\n",
       "      <th>A2MP1</th>\n",
       "      <th>A4GALT</th>\n",
       "      <th>AAAS</th>\n",
       "      <th>AACS</th>\n",
       "      <th>AAGAB</th>\n",
       "      <th>...</th>\n",
       "      <th>ZUP1</th>\n",
       "      <th>ZW10</th>\n",
       "      <th>ZWILCH</th>\n",
       "      <th>ZWINT</th>\n",
       "      <th>ZXDA</th>\n",
       "      <th>ZXDB</th>\n",
       "      <th>ZXDC</th>\n",
       "      <th>ZYG11B</th>\n",
       "      <th>ZYX</th>\n",
       "      <th>ZZEF1</th>\n",
       "    </tr>\n",
       "  </thead>\n",
       "  <tbody>\n",
       "    <tr>\n",
       "      <th>0</th>\n",
       "      <td>B cells</td>\n",
       "      <td>0.286709</td>\n",
       "      <td>0.369192</td>\n",
       "      <td>0.174579</td>\n",
       "      <td>0.040980</td>\n",
       "      <td>0.0</td>\n",
       "      <td>0.004556</td>\n",
       "      <td>0.160233</td>\n",
       "      <td>0.189103</td>\n",
       "      <td>0.508853</td>\n",
       "      <td>...</td>\n",
       "      <td>0.289054</td>\n",
       "      <td>0.218039</td>\n",
       "      <td>0.146898</td>\n",
       "      <td>0.010962</td>\n",
       "      <td>0.020037</td>\n",
       "      <td>0.055597</td>\n",
       "      <td>1.411210</td>\n",
       "      <td>0.731649</td>\n",
       "      <td>0.443267</td>\n",
       "      <td>1.138623</td>\n",
       "    </tr>\n",
       "    <tr>\n",
       "      <th>1</th>\n",
       "      <td>T cells CD4+</td>\n",
       "      <td>0.345561</td>\n",
       "      <td>0.276483</td>\n",
       "      <td>0.845896</td>\n",
       "      <td>0.397363</td>\n",
       "      <td>0.0</td>\n",
       "      <td>0.004368</td>\n",
       "      <td>0.207783</td>\n",
       "      <td>0.155854</td>\n",
       "      <td>0.671557</td>\n",
       "      <td>...</td>\n",
       "      <td>0.301208</td>\n",
       "      <td>0.231177</td>\n",
       "      <td>0.164825</td>\n",
       "      <td>0.013874</td>\n",
       "      <td>0.028687</td>\n",
       "      <td>0.059835</td>\n",
       "      <td>1.596086</td>\n",
       "      <td>0.810385</td>\n",
       "      <td>0.741314</td>\n",
       "      <td>1.573785</td>\n",
       "    </tr>\n",
       "    <tr>\n",
       "      <th>2</th>\n",
       "      <td>NK cells</td>\n",
       "      <td>0.198593</td>\n",
       "      <td>0.193077</td>\n",
       "      <td>2.525363</td>\n",
       "      <td>1.321400</td>\n",
       "      <td>0.0</td>\n",
       "      <td>0.006829</td>\n",
       "      <td>0.171567</td>\n",
       "      <td>0.138596</td>\n",
       "      <td>0.623483</td>\n",
       "      <td>...</td>\n",
       "      <td>0.264486</td>\n",
       "      <td>0.229794</td>\n",
       "      <td>0.147945</td>\n",
       "      <td>0.006202</td>\n",
       "      <td>0.010658</td>\n",
       "      <td>0.045880</td>\n",
       "      <td>1.375194</td>\n",
       "      <td>0.478963</td>\n",
       "      <td>0.794888</td>\n",
       "      <td>1.440577</td>\n",
       "    </tr>\n",
       "    <tr>\n",
       "      <th>3</th>\n",
       "      <td>Myeloid cells</td>\n",
       "      <td>0.426668</td>\n",
       "      <td>0.309088</td>\n",
       "      <td>0.842713</td>\n",
       "      <td>0.053280</td>\n",
       "      <td>0.0</td>\n",
       "      <td>0.057028</td>\n",
       "      <td>0.291705</td>\n",
       "      <td>0.120023</td>\n",
       "      <td>0.786532</td>\n",
       "      <td>...</td>\n",
       "      <td>0.578372</td>\n",
       "      <td>0.530244</td>\n",
       "      <td>0.217056</td>\n",
       "      <td>0.023516</td>\n",
       "      <td>0.014606</td>\n",
       "      <td>0.034963</td>\n",
       "      <td>1.783012</td>\n",
       "      <td>1.385160</td>\n",
       "      <td>1.725515</td>\n",
       "      <td>2.837625</td>\n",
       "    </tr>\n",
       "    <tr>\n",
       "      <th>4</th>\n",
       "      <td>T regulatory cells</td>\n",
       "      <td>0.244087</td>\n",
       "      <td>0.152090</td>\n",
       "      <td>0.146131</td>\n",
       "      <td>0.053442</td>\n",
       "      <td>0.0</td>\n",
       "      <td>0.000000</td>\n",
       "      <td>0.135021</td>\n",
       "      <td>0.064394</td>\n",
       "      <td>0.656290</td>\n",
       "      <td>...</td>\n",
       "      <td>0.242616</td>\n",
       "      <td>0.191995</td>\n",
       "      <td>0.124759</td>\n",
       "      <td>0.048676</td>\n",
       "      <td>0.023823</td>\n",
       "      <td>0.053844</td>\n",
       "      <td>1.144881</td>\n",
       "      <td>0.647710</td>\n",
       "      <td>0.464262</td>\n",
       "      <td>1.315307</td>\n",
       "    </tr>\n",
       "  </tbody>\n",
       "</table>\n",
       "<p>5 rows × 18212 columns</p>\n",
       "</div>"
      ],
      "text/plain": [
       "            cell_type      A1BG  A1BG-AS1       A2M   A2M-AS1  A2MP1  \\\n",
       "0             B cells  0.286709  0.369192  0.174579  0.040980    0.0   \n",
       "1        T cells CD4+  0.345561  0.276483  0.845896  0.397363    0.0   \n",
       "2            NK cells  0.198593  0.193077  2.525363  1.321400    0.0   \n",
       "3       Myeloid cells  0.426668  0.309088  0.842713  0.053280    0.0   \n",
       "4  T regulatory cells  0.244087  0.152090  0.146131  0.053442    0.0   \n",
       "\n",
       "     A4GALT      AAAS      AACS     AAGAB  ...      ZUP1      ZW10    ZWILCH  \\\n",
       "0  0.004556  0.160233  0.189103  0.508853  ...  0.289054  0.218039  0.146898   \n",
       "1  0.004368  0.207783  0.155854  0.671557  ...  0.301208  0.231177  0.164825   \n",
       "2  0.006829  0.171567  0.138596  0.623483  ...  0.264486  0.229794  0.147945   \n",
       "3  0.057028  0.291705  0.120023  0.786532  ...  0.578372  0.530244  0.217056   \n",
       "4  0.000000  0.135021  0.064394  0.656290  ...  0.242616  0.191995  0.124759   \n",
       "\n",
       "      ZWINT      ZXDA      ZXDB      ZXDC    ZYG11B       ZYX     ZZEF1  \n",
       "0  0.010962  0.020037  0.055597  1.411210  0.731649  0.443267  1.138623  \n",
       "1  0.013874  0.028687  0.059835  1.596086  0.810385  0.741314  1.573785  \n",
       "2  0.006202  0.010658  0.045880  1.375194  0.478963  0.794888  1.440577  \n",
       "3  0.023516  0.014606  0.034963  1.783012  1.385160  1.725515  2.837625  \n",
       "4  0.048676  0.023823  0.053844  1.144881  0.647710  0.464262  1.315307  \n",
       "\n",
       "[5 rows x 18212 columns]"
      ]
     },
     "execution_count": 8,
     "metadata": {},
     "output_type": "execute_result"
    }
   ],
   "source": [
    "# cell embedding\n",
    "c2emb_df = pd.read_csv('./cell_emb_normcnt.csv')\n",
    "c2emb_df.head()"
   ]
  },
  {
   "cell_type": "markdown",
   "id": "10e098c1-97cf-449e-add9-7f83e8ab7b1c",
   "metadata": {},
   "source": [
    "## Heterogenous Graph\n",
    "\n",
    "#### Cell nodes (c_nodes)\n",
    "\n",
    "There are 6 nodes for each unique cell types.\n",
    "\n",
    "#### Small molecule nodes (sm_nodes)\n",
    "\n",
    "There are 146 unique nodes for each small molecules.\n",
    "\n",
    "SMILES embedding are used as node embeddings (node_emb_dim = 768)."
   ]
  },
  {
   "cell_type": "code",
   "execution_count": 9,
   "id": "fc9afd51-fd95-415b-9c96-12c5da8346b4",
   "metadata": {},
   "outputs": [],
   "source": [
    "# initialize graph\n",
    "data = HeteroData()\n",
    "\n",
    "# number of unique cell nodes and sm nodes\n",
    "data['cell'].node_id = torch.arange(6)\n",
    "data['sm'].node_id = torch.arange(146) # 144 or 146\n",
    "\n",
    "## initialize cell node emb\n",
    "cell_node_x = []\n",
    "\n",
    "for cell_type, cell_index in c2index.items():\n",
    "    #cell_node_x.append([cell_index])  # turn of cell embedding\n",
    "    cell_node_x.append(c2emb_df[c2emb_df['cell_type']==cell_type].values[0][1:].tolist())\n",
    "    \n",
    "\n",
    "cell_node_x = torch.from_numpy(np.array(cell_node_x)).float()\n",
    "data['cell'].x = cell_node_x\n",
    "\n",
    "#print(data['cell'].x\n",
    "assert data['cell'].x.shape == (6, 18211)\n",
    "\n",
    "## initialize sm node emb\n",
    "data['sm'].x = torch.from_numpy(np.array([sm2emb[y].tolist() for y in sm_list])).float()\n",
    "assert data['sm'].x.shape == (146, 768)"
   ]
  },
  {
   "cell_type": "markdown",
   "id": "c4820ca3-4c8e-44f6-b869-6002239112cb",
   "metadata": {},
   "source": [
    "## Edges"
   ]
  },
  {
   "cell_type": "code",
   "execution_count": 10,
   "id": "1d1408e3-fd56-4e12-8f44-1634694fc7c0",
   "metadata": {},
   "outputs": [],
   "source": [
    "def add_edges(data):\n",
    "    \n",
    "    edge_index_c2sm = []\n",
    "\n",
    "    for cell_index in range(6):\n",
    "        for sm_index in range(146):\n",
    "            edge_index_c2sm.append([cell_index, sm_index])\n",
    "\n",
    "    print(\"Adding {} edges\".format(len(edge_index_c2sm)))\n",
    "    data['cell', 'gene_exp', 'sm'].edge_index = torch.tensor(edge_index_c2sm).t().contiguous().long()    \n",
    "        \n",
    "    # convert into bidirecitonal\n",
    "    data = T.ToUndirected()(data)\n",
    "\n",
    "    # data split (all for training)\n",
    "    transform = T.RandomLinkSplit(\n",
    "        num_val=0.0,\n",
    "        num_test=0.0,\n",
    "        is_undirected=True,\n",
    "        disjoint_train_ratio=0.0,  # was 0.3\n",
    "        neg_sampling_ratio=0.0,  # was 2.0\n",
    "        add_negative_train_samples=False,\n",
    "        edge_types=('cell', 'gene_exp', 'sm'),\n",
    "        rev_edge_types=('sm', 'rev_gene_exp', 'cell'), \n",
    "    )\n",
    "    \n",
    "    train_data, _, _ = transform(data)\n",
    "    \n",
    "    return train_data"
   ]
  },
  {
   "cell_type": "code",
   "execution_count": 11,
   "id": "fcb1b6d0-bc13-4c97-ad36-4ef465938007",
   "metadata": {},
   "outputs": [
    {
     "name": "stdout",
     "output_type": "stream",
     "text": [
      "Adding 876 edges\n",
      "HeteroData(\n",
      "  cell={\n",
      "    node_id=[6],\n",
      "    x=[6, 18211],\n",
      "  },\n",
      "  sm={\n",
      "    node_id=[146],\n",
      "    x=[146, 768],\n",
      "  },\n",
      "  (cell, gene_exp, sm)={\n",
      "    edge_index=[2, 876],\n",
      "    edge_label=[876],\n",
      "    edge_label_index=[2, 876],\n",
      "  },\n",
      "  (sm, rev_gene_exp, cell)={ edge_index=[2, 876] }\n",
      ")\n"
     ]
    }
   ],
   "source": [
    "data = add_edges(data)\n",
    "\n",
    "print(data)"
   ]
  },
  {
   "cell_type": "markdown",
   "id": "fb8420b6-94c4-4e3d-8fa3-73bbd26808b4",
   "metadata": {},
   "source": [
    "## Train/Validation/Test Splits"
   ]
  },
  {
   "cell_type": "code",
   "execution_count": 12,
   "id": "999b631f-f5c4-4369-8ce2-2fbe6bff85d1",
   "metadata": {},
   "outputs": [
    {
     "data": {
      "text/html": [
       "<div>\n",
       "<style scoped>\n",
       "    .dataframe tbody tr th:only-of-type {\n",
       "        vertical-align: middle;\n",
       "    }\n",
       "\n",
       "    .dataframe tbody tr th {\n",
       "        vertical-align: top;\n",
       "    }\n",
       "\n",
       "    .dataframe thead th {\n",
       "        text-align: right;\n",
       "    }\n",
       "</style>\n",
       "<table border=\"1\" class=\"dataframe\">\n",
       "  <thead>\n",
       "    <tr style=\"text-align: right;\">\n",
       "      <th></th>\n",
       "      <th>cell_type</th>\n",
       "      <th>sm_name</th>\n",
       "      <th>sm_lincs_id</th>\n",
       "      <th>SMILES</th>\n",
       "      <th>control</th>\n",
       "      <th>A1BG</th>\n",
       "      <th>A1BG-AS1</th>\n",
       "      <th>A2M</th>\n",
       "      <th>A2M-AS1</th>\n",
       "      <th>A2MP1</th>\n",
       "      <th>...</th>\n",
       "      <th>ZUP1</th>\n",
       "      <th>ZW10</th>\n",
       "      <th>ZWILCH</th>\n",
       "      <th>ZWINT</th>\n",
       "      <th>ZXDA</th>\n",
       "      <th>ZXDB</th>\n",
       "      <th>ZXDC</th>\n",
       "      <th>ZYG11B</th>\n",
       "      <th>ZYX</th>\n",
       "      <th>ZZEF1</th>\n",
       "    </tr>\n",
       "  </thead>\n",
       "  <tbody>\n",
       "    <tr>\n",
       "      <th>0</th>\n",
       "      <td>NK cells</td>\n",
       "      <td>Clotrimazole</td>\n",
       "      <td>LSM-5341</td>\n",
       "      <td>Clc1ccccc1C(c1ccccc1)(c1ccccc1)n1ccnc1</td>\n",
       "      <td>False</td>\n",
       "      <td>0.104720</td>\n",
       "      <td>-0.077524</td>\n",
       "      <td>-1.625596</td>\n",
       "      <td>-0.144545</td>\n",
       "      <td>0.143555</td>\n",
       "      <td>...</td>\n",
       "      <td>-0.227781</td>\n",
       "      <td>-0.010752</td>\n",
       "      <td>-0.023881</td>\n",
       "      <td>0.674536</td>\n",
       "      <td>-0.453068</td>\n",
       "      <td>0.005164</td>\n",
       "      <td>-0.094959</td>\n",
       "      <td>0.034127</td>\n",
       "      <td>0.221377</td>\n",
       "      <td>0.368755</td>\n",
       "    </tr>\n",
       "    <tr>\n",
       "      <th>1</th>\n",
       "      <td>T cells CD4+</td>\n",
       "      <td>Clotrimazole</td>\n",
       "      <td>LSM-5341</td>\n",
       "      <td>Clc1ccccc1C(c1ccccc1)(c1ccccc1)n1ccnc1</td>\n",
       "      <td>False</td>\n",
       "      <td>0.915953</td>\n",
       "      <td>-0.884380</td>\n",
       "      <td>0.371834</td>\n",
       "      <td>-0.081677</td>\n",
       "      <td>-0.498266</td>\n",
       "      <td>...</td>\n",
       "      <td>-0.494985</td>\n",
       "      <td>-0.303419</td>\n",
       "      <td>0.304955</td>\n",
       "      <td>-0.333905</td>\n",
       "      <td>-0.315516</td>\n",
       "      <td>-0.369626</td>\n",
       "      <td>-0.095079</td>\n",
       "      <td>0.704780</td>\n",
       "      <td>1.096702</td>\n",
       "      <td>-0.869887</td>\n",
       "    </tr>\n",
       "    <tr>\n",
       "      <th>2</th>\n",
       "      <td>T cells CD8+</td>\n",
       "      <td>Clotrimazole</td>\n",
       "      <td>LSM-5341</td>\n",
       "      <td>Clc1ccccc1C(c1ccccc1)(c1ccccc1)n1ccnc1</td>\n",
       "      <td>False</td>\n",
       "      <td>-0.387721</td>\n",
       "      <td>-0.305378</td>\n",
       "      <td>0.567777</td>\n",
       "      <td>0.303895</td>\n",
       "      <td>-0.022653</td>\n",
       "      <td>...</td>\n",
       "      <td>-0.119422</td>\n",
       "      <td>-0.033608</td>\n",
       "      <td>-0.153123</td>\n",
       "      <td>0.183597</td>\n",
       "      <td>-0.555678</td>\n",
       "      <td>-1.494789</td>\n",
       "      <td>-0.213550</td>\n",
       "      <td>0.415768</td>\n",
       "      <td>0.078439</td>\n",
       "      <td>-0.259365</td>\n",
       "    </tr>\n",
       "    <tr>\n",
       "      <th>3</th>\n",
       "      <td>T regulatory cells</td>\n",
       "      <td>Clotrimazole</td>\n",
       "      <td>LSM-5341</td>\n",
       "      <td>Clc1ccccc1C(c1ccccc1)(c1ccccc1)n1ccnc1</td>\n",
       "      <td>False</td>\n",
       "      <td>0.232893</td>\n",
       "      <td>0.129029</td>\n",
       "      <td>0.336897</td>\n",
       "      <td>0.486946</td>\n",
       "      <td>0.767661</td>\n",
       "      <td>...</td>\n",
       "      <td>0.451679</td>\n",
       "      <td>0.704643</td>\n",
       "      <td>0.015468</td>\n",
       "      <td>-0.103868</td>\n",
       "      <td>0.865027</td>\n",
       "      <td>0.189114</td>\n",
       "      <td>0.224700</td>\n",
       "      <td>-0.048233</td>\n",
       "      <td>0.216139</td>\n",
       "      <td>-0.085024</td>\n",
       "    </tr>\n",
       "    <tr>\n",
       "      <th>4</th>\n",
       "      <td>NK cells</td>\n",
       "      <td>Mometasone Furoate</td>\n",
       "      <td>LSM-3349</td>\n",
       "      <td>C[C@@H]1C[C@H]2[C@@H]3CCC4=CC(=O)C=C[C@]4(C)[C...</td>\n",
       "      <td>False</td>\n",
       "      <td>4.290652</td>\n",
       "      <td>-0.063864</td>\n",
       "      <td>-0.017443</td>\n",
       "      <td>-0.541154</td>\n",
       "      <td>0.570982</td>\n",
       "      <td>...</td>\n",
       "      <td>0.758474</td>\n",
       "      <td>0.510762</td>\n",
       "      <td>0.607401</td>\n",
       "      <td>-0.123059</td>\n",
       "      <td>0.214366</td>\n",
       "      <td>0.487838</td>\n",
       "      <td>-0.819775</td>\n",
       "      <td>0.112365</td>\n",
       "      <td>-0.122193</td>\n",
       "      <td>0.676629</td>\n",
       "    </tr>\n",
       "  </tbody>\n",
       "</table>\n",
       "<p>5 rows × 18216 columns</p>\n",
       "</div>"
      ],
      "text/plain": [
       "            cell_type             sm_name sm_lincs_id  \\\n",
       "0            NK cells        Clotrimazole    LSM-5341   \n",
       "1        T cells CD4+        Clotrimazole    LSM-5341   \n",
       "2        T cells CD8+        Clotrimazole    LSM-5341   \n",
       "3  T regulatory cells        Clotrimazole    LSM-5341   \n",
       "4            NK cells  Mometasone Furoate    LSM-3349   \n",
       "\n",
       "                                              SMILES  control      A1BG  \\\n",
       "0             Clc1ccccc1C(c1ccccc1)(c1ccccc1)n1ccnc1    False  0.104720   \n",
       "1             Clc1ccccc1C(c1ccccc1)(c1ccccc1)n1ccnc1    False  0.915953   \n",
       "2             Clc1ccccc1C(c1ccccc1)(c1ccccc1)n1ccnc1    False -0.387721   \n",
       "3             Clc1ccccc1C(c1ccccc1)(c1ccccc1)n1ccnc1    False  0.232893   \n",
       "4  C[C@@H]1C[C@H]2[C@@H]3CCC4=CC(=O)C=C[C@]4(C)[C...    False  4.290652   \n",
       "\n",
       "   A1BG-AS1       A2M   A2M-AS1     A2MP1  ...      ZUP1      ZW10    ZWILCH  \\\n",
       "0 -0.077524 -1.625596 -0.144545  0.143555  ... -0.227781 -0.010752 -0.023881   \n",
       "1 -0.884380  0.371834 -0.081677 -0.498266  ... -0.494985 -0.303419  0.304955   \n",
       "2 -0.305378  0.567777  0.303895 -0.022653  ... -0.119422 -0.033608 -0.153123   \n",
       "3  0.129029  0.336897  0.486946  0.767661  ...  0.451679  0.704643  0.015468   \n",
       "4 -0.063864 -0.017443 -0.541154  0.570982  ...  0.758474  0.510762  0.607401   \n",
       "\n",
       "      ZWINT      ZXDA      ZXDB      ZXDC    ZYG11B       ZYX     ZZEF1  \n",
       "0  0.674536 -0.453068  0.005164 -0.094959  0.034127  0.221377  0.368755  \n",
       "1 -0.333905 -0.315516 -0.369626 -0.095079  0.704780  1.096702 -0.869887  \n",
       "2  0.183597 -0.555678 -1.494789 -0.213550  0.415768  0.078439 -0.259365  \n",
       "3 -0.103868  0.865027  0.189114  0.224700 -0.048233  0.216139 -0.085024  \n",
       "4 -0.123059  0.214366  0.487838 -0.819775  0.112365 -0.122193  0.676629  \n",
       "\n",
       "[5 rows x 18216 columns]"
      ]
     },
     "execution_count": 12,
     "metadata": {},
     "output_type": "execute_result"
    }
   ],
   "source": [
    "df.head()"
   ]
  },
  {
   "cell_type": "code",
   "execution_count": 13,
   "id": "f3c01692-1887-4078-83b1-fa2ec781e46a",
   "metadata": {},
   "outputs": [],
   "source": [
    "from sklearn.model_selection import train_test_split\n",
    "\n",
    "train_df, valid_df = train_test_split(df, test_size=0.2, random_state=14, shuffle=True, stratify=df['cell_type'])\n",
    "\n",
    "\n",
    "# all edge indeces and gene expressions for training\n",
    "train_edge_indeces = set()\n",
    "train_edge2feat = dict()\n",
    "\n",
    "for i in range(train_df.shape[0]):\n",
    "    cell_idx = c2index[train_df.iloc[i]['cell_type']]\n",
    "    sm_idx = sm2index[train_df.iloc[i]['sm_name']]\n",
    "\n",
    "    train_edge_indeces.add((cell_idx, sm_idx))\n",
    "    \n",
    "    train_edge2feat[(cell_idx, sm_idx)] = train_df.iloc[i, 5:].values.tolist()\n",
    "    assert len(train_edge2feat[(cell_idx, sm_idx)]) == 18211\n",
    "\n",
    "\n",
    "# all edge indeces and gene expressions for validation\n",
    "valid_edge_indeces = set()\n",
    "valid_edge2feat = dict()\n",
    "\n",
    "for i in range(valid_df.shape[0]):\n",
    "    cell_idx = c2index[valid_df.iloc[i]['cell_type']]\n",
    "    sm_idx = sm2index[valid_df.iloc[i]['sm_name']]\n",
    "\n",
    "    valid_edge_indeces.add((cell_idx, sm_idx))\n",
    "    \n",
    "    valid_edge2feat[(cell_idx, sm_idx)] = valid_df.iloc[i, 5:].values.tolist()\n",
    "    assert len(valid_edge2feat[(cell_idx, sm_idx)]) == 18211"
   ]
  },
  {
   "cell_type": "code",
   "execution_count": 14,
   "id": "2b8b4bf3-b33e-47f7-8546-53e952a67f57",
   "metadata": {},
   "outputs": [
    {
     "name": "stdout",
     "output_type": "stream",
     "text": [
      "(491, 18216)\n"
     ]
    },
    {
     "data": {
      "text/html": [
       "<div>\n",
       "<style scoped>\n",
       "    .dataframe tbody tr th:only-of-type {\n",
       "        vertical-align: middle;\n",
       "    }\n",
       "\n",
       "    .dataframe tbody tr th {\n",
       "        vertical-align: top;\n",
       "    }\n",
       "\n",
       "    .dataframe thead th {\n",
       "        text-align: right;\n",
       "    }\n",
       "</style>\n",
       "<table border=\"1\" class=\"dataframe\">\n",
       "  <thead>\n",
       "    <tr style=\"text-align: right;\">\n",
       "      <th></th>\n",
       "      <th>cell_type</th>\n",
       "      <th>sm_name</th>\n",
       "      <th>sm_lincs_id</th>\n",
       "      <th>SMILES</th>\n",
       "      <th>control</th>\n",
       "      <th>A1BG</th>\n",
       "      <th>A1BG-AS1</th>\n",
       "      <th>A2M</th>\n",
       "      <th>A2M-AS1</th>\n",
       "      <th>A2MP1</th>\n",
       "      <th>...</th>\n",
       "      <th>ZUP1</th>\n",
       "      <th>ZW10</th>\n",
       "      <th>ZWILCH</th>\n",
       "      <th>ZWINT</th>\n",
       "      <th>ZXDA</th>\n",
       "      <th>ZXDB</th>\n",
       "      <th>ZXDC</th>\n",
       "      <th>ZYG11B</th>\n",
       "      <th>ZYX</th>\n",
       "      <th>ZZEF1</th>\n",
       "    </tr>\n",
       "  </thead>\n",
       "  <tbody>\n",
       "    <tr>\n",
       "      <th>373</th>\n",
       "      <td>NK cells</td>\n",
       "      <td>MLN 2238</td>\n",
       "      <td>LSM-4944</td>\n",
       "      <td>CC(C)C[C@H](NC(=O)CNC(=O)c1cc(Cl)ccc1Cl)B(O)O</td>\n",
       "      <td>False</td>\n",
       "      <td>9.497701</td>\n",
       "      <td>5.478697</td>\n",
       "      <td>0.129686</td>\n",
       "      <td>-2.328127</td>\n",
       "      <td>5.732667</td>\n",
       "      <td>...</td>\n",
       "      <td>1.047863</td>\n",
       "      <td>3.069138</td>\n",
       "      <td>3.280055</td>\n",
       "      <td>5.284819</td>\n",
       "      <td>5.440957</td>\n",
       "      <td>5.702465</td>\n",
       "      <td>2.486294</td>\n",
       "      <td>1.484651</td>\n",
       "      <td>-1.385248</td>\n",
       "      <td>0.063061</td>\n",
       "    </tr>\n",
       "    <tr>\n",
       "      <th>391</th>\n",
       "      <td>T cells CD8+</td>\n",
       "      <td>I-BET151</td>\n",
       "      <td>LSM-6335</td>\n",
       "      <td>COc1cc2c(cc1-c1c(C)noc1C)ncc1[nH]c(=O)n([C@H](...</td>\n",
       "      <td>False</td>\n",
       "      <td>-0.012250</td>\n",
       "      <td>0.174611</td>\n",
       "      <td>-0.099221</td>\n",
       "      <td>-0.134166</td>\n",
       "      <td>0.143319</td>\n",
       "      <td>...</td>\n",
       "      <td>-0.301498</td>\n",
       "      <td>-0.534493</td>\n",
       "      <td>-0.066710</td>\n",
       "      <td>0.647332</td>\n",
       "      <td>0.153865</td>\n",
       "      <td>0.478001</td>\n",
       "      <td>0.884914</td>\n",
       "      <td>0.558577</td>\n",
       "      <td>-1.453534</td>\n",
       "      <td>1.611454</td>\n",
       "    </tr>\n",
       "    <tr>\n",
       "      <th>568</th>\n",
       "      <td>T cells CD8+</td>\n",
       "      <td>AMD-070 (hydrochloride)</td>\n",
       "      <td>LSM-45591</td>\n",
       "      <td>NCCCCN(Cc1nc2ccccc2[nH]1)[C@H]1CCCc2cccnc21</td>\n",
       "      <td>False</td>\n",
       "      <td>0.909501</td>\n",
       "      <td>-0.011053</td>\n",
       "      <td>0.622651</td>\n",
       "      <td>-0.315069</td>\n",
       "      <td>0.142047</td>\n",
       "      <td>...</td>\n",
       "      <td>0.042186</td>\n",
       "      <td>0.001675</td>\n",
       "      <td>0.263338</td>\n",
       "      <td>0.077565</td>\n",
       "      <td>-0.028096</td>\n",
       "      <td>-0.006699</td>\n",
       "      <td>-0.175771</td>\n",
       "      <td>-0.451758</td>\n",
       "      <td>0.163957</td>\n",
       "      <td>-0.320038</td>\n",
       "    </tr>\n",
       "    <tr>\n",
       "      <th>15</th>\n",
       "      <td>T cells CD4+</td>\n",
       "      <td>Vandetanib</td>\n",
       "      <td>LSM-1199</td>\n",
       "      <td>COc1cc2c(Nc3ccc(Br)cc3F)ncnc2cc1OCC1CCN(C)CC1</td>\n",
       "      <td>False</td>\n",
       "      <td>0.106623</td>\n",
       "      <td>0.006949</td>\n",
       "      <td>0.424472</td>\n",
       "      <td>-0.124439</td>\n",
       "      <td>1.123565</td>\n",
       "      <td>...</td>\n",
       "      <td>-0.053448</td>\n",
       "      <td>0.072833</td>\n",
       "      <td>-0.421440</td>\n",
       "      <td>0.067708</td>\n",
       "      <td>1.215890</td>\n",
       "      <td>0.226569</td>\n",
       "      <td>0.084715</td>\n",
       "      <td>-0.668755</td>\n",
       "      <td>0.798338</td>\n",
       "      <td>-0.060044</td>\n",
       "    </tr>\n",
       "    <tr>\n",
       "      <th>190</th>\n",
       "      <td>T cells CD4+</td>\n",
       "      <td>PD-0325901</td>\n",
       "      <td>LSM-1101</td>\n",
       "      <td>O=C(NOC[C@H](O)CO)c1ccc(F)c(F)c1Nc1ccc(I)cc1F</td>\n",
       "      <td>False</td>\n",
       "      <td>-0.237122</td>\n",
       "      <td>-0.694187</td>\n",
       "      <td>0.395870</td>\n",
       "      <td>0.210085</td>\n",
       "      <td>-0.081793</td>\n",
       "      <td>...</td>\n",
       "      <td>-1.153235</td>\n",
       "      <td>-0.131176</td>\n",
       "      <td>0.497080</td>\n",
       "      <td>0.604248</td>\n",
       "      <td>0.313291</td>\n",
       "      <td>-0.730704</td>\n",
       "      <td>1.744382</td>\n",
       "      <td>1.603138</td>\n",
       "      <td>-0.143792</td>\n",
       "      <td>-0.194503</td>\n",
       "    </tr>\n",
       "  </tbody>\n",
       "</table>\n",
       "<p>5 rows × 18216 columns</p>\n",
       "</div>"
      ],
      "text/plain": [
       "        cell_type                  sm_name sm_lincs_id  \\\n",
       "373      NK cells                 MLN 2238    LSM-4944   \n",
       "391  T cells CD8+                 I-BET151    LSM-6335   \n",
       "568  T cells CD8+  AMD-070 (hydrochloride)   LSM-45591   \n",
       "15   T cells CD4+               Vandetanib    LSM-1199   \n",
       "190  T cells CD4+               PD-0325901    LSM-1101   \n",
       "\n",
       "                                                SMILES  control      A1BG  \\\n",
       "373      CC(C)C[C@H](NC(=O)CNC(=O)c1cc(Cl)ccc1Cl)B(O)O    False  9.497701   \n",
       "391  COc1cc2c(cc1-c1c(C)noc1C)ncc1[nH]c(=O)n([C@H](...    False -0.012250   \n",
       "568        NCCCCN(Cc1nc2ccccc2[nH]1)[C@H]1CCCc2cccnc21    False  0.909501   \n",
       "15       COc1cc2c(Nc3ccc(Br)cc3F)ncnc2cc1OCC1CCN(C)CC1    False  0.106623   \n",
       "190      O=C(NOC[C@H](O)CO)c1ccc(F)c(F)c1Nc1ccc(I)cc1F    False -0.237122   \n",
       "\n",
       "     A1BG-AS1       A2M   A2M-AS1     A2MP1  ...      ZUP1      ZW10  \\\n",
       "373  5.478697  0.129686 -2.328127  5.732667  ...  1.047863  3.069138   \n",
       "391  0.174611 -0.099221 -0.134166  0.143319  ... -0.301498 -0.534493   \n",
       "568 -0.011053  0.622651 -0.315069  0.142047  ...  0.042186  0.001675   \n",
       "15   0.006949  0.424472 -0.124439  1.123565  ... -0.053448  0.072833   \n",
       "190 -0.694187  0.395870  0.210085 -0.081793  ... -1.153235 -0.131176   \n",
       "\n",
       "       ZWILCH     ZWINT      ZXDA      ZXDB      ZXDC    ZYG11B       ZYX  \\\n",
       "373  3.280055  5.284819  5.440957  5.702465  2.486294  1.484651 -1.385248   \n",
       "391 -0.066710  0.647332  0.153865  0.478001  0.884914  0.558577 -1.453534   \n",
       "568  0.263338  0.077565 -0.028096 -0.006699 -0.175771 -0.451758  0.163957   \n",
       "15  -0.421440  0.067708  1.215890  0.226569  0.084715 -0.668755  0.798338   \n",
       "190  0.497080  0.604248  0.313291 -0.730704  1.744382  1.603138 -0.143792   \n",
       "\n",
       "        ZZEF1  \n",
       "373  0.063061  \n",
       "391  1.611454  \n",
       "568 -0.320038  \n",
       "15  -0.060044  \n",
       "190 -0.194503  \n",
       "\n",
       "[5 rows x 18216 columns]"
      ]
     },
     "execution_count": 14,
     "metadata": {},
     "output_type": "execute_result"
    }
   ],
   "source": [
    "print(train_df.shape)\n",
    "train_df.head()"
   ]
  },
  {
   "cell_type": "code",
   "execution_count": 15,
   "id": "94c28ec7-cdcd-4767-8742-6aed5728d219",
   "metadata": {},
   "outputs": [
    {
     "name": "stdout",
     "output_type": "stream",
     "text": [
      "(123, 18216)\n"
     ]
    },
    {
     "data": {
      "text/html": [
       "<div>\n",
       "<style scoped>\n",
       "    .dataframe tbody tr th:only-of-type {\n",
       "        vertical-align: middle;\n",
       "    }\n",
       "\n",
       "    .dataframe tbody tr th {\n",
       "        vertical-align: top;\n",
       "    }\n",
       "\n",
       "    .dataframe thead th {\n",
       "        text-align: right;\n",
       "    }\n",
       "</style>\n",
       "<table border=\"1\" class=\"dataframe\">\n",
       "  <thead>\n",
       "    <tr style=\"text-align: right;\">\n",
       "      <th></th>\n",
       "      <th>cell_type</th>\n",
       "      <th>sm_name</th>\n",
       "      <th>sm_lincs_id</th>\n",
       "      <th>SMILES</th>\n",
       "      <th>control</th>\n",
       "      <th>A1BG</th>\n",
       "      <th>A1BG-AS1</th>\n",
       "      <th>A2M</th>\n",
       "      <th>A2M-AS1</th>\n",
       "      <th>A2MP1</th>\n",
       "      <th>...</th>\n",
       "      <th>ZUP1</th>\n",
       "      <th>ZW10</th>\n",
       "      <th>ZWILCH</th>\n",
       "      <th>ZWINT</th>\n",
       "      <th>ZXDA</th>\n",
       "      <th>ZXDB</th>\n",
       "      <th>ZXDC</th>\n",
       "      <th>ZYG11B</th>\n",
       "      <th>ZYX</th>\n",
       "      <th>ZZEF1</th>\n",
       "    </tr>\n",
       "  </thead>\n",
       "  <tbody>\n",
       "    <tr>\n",
       "      <th>342</th>\n",
       "      <td>T regulatory cells</td>\n",
       "      <td>Tivantinib</td>\n",
       "      <td>LSM-1131</td>\n",
       "      <td>O=C1NC(=O)[C@@H](c2cn3c4c(cccc24)CCC3)[C@@H]1c...</td>\n",
       "      <td>False</td>\n",
       "      <td>0.193286</td>\n",
       "      <td>0.665367</td>\n",
       "      <td>-0.142059</td>\n",
       "      <td>0.047231</td>\n",
       "      <td>-0.062032</td>\n",
       "      <td>...</td>\n",
       "      <td>0.086186</td>\n",
       "      <td>-0.119378</td>\n",
       "      <td>0.071182</td>\n",
       "      <td>-0.694750</td>\n",
       "      <td>0.225487</td>\n",
       "      <td>0.352343</td>\n",
       "      <td>-0.127136</td>\n",
       "      <td>0.499296</td>\n",
       "      <td>0.904340</td>\n",
       "      <td>0.266353</td>\n",
       "    </tr>\n",
       "    <tr>\n",
       "      <th>244</th>\n",
       "      <td>T cells CD4+</td>\n",
       "      <td>Prednisolone</td>\n",
       "      <td>LSM-24954</td>\n",
       "      <td>C[C@]12C=CC(=O)C=C1CC[C@@H]1[C@@H]2[C@@H](O)C[...</td>\n",
       "      <td>False</td>\n",
       "      <td>0.134272</td>\n",
       "      <td>-0.051087</td>\n",
       "      <td>0.516691</td>\n",
       "      <td>-0.391710</td>\n",
       "      <td>-0.411336</td>\n",
       "      <td>...</td>\n",
       "      <td>-0.842898</td>\n",
       "      <td>-0.443645</td>\n",
       "      <td>1.415605</td>\n",
       "      <td>-0.823260</td>\n",
       "      <td>-0.084823</td>\n",
       "      <td>0.622433</td>\n",
       "      <td>0.845683</td>\n",
       "      <td>1.280901</td>\n",
       "      <td>-2.258758</td>\n",
       "      <td>0.635675</td>\n",
       "    </tr>\n",
       "    <tr>\n",
       "      <th>343</th>\n",
       "      <td>NK cells</td>\n",
       "      <td>CEP-37440</td>\n",
       "      <td>LSM-45849</td>\n",
       "      <td>CNC(=O)c1ccccc1Nc1nc(Nc2ccc3c(c2OC)CCC[C@H](N2...</td>\n",
       "      <td>False</td>\n",
       "      <td>0.791306</td>\n",
       "      <td>0.738089</td>\n",
       "      <td>-0.599179</td>\n",
       "      <td>-0.372779</td>\n",
       "      <td>-0.930951</td>\n",
       "      <td>...</td>\n",
       "      <td>-0.029370</td>\n",
       "      <td>-0.345004</td>\n",
       "      <td>0.096796</td>\n",
       "      <td>-0.287745</td>\n",
       "      <td>-0.267073</td>\n",
       "      <td>2.065996</td>\n",
       "      <td>0.243810</td>\n",
       "      <td>0.488007</td>\n",
       "      <td>-0.436535</td>\n",
       "      <td>0.361004</td>\n",
       "    </tr>\n",
       "    <tr>\n",
       "      <th>313</th>\n",
       "      <td>B cells</td>\n",
       "      <td>Foretinib</td>\n",
       "      <td>LSM-1158</td>\n",
       "      <td>COc1cc2c(Oc3ccc(NC(=O)C4(C(=O)Nc5ccc(F)cc5)CC4...</td>\n",
       "      <td>False</td>\n",
       "      <td>-0.176871</td>\n",
       "      <td>0.320933</td>\n",
       "      <td>0.532543</td>\n",
       "      <td>0.570455</td>\n",
       "      <td>0.725136</td>\n",
       "      <td>...</td>\n",
       "      <td>-0.432899</td>\n",
       "      <td>0.017530</td>\n",
       "      <td>-0.110185</td>\n",
       "      <td>0.207273</td>\n",
       "      <td>-0.184022</td>\n",
       "      <td>0.858617</td>\n",
       "      <td>0.271281</td>\n",
       "      <td>-0.311170</td>\n",
       "      <td>-0.230995</td>\n",
       "      <td>-1.423259</td>\n",
       "    </tr>\n",
       "    <tr>\n",
       "      <th>243</th>\n",
       "      <td>NK cells</td>\n",
       "      <td>Prednisolone</td>\n",
       "      <td>LSM-24954</td>\n",
       "      <td>C[C@]12C=CC(=O)C=C1CC[C@@H]1[C@@H]2[C@@H](O)C[...</td>\n",
       "      <td>False</td>\n",
       "      <td>0.054650</td>\n",
       "      <td>0.401233</td>\n",
       "      <td>0.258088</td>\n",
       "      <td>-0.396746</td>\n",
       "      <td>0.355001</td>\n",
       "      <td>...</td>\n",
       "      <td>0.093196</td>\n",
       "      <td>0.051984</td>\n",
       "      <td>-0.114204</td>\n",
       "      <td>-0.170931</td>\n",
       "      <td>-0.600998</td>\n",
       "      <td>0.242447</td>\n",
       "      <td>0.009419</td>\n",
       "      <td>0.249872</td>\n",
       "      <td>-1.248088</td>\n",
       "      <td>-0.018520</td>\n",
       "    </tr>\n",
       "  </tbody>\n",
       "</table>\n",
       "<p>5 rows × 18216 columns</p>\n",
       "</div>"
      ],
      "text/plain": [
       "              cell_type       sm_name sm_lincs_id  \\\n",
       "342  T regulatory cells    Tivantinib    LSM-1131   \n",
       "244        T cells CD4+  Prednisolone   LSM-24954   \n",
       "343            NK cells     CEP-37440   LSM-45849   \n",
       "313             B cells     Foretinib    LSM-1158   \n",
       "243            NK cells  Prednisolone   LSM-24954   \n",
       "\n",
       "                                                SMILES  control      A1BG  \\\n",
       "342  O=C1NC(=O)[C@@H](c2cn3c4c(cccc24)CCC3)[C@@H]1c...    False  0.193286   \n",
       "244  C[C@]12C=CC(=O)C=C1CC[C@@H]1[C@@H]2[C@@H](O)C[...    False  0.134272   \n",
       "343  CNC(=O)c1ccccc1Nc1nc(Nc2ccc3c(c2OC)CCC[C@H](N2...    False  0.791306   \n",
       "313  COc1cc2c(Oc3ccc(NC(=O)C4(C(=O)Nc5ccc(F)cc5)CC4...    False -0.176871   \n",
       "243  C[C@]12C=CC(=O)C=C1CC[C@@H]1[C@@H]2[C@@H](O)C[...    False  0.054650   \n",
       "\n",
       "     A1BG-AS1       A2M   A2M-AS1     A2MP1  ...      ZUP1      ZW10  \\\n",
       "342  0.665367 -0.142059  0.047231 -0.062032  ...  0.086186 -0.119378   \n",
       "244 -0.051087  0.516691 -0.391710 -0.411336  ... -0.842898 -0.443645   \n",
       "343  0.738089 -0.599179 -0.372779 -0.930951  ... -0.029370 -0.345004   \n",
       "313  0.320933  0.532543  0.570455  0.725136  ... -0.432899  0.017530   \n",
       "243  0.401233  0.258088 -0.396746  0.355001  ...  0.093196  0.051984   \n",
       "\n",
       "       ZWILCH     ZWINT      ZXDA      ZXDB      ZXDC    ZYG11B       ZYX  \\\n",
       "342  0.071182 -0.694750  0.225487  0.352343 -0.127136  0.499296  0.904340   \n",
       "244  1.415605 -0.823260 -0.084823  0.622433  0.845683  1.280901 -2.258758   \n",
       "343  0.096796 -0.287745 -0.267073  2.065996  0.243810  0.488007 -0.436535   \n",
       "313 -0.110185  0.207273 -0.184022  0.858617  0.271281 -0.311170 -0.230995   \n",
       "243 -0.114204 -0.170931 -0.600998  0.242447  0.009419  0.249872 -1.248088   \n",
       "\n",
       "        ZZEF1  \n",
       "342  0.266353  \n",
       "244  0.635675  \n",
       "343  0.361004  \n",
       "313 -1.423259  \n",
       "243 -0.018520  \n",
       "\n",
       "[5 rows x 18216 columns]"
      ]
     },
     "execution_count": 15,
     "metadata": {},
     "output_type": "execute_result"
    }
   ],
   "source": [
    "print(valid_df.shape)\n",
    "valid_df.head()"
   ]
  },
  {
   "cell_type": "code",
   "execution_count": 16,
   "id": "5b1ce556-56b1-4a6b-a70e-061edfff2e7d",
   "metadata": {
    "tags": []
   },
   "outputs": [
    {
     "data": {
      "text/plain": [
       "(27, 18216)"
      ]
     },
     "execution_count": 16,
     "metadata": {},
     "output_type": "execute_result"
    }
   ],
   "source": [
    "train_df[train_df['cell_type'].isin(['B cells', 'Myeloid cells'])].shape"
   ]
  },
  {
   "cell_type": "code",
   "execution_count": 17,
   "id": "981d405c-f7ae-4919-a8f3-9a2a30137d45",
   "metadata": {
    "tags": []
   },
   "outputs": [
    {
     "data": {
      "text/plain": [
       "(7, 18216)"
      ]
     },
     "execution_count": 17,
     "metadata": {},
     "output_type": "execute_result"
    }
   ],
   "source": [
    "valid_df[valid_df['cell_type'].isin(['B cells', 'Myeloid cells'])].shape"
   ]
  },
  {
   "cell_type": "markdown",
   "id": "9afeb884-d7e5-475c-880e-dd0b1219941e",
   "metadata": {},
   "source": [
    "## Training routines"
   ]
  },
  {
   "cell_type": "code",
   "execution_count": 18,
   "id": "35817f9b-9707-4bf7-9a4b-1b0c3b39ab05",
   "metadata": {},
   "outputs": [
    {
     "data": {
      "text/plain": [
       "HeteroData(\n",
       "  cell={\n",
       "    node_id=[6],\n",
       "    x=[6, 18211],\n",
       "  },\n",
       "  sm={\n",
       "    node_id=[146],\n",
       "    x=[146, 768],\n",
       "  },\n",
       "  (cell, gene_exp, sm)={\n",
       "    edge_index=[2, 876],\n",
       "    edge_label=[876],\n",
       "    edge_label_index=[2, 876],\n",
       "  },\n",
       "  (sm, rev_gene_exp, cell)={ edge_index=[2, 876] }\n",
       ")"
      ]
     },
     "execution_count": 18,
     "metadata": {},
     "output_type": "execute_result"
    }
   ],
   "source": [
    "data"
   ]
  },
  {
   "cell_type": "code",
   "execution_count": 19,
   "id": "03039c13-f857-44f8-bc03-02e5bb92ea37",
   "metadata": {},
   "outputs": [
    {
     "name": "stdout",
     "output_type": "stream",
     "text": [
      "torch.Size([2, 876])\n"
     ]
    },
    {
     "data": {
      "text/plain": [
       "tensor([[  4,   4,   0,  ...,   1,   2,   1],\n",
       "        [132, 129, 118,  ...,  85, 133,  22]])"
      ]
     },
     "execution_count": 19,
     "metadata": {},
     "output_type": "execute_result"
    }
   ],
   "source": [
    "print(data['cell', 'gene_exp', 'sm'].edge_label_index.shape)\n",
    "data['cell', 'gene_exp', 'sm'].edge_label_index"
   ]
  },
  {
   "cell_type": "code",
   "execution_count": 20,
   "id": "820b0c66-ee77-4753-a27f-beb7b7aeff5e",
   "metadata": {},
   "outputs": [
    {
     "name": "stdout",
     "output_type": "stream",
     "text": [
      "tensor(491.)\n",
      "tensor([[ True, False,  True,  ...,  True,  True,  True],\n",
      "        [ True, False,  True,  ...,  True,  True,  True]])\n",
      "tensor(123.)\n",
      "tensor([[False, False, False,  ..., False, False, False],\n",
      "        [False, False, False,  ..., False, False, False]])\n"
     ]
    }
   ],
   "source": [
    "train_mask = torch.zeros_like(data['cell', 'gene_exp', 'sm'].edge_label_index, dtype=torch.bool)\n",
    "valid_mask = torch.zeros_like(data['cell', 'gene_exp', 'sm'].edge_label_index, dtype=torch.bool)\n",
    "\n",
    "for i in range(data['cell', 'gene_exp', 'sm'].edge_label_index.shape[1]):\n",
    "    if (data['cell', 'gene_exp', 'sm'].edge_label_index[0, i].item(), data['cell', 'gene_exp', 'sm'].edge_label_index[1, i].item()) in train_edge_indeces:\n",
    "        train_mask[:, i] = True\n",
    "    if (data['cell', 'gene_exp', 'sm'].edge_label_index[0, i].item(), data['cell', 'gene_exp', 'sm'].edge_label_index[1, i].item()) in valid_edge_indeces:\n",
    "        valid_mask[:, i] = True\n",
    "\n",
    "print(train_mask.sum()/2)\n",
    "print(train_mask)\n",
    "\n",
    "print(valid_mask.sum()/2)\n",
    "print(valid_mask)"
   ]
  },
  {
   "cell_type": "code",
   "execution_count": 21,
   "id": "b742d6d9-b4a5-4b51-97e4-1a691ef9cde7",
   "metadata": {
    "tags": []
   },
   "outputs": [
    {
     "name": "stdout",
     "output_type": "stream",
     "text": [
      "tensor(292.)\n",
      "tensor([[ True,  True, False,  ..., False, False, False],\n",
      "        [ True,  True, False,  ..., False, False, False]])\n"
     ]
    }
   ],
   "source": [
    "BM_mask = torch.zeros_like(data['cell', 'gene_exp', 'sm'].edge_label_index, dtype=torch.bool)\n",
    "\n",
    "for i in range(data['cell', 'gene_exp', 'sm'].edge_label_index.shape[1]):\n",
    "    if data['cell', 'gene_exp', 'sm'].edge_label_index[0, i].item() in [c2index['B cells'], c2index['Myeloid cells']]:\n",
    "        BM_mask[:, i] = True\n",
    "        \n",
    "print(BM_mask.sum()/2)\n",
    "print(BM_mask)"
   ]
  },
  {
   "cell_type": "code",
   "execution_count": 22,
   "id": "691333fd-d35b-44cc-a76e-ad36eb478710",
   "metadata": {},
   "outputs": [],
   "source": [
    "def train(data,\n",
    "          train_edge_indeces,\n",
    "          valid_edge_indeces,\n",
    "          train_edge2feat,\n",
    "          valid_edge2feat,\n",
    "          train_mask,\n",
    "          valid_mask,\n",
    "          BM_mask,\n",
    "          alpha=1.0,\n",
    "          cell_emb_dim=1,\n",
    "          sm_emb_dim=4,\n",
    "          lr=0.01,\n",
    "          hidden_channels=32,\n",
    "          p_dropout=0.1,\n",
    "          num_epochs=100,\n",
    "          print_every=1):\n",
    "    \n",
    "    # clone data\n",
    "    data = data.clone()\n",
    "    \n",
    "    # show device information\n",
    "    device = torch.device('cuda' if torch.cuda.is_available() else 'cpu')\n",
    "\n",
    "    # create model (data, cell_emb_dim, sm_emb_dim, hidden_channels, p_dropout)\n",
    "    model = Model(data=data,\n",
    "                  cell_emb_dim=cell_emb_dim,\n",
    "                  sm_emb_dim=sm_emb_dim,\n",
    "                  hidden_channels=hidden_channels,\n",
    "                  p_dropout=p_dropout).to(device)\n",
    "    \n",
    "    model = model.to(device)\n",
    "    \n",
    "    # print hypoparameters and model settings\n",
    "    if print_every > 0:\n",
    "        print(\"Device: {}, lr = {}, hidden_channels = {}, num_epochs = {}\".format(device, lr, hidden_channels, num_epochs))\n",
    "        print(model)\n",
    "\n",
    "    # prepare data\n",
    "    data = data.to(device)\n",
    "    \n",
    "    train_BM_mask = np.logical_and(train_mask, BM_mask).to(device).bool()\n",
    "    valid_BM_mask = np.logical_and(valid_mask, BM_mask).to(device).bool()\n",
    "    \n",
    "    train_mask = train_mask.to(device)\n",
    "    valid_mask = valid_mask.to(device)\n",
    "    BM_mask = BM_mask.to(device)\n",
    "    \n",
    "    # optimizer\n",
    "    optimizer = torch.optim.Adam(model.parameters(), lr=lr)\n",
    "    \n",
    "    # model with best performance\n",
    "    best_epoch = 0\n",
    "    best_valid_loss = float('inf')\n",
    "    best_model = copy.deepcopy(model)\n",
    "    \n",
    "    # ground truths for training and validation\n",
    "    with torch.no_grad():\n",
    "        target = []\n",
    "        traget_BM = []\n",
    "        \n",
    "        valid_target = []\n",
    "        valid_target_BM = []\n",
    "        \n",
    "        for i in range(data['cell', 'gene_exp', 'sm'].edge_label_index.shape[1]):\n",
    "            cell_idx = data['cell', 'gene_exp', 'sm'].edge_label_index[0, i].item()\n",
    "            sm_idx = data['cell', 'gene_exp', 'sm'].edge_label_index[1, i].item()\n",
    "\n",
    "            # training\n",
    "            if (cell_idx, sm_idx) in train_edge_indeces:\n",
    "                target.append([train_edge2feat[(cell_idx, sm_idx)]])\n",
    "                \n",
    "                # training + kaggle targets\n",
    "                if cell_idx in [c2index['B cells'], c2index['Myeloid cells']]:\n",
    "                    traget_BM.append([train_edge2feat[(cell_idx, sm_idx)]])\n",
    "            \n",
    "            # validation\n",
    "            elif (cell_idx, sm_idx) in valid_edge_indeces:\n",
    "                valid_target.append([valid_edge2feat[(cell_idx, sm_idx)]])\n",
    "                \n",
    "                # validation + kaggle targets\n",
    "                if cell_idx in [c2index['B cells'], c2index['Myeloid cells']]:\n",
    "                    valid_target_BM.append([valid_edge2feat[(cell_idx, sm_idx)]])    \n",
    "                    \n",
    "\n",
    "        target = torch.from_numpy(np.array(target)).float().squeeze().to(device)  # (491, 18211)\n",
    "        target_BM = torch.from_numpy(np.array(traget_BM)).float().squeeze().to(device)  # (27, 18211)\n",
    "\n",
    "        valid_target = torch.from_numpy(np.array(valid_target)).float().squeeze()  # (123, 18211)\n",
    "        valid_target_BM = torch.from_numpy(np.array(valid_target_BM)).float().squeeze()  # (7, 18211)\n",
    "        \n",
    "        \n",
    "        N_train = target.shape[0]\n",
    "        N_train_BM = target_BM.shape[0]\n",
    "        \n",
    "        N_valid = valid_target.shape[0]\n",
    "        N_valid_BM = valid_target_BM.shape[0]\n",
    "    \n",
    "    \n",
    "    for epoch in tqdm.tqdm(range(1, num_epochs+1)):\n",
    "                \n",
    "        optimizer.zero_grad()\n",
    "        \n",
    "        \"\"\"\n",
    "        Train\n",
    "        \"\"\"\n",
    "        model.train()\n",
    "        pred = model(data)  # (876, 18211)\n",
    "               \n",
    "        # 1107 edited\n",
    "        total_train_loss = (alpha-1.0)*(N_train_BM/N_train)*F.mse_loss(pred[train_BM_mask[0]], target_BM) + F.mse_loss(pred[train_mask[0]], target)\n",
    "\n",
    "        total_train_loss.backward()\n",
    "        optimizer.step()\n",
    "        \n",
    "        \"\"\"\n",
    "        Validation\n",
    "        \"\"\"\n",
    "        model.eval()\n",
    "        with torch.no_grad():\n",
    "            \n",
    "            total_valid_loss = (alpha-1.0)*(N_valid_BM/N_valid)*mean_squared_error(valid_target_BM.numpy(), pred[valid_BM_mask[0]].detach().cpu().numpy()) + \\\n",
    "                               mean_squared_error(valid_target.numpy(), pred[valid_mask[0]].detach().cpu().numpy())\n",
    "               \n",
    "            # check if model is better\n",
    "            if total_valid_loss < best_valid_loss:\n",
    "                best_epoch = epoch\n",
    "                best_valid_loss = total_valid_loss\n",
    "                best_model = copy.deepcopy(model)\n",
    "                best_status = '<<<'\n",
    "            else:\n",
    "                best_status = ''\n",
    "\n",
    "        if print_every > 0:\n",
    "            if (epoch-1) % print_every == 0:\n",
    "                print(\"Epoch: {:03d}, Loss: {:.4f}, Val: {:.4f} {}\".format(epoch, total_train_loss, total_valid_loss, best_status))\n",
    "            elif epoch == num_epochs:\n",
    "                print(\"Epoch: {:03d}, Loss: {:.4f}, Val: {:.4f} {}\".format(epoch, total_train_loss, total_valid_loss, best_status))\n",
    "\n",
    "    if print_every > 0:\n",
    "        print(\"\\nBest epoch: {}, val_loss: {:.4f}\".format(best_epoch, best_valid_loss))\n",
    "    else:\n",
    "        print(\"Cell_emb: {}, sm_emb: {}, lr = {}, hidden_channels = {}  >>>  \".format(cell_emb_dim, sm_emb_dim, lr, hidden_channels) +\n",
    "              \"Best epoch: {}/{}, val_loss: {:.4f}\".format(best_epoch, num_epochs, best_valid_loss))\n",
    "        \n",
    "    print(\"---------------------------------\")\n",
    "    return best_model, best_valid_loss"
   ]
  },
  {
   "cell_type": "code",
   "execution_count": 23,
   "id": "ed1a400d-81d6-45b3-9ff9-93acb8576645",
   "metadata": {},
   "outputs": [],
   "source": [
    "def final_submission(data, model_name='test_model', model=None):\n",
    "\n",
    "    assert model is not None\n",
    "    \n",
    "    data = data.clone()\n",
    "    \n",
    "    ## load test indeces\n",
    "    id_map = pd.read_csv('../data/id_map.csv')\n",
    "    assert id_map.shape[0] == 255\n",
    "    #print(\"ID map loaded\")\n",
    "    #print(id_map.shape)\n",
    "\n",
    "    ## load template\n",
    "    res_df = pd.read_csv('../data/sample_submission.csv')\n",
    "    assert res_df.shape[0] == 255\n",
    "    #print(\"Submission template loaded\")\n",
    "    #print(res_df.shape)\n",
    "\n",
    "    ## device\n",
    "    device = torch.device('cuda' if torch.cuda.is_available() else 'cpu')\n",
    "    \n",
    "    ## load model\n",
    "    model = copy.deepcopy(model).to(device)\n",
    "    model.eval()\n",
    "    \n",
    "    data = data.to(device)\n",
    "    \n",
    "    ## Inference\n",
    "    with torch.no_grad():\n",
    "        pred = model(data).detach().cpu().numpy()  # (876, 18211)\n",
    "        \n",
    "    for i in tqdm.tqdm(range(id_map.shape[0])):\n",
    "        cell_idx = c2index[id_map['cell_type'].iloc[i]]\n",
    "        sm_idx = sm2index[id_map['sm_name'].iloc[i]]\n",
    "\n",
    "        all_edge_indeces = data['cell', 'gene_exp', 'sm'].edge_label_index\n",
    "        #print(all_edge_indeces)\n",
    "        \n",
    "        for j in range(all_edge_indeces.shape[1]):\n",
    "            if all_edge_indeces[0, j].item() == cell_idx and all_edge_indeces[1, j].item() == sm_idx:\n",
    "                #print(\"{} + {} | {:.4f}\".format(id_map['cell_type'].iloc[i],\n",
    "                #                                     id_map['sm_name'].iloc[i],\n",
    "                #                                     pred[j, :].sum()))\n",
    "                \n",
    "                #print(\"{}\".format(pred[j, :3]))\n",
    "                res_df.iloc[i, 1:] = pred[j, :]\n",
    "                break\n",
    "                \n",
    "    res_df.to_csv('../submissions/' + model_name + '.csv', index=False)\n",
    "    print(\"File saved.\")\n",
    "    print(res_df.shape)\n",
    "\n",
    "    # sanity check\n",
    "    tmp = pd.read_csv('../submissions/' + model_name + '.csv')\n",
    "    assert tmp.shape == res_df.shape\n",
    "\n",
    "    del tmp\n"
   ]
  },
  {
   "cell_type": "markdown",
   "id": "0da68056-cdd2-4c86-9b31-8b9514e6b4d8",
   "metadata": {},
   "source": [
    "### Experiment 1\n",
    "\n",
    "### Remove linear for sm embedding"
   ]
  },
  {
   "cell_type": "code",
   "execution_count": 28,
   "id": "bb047409-775b-41a6-90d4-5ee236d64e02",
   "metadata": {
    "tags": []
   },
   "outputs": [],
   "source": [
    "from torch_geometric.nn import SAGEConv, to_hetero\n",
    "from torch.nn import Linear, Dropout, Embedding\n",
    "import torch.nn.functional as F\n",
    "\n",
    "class GNN(torch.nn.Module):\n",
    "    \"\"\"\n",
    "    Compute node embedding\n",
    "    \"\"\"\n",
    "    def __init__(self, hidden_channels, p_dropout=0.2):\n",
    "        super().__init__()       \n",
    "        self.conv1 = SAGEConv(-1, hidden_channels, normalize=True)\n",
    "        self.conv2 = SAGEConv(hidden_channels, hidden_channels, normalize=True)\n",
    "        self.dropout1 = Dropout(p=p_dropout)\n",
    "        \n",
    "    def forward(self, x, edge_index):\n",
    "        x = self.dropout1(F.elu(self.conv1(x, edge_index)))        \n",
    "        x = self.conv2(x, edge_index)\n",
    "        return x\n",
    "\n",
    "class MLP(torch.nn.Module):\n",
    "    \"\"\"\n",
    "    Model that predicts the gene expression given node features at the two ends\n",
    "    \n",
    "    1020: Change inner layer from (1024, 1024) units to (256, 256) units \n",
    "    \"\"\"\n",
    "    def __init__(self, hidden_channels, p_dropout=0.2):\n",
    "        super().__init__()\n",
    "\n",
    "        self.dropout1 = Dropout(p=p_dropout)\n",
    "        self.dropout2 = Dropout(p=p_dropout)\n",
    "        \n",
    "        self.layer1 = Linear(2*hidden_channels, 256)\n",
    "        self.layer2 = Linear(256, 1024)\n",
    "        self.layer3 = Linear(1024, 18211)\n",
    "    \n",
    "    def forward(self, x_cell, x_sm, edge_label_index):\n",
    "        \n",
    "        # Retrieve embeddings from the two nodes\n",
    "        feat_cell = x_cell[edge_label_index[0]]  # dim = hidden_channels\n",
    "        feat_sm = x_sm[edge_label_index[1]]  #  dim = hidden_channels\n",
    "\n",
    "        # calculate the gene expression\n",
    "        y = torch.cat((feat_cell, feat_sm), dim=1)  # dim = 2*hidden_channels\n",
    "        \n",
    "        y = F.relu(self.layer1(y))  # dim = 256\n",
    "        y = self.dropout1(y)\n",
    "        \n",
    "        y = F.relu(self.layer2(y))  # dim = 1024\n",
    "        y = self.dropout2(y)\n",
    "        \n",
    "        y = self.layer3(y)  # dim = 18211\n",
    "        \n",
    "        return y\n",
    "\n",
    "\n",
    "class Model(torch.nn.Module):\n",
    "    def __init__(self, data, cell_emb_dim, sm_emb_dim, hidden_channels, p_dropout):\n",
    "        super().__init__()\n",
    "\n",
    "        # cell emb for each cell type\n",
    "        self.cell_emb = Embedding(data[\"cell\"].num_nodes, cell_emb_dim)\n",
    "        \n",
    "        \"\"\"\n",
    "        1027 - change from hidden_channels to 64\n",
    "        \"\"\"\n",
    "        # cell emb leveraging control gene expression\n",
    "        #self.cell_lin = Linear(18211, hidden_channels)\n",
    "        self.cell_lin = Linear(18211, 64)\n",
    "\n",
    "        # sm emb for each sm type\n",
    "        if sm_emb_dim > 0:\n",
    "            self.sm_emb = Embedding(data[\"sm\"].num_nodes, sm_emb_dim)\n",
    "        else:\n",
    "            self.sm_emb = None\n",
    "        # sm emb leveraging SMILES embedding\n",
    "        self.sm_lin = Linear(768, hidden_channels)\n",
    "        \n",
    "        # Instantiate homogeneous GNN:\n",
    "        self.gnn = GNN(hidden_channels=hidden_channels, p_dropout=p_dropout)\n",
    "        # Convert GNN model into a heterogeneous variant:\n",
    "        self.gnn = to_hetero(self.gnn, metadata=data.metadata())\n",
    "        \n",
    "        self.MLP = MLP(hidden_channels=hidden_channels, p_dropout=p_dropout)\n",
    "        \n",
    "                \n",
    "    def forward(self, data):\n",
    "        # calculate node embedding\n",
    "        #x_cell = self.cell_emb(data[\"cell\"].node_id)\n",
    "        x_cell = torch.cat((self.cell_emb(data[\"cell\"].node_id), self.cell_lin(data[\"cell\"].x)), dim=1)\n",
    "        \n",
    "        \n",
    "        if self.sm_emb:\n",
    "            #x_sm = torch.cat((self.sm_emb(data[\"sm\"].node_id), self.sm_lin(data[\"sm\"].x)), dim=1)\n",
    "            x_sm = torch.cat((self.sm_emb(data[\"sm\"].node_id), data[\"sm\"].x), dim=1)\n",
    "        else:\n",
    "            #x_sm = self.sm_lin(data[\"sm\"].x)\n",
    "            x_sm = data[\"sm\"].x\n",
    "            \n",
    "        \n",
    "        x_dict = {\n",
    "          \"cell\": x_cell,\n",
    "          \"sm\": x_sm,\n",
    "        } \n",
    "\n",
    "        # compute final node embedding\n",
    "        x_dict = self.gnn(x_dict, data.edge_index_dict)\n",
    "\n",
    "        # Use node embedding to predict gene expression\n",
    "        pred = self.MLP(\n",
    "            x_dict[\"cell\"],\n",
    "            x_dict[\"sm\"],\n",
    "            data[\"cell\", \"gene_exp\", \"sm\"].edge_label_index,\n",
    "        )\n",
    "        return pred"
   ]
  },
  {
   "cell_type": "code",
   "execution_count": 25,
   "id": "f06f9376-62dc-47c8-ae0b-86fbde5180ff",
   "metadata": {},
   "outputs": [
    {
     "name": "stderr",
     "output_type": "stream",
     "text": [
      "/home/songmao/anaconda3/envs/pyg/lib/python3.11/site-packages/torch/overrides.py:110: UserWarning: 'has_cuda' is deprecated, please use 'torch.backends.cuda.is_built()'\n",
      "  torch.has_cuda,\n",
      "/home/songmao/anaconda3/envs/pyg/lib/python3.11/site-packages/torch/overrides.py:111: UserWarning: 'has_cudnn' is deprecated, please use 'torch.backends.cudnn.is_available()'\n",
      "  torch.has_cudnn,\n",
      "/home/songmao/anaconda3/envs/pyg/lib/python3.11/site-packages/torch/overrides.py:117: UserWarning: 'has_mps' is deprecated, please use 'torch.backends.mps.is_built()'\n",
      "  torch.has_mps,\n",
      "/home/songmao/anaconda3/envs/pyg/lib/python3.11/site-packages/torch/overrides.py:118: UserWarning: 'has_mkldnn' is deprecated, please use 'torch.backends.mkldnn.is_available()'\n",
      "  torch.has_mkldnn,\n",
      "100%|███████████████████████████████████████████████████████████████████| 2000/2000 [00:53<00:00, 37.38it/s]\n"
     ]
    },
    {
     "name": "stdout",
     "output_type": "stream",
     "text": [
      "Cell_emb: 2, sm_emb: 32, lr = 0.0005, hidden_channels = 16  >>>  Best epoch: 1565/2000, val_loss: 4.8852\n",
      "---------------------------------\n"
     ]
    },
    {
     "name": "stderr",
     "output_type": "stream",
     "text": [
      "100%|███████████████████████████████████████████████████████████████████| 2000/2000 [00:52<00:00, 37.83it/s]\n"
     ]
    },
    {
     "name": "stdout",
     "output_type": "stream",
     "text": [
      "Cell_emb: 2, sm_emb: 32, lr = 0.0005, hidden_channels = 16  >>>  Best epoch: 1645/2000, val_loss: 5.3835\n",
      "---------------------------------\n"
     ]
    },
    {
     "name": "stderr",
     "output_type": "stream",
     "text": [
      "100%|███████████████████████████████████████████████████████████████████| 2000/2000 [00:52<00:00, 37.75it/s]\n"
     ]
    },
    {
     "name": "stdout",
     "output_type": "stream",
     "text": [
      "Cell_emb: 2, sm_emb: 32, lr = 0.0005, hidden_channels = 16  >>>  Best epoch: 1951/2000, val_loss: 4.3765\n",
      "---------------------------------\n"
     ]
    },
    {
     "name": "stderr",
     "output_type": "stream",
     "text": [
      "100%|███████████████████████████████████████████████████████████████████| 2000/2000 [00:52<00:00, 38.18it/s]\n"
     ]
    },
    {
     "name": "stdout",
     "output_type": "stream",
     "text": [
      "Cell_emb: 2, sm_emb: 32, lr = 0.0005, hidden_channels = 16  >>>  Best epoch: 1440/2000, val_loss: 4.8766\n",
      "---------------------------------\n"
     ]
    },
    {
     "name": "stderr",
     "output_type": "stream",
     "text": [
      "100%|███████████████████████████████████████████████████████████████████| 2000/2000 [00:52<00:00, 37.78it/s]\n"
     ]
    },
    {
     "name": "stdout",
     "output_type": "stream",
     "text": [
      "Cell_emb: 2, sm_emb: 32, lr = 0.0005, hidden_channels = 16  >>>  Best epoch: 1563/2000, val_loss: 4.2816\n",
      "---------------------------------\n"
     ]
    },
    {
     "name": "stderr",
     "output_type": "stream",
     "text": [
      "100%|███████████████████████████████████████████████████████████████████| 2000/2000 [00:53<00:00, 37.48it/s]\n"
     ]
    },
    {
     "name": "stdout",
     "output_type": "stream",
     "text": [
      "Cell_emb: 2, sm_emb: 32, lr = 0.0005, hidden_channels = 16  >>>  Best epoch: 1963/2000, val_loss: 4.8542\n",
      "---------------------------------\n"
     ]
    },
    {
     "name": "stderr",
     "output_type": "stream",
     "text": [
      "100%|███████████████████████████████████████████████████████████████████| 2000/2000 [00:53<00:00, 37.59it/s]\n"
     ]
    },
    {
     "name": "stdout",
     "output_type": "stream",
     "text": [
      "Cell_emb: 2, sm_emb: 32, lr = 0.0005, hidden_channels = 16  >>>  Best epoch: 1744/2000, val_loss: 3.8263\n",
      "---------------------------------\n"
     ]
    },
    {
     "name": "stderr",
     "output_type": "stream",
     "text": [
      "100%|███████████████████████████████████████████████████████████████████| 2000/2000 [00:53<00:00, 37.63it/s]\n"
     ]
    },
    {
     "name": "stdout",
     "output_type": "stream",
     "text": [
      "Cell_emb: 2, sm_emb: 32, lr = 0.0005, hidden_channels = 16  >>>  Best epoch: 1499/2000, val_loss: 4.3608\n",
      "---------------------------------\n"
     ]
    },
    {
     "name": "stderr",
     "output_type": "stream",
     "text": [
      "100%|███████████████████████████████████████████████████████████████████| 2000/2000 [00:54<00:00, 36.74it/s]\n"
     ]
    },
    {
     "name": "stdout",
     "output_type": "stream",
     "text": [
      "Cell_emb: 2, sm_emb: 32, lr = 0.0005, hidden_channels = 16  >>>  Best epoch: 1791/2000, val_loss: 5.9578\n",
      "---------------------------------\n"
     ]
    },
    {
     "name": "stderr",
     "output_type": "stream",
     "text": [
      "100%|███████████████████████████████████████████████████████████████████| 2000/2000 [00:54<00:00, 36.95it/s]\n"
     ]
    },
    {
     "name": "stdout",
     "output_type": "stream",
     "text": [
      "Cell_emb: 2, sm_emb: 32, lr = 0.0005, hidden_channels = 16  >>>  Best epoch: 1447/2000, val_loss: 4.5252\n",
      "---------------------------------\n"
     ]
    },
    {
     "name": "stderr",
     "output_type": "stream",
     "text": [
      "100%|███████████████████████████████████████████████████████████████████| 2000/2000 [00:53<00:00, 37.69it/s]\n"
     ]
    },
    {
     "name": "stdout",
     "output_type": "stream",
     "text": [
      "Cell_emb: 2, sm_emb: 32, lr = 0.0005, hidden_channels = 16  >>>  Best epoch: 1299/2000, val_loss: 4.5934\n",
      "---------------------------------\n"
     ]
    },
    {
     "name": "stderr",
     "output_type": "stream",
     "text": [
      "100%|███████████████████████████████████████████████████████████████████| 2000/2000 [00:53<00:00, 37.47it/s]\n"
     ]
    },
    {
     "name": "stdout",
     "output_type": "stream",
     "text": [
      "Cell_emb: 2, sm_emb: 32, lr = 0.0005, hidden_channels = 16  >>>  Best epoch: 1422/2000, val_loss: 4.5658\n",
      "---------------------------------\n"
     ]
    },
    {
     "name": "stderr",
     "output_type": "stream",
     "text": [
      "100%|███████████████████████████████████████████████████████████████████| 2000/2000 [00:52<00:00, 37.77it/s]\n"
     ]
    },
    {
     "name": "stdout",
     "output_type": "stream",
     "text": [
      "Cell_emb: 2, sm_emb: 32, lr = 0.0005, hidden_channels = 16  >>>  Best epoch: 1623/2000, val_loss: 4.7644\n",
      "---------------------------------\n"
     ]
    },
    {
     "name": "stderr",
     "output_type": "stream",
     "text": [
      "100%|███████████████████████████████████████████████████████████████████| 2000/2000 [00:54<00:00, 37.02it/s]\n"
     ]
    },
    {
     "name": "stdout",
     "output_type": "stream",
     "text": [
      "Cell_emb: 2, sm_emb: 32, lr = 0.0005, hidden_channels = 16  >>>  Best epoch: 1828/2000, val_loss: 4.9671\n",
      "---------------------------------\n"
     ]
    },
    {
     "name": "stderr",
     "output_type": "stream",
     "text": [
      "100%|███████████████████████████████████████████████████████████████████| 2000/2000 [00:53<00:00, 37.33it/s]\n"
     ]
    },
    {
     "name": "stdout",
     "output_type": "stream",
     "text": [
      "Cell_emb: 2, sm_emb: 32, lr = 0.0005, hidden_channels = 16  >>>  Best epoch: 1910/2000, val_loss: 4.3054\n",
      "---------------------------------\n"
     ]
    },
    {
     "name": "stderr",
     "output_type": "stream",
     "text": [
      "100%|███████████████████████████████████████████████████████████████████| 2000/2000 [00:53<00:00, 37.69it/s]\n"
     ]
    },
    {
     "name": "stdout",
     "output_type": "stream",
     "text": [
      "Cell_emb: 2, sm_emb: 32, lr = 0.0005, hidden_channels = 16  >>>  Best epoch: 1886/2000, val_loss: 5.1543\n",
      "---------------------------------\n"
     ]
    },
    {
     "name": "stderr",
     "output_type": "stream",
     "text": [
      "100%|███████████████████████████████████████████████████████████████████| 2000/2000 [00:52<00:00, 37.97it/s]\n"
     ]
    },
    {
     "name": "stdout",
     "output_type": "stream",
     "text": [
      "Cell_emb: 2, sm_emb: 32, lr = 0.0005, hidden_channels = 16  >>>  Best epoch: 1872/2000, val_loss: 4.8996\n",
      "---------------------------------\n"
     ]
    },
    {
     "name": "stderr",
     "output_type": "stream",
     "text": [
      "100%|███████████████████████████████████████████████████████████████████| 2000/2000 [00:51<00:00, 38.57it/s]\n"
     ]
    },
    {
     "name": "stdout",
     "output_type": "stream",
     "text": [
      "Cell_emb: 2, sm_emb: 32, lr = 0.0005, hidden_channels = 16  >>>  Best epoch: 1832/2000, val_loss: 5.4667\n",
      "---------------------------------\n"
     ]
    },
    {
     "name": "stderr",
     "output_type": "stream",
     "text": [
      "100%|███████████████████████████████████████████████████████████████████| 2000/2000 [00:52<00:00, 38.32it/s]\n"
     ]
    },
    {
     "name": "stdout",
     "output_type": "stream",
     "text": [
      "Cell_emb: 2, sm_emb: 32, lr = 0.0005, hidden_channels = 16  >>>  Best epoch: 1643/2000, val_loss: 4.9693\n",
      "---------------------------------\n"
     ]
    },
    {
     "name": "stderr",
     "output_type": "stream",
     "text": [
      "100%|███████████████████████████████████████████████████████████████████| 2000/2000 [00:51<00:00, 38.58it/s]"
     ]
    },
    {
     "name": "stdout",
     "output_type": "stream",
     "text": [
      "Cell_emb: 2, sm_emb: 32, lr = 0.0005, hidden_channels = 16  >>>  Best epoch: 1777/2000, val_loss: 4.7588\n",
      "---------------------------------\n"
     ]
    },
    {
     "name": "stderr",
     "output_type": "stream",
     "text": [
      "\n"
     ]
    }
   ],
   "source": [
    "cur_model = None\n",
    "cur_valid_loss = float('inf')\n",
    "\n",
    "cur_sub_index = 0\n",
    "\n",
    "for _ in range(20):\n",
    "\n",
    "    cur_sub_index += 1\n",
    "\n",
    "    tmp_model, tmp_valid_loss = train(data,\n",
    "                                      train_edge_indeces,\n",
    "                                      valid_edge_indeces,\n",
    "                                      train_edge2feat,\n",
    "                                      valid_edge2feat,\n",
    "                                      train_mask,\n",
    "                                      valid_mask,\n",
    "                                      BM_mask,\n",
    "                                      alpha=1.0,\n",
    "                                      cell_emb_dim=2,\n",
    "                                      sm_emb_dim=32,\n",
    "                                      lr=5e-4,\n",
    "                                      hidden_channels=16,\n",
    "                                      p_dropout=0.2,\n",
    "                                      num_epochs=2000,\n",
    "                                      print_every=-1)\n",
    "    continue\n",
    "    \n",
    "    #if tmp_valid_loss >= 5.0:\n",
    "    #    continue\n",
    "    #\n",
    "    #\"\"\"\n",
    "    #Save all models\n",
    "    #\"\"\"\n",
    "    #cur_valid_loss = tmp_valid_loss\n",
    "    #cur_model = tmp_model\n",
    "    #cur_model_name = 'model_1108_exp1_' + str(cur_sub_index)\n",
    "    #print(cur_model_name)\n",
    "    #print(cur_model)\n",
    "    #final_submission(data=data, model_name=cur_model_name, model=cur_model)\n",
    "    #torch.save(cur_model.state_dict(), os.path.join('../pyg_models/', cur_model_name+'.pth'))"
   ]
  },
  {
   "cell_type": "code",
   "execution_count": 34,
   "id": "6585d2aa-0777-4b35-9dbe-1878ba6466c0",
   "metadata": {
    "tags": []
   },
   "outputs": [
    {
     "name": "stderr",
     "output_type": "stream",
     "text": [
      "100%|███████████████████████████████████████████████████████████████████| 2000/2000 [00:53<00:00, 37.62it/s]\n"
     ]
    },
    {
     "name": "stdout",
     "output_type": "stream",
     "text": [
      "Cell_emb: 2, sm_emb: 32, lr = 0.0005, hidden_channels = 16  >>>  Best epoch: 1883/2000, val_loss: 4.4932\n",
      "---------------------------------\n",
      "model_1109_exp1_1\n",
      "Model(\n",
      "  (cell_emb): Embedding(6, 2)\n",
      "  (cell_lin): Linear(in_features=18211, out_features=64, bias=True)\n",
      "  (sm_emb): Embedding(146, 32)\n",
      "  (sm_lin): Linear(in_features=768, out_features=16, bias=True)\n",
      "  (gnn): GraphModule(\n",
      "    (conv1): Module(\n",
      "      (cell__gene_exp__sm): SAGEConv(-1, 16, aggr=mean)\n",
      "      (sm__rev_gene_exp__cell): SAGEConv(-1, 16, aggr=mean)\n",
      "    )\n",
      "    (dropout1): Module(\n",
      "      (cell): Dropout(p=0.2, inplace=False)\n",
      "      (sm): Dropout(p=0.2, inplace=False)\n",
      "    )\n",
      "    (conv2): Module(\n",
      "      (cell__gene_exp__sm): SAGEConv(16, 16, aggr=mean)\n",
      "      (sm__rev_gene_exp__cell): SAGEConv(16, 16, aggr=mean)\n",
      "    )\n",
      "  )\n",
      "  (MLP): MLP(\n",
      "    (dropout1): Dropout(p=0.2, inplace=False)\n",
      "    (dropout2): Dropout(p=0.2, inplace=False)\n",
      "    (layer1): Linear(in_features=32, out_features=256, bias=True)\n",
      "    (layer2): Linear(in_features=256, out_features=1024, bias=True)\n",
      "    (layer3): Linear(in_features=1024, out_features=18211, bias=True)\n",
      "  )\n",
      ")\n"
     ]
    },
    {
     "name": "stderr",
     "output_type": "stream",
     "text": [
      "100%|█████████████████████████████████████████████████████████████████████| 255/255 [01:06<00:00,  3.85it/s]\n"
     ]
    },
    {
     "name": "stdout",
     "output_type": "stream",
     "text": [
      "File saved.\n",
      "(255, 18212)\n"
     ]
    },
    {
     "name": "stderr",
     "output_type": "stream",
     "text": [
      "100%|███████████████████████████████████████████████████████████████████| 2000/2000 [00:53<00:00, 37.49it/s]\n"
     ]
    },
    {
     "name": "stdout",
     "output_type": "stream",
     "text": [
      "Cell_emb: 2, sm_emb: 32, lr = 0.0005, hidden_channels = 16  >>>  Best epoch: 1690/2000, val_loss: 4.9816\n",
      "---------------------------------\n"
     ]
    },
    {
     "name": "stderr",
     "output_type": "stream",
     "text": [
      "100%|███████████████████████████████████████████████████████████████████| 2000/2000 [00:52<00:00, 38.00it/s]\n"
     ]
    },
    {
     "name": "stdout",
     "output_type": "stream",
     "text": [
      "Cell_emb: 2, sm_emb: 32, lr = 0.0005, hidden_channels = 16  >>>  Best epoch: 1524/2000, val_loss: 4.3397\n",
      "---------------------------------\n",
      "model_1109_exp1_3\n",
      "Model(\n",
      "  (cell_emb): Embedding(6, 2)\n",
      "  (cell_lin): Linear(in_features=18211, out_features=64, bias=True)\n",
      "  (sm_emb): Embedding(146, 32)\n",
      "  (sm_lin): Linear(in_features=768, out_features=16, bias=True)\n",
      "  (gnn): GraphModule(\n",
      "    (conv1): Module(\n",
      "      (cell__gene_exp__sm): SAGEConv(-1, 16, aggr=mean)\n",
      "      (sm__rev_gene_exp__cell): SAGEConv(-1, 16, aggr=mean)\n",
      "    )\n",
      "    (dropout1): Module(\n",
      "      (cell): Dropout(p=0.2, inplace=False)\n",
      "      (sm): Dropout(p=0.2, inplace=False)\n",
      "    )\n",
      "    (conv2): Module(\n",
      "      (cell__gene_exp__sm): SAGEConv(16, 16, aggr=mean)\n",
      "      (sm__rev_gene_exp__cell): SAGEConv(16, 16, aggr=mean)\n",
      "    )\n",
      "  )\n",
      "  (MLP): MLP(\n",
      "    (dropout1): Dropout(p=0.2, inplace=False)\n",
      "    (dropout2): Dropout(p=0.2, inplace=False)\n",
      "    (layer1): Linear(in_features=32, out_features=256, bias=True)\n",
      "    (layer2): Linear(in_features=256, out_features=1024, bias=True)\n",
      "    (layer3): Linear(in_features=1024, out_features=18211, bias=True)\n",
      "  )\n",
      ")\n"
     ]
    },
    {
     "name": "stderr",
     "output_type": "stream",
     "text": [
      "100%|█████████████████████████████████████████████████████████████████████| 255/255 [01:05<00:00,  3.90it/s]\n"
     ]
    },
    {
     "name": "stdout",
     "output_type": "stream",
     "text": [
      "File saved.\n",
      "(255, 18212)\n"
     ]
    },
    {
     "name": "stderr",
     "output_type": "stream",
     "text": [
      "100%|███████████████████████████████████████████████████████████████████| 2000/2000 [00:52<00:00, 37.78it/s]\n"
     ]
    },
    {
     "name": "stdout",
     "output_type": "stream",
     "text": [
      "Cell_emb: 2, sm_emb: 32, lr = 0.0005, hidden_channels = 16  >>>  Best epoch: 1841/2000, val_loss: 4.7325\n",
      "---------------------------------\n"
     ]
    },
    {
     "name": "stderr",
     "output_type": "stream",
     "text": [
      "100%|███████████████████████████████████████████████████████████████████| 2000/2000 [00:52<00:00, 37.76it/s]\n"
     ]
    },
    {
     "name": "stdout",
     "output_type": "stream",
     "text": [
      "Cell_emb: 2, sm_emb: 32, lr = 0.0005, hidden_channels = 16  >>>  Best epoch: 1426/2000, val_loss: 5.0451\n",
      "---------------------------------\n"
     ]
    },
    {
     "name": "stderr",
     "output_type": "stream",
     "text": [
      "100%|███████████████████████████████████████████████████████████████████| 2000/2000 [00:53<00:00, 37.56it/s]\n"
     ]
    },
    {
     "name": "stdout",
     "output_type": "stream",
     "text": [
      "Cell_emb: 2, sm_emb: 32, lr = 0.0005, hidden_channels = 16  >>>  Best epoch: 1874/2000, val_loss: 4.7461\n",
      "---------------------------------\n"
     ]
    },
    {
     "name": "stderr",
     "output_type": "stream",
     "text": [
      "100%|███████████████████████████████████████████████████████████████████| 2000/2000 [00:53<00:00, 37.58it/s]\n"
     ]
    },
    {
     "name": "stdout",
     "output_type": "stream",
     "text": [
      "Cell_emb: 2, sm_emb: 32, lr = 0.0005, hidden_channels = 16  >>>  Best epoch: 1745/2000, val_loss: 4.5548\n",
      "---------------------------------\n"
     ]
    },
    {
     "name": "stderr",
     "output_type": "stream",
     "text": [
      "100%|███████████████████████████████████████████████████████████████████| 2000/2000 [00:52<00:00, 37.80it/s]\n"
     ]
    },
    {
     "name": "stdout",
     "output_type": "stream",
     "text": [
      "Cell_emb: 2, sm_emb: 32, lr = 0.0005, hidden_channels = 16  >>>  Best epoch: 1704/2000, val_loss: 4.8080\n",
      "---------------------------------\n"
     ]
    },
    {
     "name": "stderr",
     "output_type": "stream",
     "text": [
      "100%|███████████████████████████████████████████████████████████████████| 2000/2000 [00:52<00:00, 38.05it/s]\n"
     ]
    },
    {
     "name": "stdout",
     "output_type": "stream",
     "text": [
      "Cell_emb: 2, sm_emb: 32, lr = 0.0005, hidden_channels = 16  >>>  Best epoch: 1515/2000, val_loss: 4.1930\n",
      "---------------------------------\n",
      "model_1109_exp1_9\n",
      "Model(\n",
      "  (cell_emb): Embedding(6, 2)\n",
      "  (cell_lin): Linear(in_features=18211, out_features=64, bias=True)\n",
      "  (sm_emb): Embedding(146, 32)\n",
      "  (sm_lin): Linear(in_features=768, out_features=16, bias=True)\n",
      "  (gnn): GraphModule(\n",
      "    (conv1): Module(\n",
      "      (cell__gene_exp__sm): SAGEConv(-1, 16, aggr=mean)\n",
      "      (sm__rev_gene_exp__cell): SAGEConv(-1, 16, aggr=mean)\n",
      "    )\n",
      "    (dropout1): Module(\n",
      "      (cell): Dropout(p=0.2, inplace=False)\n",
      "      (sm): Dropout(p=0.2, inplace=False)\n",
      "    )\n",
      "    (conv2): Module(\n",
      "      (cell__gene_exp__sm): SAGEConv(16, 16, aggr=mean)\n",
      "      (sm__rev_gene_exp__cell): SAGEConv(16, 16, aggr=mean)\n",
      "    )\n",
      "  )\n",
      "  (MLP): MLP(\n",
      "    (dropout1): Dropout(p=0.2, inplace=False)\n",
      "    (dropout2): Dropout(p=0.2, inplace=False)\n",
      "    (layer1): Linear(in_features=32, out_features=256, bias=True)\n",
      "    (layer2): Linear(in_features=256, out_features=1024, bias=True)\n",
      "    (layer3): Linear(in_features=1024, out_features=18211, bias=True)\n",
      "  )\n",
      ")\n"
     ]
    },
    {
     "name": "stderr",
     "output_type": "stream",
     "text": [
      "100%|█████████████████████████████████████████████████████████████████████| 255/255 [01:04<00:00,  3.95it/s]\n"
     ]
    },
    {
     "name": "stdout",
     "output_type": "stream",
     "text": [
      "File saved.\n",
      "(255, 18212)\n"
     ]
    },
    {
     "name": "stderr",
     "output_type": "stream",
     "text": [
      "100%|███████████████████████████████████████████████████████████████████| 2000/2000 [00:52<00:00, 38.21it/s]\n"
     ]
    },
    {
     "name": "stdout",
     "output_type": "stream",
     "text": [
      "Cell_emb: 2, sm_emb: 32, lr = 0.0005, hidden_channels = 16  >>>  Best epoch: 1889/2000, val_loss: 4.6687\n",
      "---------------------------------\n"
     ]
    },
    {
     "name": "stderr",
     "output_type": "stream",
     "text": [
      "100%|███████████████████████████████████████████████████████████████████| 2000/2000 [00:53<00:00, 37.68it/s]\n"
     ]
    },
    {
     "name": "stdout",
     "output_type": "stream",
     "text": [
      "Cell_emb: 2, sm_emb: 32, lr = 0.0005, hidden_channels = 16  >>>  Best epoch: 1273/2000, val_loss: 4.1099\n",
      "---------------------------------\n",
      "model_1109_exp1_11\n",
      "Model(\n",
      "  (cell_emb): Embedding(6, 2)\n",
      "  (cell_lin): Linear(in_features=18211, out_features=64, bias=True)\n",
      "  (sm_emb): Embedding(146, 32)\n",
      "  (sm_lin): Linear(in_features=768, out_features=16, bias=True)\n",
      "  (gnn): GraphModule(\n",
      "    (conv1): Module(\n",
      "      (cell__gene_exp__sm): SAGEConv(-1, 16, aggr=mean)\n",
      "      (sm__rev_gene_exp__cell): SAGEConv(-1, 16, aggr=mean)\n",
      "    )\n",
      "    (dropout1): Module(\n",
      "      (cell): Dropout(p=0.2, inplace=False)\n",
      "      (sm): Dropout(p=0.2, inplace=False)\n",
      "    )\n",
      "    (conv2): Module(\n",
      "      (cell__gene_exp__sm): SAGEConv(16, 16, aggr=mean)\n",
      "      (sm__rev_gene_exp__cell): SAGEConv(16, 16, aggr=mean)\n",
      "    )\n",
      "  )\n",
      "  (MLP): MLP(\n",
      "    (dropout1): Dropout(p=0.2, inplace=False)\n",
      "    (dropout2): Dropout(p=0.2, inplace=False)\n",
      "    (layer1): Linear(in_features=32, out_features=256, bias=True)\n",
      "    (layer2): Linear(in_features=256, out_features=1024, bias=True)\n",
      "    (layer3): Linear(in_features=1024, out_features=18211, bias=True)\n",
      "  )\n",
      ")\n"
     ]
    },
    {
     "name": "stderr",
     "output_type": "stream",
     "text": [
      "100%|█████████████████████████████████████████████████████████████████████| 255/255 [01:04<00:00,  3.96it/s]\n"
     ]
    },
    {
     "name": "stdout",
     "output_type": "stream",
     "text": [
      "File saved.\n",
      "(255, 18212)\n"
     ]
    },
    {
     "name": "stderr",
     "output_type": "stream",
     "text": [
      "100%|███████████████████████████████████████████████████████████████████| 2000/2000 [00:52<00:00, 37.83it/s]\n"
     ]
    },
    {
     "name": "stdout",
     "output_type": "stream",
     "text": [
      "Cell_emb: 2, sm_emb: 32, lr = 0.0005, hidden_channels = 16  >>>  Best epoch: 1355/2000, val_loss: 5.1304\n",
      "---------------------------------\n"
     ]
    },
    {
     "name": "stderr",
     "output_type": "stream",
     "text": [
      "100%|███████████████████████████████████████████████████████████████████| 2000/2000 [00:52<00:00, 38.41it/s]\n"
     ]
    },
    {
     "name": "stdout",
     "output_type": "stream",
     "text": [
      "Cell_emb: 2, sm_emb: 32, lr = 0.0005, hidden_channels = 16  >>>  Best epoch: 1849/2000, val_loss: 4.3245\n",
      "---------------------------------\n",
      "model_1109_exp1_13\n",
      "Model(\n",
      "  (cell_emb): Embedding(6, 2)\n",
      "  (cell_lin): Linear(in_features=18211, out_features=64, bias=True)\n",
      "  (sm_emb): Embedding(146, 32)\n",
      "  (sm_lin): Linear(in_features=768, out_features=16, bias=True)\n",
      "  (gnn): GraphModule(\n",
      "    (conv1): Module(\n",
      "      (cell__gene_exp__sm): SAGEConv(-1, 16, aggr=mean)\n",
      "      (sm__rev_gene_exp__cell): SAGEConv(-1, 16, aggr=mean)\n",
      "    )\n",
      "    (dropout1): Module(\n",
      "      (cell): Dropout(p=0.2, inplace=False)\n",
      "      (sm): Dropout(p=0.2, inplace=False)\n",
      "    )\n",
      "    (conv2): Module(\n",
      "      (cell__gene_exp__sm): SAGEConv(16, 16, aggr=mean)\n",
      "      (sm__rev_gene_exp__cell): SAGEConv(16, 16, aggr=mean)\n",
      "    )\n",
      "  )\n",
      "  (MLP): MLP(\n",
      "    (dropout1): Dropout(p=0.2, inplace=False)\n",
      "    (dropout2): Dropout(p=0.2, inplace=False)\n",
      "    (layer1): Linear(in_features=32, out_features=256, bias=True)\n",
      "    (layer2): Linear(in_features=256, out_features=1024, bias=True)\n",
      "    (layer3): Linear(in_features=1024, out_features=18211, bias=True)\n",
      "  )\n",
      ")\n"
     ]
    },
    {
     "name": "stderr",
     "output_type": "stream",
     "text": [
      "100%|█████████████████████████████████████████████████████████████████████| 255/255 [01:04<00:00,  3.95it/s]\n"
     ]
    },
    {
     "name": "stdout",
     "output_type": "stream",
     "text": [
      "File saved.\n",
      "(255, 18212)\n"
     ]
    },
    {
     "name": "stderr",
     "output_type": "stream",
     "text": [
      "100%|███████████████████████████████████████████████████████████████████| 2000/2000 [00:53<00:00, 37.53it/s]\n"
     ]
    },
    {
     "name": "stdout",
     "output_type": "stream",
     "text": [
      "Cell_emb: 2, sm_emb: 32, lr = 0.0005, hidden_channels = 16  >>>  Best epoch: 1814/2000, val_loss: 4.8510\n",
      "---------------------------------\n"
     ]
    },
    {
     "name": "stderr",
     "output_type": "stream",
     "text": [
      "100%|███████████████████████████████████████████████████████████████████| 2000/2000 [00:53<00:00, 37.65it/s]\n"
     ]
    },
    {
     "name": "stdout",
     "output_type": "stream",
     "text": [
      "Cell_emb: 2, sm_emb: 32, lr = 0.0005, hidden_channels = 16  >>>  Best epoch: 1525/2000, val_loss: 5.6233\n",
      "---------------------------------\n"
     ]
    },
    {
     "name": "stderr",
     "output_type": "stream",
     "text": [
      "100%|███████████████████████████████████████████████████████████████████| 2000/2000 [00:52<00:00, 38.05it/s]\n"
     ]
    },
    {
     "name": "stdout",
     "output_type": "stream",
     "text": [
      "Cell_emb: 2, sm_emb: 32, lr = 0.0005, hidden_channels = 16  >>>  Best epoch: 1278/2000, val_loss: 4.4652\n",
      "---------------------------------\n",
      "model_1109_exp1_16\n",
      "Model(\n",
      "  (cell_emb): Embedding(6, 2)\n",
      "  (cell_lin): Linear(in_features=18211, out_features=64, bias=True)\n",
      "  (sm_emb): Embedding(146, 32)\n",
      "  (sm_lin): Linear(in_features=768, out_features=16, bias=True)\n",
      "  (gnn): GraphModule(\n",
      "    (conv1): Module(\n",
      "      (cell__gene_exp__sm): SAGEConv(-1, 16, aggr=mean)\n",
      "      (sm__rev_gene_exp__cell): SAGEConv(-1, 16, aggr=mean)\n",
      "    )\n",
      "    (dropout1): Module(\n",
      "      (cell): Dropout(p=0.2, inplace=False)\n",
      "      (sm): Dropout(p=0.2, inplace=False)\n",
      "    )\n",
      "    (conv2): Module(\n",
      "      (cell__gene_exp__sm): SAGEConv(16, 16, aggr=mean)\n",
      "      (sm__rev_gene_exp__cell): SAGEConv(16, 16, aggr=mean)\n",
      "    )\n",
      "  )\n",
      "  (MLP): MLP(\n",
      "    (dropout1): Dropout(p=0.2, inplace=False)\n",
      "    (dropout2): Dropout(p=0.2, inplace=False)\n",
      "    (layer1): Linear(in_features=32, out_features=256, bias=True)\n",
      "    (layer2): Linear(in_features=256, out_features=1024, bias=True)\n",
      "    (layer3): Linear(in_features=1024, out_features=18211, bias=True)\n",
      "  )\n",
      ")\n"
     ]
    },
    {
     "name": "stderr",
     "output_type": "stream",
     "text": [
      "100%|█████████████████████████████████████████████████████████████████████| 255/255 [01:05<00:00,  3.87it/s]\n"
     ]
    },
    {
     "name": "stdout",
     "output_type": "stream",
     "text": [
      "File saved.\n",
      "(255, 18212)\n"
     ]
    },
    {
     "name": "stderr",
     "output_type": "stream",
     "text": [
      "100%|███████████████████████████████████████████████████████████████████| 2000/2000 [00:52<00:00, 38.35it/s]\n"
     ]
    },
    {
     "name": "stdout",
     "output_type": "stream",
     "text": [
      "Cell_emb: 2, sm_emb: 32, lr = 0.0005, hidden_channels = 16  >>>  Best epoch: 1974/2000, val_loss: 5.0168\n",
      "---------------------------------\n"
     ]
    },
    {
     "name": "stderr",
     "output_type": "stream",
     "text": [
      "100%|███████████████████████████████████████████████████████████████████| 2000/2000 [00:52<00:00, 37.90it/s]\n"
     ]
    },
    {
     "name": "stdout",
     "output_type": "stream",
     "text": [
      "Cell_emb: 2, sm_emb: 32, lr = 0.0005, hidden_channels = 16  >>>  Best epoch: 1680/2000, val_loss: 4.6003\n",
      "---------------------------------\n"
     ]
    },
    {
     "name": "stderr",
     "output_type": "stream",
     "text": [
      "100%|███████████████████████████████████████████████████████████████████| 2000/2000 [00:52<00:00, 37.96it/s]\n"
     ]
    },
    {
     "name": "stdout",
     "output_type": "stream",
     "text": [
      "Cell_emb: 2, sm_emb: 32, lr = 0.0005, hidden_channels = 16  >>>  Best epoch: 1588/2000, val_loss: 4.5086\n",
      "---------------------------------\n"
     ]
    },
    {
     "name": "stderr",
     "output_type": "stream",
     "text": [
      "100%|███████████████████████████████████████████████████████████████████| 2000/2000 [00:52<00:00, 38.13it/s]"
     ]
    },
    {
     "name": "stdout",
     "output_type": "stream",
     "text": [
      "Cell_emb: 2, sm_emb: 32, lr = 0.0005, hidden_channels = 16  >>>  Best epoch: 1900/2000, val_loss: 5.0885\n",
      "---------------------------------\n"
     ]
    },
    {
     "name": "stderr",
     "output_type": "stream",
     "text": [
      "\n"
     ]
    }
   ],
   "source": [
    "cur_model = None\n",
    "cur_valid_loss = float('inf')\n",
    "\n",
    "while not cur_model:\n",
    "    \n",
    "    cur_sub_index = 0\n",
    "    \n",
    "    for _ in range(20):\n",
    "\n",
    "        cur_sub_index += 1\n",
    "\n",
    "        tmp_model, tmp_valid_loss = train(data,\n",
    "                                          train_edge_indeces,\n",
    "                                          valid_edge_indeces,\n",
    "                                          train_edge2feat,\n",
    "                                          valid_edge2feat,\n",
    "                                          train_mask,\n",
    "                                          valid_mask,\n",
    "                                          BM_mask,\n",
    "                                          alpha=1.0,\n",
    "                                          cell_emb_dim=2,\n",
    "                                          sm_emb_dim=32,\n",
    "                                          lr=5e-4,\n",
    "                                          hidden_channels=16,\n",
    "                                          p_dropout=0.2,\n",
    "                                          num_epochs=2000,\n",
    "                                          print_every=-1)\n",
    "\n",
    "        if tmp_valid_loss >= 4.5:\n",
    "            continue\n",
    "\n",
    "        \"\"\"\n",
    "        Save all models\n",
    "        \"\"\"\n",
    "        cur_valid_loss = tmp_valid_loss\n",
    "        cur_model = tmp_model\n",
    "        cur_model_name = 'model_1109_exp1_' + str(cur_sub_index)\n",
    "        print(cur_model_name)\n",
    "        print(cur_model)\n",
    "        final_submission(data=data, model_name=cur_model_name, model=cur_model)\n",
    "        torch.save(cur_model.state_dict(), os.path.join('../pyg_models/', cur_model_name+'.pth'))"
   ]
  },
  {
   "cell_type": "markdown",
   "id": "7337ba2d-883b-461f-91e7-bfee3ee516ba",
   "metadata": {},
   "source": [
    "### Experiment 2\n",
    "\n",
    "### Remove linear transform of cell embedding"
   ]
  },
  {
   "cell_type": "code",
   "execution_count": 39,
   "id": "6b06a79c-6660-4d66-824f-1e7259d33ac2",
   "metadata": {
    "tags": []
   },
   "outputs": [],
   "source": [
    "from torch_geometric.nn import SAGEConv, to_hetero\n",
    "from torch.nn import Linear, Dropout, Embedding\n",
    "import torch.nn.functional as F\n",
    "\n",
    "class GNN(torch.nn.Module):\n",
    "    \"\"\"\n",
    "    Compute node embedding\n",
    "    \"\"\"\n",
    "    def __init__(self, hidden_channels, p_dropout=0.2):\n",
    "        super().__init__()       \n",
    "        self.conv1 = SAGEConv(-1, hidden_channels, normalize=True)\n",
    "        self.conv2 = SAGEConv(hidden_channels, hidden_channels, normalize=True)\n",
    "        self.dropout1 = Dropout(p=p_dropout)\n",
    "        \n",
    "    def forward(self, x, edge_index):\n",
    "        x = self.dropout1(F.elu(self.conv1(x, edge_index)))        \n",
    "        x = self.conv2(x, edge_index)\n",
    "        return x\n",
    "\n",
    "class MLP(torch.nn.Module):\n",
    "    \"\"\"\n",
    "    Model that predicts the gene expression given node features at the two ends\n",
    "    \n",
    "    1020: Change inner layer from (1024, 1024) units to (256, 256) units \n",
    "    \"\"\"\n",
    "    def __init__(self, hidden_channels, p_dropout=0.2):\n",
    "        super().__init__()\n",
    "\n",
    "        self.dropout1 = Dropout(p=p_dropout)\n",
    "        self.dropout2 = Dropout(p=p_dropout)\n",
    "        \n",
    "        self.layer1 = Linear(2*hidden_channels, 256)\n",
    "        self.layer2 = Linear(256, 1024)\n",
    "        self.layer3 = Linear(1024, 18211)\n",
    "    \n",
    "    def forward(self, x_cell, x_sm, edge_label_index):\n",
    "        \n",
    "        # Retrieve embeddings from the two nodes\n",
    "        feat_cell = x_cell[edge_label_index[0]]  # dim = hidden_channels\n",
    "        feat_sm = x_sm[edge_label_index[1]]  #  dim = hidden_channels\n",
    "\n",
    "        # calculate the gene expression\n",
    "        y = torch.cat((feat_cell, feat_sm), dim=1)  # dim = 2*hidden_channels\n",
    "        \n",
    "        y = F.relu(self.layer1(y))  # dim = 256\n",
    "        y = self.dropout1(y)\n",
    "        \n",
    "        y = F.relu(self.layer2(y))  # dim = 1024\n",
    "        y = self.dropout2(y)\n",
    "        \n",
    "        y = self.layer3(y)  # dim = 18211\n",
    "        \n",
    "        return y\n",
    "\n",
    "\n",
    "class Model(torch.nn.Module):\n",
    "    def __init__(self, data, cell_emb_dim, sm_emb_dim, hidden_channels, p_dropout):\n",
    "        super().__init__()\n",
    "\n",
    "        # cell emb for each cell type\n",
    "        self.cell_emb = Embedding(data[\"cell\"].num_nodes, cell_emb_dim)\n",
    "        \n",
    "        \"\"\"\n",
    "        1027 - change from hidden_channels to 64\n",
    "        \"\"\"\n",
    "        # cell emb leveraging control gene expression\n",
    "        #self.cell_lin = Linear(18211, hidden_channels)\n",
    "        self.cell_lin = Linear(18211, 64)\n",
    "\n",
    "        # sm emb for each sm type\n",
    "        if sm_emb_dim > 0:\n",
    "            self.sm_emb = Embedding(data[\"sm\"].num_nodes, sm_emb_dim)\n",
    "        else:\n",
    "            self.sm_emb = None\n",
    "        # sm emb leveraging SMILES embedding\n",
    "        self.sm_lin = Linear(768, hidden_channels)\n",
    "        \n",
    "        # Instantiate homogeneous GNN:\n",
    "        self.gnn = GNN(hidden_channels=hidden_channels, p_dropout=p_dropout)\n",
    "        # Convert GNN model into a heterogeneous variant:\n",
    "        self.gnn = to_hetero(self.gnn, metadata=data.metadata())\n",
    "        \n",
    "        self.MLP = MLP(hidden_channels=hidden_channels, p_dropout=p_dropout)\n",
    "        \n",
    "                \n",
    "    def forward(self, data):\n",
    "        # calculate node embedding\n",
    "        #x_cell = self.cell_emb(data[\"cell\"].node_id)\n",
    "        #x_cell = torch.cat((self.cell_emb(data[\"cell\"].node_id), self.cell_lin(data[\"cell\"].x)), dim=1)\n",
    "        x_cell = torch.cat((self.cell_emb(data[\"cell\"].node_id), data[\"cell\"].x), dim=1)\n",
    "        \n",
    "        if self.sm_emb:\n",
    "            #x_sm = torch.cat((self.sm_emb(data[\"sm\"].node_id), self.sm_lin(data[\"sm\"].x)), dim=1)\n",
    "            x_sm = torch.cat((self.sm_emb(data[\"sm\"].node_id), data[\"sm\"].x), dim=1)\n",
    "        else:\n",
    "            #x_sm = self.sm_lin(data[\"sm\"].x)\n",
    "            x_sm = data[\"sm\"].x\n",
    "            \n",
    "        \n",
    "        x_dict = {\n",
    "          \"cell\": x_cell,\n",
    "          \"sm\": x_sm,\n",
    "        } \n",
    "\n",
    "        # compute final node embedding\n",
    "        x_dict = self.gnn(x_dict, data.edge_index_dict)\n",
    "\n",
    "        # Use node embedding to predict gene expression\n",
    "        pred = self.MLP(\n",
    "            x_dict[\"cell\"],\n",
    "            x_dict[\"sm\"],\n",
    "            data[\"cell\", \"gene_exp\", \"sm\"].edge_label_index,\n",
    "        )\n",
    "        return pred"
   ]
  },
  {
   "cell_type": "code",
   "execution_count": 27,
   "id": "11c704f8-22d1-4f7f-a1dc-ef8764bfa43e",
   "metadata": {
    "tags": []
   },
   "outputs": [
    {
     "name": "stderr",
     "output_type": "stream",
     "text": [
      "100%|███████████████████████████████████████████████████████████████████| 2000/2000 [00:53<00:00, 37.04it/s]\n"
     ]
    },
    {
     "name": "stdout",
     "output_type": "stream",
     "text": [
      "Cell_emb: 2, sm_emb: 32, lr = 0.0005, hidden_channels = 16  >>>  Best epoch: 1616/2000, val_loss: 4.3214\n",
      "---------------------------------\n"
     ]
    },
    {
     "name": "stderr",
     "output_type": "stream",
     "text": [
      "100%|███████████████████████████████████████████████████████████████████| 2000/2000 [00:53<00:00, 37.09it/s]\n"
     ]
    },
    {
     "name": "stdout",
     "output_type": "stream",
     "text": [
      "Cell_emb: 2, sm_emb: 32, lr = 0.0005, hidden_channels = 16  >>>  Best epoch: 1323/2000, val_loss: 5.2259\n",
      "---------------------------------\n"
     ]
    },
    {
     "name": "stderr",
     "output_type": "stream",
     "text": [
      "100%|███████████████████████████████████████████████████████████████████| 2000/2000 [00:54<00:00, 36.94it/s]\n"
     ]
    },
    {
     "name": "stdout",
     "output_type": "stream",
     "text": [
      "Cell_emb: 2, sm_emb: 32, lr = 0.0005, hidden_channels = 16  >>>  Best epoch: 1540/2000, val_loss: 5.8120\n",
      "---------------------------------\n"
     ]
    },
    {
     "name": "stderr",
     "output_type": "stream",
     "text": [
      "100%|███████████████████████████████████████████████████████████████████| 2000/2000 [00:54<00:00, 36.98it/s]\n"
     ]
    },
    {
     "name": "stdout",
     "output_type": "stream",
     "text": [
      "Cell_emb: 2, sm_emb: 32, lr = 0.0005, hidden_channels = 16  >>>  Best epoch: 1975/2000, val_loss: 4.4732\n",
      "---------------------------------\n"
     ]
    },
    {
     "name": "stderr",
     "output_type": "stream",
     "text": [
      "100%|███████████████████████████████████████████████████████████████████| 2000/2000 [00:54<00:00, 36.94it/s]\n"
     ]
    },
    {
     "name": "stdout",
     "output_type": "stream",
     "text": [
      "Cell_emb: 2, sm_emb: 32, lr = 0.0005, hidden_channels = 16  >>>  Best epoch: 1651/2000, val_loss: 5.8281\n",
      "---------------------------------\n"
     ]
    },
    {
     "name": "stderr",
     "output_type": "stream",
     "text": [
      "100%|███████████████████████████████████████████████████████████████████| 2000/2000 [00:54<00:00, 37.00it/s]\n"
     ]
    },
    {
     "name": "stdout",
     "output_type": "stream",
     "text": [
      "Cell_emb: 2, sm_emb: 32, lr = 0.0005, hidden_channels = 16  >>>  Best epoch: 1849/2000, val_loss: 4.6403\n",
      "---------------------------------\n"
     ]
    },
    {
     "name": "stderr",
     "output_type": "stream",
     "text": [
      "100%|███████████████████████████████████████████████████████████████████| 2000/2000 [00:53<00:00, 37.22it/s]\n"
     ]
    },
    {
     "name": "stdout",
     "output_type": "stream",
     "text": [
      "Cell_emb: 2, sm_emb: 32, lr = 0.0005, hidden_channels = 16  >>>  Best epoch: 1781/2000, val_loss: 4.4507\n",
      "---------------------------------\n"
     ]
    },
    {
     "name": "stderr",
     "output_type": "stream",
     "text": [
      "100%|███████████████████████████████████████████████████████████████████| 2000/2000 [00:54<00:00, 36.92it/s]\n"
     ]
    },
    {
     "name": "stdout",
     "output_type": "stream",
     "text": [
      "Cell_emb: 2, sm_emb: 32, lr = 0.0005, hidden_channels = 16  >>>  Best epoch: 1652/2000, val_loss: 4.2838\n",
      "---------------------------------\n"
     ]
    },
    {
     "name": "stderr",
     "output_type": "stream",
     "text": [
      "100%|███████████████████████████████████████████████████████████████████| 2000/2000 [00:53<00:00, 37.20it/s]\n"
     ]
    },
    {
     "name": "stdout",
     "output_type": "stream",
     "text": [
      "Cell_emb: 2, sm_emb: 32, lr = 0.0005, hidden_channels = 16  >>>  Best epoch: 1786/2000, val_loss: 4.7674\n",
      "---------------------------------\n"
     ]
    },
    {
     "name": "stderr",
     "output_type": "stream",
     "text": [
      "100%|███████████████████████████████████████████████████████████████████| 2000/2000 [00:54<00:00, 37.01it/s]\n"
     ]
    },
    {
     "name": "stdout",
     "output_type": "stream",
     "text": [
      "Cell_emb: 2, sm_emb: 32, lr = 0.0005, hidden_channels = 16  >>>  Best epoch: 707/2000, val_loss: 5.4111\n",
      "---------------------------------\n"
     ]
    },
    {
     "name": "stderr",
     "output_type": "stream",
     "text": [
      "100%|███████████████████████████████████████████████████████████████████| 2000/2000 [00:53<00:00, 37.12it/s]\n"
     ]
    },
    {
     "name": "stdout",
     "output_type": "stream",
     "text": [
      "Cell_emb: 2, sm_emb: 32, lr = 0.0005, hidden_channels = 16  >>>  Best epoch: 1795/2000, val_loss: 4.6785\n",
      "---------------------------------\n"
     ]
    },
    {
     "name": "stderr",
     "output_type": "stream",
     "text": [
      "100%|███████████████████████████████████████████████████████████████████| 2000/2000 [00:54<00:00, 36.96it/s]\n"
     ]
    },
    {
     "name": "stdout",
     "output_type": "stream",
     "text": [
      "Cell_emb: 2, sm_emb: 32, lr = 0.0005, hidden_channels = 16  >>>  Best epoch: 1820/2000, val_loss: 4.9857\n",
      "---------------------------------\n"
     ]
    },
    {
     "name": "stderr",
     "output_type": "stream",
     "text": [
      "100%|███████████████████████████████████████████████████████████████████| 2000/2000 [00:53<00:00, 37.04it/s]\n"
     ]
    },
    {
     "name": "stdout",
     "output_type": "stream",
     "text": [
      "Cell_emb: 2, sm_emb: 32, lr = 0.0005, hidden_channels = 16  >>>  Best epoch: 1968/2000, val_loss: 5.7131\n",
      "---------------------------------\n"
     ]
    },
    {
     "name": "stderr",
     "output_type": "stream",
     "text": [
      "100%|███████████████████████████████████████████████████████████████████| 2000/2000 [00:54<00:00, 36.98it/s]\n"
     ]
    },
    {
     "name": "stdout",
     "output_type": "stream",
     "text": [
      "Cell_emb: 2, sm_emb: 32, lr = 0.0005, hidden_channels = 16  >>>  Best epoch: 1939/2000, val_loss: 4.7721\n",
      "---------------------------------\n"
     ]
    },
    {
     "name": "stderr",
     "output_type": "stream",
     "text": [
      "100%|███████████████████████████████████████████████████████████████████| 2000/2000 [00:54<00:00, 36.95it/s]\n"
     ]
    },
    {
     "name": "stdout",
     "output_type": "stream",
     "text": [
      "Cell_emb: 2, sm_emb: 32, lr = 0.0005, hidden_channels = 16  >>>  Best epoch: 1422/2000, val_loss: 5.0398\n",
      "---------------------------------\n"
     ]
    },
    {
     "name": "stderr",
     "output_type": "stream",
     "text": [
      "100%|███████████████████████████████████████████████████████████████████| 2000/2000 [00:53<00:00, 37.13it/s]\n"
     ]
    },
    {
     "name": "stdout",
     "output_type": "stream",
     "text": [
      "Cell_emb: 2, sm_emb: 32, lr = 0.0005, hidden_channels = 16  >>>  Best epoch: 1964/2000, val_loss: 5.4091\n",
      "---------------------------------\n"
     ]
    },
    {
     "name": "stderr",
     "output_type": "stream",
     "text": [
      "100%|███████████████████████████████████████████████████████████████████| 2000/2000 [00:55<00:00, 36.02it/s]\n"
     ]
    },
    {
     "name": "stdout",
     "output_type": "stream",
     "text": [
      "Cell_emb: 2, sm_emb: 32, lr = 0.0005, hidden_channels = 16  >>>  Best epoch: 1668/2000, val_loss: 4.0776\n",
      "---------------------------------\n"
     ]
    },
    {
     "name": "stderr",
     "output_type": "stream",
     "text": [
      "100%|███████████████████████████████████████████████████████████████████| 2000/2000 [00:55<00:00, 36.31it/s]\n"
     ]
    },
    {
     "name": "stdout",
     "output_type": "stream",
     "text": [
      "Cell_emb: 2, sm_emb: 32, lr = 0.0005, hidden_channels = 16  >>>  Best epoch: 1654/2000, val_loss: 4.4586\n",
      "---------------------------------\n"
     ]
    },
    {
     "name": "stderr",
     "output_type": "stream",
     "text": [
      "100%|███████████████████████████████████████████████████████████████████| 2000/2000 [00:54<00:00, 36.38it/s]\n"
     ]
    },
    {
     "name": "stdout",
     "output_type": "stream",
     "text": [
      "Cell_emb: 2, sm_emb: 32, lr = 0.0005, hidden_channels = 16  >>>  Best epoch: 1540/2000, val_loss: 5.3650\n",
      "---------------------------------\n"
     ]
    },
    {
     "name": "stderr",
     "output_type": "stream",
     "text": [
      "100%|███████████████████████████████████████████████████████████████████| 2000/2000 [00:55<00:00, 36.06it/s]"
     ]
    },
    {
     "name": "stdout",
     "output_type": "stream",
     "text": [
      "Cell_emb: 2, sm_emb: 32, lr = 0.0005, hidden_channels = 16  >>>  Best epoch: 1845/2000, val_loss: 4.8364\n",
      "---------------------------------\n"
     ]
    },
    {
     "name": "stderr",
     "output_type": "stream",
     "text": [
      "\n"
     ]
    }
   ],
   "source": [
    "cur_model = None\n",
    "cur_valid_loss = float('inf')\n",
    "\n",
    "cur_sub_index = 0\n",
    "\n",
    "for _ in range(20):\n",
    "\n",
    "    cur_sub_index += 1\n",
    "\n",
    "    tmp_model, tmp_valid_loss = train(data,\n",
    "                                      train_edge_indeces,\n",
    "                                      valid_edge_indeces,\n",
    "                                      train_edge2feat,\n",
    "                                      valid_edge2feat,\n",
    "                                      train_mask,\n",
    "                                      valid_mask,\n",
    "                                      BM_mask,\n",
    "                                      alpha=1.0,\n",
    "                                      cell_emb_dim=2,\n",
    "                                      sm_emb_dim=32,\n",
    "                                      lr=5e-4,\n",
    "                                      hidden_channels=16,\n",
    "                                      p_dropout=0.2,\n",
    "                                      num_epochs=2000,\n",
    "                                      print_every=-1)\n",
    "    continue\n",
    "    \n",
    "    #if tmp_valid_loss >= 5.0:\n",
    "    #    continue\n",
    "    #\n",
    "    #\"\"\"\n",
    "    #Save all models\n",
    "    #\"\"\"\n",
    "    #cur_valid_loss = tmp_valid_loss\n",
    "    #cur_model = tmp_model\n",
    "    #cur_model_name = 'model_1108_exp1_' + str(cur_sub_index)\n",
    "    #print(cur_model_name)\n",
    "    #print(cur_model)\n",
    "    #final_submission(data=data, model_name=cur_model_name, model=cur_model)\n",
    "    #torch.save(cur_model.state_dict(), os.path.join('../pyg_models/', cur_model_name+'.pth'))"
   ]
  },
  {
   "cell_type": "code",
   "execution_count": 41,
   "id": "c5eee499-48d1-46e6-a2c1-a0e1a4c596f6",
   "metadata": {
    "tags": []
   },
   "outputs": [
    {
     "name": "stderr",
     "output_type": "stream",
     "text": [
      "100%|███████████████████████████████████████████████████████████████████| 2000/2000 [00:55<00:00, 36.01it/s]\n"
     ]
    },
    {
     "name": "stdout",
     "output_type": "stream",
     "text": [
      "Cell_emb: 2, sm_emb: 32, lr = 0.0005, hidden_channels = 16  >>>  Best epoch: 1803/2000, val_loss: 4.5691\n",
      "---------------------------------\n"
     ]
    },
    {
     "name": "stderr",
     "output_type": "stream",
     "text": [
      "100%|███████████████████████████████████████████████████████████████████| 2000/2000 [00:55<00:00, 36.06it/s]\n"
     ]
    },
    {
     "name": "stdout",
     "output_type": "stream",
     "text": [
      "Cell_emb: 2, sm_emb: 32, lr = 0.0005, hidden_channels = 16  >>>  Best epoch: 1710/2000, val_loss: 4.5364\n",
      "---------------------------------\n"
     ]
    },
    {
     "name": "stderr",
     "output_type": "stream",
     "text": [
      "100%|███████████████████████████████████████████████████████████████████| 2000/2000 [00:54<00:00, 36.47it/s]\n"
     ]
    },
    {
     "name": "stdout",
     "output_type": "stream",
     "text": [
      "Cell_emb: 2, sm_emb: 32, lr = 0.0005, hidden_channels = 16  >>>  Best epoch: 1998/2000, val_loss: 5.1655\n",
      "---------------------------------\n"
     ]
    },
    {
     "name": "stderr",
     "output_type": "stream",
     "text": [
      "100%|███████████████████████████████████████████████████████████████████| 2000/2000 [00:54<00:00, 36.59it/s]\n"
     ]
    },
    {
     "name": "stdout",
     "output_type": "stream",
     "text": [
      "Cell_emb: 2, sm_emb: 32, lr = 0.0005, hidden_channels = 16  >>>  Best epoch: 1659/2000, val_loss: 4.7066\n",
      "---------------------------------\n"
     ]
    },
    {
     "name": "stderr",
     "output_type": "stream",
     "text": [
      "100%|███████████████████████████████████████████████████████████████████| 2000/2000 [00:54<00:00, 36.74it/s]\n"
     ]
    },
    {
     "name": "stdout",
     "output_type": "stream",
     "text": [
      "Cell_emb: 2, sm_emb: 32, lr = 0.0005, hidden_channels = 16  >>>  Best epoch: 1820/2000, val_loss: 4.9576\n",
      "---------------------------------\n"
     ]
    },
    {
     "name": "stderr",
     "output_type": "stream",
     "text": [
      "100%|███████████████████████████████████████████████████████████████████| 2000/2000 [00:55<00:00, 36.27it/s]\n"
     ]
    },
    {
     "name": "stdout",
     "output_type": "stream",
     "text": [
      "Cell_emb: 2, sm_emb: 32, lr = 0.0005, hidden_channels = 16  >>>  Best epoch: 1103/2000, val_loss: 5.5636\n",
      "---------------------------------\n"
     ]
    },
    {
     "name": "stderr",
     "output_type": "stream",
     "text": [
      "100%|███████████████████████████████████████████████████████████████████| 2000/2000 [00:55<00:00, 36.24it/s]\n"
     ]
    },
    {
     "name": "stdout",
     "output_type": "stream",
     "text": [
      "Cell_emb: 2, sm_emb: 32, lr = 0.0005, hidden_channels = 16  >>>  Best epoch: 1572/2000, val_loss: 4.8629\n",
      "---------------------------------\n"
     ]
    },
    {
     "name": "stderr",
     "output_type": "stream",
     "text": [
      "100%|███████████████████████████████████████████████████████████████████| 2000/2000 [00:55<00:00, 36.12it/s]\n"
     ]
    },
    {
     "name": "stdout",
     "output_type": "stream",
     "text": [
      "Cell_emb: 2, sm_emb: 32, lr = 0.0005, hidden_channels = 16  >>>  Best epoch: 1933/2000, val_loss: 5.3124\n",
      "---------------------------------\n"
     ]
    },
    {
     "name": "stderr",
     "output_type": "stream",
     "text": [
      "100%|███████████████████████████████████████████████████████████████████| 2000/2000 [00:54<00:00, 36.41it/s]\n"
     ]
    },
    {
     "name": "stdout",
     "output_type": "stream",
     "text": [
      "Cell_emb: 2, sm_emb: 32, lr = 0.0005, hidden_channels = 16  >>>  Best epoch: 907/2000, val_loss: 4.8154\n",
      "---------------------------------\n"
     ]
    },
    {
     "name": "stderr",
     "output_type": "stream",
     "text": [
      "100%|███████████████████████████████████████████████████████████████████| 2000/2000 [00:55<00:00, 36.17it/s]\n"
     ]
    },
    {
     "name": "stdout",
     "output_type": "stream",
     "text": [
      "Cell_emb: 2, sm_emb: 32, lr = 0.0005, hidden_channels = 16  >>>  Best epoch: 1876/2000, val_loss: 4.8574\n",
      "---------------------------------\n"
     ]
    },
    {
     "name": "stderr",
     "output_type": "stream",
     "text": [
      "100%|███████████████████████████████████████████████████████████████████| 2000/2000 [00:54<00:00, 36.54it/s]\n"
     ]
    },
    {
     "name": "stdout",
     "output_type": "stream",
     "text": [
      "Cell_emb: 2, sm_emb: 32, lr = 0.0005, hidden_channels = 16  >>>  Best epoch: 1867/2000, val_loss: 5.5034\n",
      "---------------------------------\n"
     ]
    },
    {
     "name": "stderr",
     "output_type": "stream",
     "text": [
      "100%|███████████████████████████████████████████████████████████████████| 2000/2000 [00:55<00:00, 36.17it/s]\n"
     ]
    },
    {
     "name": "stdout",
     "output_type": "stream",
     "text": [
      "Cell_emb: 2, sm_emb: 32, lr = 0.0005, hidden_channels = 16  >>>  Best epoch: 1969/2000, val_loss: 4.8766\n",
      "---------------------------------\n"
     ]
    },
    {
     "name": "stderr",
     "output_type": "stream",
     "text": [
      "100%|███████████████████████████████████████████████████████████████████| 2000/2000 [00:55<00:00, 36.14it/s]\n"
     ]
    },
    {
     "name": "stdout",
     "output_type": "stream",
     "text": [
      "Cell_emb: 2, sm_emb: 32, lr = 0.0005, hidden_channels = 16  >>>  Best epoch: 1988/2000, val_loss: 4.1385\n",
      "---------------------------------\n",
      "model_1109_exp2_3\n",
      "Model(\n",
      "  (cell_emb): Embedding(6, 2)\n",
      "  (cell_lin): Linear(in_features=18211, out_features=64, bias=True)\n",
      "  (sm_emb): Embedding(146, 32)\n",
      "  (sm_lin): Linear(in_features=768, out_features=16, bias=True)\n",
      "  (gnn): GraphModule(\n",
      "    (conv1): Module(\n",
      "      (cell__gene_exp__sm): SAGEConv(-1, 16, aggr=mean)\n",
      "      (sm__rev_gene_exp__cell): SAGEConv(-1, 16, aggr=mean)\n",
      "    )\n",
      "    (dropout1): Module(\n",
      "      (cell): Dropout(p=0.2, inplace=False)\n",
      "      (sm): Dropout(p=0.2, inplace=False)\n",
      "    )\n",
      "    (conv2): Module(\n",
      "      (cell__gene_exp__sm): SAGEConv(16, 16, aggr=mean)\n",
      "      (sm__rev_gene_exp__cell): SAGEConv(16, 16, aggr=mean)\n",
      "    )\n",
      "  )\n",
      "  (MLP): MLP(\n",
      "    (dropout1): Dropout(p=0.2, inplace=False)\n",
      "    (dropout2): Dropout(p=0.2, inplace=False)\n",
      "    (layer1): Linear(in_features=32, out_features=256, bias=True)\n",
      "    (layer2): Linear(in_features=256, out_features=1024, bias=True)\n",
      "    (layer3): Linear(in_features=1024, out_features=18211, bias=True)\n",
      "  )\n",
      ")\n"
     ]
    },
    {
     "name": "stderr",
     "output_type": "stream",
     "text": [
      "100%|█████████████████████████████████████████████████████████████████████| 255/255 [01:05<00:00,  3.87it/s]\n"
     ]
    },
    {
     "name": "stdout",
     "output_type": "stream",
     "text": [
      "File saved.\n",
      "(255, 18212)\n"
     ]
    },
    {
     "name": "stderr",
     "output_type": "stream",
     "text": [
      "100%|███████████████████████████████████████████████████████████████████| 2000/2000 [00:54<00:00, 36.58it/s]\n"
     ]
    },
    {
     "name": "stdout",
     "output_type": "stream",
     "text": [
      "Cell_emb: 2, sm_emb: 32, lr = 0.0005, hidden_channels = 16  >>>  Best epoch: 1709/2000, val_loss: 5.2028\n",
      "---------------------------------\n"
     ]
    },
    {
     "name": "stderr",
     "output_type": "stream",
     "text": [
      "100%|███████████████████████████████████████████████████████████████████| 2000/2000 [00:55<00:00, 36.16it/s]\n"
     ]
    },
    {
     "name": "stdout",
     "output_type": "stream",
     "text": [
      "Cell_emb: 2, sm_emb: 32, lr = 0.0005, hidden_channels = 16  >>>  Best epoch: 1934/2000, val_loss: 5.1600\n",
      "---------------------------------\n"
     ]
    },
    {
     "name": "stderr",
     "output_type": "stream",
     "text": [
      "100%|███████████████████████████████████████████████████████████████████| 2000/2000 [00:54<00:00, 36.37it/s]\n"
     ]
    },
    {
     "name": "stdout",
     "output_type": "stream",
     "text": [
      "Cell_emb: 2, sm_emb: 32, lr = 0.0005, hidden_channels = 16  >>>  Best epoch: 1539/2000, val_loss: 4.2549\n",
      "---------------------------------\n"
     ]
    },
    {
     "name": "stderr",
     "output_type": "stream",
     "text": [
      "100%|███████████████████████████████████████████████████████████████████| 2000/2000 [00:55<00:00, 36.12it/s]\n"
     ]
    },
    {
     "name": "stdout",
     "output_type": "stream",
     "text": [
      "Cell_emb: 2, sm_emb: 32, lr = 0.0005, hidden_channels = 16  >>>  Best epoch: 1604/2000, val_loss: 4.9117\n",
      "---------------------------------\n"
     ]
    },
    {
     "name": "stderr",
     "output_type": "stream",
     "text": [
      "100%|███████████████████████████████████████████████████████████████████| 2000/2000 [00:55<00:00, 36.21it/s]\n"
     ]
    },
    {
     "name": "stdout",
     "output_type": "stream",
     "text": [
      "Cell_emb: 2, sm_emb: 32, lr = 0.0005, hidden_channels = 16  >>>  Best epoch: 1943/2000, val_loss: 4.2646\n",
      "---------------------------------\n"
     ]
    },
    {
     "name": "stderr",
     "output_type": "stream",
     "text": [
      "100%|███████████████████████████████████████████████████████████████████| 2000/2000 [00:55<00:00, 36.28it/s]\n"
     ]
    },
    {
     "name": "stdout",
     "output_type": "stream",
     "text": [
      "Cell_emb: 2, sm_emb: 32, lr = 0.0005, hidden_channels = 16  >>>  Best epoch: 1423/2000, val_loss: 4.5942\n",
      "---------------------------------\n"
     ]
    },
    {
     "name": "stderr",
     "output_type": "stream",
     "text": [
      "100%|███████████████████████████████████████████████████████████████████| 2000/2000 [00:55<00:00, 36.10it/s]"
     ]
    },
    {
     "name": "stdout",
     "output_type": "stream",
     "text": [
      "Cell_emb: 2, sm_emb: 32, lr = 0.0005, hidden_channels = 16  >>>  Best epoch: 1814/2000, val_loss: 5.0985\n",
      "---------------------------------\n"
     ]
    },
    {
     "name": "stderr",
     "output_type": "stream",
     "text": [
      "\n"
     ]
    }
   ],
   "source": [
    "cur_model = None\n",
    "cur_valid_loss = float('inf')\n",
    "\n",
    "while not cur_model:\n",
    "    \n",
    "    cur_sub_index = 0\n",
    "    \n",
    "    for _ in range(10):\n",
    "\n",
    "        cur_sub_index += 1\n",
    "\n",
    "        tmp_model, tmp_valid_loss = train(data,\n",
    "                                          train_edge_indeces,\n",
    "                                          valid_edge_indeces,\n",
    "                                          train_edge2feat,\n",
    "                                          valid_edge2feat,\n",
    "                                          train_mask,\n",
    "                                          valid_mask,\n",
    "                                          BM_mask,\n",
    "                                          alpha=1.0,\n",
    "                                          cell_emb_dim=2,\n",
    "                                          sm_emb_dim=32,\n",
    "                                          lr=5e-4,\n",
    "                                          hidden_channels=16,\n",
    "                                          p_dropout=0.2,\n",
    "                                          num_epochs=2000,\n",
    "                                          print_every=-1)\n",
    "\n",
    "        if tmp_valid_loss >= 4.2:\n",
    "            continue\n",
    "\n",
    "        \"\"\"\n",
    "        Save all models\n",
    "        \"\"\"\n",
    "        cur_valid_loss = tmp_valid_loss\n",
    "        cur_model = tmp_model\n",
    "        cur_model_name = 'model_1109_exp2_' + str(cur_sub_index)\n",
    "        print(cur_model_name)\n",
    "        print(cur_model)\n",
    "        final_submission(data=data, model_name=cur_model_name, model=cur_model)\n",
    "        torch.save(cur_model.state_dict(), os.path.join('../pyg_models/', cur_model_name+'.pth'))"
   ]
  },
  {
   "cell_type": "markdown",
   "id": "68300826-13d9-480b-86f0-02f4650b5309",
   "metadata": {
    "tags": []
   },
   "source": [
    "### Experiment 3 - Train original 0.594 model with more penalty on B and M cells"
   ]
  },
  {
   "cell_type": "code",
   "execution_count": 42,
   "id": "45fb529b-dc84-4f5c-ab76-449ff29adc3a",
   "metadata": {},
   "outputs": [],
   "source": [
    "from torch_geometric.nn import SAGEConv, to_hetero\n",
    "from torch.nn import Linear, Dropout, Embedding\n",
    "import torch.nn.functional as F\n",
    "\n",
    "class GNN(torch.nn.Module):\n",
    "    \"\"\"\n",
    "    Compute node embedding\n",
    "    \"\"\"\n",
    "    def __init__(self, hidden_channels, p_dropout=0.2):\n",
    "        super().__init__()       \n",
    "        self.conv1 = SAGEConv(-1, hidden_channels, normalize=True)\n",
    "        self.conv2 = SAGEConv(hidden_channels, hidden_channels, normalize=True)\n",
    "        self.dropout1 = Dropout(p=p_dropout)\n",
    "        \n",
    "    def forward(self, x, edge_index):\n",
    "        x = self.dropout1(F.elu(self.conv1(x, edge_index)))        \n",
    "        x = self.conv2(x, edge_index)\n",
    "        return x\n",
    "\n",
    "class MLP(torch.nn.Module):\n",
    "    \"\"\"\n",
    "    Model that predicts the gene expression given node features at the two ends\n",
    "    \n",
    "    1020: Change inner layer from (1024, 1024) units to (256, 256) units \n",
    "    \"\"\"\n",
    "    def __init__(self, hidden_channels, p_dropout=0.2):\n",
    "        super().__init__()\n",
    "\n",
    "        self.dropout1 = Dropout(p=p_dropout)\n",
    "        self.dropout2 = Dropout(p=p_dropout)\n",
    "        \n",
    "        self.layer1 = Linear(2*hidden_channels, 256)\n",
    "        self.layer2 = Linear(256, 1024)\n",
    "        self.layer3 = Linear(1024, 18211)\n",
    "    \n",
    "    def forward(self, x_cell, x_sm, edge_label_index):\n",
    "        \n",
    "        # Retrieve embeddings from the two nodes\n",
    "        feat_cell = x_cell[edge_label_index[0]]  # dim = hidden_channels\n",
    "        feat_sm = x_sm[edge_label_index[1]]  #  dim = hidden_channels\n",
    "\n",
    "        # calculate the gene expression\n",
    "        y = torch.cat((feat_cell, feat_sm), dim=1)  # dim = 2*hidden_channels\n",
    "        \n",
    "        y = F.relu(self.layer1(y))  # dim = 256\n",
    "        y = self.dropout1(y)\n",
    "        \n",
    "        y = F.relu(self.layer2(y))  # dim = 1024\n",
    "        y = self.dropout2(y)\n",
    "        \n",
    "        y = self.layer3(y)  # dim = 18211\n",
    "        \n",
    "        return y\n",
    "\n",
    "\n",
    "class Model(torch.nn.Module):\n",
    "    def __init__(self, data, cell_emb_dim, sm_emb_dim, hidden_channels, p_dropout):\n",
    "        super().__init__()\n",
    "\n",
    "        # cell emb for each cell type\n",
    "        self.cell_emb = Embedding(data[\"cell\"].num_nodes, cell_emb_dim)\n",
    "        \n",
    "        \"\"\"\n",
    "        1027 - change from hidden_channels to 64\n",
    "        \"\"\"\n",
    "        # cell emb leveraging control gene expression\n",
    "        #self.cell_lin = Linear(18211, hidden_channels)\n",
    "        self.cell_lin = Linear(18211, 64)\n",
    "\n",
    "        # sm emb for each sm type\n",
    "        if sm_emb_dim > 0:\n",
    "            self.sm_emb = Embedding(data[\"sm\"].num_nodes, sm_emb_dim)\n",
    "        else:\n",
    "            self.sm_emb = None\n",
    "        # sm emb leveraging SMILES embedding\n",
    "        self.sm_lin = Linear(768, hidden_channels)\n",
    "        \n",
    "        # Instantiate homogeneous GNN:\n",
    "        self.gnn = GNN(hidden_channels=hidden_channels, p_dropout=p_dropout)\n",
    "        # Convert GNN model into a heterogeneous variant:\n",
    "        self.gnn = to_hetero(self.gnn, metadata=data.metadata())\n",
    "        \n",
    "        self.MLP = MLP(hidden_channels=hidden_channels, p_dropout=p_dropout)\n",
    "        \n",
    "                \n",
    "    def forward(self, data):\n",
    "        # calculate node embedding\n",
    "        #x_cell = self.cell_emb(data[\"cell\"].node_id)\n",
    "        x_cell = torch.cat((self.cell_emb(data[\"cell\"].node_id), self.cell_lin(data[\"cell\"].x)), dim=1)\n",
    "        \n",
    "        \n",
    "        if self.sm_emb:\n",
    "            x_sm = torch.cat((self.sm_emb(data[\"sm\"].node_id), self.sm_lin(data[\"sm\"].x)), dim=1)\n",
    "        else:\n",
    "            x_sm = self.sm_lin(data[\"sm\"].x)\n",
    "            \n",
    "        \n",
    "        x_dict = {\n",
    "          \"cell\": x_cell,\n",
    "          \"sm\": x_sm,\n",
    "        } \n",
    "\n",
    "        # compute final node embedding\n",
    "        x_dict = self.gnn(x_dict, data.edge_index_dict)\n",
    "\n",
    "        # Use node embedding to predict gene expression\n",
    "        pred = self.MLP(\n",
    "            x_dict[\"cell\"],\n",
    "            x_dict[\"sm\"],\n",
    "            data[\"cell\", \"gene_exp\", \"sm\"].edge_label_index,\n",
    "        )\n",
    "        return pred"
   ]
  },
  {
   "cell_type": "code",
   "execution_count": 43,
   "id": "4cbbe507-1fe5-463d-95fb-7ec898fdcf7d",
   "metadata": {
    "tags": []
   },
   "outputs": [
    {
     "name": "stderr",
     "output_type": "stream",
     "text": [
      "100%|███████████████████████████████████████████████████████████████████| 2000/2000 [00:53<00:00, 37.58it/s]\n"
     ]
    },
    {
     "name": "stdout",
     "output_type": "stream",
     "text": [
      "Cell_emb: 2, sm_emb: 32, lr = 0.0005, hidden_channels = 16  >>>  Best epoch: 1544/2000, val_loss: 6.7359\n",
      "---------------------------------\n"
     ]
    },
    {
     "name": "stderr",
     "output_type": "stream",
     "text": [
      "100%|███████████████████████████████████████████████████████████████████| 2000/2000 [00:53<00:00, 37.35it/s]\n"
     ]
    },
    {
     "name": "stdout",
     "output_type": "stream",
     "text": [
      "Cell_emb: 2, sm_emb: 32, lr = 0.0005, hidden_channels = 16  >>>  Best epoch: 1821/2000, val_loss: 6.7074\n",
      "---------------------------------\n"
     ]
    },
    {
     "name": "stderr",
     "output_type": "stream",
     "text": [
      "100%|███████████████████████████████████████████████████████████████████| 2000/2000 [00:52<00:00, 37.78it/s]\n"
     ]
    },
    {
     "name": "stdout",
     "output_type": "stream",
     "text": [
      "Cell_emb: 2, sm_emb: 32, lr = 0.0005, hidden_channels = 16  >>>  Best epoch: 1476/2000, val_loss: 6.5126\n",
      "---------------------------------\n"
     ]
    },
    {
     "name": "stderr",
     "output_type": "stream",
     "text": [
      "100%|███████████████████████████████████████████████████████████████████| 2000/2000 [00:53<00:00, 37.19it/s]\n"
     ]
    },
    {
     "name": "stdout",
     "output_type": "stream",
     "text": [
      "Cell_emb: 2, sm_emb: 32, lr = 0.0005, hidden_channels = 16  >>>  Best epoch: 1169/2000, val_loss: 6.1828\n",
      "---------------------------------\n"
     ]
    },
    {
     "name": "stderr",
     "output_type": "stream",
     "text": [
      "100%|███████████████████████████████████████████████████████████████████| 2000/2000 [00:53<00:00, 37.40it/s]\n"
     ]
    },
    {
     "name": "stdout",
     "output_type": "stream",
     "text": [
      "Cell_emb: 2, sm_emb: 32, lr = 0.0005, hidden_channels = 16  >>>  Best epoch: 1962/2000, val_loss: 7.2022\n",
      "---------------------------------\n"
     ]
    },
    {
     "name": "stderr",
     "output_type": "stream",
     "text": [
      "100%|███████████████████████████████████████████████████████████████████| 2000/2000 [00:53<00:00, 37.11it/s]\n"
     ]
    },
    {
     "name": "stdout",
     "output_type": "stream",
     "text": [
      "Cell_emb: 2, sm_emb: 32, lr = 0.0005, hidden_channels = 16  >>>  Best epoch: 1579/2000, val_loss: 5.0741\n",
      "---------------------------------\n"
     ]
    },
    {
     "name": "stderr",
     "output_type": "stream",
     "text": [
      "100%|███████████████████████████████████████████████████████████████████| 2000/2000 [00:53<00:00, 37.33it/s]\n"
     ]
    },
    {
     "name": "stdout",
     "output_type": "stream",
     "text": [
      "Cell_emb: 2, sm_emb: 32, lr = 0.0005, hidden_channels = 16  >>>  Best epoch: 1461/2000, val_loss: 6.5177\n",
      "---------------------------------\n"
     ]
    },
    {
     "name": "stderr",
     "output_type": "stream",
     "text": [
      "100%|███████████████████████████████████████████████████████████████████| 2000/2000 [00:53<00:00, 37.28it/s]\n"
     ]
    },
    {
     "name": "stdout",
     "output_type": "stream",
     "text": [
      "Cell_emb: 2, sm_emb: 32, lr = 0.0005, hidden_channels = 16  >>>  Best epoch: 932/2000, val_loss: 6.7868\n",
      "---------------------------------\n"
     ]
    },
    {
     "name": "stderr",
     "output_type": "stream",
     "text": [
      "100%|███████████████████████████████████████████████████████████████████| 2000/2000 [00:53<00:00, 37.69it/s]\n"
     ]
    },
    {
     "name": "stdout",
     "output_type": "stream",
     "text": [
      "Cell_emb: 2, sm_emb: 32, lr = 0.0005, hidden_channels = 16  >>>  Best epoch: 1030/2000, val_loss: 6.1327\n",
      "---------------------------------\n"
     ]
    },
    {
     "name": "stderr",
     "output_type": "stream",
     "text": [
      "100%|███████████████████████████████████████████████████████████████████| 2000/2000 [00:53<00:00, 37.48it/s]\n"
     ]
    },
    {
     "name": "stdout",
     "output_type": "stream",
     "text": [
      "Cell_emb: 2, sm_emb: 32, lr = 0.0005, hidden_channels = 16  >>>  Best epoch: 1995/2000, val_loss: 6.6351\n",
      "---------------------------------\n"
     ]
    },
    {
     "name": "stderr",
     "output_type": "stream",
     "text": [
      "100%|███████████████████████████████████████████████████████████████████| 2000/2000 [00:53<00:00, 37.35it/s]\n"
     ]
    },
    {
     "name": "stdout",
     "output_type": "stream",
     "text": [
      "Cell_emb: 2, sm_emb: 32, lr = 0.0005, hidden_channels = 16  >>>  Best epoch: 1063/2000, val_loss: 6.5582\n",
      "---------------------------------\n"
     ]
    },
    {
     "name": "stderr",
     "output_type": "stream",
     "text": [
      "100%|███████████████████████████████████████████████████████████████████| 2000/2000 [00:53<00:00, 37.42it/s]\n"
     ]
    },
    {
     "name": "stdout",
     "output_type": "stream",
     "text": [
      "Cell_emb: 2, sm_emb: 32, lr = 0.0005, hidden_channels = 16  >>>  Best epoch: 1064/2000, val_loss: 6.7036\n",
      "---------------------------------\n"
     ]
    },
    {
     "name": "stderr",
     "output_type": "stream",
     "text": [
      "100%|███████████████████████████████████████████████████████████████████| 2000/2000 [00:54<00:00, 37.00it/s]\n"
     ]
    },
    {
     "name": "stdout",
     "output_type": "stream",
     "text": [
      "Cell_emb: 2, sm_emb: 32, lr = 0.0005, hidden_channels = 16  >>>  Best epoch: 1250/2000, val_loss: 6.2669\n",
      "---------------------------------\n"
     ]
    },
    {
     "name": "stderr",
     "output_type": "stream",
     "text": [
      "100%|███████████████████████████████████████████████████████████████████| 2000/2000 [00:53<00:00, 37.51it/s]\n"
     ]
    },
    {
     "name": "stdout",
     "output_type": "stream",
     "text": [
      "Cell_emb: 2, sm_emb: 32, lr = 0.0005, hidden_channels = 16  >>>  Best epoch: 885/2000, val_loss: 6.2008\n",
      "---------------------------------\n"
     ]
    },
    {
     "name": "stderr",
     "output_type": "stream",
     "text": [
      "100%|███████████████████████████████████████████████████████████████████| 2000/2000 [00:53<00:00, 37.12it/s]\n"
     ]
    },
    {
     "name": "stdout",
     "output_type": "stream",
     "text": [
      "Cell_emb: 2, sm_emb: 32, lr = 0.0005, hidden_channels = 16  >>>  Best epoch: 1475/2000, val_loss: 6.4772\n",
      "---------------------------------\n"
     ]
    },
    {
     "name": "stderr",
     "output_type": "stream",
     "text": [
      "100%|███████████████████████████████████████████████████████████████████| 2000/2000 [00:53<00:00, 37.71it/s]\n"
     ]
    },
    {
     "name": "stdout",
     "output_type": "stream",
     "text": [
      "Cell_emb: 2, sm_emb: 32, lr = 0.0005, hidden_channels = 16  >>>  Best epoch: 887/2000, val_loss: 6.5740\n",
      "---------------------------------\n"
     ]
    },
    {
     "name": "stderr",
     "output_type": "stream",
     "text": [
      "100%|███████████████████████████████████████████████████████████████████| 2000/2000 [00:53<00:00, 37.17it/s]\n"
     ]
    },
    {
     "name": "stdout",
     "output_type": "stream",
     "text": [
      "Cell_emb: 2, sm_emb: 32, lr = 0.0005, hidden_channels = 16  >>>  Best epoch: 1294/2000, val_loss: 6.1899\n",
      "---------------------------------\n"
     ]
    },
    {
     "name": "stderr",
     "output_type": "stream",
     "text": [
      "100%|███████████████████████████████████████████████████████████████████| 2000/2000 [00:53<00:00, 37.46it/s]\n"
     ]
    },
    {
     "name": "stdout",
     "output_type": "stream",
     "text": [
      "Cell_emb: 2, sm_emb: 32, lr = 0.0005, hidden_channels = 16  >>>  Best epoch: 936/2000, val_loss: 6.3893\n",
      "---------------------------------\n"
     ]
    },
    {
     "name": "stderr",
     "output_type": "stream",
     "text": [
      "100%|███████████████████████████████████████████████████████████████████| 2000/2000 [00:53<00:00, 37.39it/s]\n"
     ]
    },
    {
     "name": "stdout",
     "output_type": "stream",
     "text": [
      "Cell_emb: 2, sm_emb: 32, lr = 0.0005, hidden_channels = 16  >>>  Best epoch: 1819/2000, val_loss: 5.7901\n",
      "---------------------------------\n"
     ]
    },
    {
     "name": "stderr",
     "output_type": "stream",
     "text": [
      "100%|███████████████████████████████████████████████████████████████████| 2000/2000 [00:53<00:00, 37.17it/s]"
     ]
    },
    {
     "name": "stdout",
     "output_type": "stream",
     "text": [
      "Cell_emb: 2, sm_emb: 32, lr = 0.0005, hidden_channels = 16  >>>  Best epoch: 1561/2000, val_loss: 6.8156\n",
      "---------------------------------\n"
     ]
    },
    {
     "name": "stderr",
     "output_type": "stream",
     "text": [
      "\n"
     ]
    }
   ],
   "source": [
    "for _ in range(20):\n",
    "\n",
    "    tmp_model, tmp_valid_loss = train(data,\n",
    "                                      train_edge_indeces,\n",
    "                                      valid_edge_indeces,\n",
    "                                      train_edge2feat,\n",
    "                                      valid_edge2feat,\n",
    "                                      train_mask,\n",
    "                                      valid_mask,\n",
    "                                      BM_mask,\n",
    "                                      alpha=2.0,\n",
    "                                      cell_emb_dim=2,\n",
    "                                      sm_emb_dim=32,\n",
    "                                      lr=5e-4,\n",
    "                                      hidden_channels=16,\n",
    "                                      p_dropout=0.2,\n",
    "                                      num_epochs=2000,\n",
    "                                      print_every=-1)"
   ]
  },
  {
   "cell_type": "code",
   "execution_count": 44,
   "id": "95aaf50d-ad8f-4bd1-84ce-61f2407e6f41",
   "metadata": {
    "tags": []
   },
   "outputs": [
    {
     "name": "stderr",
     "output_type": "stream",
     "text": [
      "100%|███████████████████████████████████████████████████████████████████| 2000/2000 [00:54<00:00, 36.73it/s]\n"
     ]
    },
    {
     "name": "stdout",
     "output_type": "stream",
     "text": [
      "Cell_emb: 2, sm_emb: 32, lr = 0.0005, hidden_channels = 16  >>>  Best epoch: 1151/2000, val_loss: 6.3532\n",
      "---------------------------------\n"
     ]
    },
    {
     "name": "stderr",
     "output_type": "stream",
     "text": [
      "100%|███████████████████████████████████████████████████████████████████| 2000/2000 [00:53<00:00, 37.68it/s]\n"
     ]
    },
    {
     "name": "stdout",
     "output_type": "stream",
     "text": [
      "Cell_emb: 2, sm_emb: 32, lr = 0.0005, hidden_channels = 16  >>>  Best epoch: 1081/2000, val_loss: 6.3344\n",
      "---------------------------------\n"
     ]
    },
    {
     "name": "stderr",
     "output_type": "stream",
     "text": [
      "100%|███████████████████████████████████████████████████████████████████| 2000/2000 [00:52<00:00, 37.80it/s]\n"
     ]
    },
    {
     "name": "stdout",
     "output_type": "stream",
     "text": [
      "Cell_emb: 2, sm_emb: 32, lr = 0.0005, hidden_channels = 16  >>>  Best epoch: 853/2000, val_loss: 6.2779\n",
      "---------------------------------\n"
     ]
    },
    {
     "name": "stderr",
     "output_type": "stream",
     "text": [
      "100%|███████████████████████████████████████████████████████████████████| 2000/2000 [00:53<00:00, 37.42it/s]\n"
     ]
    },
    {
     "name": "stdout",
     "output_type": "stream",
     "text": [
      "Cell_emb: 2, sm_emb: 32, lr = 0.0005, hidden_channels = 16  >>>  Best epoch: 1850/2000, val_loss: 6.2446\n",
      "---------------------------------\n"
     ]
    },
    {
     "name": "stderr",
     "output_type": "stream",
     "text": [
      "100%|███████████████████████████████████████████████████████████████████| 2000/2000 [00:53<00:00, 37.66it/s]\n"
     ]
    },
    {
     "name": "stdout",
     "output_type": "stream",
     "text": [
      "Cell_emb: 2, sm_emb: 32, lr = 0.0005, hidden_channels = 16  >>>  Best epoch: 1033/2000, val_loss: 6.0120\n",
      "---------------------------------\n"
     ]
    },
    {
     "name": "stderr",
     "output_type": "stream",
     "text": [
      "100%|███████████████████████████████████████████████████████████████████| 2000/2000 [00:52<00:00, 38.15it/s]\n"
     ]
    },
    {
     "name": "stdout",
     "output_type": "stream",
     "text": [
      "Cell_emb: 2, sm_emb: 32, lr = 0.0005, hidden_channels = 16  >>>  Best epoch: 916/2000, val_loss: 6.4251\n",
      "---------------------------------\n"
     ]
    },
    {
     "name": "stderr",
     "output_type": "stream",
     "text": [
      "100%|███████████████████████████████████████████████████████████████████| 2000/2000 [00:52<00:00, 37.91it/s]\n"
     ]
    },
    {
     "name": "stdout",
     "output_type": "stream",
     "text": [
      "Cell_emb: 2, sm_emb: 32, lr = 0.0005, hidden_channels = 16  >>>  Best epoch: 928/2000, val_loss: 6.8127\n",
      "---------------------------------\n"
     ]
    },
    {
     "name": "stderr",
     "output_type": "stream",
     "text": [
      "100%|███████████████████████████████████████████████████████████████████| 2000/2000 [00:54<00:00, 36.78it/s]\n"
     ]
    },
    {
     "name": "stdout",
     "output_type": "stream",
     "text": [
      "Cell_emb: 2, sm_emb: 32, lr = 0.0005, hidden_channels = 16  >>>  Best epoch: 1062/2000, val_loss: 7.0809\n",
      "---------------------------------\n"
     ]
    },
    {
     "name": "stderr",
     "output_type": "stream",
     "text": [
      "100%|███████████████████████████████████████████████████████████████████| 2000/2000 [00:53<00:00, 37.12it/s]\n"
     ]
    },
    {
     "name": "stdout",
     "output_type": "stream",
     "text": [
      "Cell_emb: 2, sm_emb: 32, lr = 0.0005, hidden_channels = 16  >>>  Best epoch: 1095/2000, val_loss: 7.1483\n",
      "---------------------------------\n"
     ]
    },
    {
     "name": "stderr",
     "output_type": "stream",
     "text": [
      "100%|███████████████████████████████████████████████████████████████████| 2000/2000 [00:53<00:00, 37.53it/s]\n"
     ]
    },
    {
     "name": "stdout",
     "output_type": "stream",
     "text": [
      "Cell_emb: 2, sm_emb: 32, lr = 0.0005, hidden_channels = 16  >>>  Best epoch: 1751/2000, val_loss: 6.3693\n",
      "---------------------------------\n"
     ]
    },
    {
     "name": "stderr",
     "output_type": "stream",
     "text": [
      "100%|███████████████████████████████████████████████████████████████████| 2000/2000 [00:52<00:00, 37.97it/s]\n"
     ]
    },
    {
     "name": "stdout",
     "output_type": "stream",
     "text": [
      "Cell_emb: 2, sm_emb: 32, lr = 0.0005, hidden_channels = 16  >>>  Best epoch: 1626/2000, val_loss: 6.3620\n",
      "---------------------------------\n"
     ]
    },
    {
     "name": "stderr",
     "output_type": "stream",
     "text": [
      "100%|███████████████████████████████████████████████████████████████████| 2000/2000 [00:53<00:00, 37.47it/s]\n"
     ]
    },
    {
     "name": "stdout",
     "output_type": "stream",
     "text": [
      "Cell_emb: 2, sm_emb: 32, lr = 0.0005, hidden_channels = 16  >>>  Best epoch: 1136/2000, val_loss: 6.5522\n",
      "---------------------------------\n"
     ]
    },
    {
     "name": "stderr",
     "output_type": "stream",
     "text": [
      "100%|███████████████████████████████████████████████████████████████████| 2000/2000 [00:52<00:00, 38.11it/s]\n"
     ]
    },
    {
     "name": "stdout",
     "output_type": "stream",
     "text": [
      "Cell_emb: 2, sm_emb: 32, lr = 0.0005, hidden_channels = 16  >>>  Best epoch: 1167/2000, val_loss: 6.0058\n",
      "---------------------------------\n"
     ]
    },
    {
     "name": "stderr",
     "output_type": "stream",
     "text": [
      "100%|███████████████████████████████████████████████████████████████████| 2000/2000 [00:52<00:00, 37.77it/s]\n"
     ]
    },
    {
     "name": "stdout",
     "output_type": "stream",
     "text": [
      "Cell_emb: 2, sm_emb: 32, lr = 0.0005, hidden_channels = 16  >>>  Best epoch: 1174/2000, val_loss: 6.2694\n",
      "---------------------------------\n"
     ]
    },
    {
     "name": "stderr",
     "output_type": "stream",
     "text": [
      "100%|███████████████████████████████████████████████████████████████████| 2000/2000 [00:52<00:00, 37.84it/s]\n"
     ]
    },
    {
     "name": "stdout",
     "output_type": "stream",
     "text": [
      "Cell_emb: 2, sm_emb: 32, lr = 0.0005, hidden_channels = 16  >>>  Best epoch: 1604/2000, val_loss: 5.9093\n",
      "---------------------------------\n",
      "model_1109_exp3_5\n",
      "Model(\n",
      "  (cell_emb): Embedding(6, 2)\n",
      "  (cell_lin): Linear(in_features=18211, out_features=64, bias=True)\n",
      "  (sm_emb): Embedding(146, 32)\n",
      "  (sm_lin): Linear(in_features=768, out_features=16, bias=True)\n",
      "  (gnn): GraphModule(\n",
      "    (conv1): Module(\n",
      "      (cell__gene_exp__sm): SAGEConv(-1, 16, aggr=mean)\n",
      "      (sm__rev_gene_exp__cell): SAGEConv(-1, 16, aggr=mean)\n",
      "    )\n",
      "    (dropout1): Module(\n",
      "      (cell): Dropout(p=0.2, inplace=False)\n",
      "      (sm): Dropout(p=0.2, inplace=False)\n",
      "    )\n",
      "    (conv2): Module(\n",
      "      (cell__gene_exp__sm): SAGEConv(16, 16, aggr=mean)\n",
      "      (sm__rev_gene_exp__cell): SAGEConv(16, 16, aggr=mean)\n",
      "    )\n",
      "  )\n",
      "  (MLP): MLP(\n",
      "    (dropout1): Dropout(p=0.2, inplace=False)\n",
      "    (dropout2): Dropout(p=0.2, inplace=False)\n",
      "    (layer1): Linear(in_features=32, out_features=256, bias=True)\n",
      "    (layer2): Linear(in_features=256, out_features=1024, bias=True)\n",
      "    (layer3): Linear(in_features=1024, out_features=18211, bias=True)\n",
      "  )\n",
      ")\n"
     ]
    },
    {
     "name": "stderr",
     "output_type": "stream",
     "text": [
      "100%|█████████████████████████████████████████████████████████████████████| 255/255 [01:05<00:00,  3.88it/s]\n"
     ]
    },
    {
     "name": "stdout",
     "output_type": "stream",
     "text": [
      "File saved.\n",
      "(255, 18212)\n"
     ]
    },
    {
     "name": "stderr",
     "output_type": "stream",
     "text": [
      "100%|███████████████████████████████████████████████████████████████████| 2000/2000 [00:52<00:00, 37.77it/s]\n"
     ]
    },
    {
     "name": "stdout",
     "output_type": "stream",
     "text": [
      "Cell_emb: 2, sm_emb: 32, lr = 0.0005, hidden_channels = 16  >>>  Best epoch: 1567/2000, val_loss: 6.2419\n",
      "---------------------------------\n"
     ]
    },
    {
     "name": "stderr",
     "output_type": "stream",
     "text": [
      "100%|███████████████████████████████████████████████████████████████████| 2000/2000 [00:53<00:00, 37.38it/s]\n"
     ]
    },
    {
     "name": "stdout",
     "output_type": "stream",
     "text": [
      "Cell_emb: 2, sm_emb: 32, lr = 0.0005, hidden_channels = 16  >>>  Best epoch: 1028/2000, val_loss: 6.2289\n",
      "---------------------------------\n"
     ]
    },
    {
     "name": "stderr",
     "output_type": "stream",
     "text": [
      "100%|███████████████████████████████████████████████████████████████████| 2000/2000 [00:52<00:00, 37.84it/s]\n"
     ]
    },
    {
     "name": "stdout",
     "output_type": "stream",
     "text": [
      "Cell_emb: 2, sm_emb: 32, lr = 0.0005, hidden_channels = 16  >>>  Best epoch: 1250/2000, val_loss: 6.0420\n",
      "---------------------------------\n"
     ]
    },
    {
     "name": "stderr",
     "output_type": "stream",
     "text": [
      "100%|███████████████████████████████████████████████████████████████████| 2000/2000 [00:52<00:00, 37.86it/s]\n"
     ]
    },
    {
     "name": "stdout",
     "output_type": "stream",
     "text": [
      "Cell_emb: 2, sm_emb: 32, lr = 0.0005, hidden_channels = 16  >>>  Best epoch: 1865/2000, val_loss: 6.1508\n",
      "---------------------------------\n"
     ]
    },
    {
     "name": "stderr",
     "output_type": "stream",
     "text": [
      "100%|███████████████████████████████████████████████████████████████████| 2000/2000 [00:53<00:00, 37.38it/s]"
     ]
    },
    {
     "name": "stdout",
     "output_type": "stream",
     "text": [
      "Cell_emb: 2, sm_emb: 32, lr = 0.0005, hidden_channels = 16  >>>  Best epoch: 1205/2000, val_loss: 6.0962\n",
      "---------------------------------\n"
     ]
    },
    {
     "name": "stderr",
     "output_type": "stream",
     "text": [
      "\n"
     ]
    }
   ],
   "source": [
    "cur_model = None\n",
    "cur_valid_loss = float('inf')\n",
    "\n",
    "while not cur_model:\n",
    "    \n",
    "    cur_sub_index = 0\n",
    "    \n",
    "    for _ in range(10):\n",
    "\n",
    "        cur_sub_index += 1\n",
    "\n",
    "        tmp_model, tmp_valid_loss = train(data,\n",
    "                                          train_edge_indeces,\n",
    "                                          valid_edge_indeces,\n",
    "                                          train_edge2feat,\n",
    "                                          valid_edge2feat,\n",
    "                                          train_mask,\n",
    "                                          valid_mask,\n",
    "                                          BM_mask,\n",
    "                                          alpha=2.0,\n",
    "                                          cell_emb_dim=2,\n",
    "                                          sm_emb_dim=32,\n",
    "                                          lr=5e-4,\n",
    "                                          hidden_channels=16,\n",
    "                                          p_dropout=0.2,\n",
    "                                          num_epochs=2000,\n",
    "                                          print_every=-1)\n",
    "\n",
    "        if tmp_valid_loss >= 6.0:\n",
    "            continue\n",
    "\n",
    "        \"\"\"\n",
    "        Save all models\n",
    "        \"\"\"\n",
    "        cur_valid_loss = tmp_valid_loss\n",
    "        cur_model = tmp_model\n",
    "        cur_model_name = 'model_1109_exp3_' + str(cur_sub_index)\n",
    "        print(cur_model_name)\n",
    "        print(cur_model)\n",
    "        final_submission(data=data, model_name=cur_model_name, model=cur_model)\n",
    "        torch.save(cur_model.state_dict(), os.path.join('../pyg_models/', cur_model_name+'.pth'))"
   ]
  },
  {
   "cell_type": "markdown",
   "id": "56eaf690-8444-43d8-b2bd-8e16eca40ab9",
   "metadata": {},
   "source": [
    "### Experiment 4"
   ]
  },
  {
   "cell_type": "code",
   "execution_count": 45,
   "id": "a461bd51-3f80-4703-93a4-dfb095fd6ddd",
   "metadata": {
    "tags": []
   },
   "outputs": [],
   "source": [
    "from torch_geometric.nn import SAGEConv, to_hetero\n",
    "from torch.nn import Linear, Dropout, Embedding\n",
    "import torch.nn.functional as F\n",
    "\n",
    "class GNN(torch.nn.Module):\n",
    "    \"\"\"\n",
    "    Compute node embedding\n",
    "    \"\"\"\n",
    "    def __init__(self, hidden_channels, p_dropout=0.2):\n",
    "        super().__init__()       \n",
    "        self.conv1 = SAGEConv(-1, hidden_channels, normalize=True)\n",
    "        self.conv2 = SAGEConv(hidden_channels, hidden_channels, normalize=True)\n",
    "        self.dropout1 = Dropout(p=p_dropout)\n",
    "        \n",
    "    def forward(self, x, edge_index):\n",
    "        x = self.dropout1(F.elu(self.conv1(x, edge_index)))        \n",
    "        x = self.conv2(x, edge_index)\n",
    "        return x\n",
    "\n",
    "class MLP(torch.nn.Module):\n",
    "    \"\"\"\n",
    "    Model that predicts the gene expression given node features at the two ends\n",
    "    \n",
    "    1020: Change inner layer from (1024, 1024) units to (256, 256) units \n",
    "    \"\"\"\n",
    "    def __init__(self, hidden_channels, p_dropout=0.2):\n",
    "        super().__init__()\n",
    "\n",
    "        self.dropout1 = Dropout(p=p_dropout)\n",
    "        self.dropout2 = Dropout(p=p_dropout)\n",
    "        \n",
    "        self.layer1 = Linear(2*hidden_channels, 256)\n",
    "        self.layer2 = Linear(256, 1024)\n",
    "        self.layer3 = Linear(1024, 18211)\n",
    "    \n",
    "    def forward(self, x_cell, x_sm, edge_label_index):\n",
    "        \n",
    "        # Retrieve embeddings from the two nodes\n",
    "        feat_cell = x_cell[edge_label_index[0]]  # dim = hidden_channels\n",
    "        feat_sm = x_sm[edge_label_index[1]]  #  dim = hidden_channels\n",
    "\n",
    "        # calculate the gene expression\n",
    "        y = torch.cat((feat_cell, feat_sm), dim=1)  # dim = 2*hidden_channels\n",
    "        \n",
    "        y = F.relu(self.layer1(y))  # dim = 256\n",
    "        y = self.dropout1(y)\n",
    "        \n",
    "        y = F.relu(self.layer2(y))  # dim = 1024\n",
    "        y = self.dropout2(y)\n",
    "        \n",
    "        y = self.layer3(y)  # dim = 18211\n",
    "        \n",
    "        return y\n",
    "\n",
    "\n",
    "class Model(torch.nn.Module):\n",
    "    def __init__(self, data, cell_emb_dim, sm_emb_dim, hidden_channels, p_dropout):\n",
    "        super().__init__()\n",
    "\n",
    "        # cell emb for each cell type\n",
    "        self.cell_emb = Embedding(data[\"cell\"].num_nodes, cell_emb_dim)\n",
    "        \n",
    "        \"\"\"\n",
    "        1027 - change from hidden_channels to 64\n",
    "        1109 - change from 64 to 16\n",
    "        \"\"\"\n",
    "        # cell emb leveraging control gene expression\n",
    "        #self.cell_lin = Linear(18211, hidden_channels)\n",
    "        self.cell_lin = Linear(18211, 16)\n",
    "\n",
    "        # sm emb for each sm type\n",
    "        if sm_emb_dim > 0:\n",
    "            self.sm_emb = Embedding(data[\"sm\"].num_nodes, sm_emb_dim)\n",
    "        else:\n",
    "            self.sm_emb = None\n",
    "        # sm emb leveraging SMILES embedding\n",
    "        self.sm_lin = Linear(768, hidden_channels)\n",
    "        \n",
    "        # Instantiate homogeneous GNN:\n",
    "        self.gnn = GNN(hidden_channels=hidden_channels, p_dropout=p_dropout)\n",
    "        # Convert GNN model into a heterogeneous variant:\n",
    "        self.gnn = to_hetero(self.gnn, metadata=data.metadata())\n",
    "        \n",
    "        self.MLP = MLP(hidden_channels=hidden_channels, p_dropout=p_dropout)\n",
    "        \n",
    "                \n",
    "    def forward(self, data):\n",
    "        # calculate node embedding\n",
    "        #x_cell = self.cell_emb(data[\"cell\"].node_id)\n",
    "        x_cell = torch.cat((self.cell_emb(data[\"cell\"].node_id), self.cell_lin(data[\"cell\"].x)), dim=1)\n",
    "        \n",
    "        \n",
    "        if self.sm_emb:\n",
    "            x_sm = torch.cat((self.sm_emb(data[\"sm\"].node_id), self.sm_lin(data[\"sm\"].x)), dim=1)\n",
    "        else:\n",
    "            x_sm = self.sm_lin(data[\"sm\"].x)\n",
    "            \n",
    "        \n",
    "        x_dict = {\n",
    "          \"cell\": x_cell,\n",
    "          \"sm\": x_sm,\n",
    "        } \n",
    "\n",
    "        # compute final node embedding\n",
    "        x_dict = self.gnn(x_dict, data.edge_index_dict)\n",
    "\n",
    "        # Use node embedding to predict gene expression\n",
    "        pred = self.MLP(\n",
    "            x_dict[\"cell\"],\n",
    "            x_dict[\"sm\"],\n",
    "            data[\"cell\", \"gene_exp\", \"sm\"].edge_label_index,\n",
    "        )\n",
    "        return pred"
   ]
  },
  {
   "cell_type": "code",
   "execution_count": 46,
   "id": "38224e51-a569-471a-a828-ae785925b157",
   "metadata": {
    "tags": []
   },
   "outputs": [
    {
     "name": "stderr",
     "output_type": "stream",
     "text": [
      "100%|███████████████████████████████████████████████████████████████████| 2000/2000 [00:53<00:00, 37.47it/s]\n"
     ]
    },
    {
     "name": "stdout",
     "output_type": "stream",
     "text": [
      "Cell_emb: 2, sm_emb: 32, lr = 0.0005, hidden_channels = 16  >>>  Best epoch: 1508/2000, val_loss: 5.1483\n",
      "---------------------------------\n"
     ]
    },
    {
     "name": "stderr",
     "output_type": "stream",
     "text": [
      "100%|███████████████████████████████████████████████████████████████████| 2000/2000 [00:52<00:00, 37.96it/s]\n"
     ]
    },
    {
     "name": "stdout",
     "output_type": "stream",
     "text": [
      "Cell_emb: 2, sm_emb: 32, lr = 0.0005, hidden_channels = 16  >>>  Best epoch: 1847/2000, val_loss: 4.9446\n",
      "---------------------------------\n"
     ]
    },
    {
     "name": "stderr",
     "output_type": "stream",
     "text": [
      "100%|███████████████████████████████████████████████████████████████████| 2000/2000 [00:52<00:00, 38.13it/s]\n"
     ]
    },
    {
     "name": "stdout",
     "output_type": "stream",
     "text": [
      "Cell_emb: 2, sm_emb: 32, lr = 0.0005, hidden_channels = 16  >>>  Best epoch: 1255/2000, val_loss: 5.6857\n",
      "---------------------------------\n"
     ]
    },
    {
     "name": "stderr",
     "output_type": "stream",
     "text": [
      "100%|███████████████████████████████████████████████████████████████████| 2000/2000 [00:52<00:00, 38.12it/s]\n"
     ]
    },
    {
     "name": "stdout",
     "output_type": "stream",
     "text": [
      "Cell_emb: 2, sm_emb: 32, lr = 0.0005, hidden_channels = 16  >>>  Best epoch: 1230/2000, val_loss: 4.8977\n",
      "---------------------------------\n"
     ]
    },
    {
     "name": "stderr",
     "output_type": "stream",
     "text": [
      "100%|███████████████████████████████████████████████████████████████████| 2000/2000 [00:52<00:00, 38.39it/s]\n"
     ]
    },
    {
     "name": "stdout",
     "output_type": "stream",
     "text": [
      "Cell_emb: 2, sm_emb: 32, lr = 0.0005, hidden_channels = 16  >>>  Best epoch: 1510/2000, val_loss: 4.8706\n",
      "---------------------------------\n"
     ]
    },
    {
     "name": "stderr",
     "output_type": "stream",
     "text": [
      "100%|███████████████████████████████████████████████████████████████████| 2000/2000 [00:52<00:00, 38.14it/s]\n"
     ]
    },
    {
     "name": "stdout",
     "output_type": "stream",
     "text": [
      "Cell_emb: 2, sm_emb: 32, lr = 0.0005, hidden_channels = 16  >>>  Best epoch: 1954/2000, val_loss: 5.6161\n",
      "---------------------------------\n"
     ]
    },
    {
     "name": "stderr",
     "output_type": "stream",
     "text": [
      "100%|███████████████████████████████████████████████████████████████████| 2000/2000 [00:52<00:00, 38.12it/s]\n"
     ]
    },
    {
     "name": "stdout",
     "output_type": "stream",
     "text": [
      "Cell_emb: 2, sm_emb: 32, lr = 0.0005, hidden_channels = 16  >>>  Best epoch: 1120/2000, val_loss: 4.8119\n",
      "---------------------------------\n"
     ]
    },
    {
     "name": "stderr",
     "output_type": "stream",
     "text": [
      "100%|███████████████████████████████████████████████████████████████████| 2000/2000 [00:52<00:00, 38.30it/s]\n"
     ]
    },
    {
     "name": "stdout",
     "output_type": "stream",
     "text": [
      "Cell_emb: 2, sm_emb: 32, lr = 0.0005, hidden_channels = 16  >>>  Best epoch: 1912/2000, val_loss: 4.6099\n",
      "---------------------------------\n"
     ]
    },
    {
     "name": "stderr",
     "output_type": "stream",
     "text": [
      "100%|███████████████████████████████████████████████████████████████████| 2000/2000 [00:52<00:00, 37.92it/s]\n"
     ]
    },
    {
     "name": "stdout",
     "output_type": "stream",
     "text": [
      "Cell_emb: 2, sm_emb: 32, lr = 0.0005, hidden_channels = 16  >>>  Best epoch: 1936/2000, val_loss: 5.1243\n",
      "---------------------------------\n"
     ]
    },
    {
     "name": "stderr",
     "output_type": "stream",
     "text": [
      "100%|███████████████████████████████████████████████████████████████████| 2000/2000 [00:53<00:00, 37.66it/s]\n"
     ]
    },
    {
     "name": "stdout",
     "output_type": "stream",
     "text": [
      "Cell_emb: 2, sm_emb: 32, lr = 0.0005, hidden_channels = 16  >>>  Best epoch: 1330/2000, val_loss: 4.7525\n",
      "---------------------------------\n"
     ]
    },
    {
     "name": "stderr",
     "output_type": "stream",
     "text": [
      "100%|███████████████████████████████████████████████████████████████████| 2000/2000 [00:52<00:00, 37.94it/s]\n"
     ]
    },
    {
     "name": "stdout",
     "output_type": "stream",
     "text": [
      "Cell_emb: 2, sm_emb: 32, lr = 0.0005, hidden_channels = 16  >>>  Best epoch: 1582/2000, val_loss: 4.4598\n",
      "---------------------------------\n",
      "model_1109_exp4_1\n",
      "Model(\n",
      "  (cell_emb): Embedding(6, 2)\n",
      "  (cell_lin): Linear(in_features=18211, out_features=16, bias=True)\n",
      "  (sm_emb): Embedding(146, 32)\n",
      "  (sm_lin): Linear(in_features=768, out_features=16, bias=True)\n",
      "  (gnn): GraphModule(\n",
      "    (conv1): Module(\n",
      "      (cell__gene_exp__sm): SAGEConv(-1, 16, aggr=mean)\n",
      "      (sm__rev_gene_exp__cell): SAGEConv(-1, 16, aggr=mean)\n",
      "    )\n",
      "    (dropout1): Module(\n",
      "      (cell): Dropout(p=0.2, inplace=False)\n",
      "      (sm): Dropout(p=0.2, inplace=False)\n",
      "    )\n",
      "    (conv2): Module(\n",
      "      (cell__gene_exp__sm): SAGEConv(16, 16, aggr=mean)\n",
      "      (sm__rev_gene_exp__cell): SAGEConv(16, 16, aggr=mean)\n",
      "    )\n",
      "  )\n",
      "  (MLP): MLP(\n",
      "    (dropout1): Dropout(p=0.2, inplace=False)\n",
      "    (dropout2): Dropout(p=0.2, inplace=False)\n",
      "    (layer1): Linear(in_features=32, out_features=256, bias=True)\n",
      "    (layer2): Linear(in_features=256, out_features=1024, bias=True)\n",
      "    (layer3): Linear(in_features=1024, out_features=18211, bias=True)\n",
      "  )\n",
      ")\n"
     ]
    },
    {
     "name": "stderr",
     "output_type": "stream",
     "text": [
      "100%|█████████████████████████████████████████████████████████████████████| 255/255 [01:06<00:00,  3.82it/s]\n"
     ]
    },
    {
     "name": "stdout",
     "output_type": "stream",
     "text": [
      "File saved.\n",
      "(255, 18212)\n"
     ]
    },
    {
     "name": "stderr",
     "output_type": "stream",
     "text": [
      "100%|███████████████████████████████████████████████████████████████████| 2000/2000 [00:52<00:00, 37.87it/s]\n"
     ]
    },
    {
     "name": "stdout",
     "output_type": "stream",
     "text": [
      "Cell_emb: 2, sm_emb: 32, lr = 0.0005, hidden_channels = 16  >>>  Best epoch: 1292/2000, val_loss: 4.4957\n",
      "---------------------------------\n",
      "model_1109_exp4_2\n",
      "Model(\n",
      "  (cell_emb): Embedding(6, 2)\n",
      "  (cell_lin): Linear(in_features=18211, out_features=16, bias=True)\n",
      "  (sm_emb): Embedding(146, 32)\n",
      "  (sm_lin): Linear(in_features=768, out_features=16, bias=True)\n",
      "  (gnn): GraphModule(\n",
      "    (conv1): Module(\n",
      "      (cell__gene_exp__sm): SAGEConv(-1, 16, aggr=mean)\n",
      "      (sm__rev_gene_exp__cell): SAGEConv(-1, 16, aggr=mean)\n",
      "    )\n",
      "    (dropout1): Module(\n",
      "      (cell): Dropout(p=0.2, inplace=False)\n",
      "      (sm): Dropout(p=0.2, inplace=False)\n",
      "    )\n",
      "    (conv2): Module(\n",
      "      (cell__gene_exp__sm): SAGEConv(16, 16, aggr=mean)\n",
      "      (sm__rev_gene_exp__cell): SAGEConv(16, 16, aggr=mean)\n",
      "    )\n",
      "  )\n",
      "  (MLP): MLP(\n",
      "    (dropout1): Dropout(p=0.2, inplace=False)\n",
      "    (dropout2): Dropout(p=0.2, inplace=False)\n",
      "    (layer1): Linear(in_features=32, out_features=256, bias=True)\n",
      "    (layer2): Linear(in_features=256, out_features=1024, bias=True)\n",
      "    (layer3): Linear(in_features=1024, out_features=18211, bias=True)\n",
      "  )\n",
      ")\n"
     ]
    },
    {
     "name": "stderr",
     "output_type": "stream",
     "text": [
      "100%|█████████████████████████████████████████████████████████████████████| 255/255 [01:04<00:00,  3.93it/s]\n"
     ]
    },
    {
     "name": "stdout",
     "output_type": "stream",
     "text": [
      "File saved.\n",
      "(255, 18212)\n"
     ]
    },
    {
     "name": "stderr",
     "output_type": "stream",
     "text": [
      "100%|███████████████████████████████████████████████████████████████████| 2000/2000 [00:52<00:00, 38.05it/s]\n"
     ]
    },
    {
     "name": "stdout",
     "output_type": "stream",
     "text": [
      "Cell_emb: 2, sm_emb: 32, lr = 0.0005, hidden_channels = 16  >>>  Best epoch: 1555/2000, val_loss: 4.3574\n",
      "---------------------------------\n",
      "model_1109_exp4_3\n",
      "Model(\n",
      "  (cell_emb): Embedding(6, 2)\n",
      "  (cell_lin): Linear(in_features=18211, out_features=16, bias=True)\n",
      "  (sm_emb): Embedding(146, 32)\n",
      "  (sm_lin): Linear(in_features=768, out_features=16, bias=True)\n",
      "  (gnn): GraphModule(\n",
      "    (conv1): Module(\n",
      "      (cell__gene_exp__sm): SAGEConv(-1, 16, aggr=mean)\n",
      "      (sm__rev_gene_exp__cell): SAGEConv(-1, 16, aggr=mean)\n",
      "    )\n",
      "    (dropout1): Module(\n",
      "      (cell): Dropout(p=0.2, inplace=False)\n",
      "      (sm): Dropout(p=0.2, inplace=False)\n",
      "    )\n",
      "    (conv2): Module(\n",
      "      (cell__gene_exp__sm): SAGEConv(16, 16, aggr=mean)\n",
      "      (sm__rev_gene_exp__cell): SAGEConv(16, 16, aggr=mean)\n",
      "    )\n",
      "  )\n",
      "  (MLP): MLP(\n",
      "    (dropout1): Dropout(p=0.2, inplace=False)\n",
      "    (dropout2): Dropout(p=0.2, inplace=False)\n",
      "    (layer1): Linear(in_features=32, out_features=256, bias=True)\n",
      "    (layer2): Linear(in_features=256, out_features=1024, bias=True)\n",
      "    (layer3): Linear(in_features=1024, out_features=18211, bias=True)\n",
      "  )\n",
      ")\n"
     ]
    },
    {
     "name": "stderr",
     "output_type": "stream",
     "text": [
      "100%|█████████████████████████████████████████████████████████████████████| 255/255 [01:03<00:00,  4.00it/s]\n"
     ]
    },
    {
     "name": "stdout",
     "output_type": "stream",
     "text": [
      "File saved.\n",
      "(255, 18212)\n"
     ]
    },
    {
     "name": "stderr",
     "output_type": "stream",
     "text": [
      "100%|███████████████████████████████████████████████████████████████████| 2000/2000 [00:52<00:00, 38.03it/s]\n"
     ]
    },
    {
     "name": "stdout",
     "output_type": "stream",
     "text": [
      "Cell_emb: 2, sm_emb: 32, lr = 0.0005, hidden_channels = 16  >>>  Best epoch: 1591/2000, val_loss: 4.7448\n",
      "---------------------------------\n"
     ]
    },
    {
     "name": "stderr",
     "output_type": "stream",
     "text": [
      "100%|███████████████████████████████████████████████████████████████████| 2000/2000 [00:51<00:00, 38.66it/s]\n"
     ]
    },
    {
     "name": "stdout",
     "output_type": "stream",
     "text": [
      "Cell_emb: 2, sm_emb: 32, lr = 0.0005, hidden_channels = 16  >>>  Best epoch: 1873/2000, val_loss: 4.5506\n",
      "---------------------------------\n"
     ]
    },
    {
     "name": "stderr",
     "output_type": "stream",
     "text": [
      "100%|███████████████████████████████████████████████████████████████████| 2000/2000 [00:52<00:00, 38.27it/s]\n"
     ]
    },
    {
     "name": "stdout",
     "output_type": "stream",
     "text": [
      "Cell_emb: 2, sm_emb: 32, lr = 0.0005, hidden_channels = 16  >>>  Best epoch: 1745/2000, val_loss: 5.5584\n",
      "---------------------------------\n"
     ]
    },
    {
     "name": "stderr",
     "output_type": "stream",
     "text": [
      "100%|███████████████████████████████████████████████████████████████████| 2000/2000 [00:52<00:00, 38.34it/s]\n"
     ]
    },
    {
     "name": "stdout",
     "output_type": "stream",
     "text": [
      "Cell_emb: 2, sm_emb: 32, lr = 0.0005, hidden_channels = 16  >>>  Best epoch: 1239/2000, val_loss: 5.3972\n",
      "---------------------------------\n"
     ]
    },
    {
     "name": "stderr",
     "output_type": "stream",
     "text": [
      "100%|███████████████████████████████████████████████████████████████████| 2000/2000 [00:51<00:00, 38.55it/s]\n"
     ]
    },
    {
     "name": "stdout",
     "output_type": "stream",
     "text": [
      "Cell_emb: 2, sm_emb: 32, lr = 0.0005, hidden_channels = 16  >>>  Best epoch: 1438/2000, val_loss: 4.7318\n",
      "---------------------------------\n"
     ]
    },
    {
     "name": "stderr",
     "output_type": "stream",
     "text": [
      "100%|███████████████████████████████████████████████████████████████████| 2000/2000 [00:52<00:00, 38.21it/s]\n"
     ]
    },
    {
     "name": "stdout",
     "output_type": "stream",
     "text": [
      "Cell_emb: 2, sm_emb: 32, lr = 0.0005, hidden_channels = 16  >>>  Best epoch: 1361/2000, val_loss: 4.7301\n",
      "---------------------------------\n"
     ]
    },
    {
     "name": "stderr",
     "output_type": "stream",
     "text": [
      "100%|███████████████████████████████████████████████████████████████████| 2000/2000 [00:52<00:00, 38.46it/s]"
     ]
    },
    {
     "name": "stdout",
     "output_type": "stream",
     "text": [
      "Cell_emb: 2, sm_emb: 32, lr = 0.0005, hidden_channels = 16  >>>  Best epoch: 1716/2000, val_loss: 6.0380\n",
      "---------------------------------\n"
     ]
    },
    {
     "name": "stderr",
     "output_type": "stream",
     "text": [
      "\n"
     ]
    }
   ],
   "source": [
    "cur_model = None\n",
    "cur_valid_loss = float('inf')\n",
    "\n",
    "while not cur_model:\n",
    "    \n",
    "    cur_sub_index = 0\n",
    "    \n",
    "    for _ in range(10):\n",
    "\n",
    "        cur_sub_index += 1\n",
    "\n",
    "        tmp_model, tmp_valid_loss = train(data,\n",
    "                                          train_edge_indeces,\n",
    "                                          valid_edge_indeces,\n",
    "                                          train_edge2feat,\n",
    "                                          valid_edge2feat,\n",
    "                                          train_mask,\n",
    "                                          valid_mask,\n",
    "                                          BM_mask,\n",
    "                                          alpha=1.0,\n",
    "                                          cell_emb_dim=2,\n",
    "                                          sm_emb_dim=32,\n",
    "                                          lr=5e-4,\n",
    "                                          hidden_channels=16,\n",
    "                                          p_dropout=0.2,\n",
    "                                          num_epochs=2000,\n",
    "                                          print_every=-1)\n",
    "\n",
    "        if tmp_valid_loss >= 4.5:\n",
    "            continue\n",
    "\n",
    "        \"\"\"\n",
    "        Save all models\n",
    "        \"\"\"\n",
    "        cur_valid_loss = tmp_valid_loss\n",
    "        cur_model = tmp_model\n",
    "        cur_model_name = 'model_1109_exp4_' + str(cur_sub_index)\n",
    "        print(cur_model_name)\n",
    "        print(cur_model)\n",
    "        final_submission(data=data, model_name=cur_model_name, model=cur_model)\n",
    "        torch.save(cur_model.state_dict(), os.path.join('../pyg_models/', cur_model_name+'.pth'))"
   ]
  },
  {
   "cell_type": "markdown",
   "id": "2c59f6f7-d5b8-4fe1-9e5b-0bf085979dfd",
   "metadata": {},
   "source": [
    "### Experiment 5"
   ]
  },
  {
   "cell_type": "code",
   "execution_count": 49,
   "id": "5eac00df-4bd1-4682-8e8e-dbd32499fab0",
   "metadata": {
    "tags": []
   },
   "outputs": [],
   "source": [
    "from torch_geometric.nn import SAGEConv, to_hetero\n",
    "from torch.nn import Linear, Dropout, Embedding\n",
    "import torch.nn.functional as F\n",
    "\n",
    "class GNN(torch.nn.Module):\n",
    "    \"\"\"\n",
    "    Compute node embedding\n",
    "    \"\"\"\n",
    "    def __init__(self, hidden_channels, p_dropout=0.2):\n",
    "        super().__init__()       \n",
    "        self.conv1 = SAGEConv(-1, hidden_channels, normalize=True)\n",
    "        self.conv2 = SAGEConv(hidden_channels, hidden_channels, normalize=True)\n",
    "        self.dropout1 = Dropout(p=p_dropout)\n",
    "        \n",
    "    def forward(self, x, edge_index):\n",
    "        x = self.dropout1(F.elu(self.conv1(x, edge_index)))        \n",
    "        x = self.conv2(x, edge_index)\n",
    "        return x\n",
    "\n",
    "class MLP(torch.nn.Module):\n",
    "    \"\"\"\n",
    "    Model that predicts the gene expression given node features at the two ends\n",
    "    \n",
    "    1020: Change inner layer from (1024, 1024) units to (256, 256) units \n",
    "    1020: Change inner layer from (256, 1024) units to (512, 2048) units \n",
    "    \"\"\"\n",
    "    def __init__(self, hidden_channels, p_dropout=0.2):\n",
    "        super().__init__()\n",
    "\n",
    "        self.dropout1 = Dropout(p=p_dropout)\n",
    "        self.dropout2 = Dropout(p=p_dropout)\n",
    "        \n",
    "        self.layer1 = Linear(2*hidden_channels, 512)\n",
    "        self.layer2 = Linear(512, 2048)\n",
    "        self.layer3 = Linear(2048, 18211)\n",
    "    \n",
    "    def forward(self, x_cell, x_sm, edge_label_index):\n",
    "        \n",
    "        # Retrieve embeddings from the two nodes\n",
    "        feat_cell = x_cell[edge_label_index[0]]  # dim = hidden_channels\n",
    "        feat_sm = x_sm[edge_label_index[1]]  #  dim = hidden_channels\n",
    "\n",
    "        # calculate the gene expression\n",
    "        y = torch.cat((feat_cell, feat_sm), dim=1)  # dim = 2*hidden_channels\n",
    "        \n",
    "        y = F.relu(self.layer1(y))  # dim = 256\n",
    "        y = self.dropout1(y)\n",
    "        \n",
    "        y = F.relu(self.layer2(y))  # dim = 1024\n",
    "        y = self.dropout2(y)\n",
    "        \n",
    "        y = self.layer3(y)  # dim = 18211\n",
    "        \n",
    "        return y\n",
    "\n",
    "\n",
    "class Model(torch.nn.Module):\n",
    "    def __init__(self, data, cell_emb_dim, sm_emb_dim, hidden_channels, p_dropout):\n",
    "        super().__init__()\n",
    "\n",
    "        # cell emb for each cell type\n",
    "        self.cell_emb = Embedding(data[\"cell\"].num_nodes, cell_emb_dim)\n",
    "        \n",
    "        \"\"\"\n",
    "        1027 - change from hidden_channels to 64\n",
    "        \"\"\"\n",
    "        # cell emb leveraging control gene expression\n",
    "        #self.cell_lin = Linear(18211, hidden_channels)\n",
    "        self.cell_lin = Linear(18211, 64)\n",
    "\n",
    "        # sm emb for each sm type\n",
    "        if sm_emb_dim > 0:\n",
    "            self.sm_emb = Embedding(data[\"sm\"].num_nodes, sm_emb_dim)\n",
    "        else:\n",
    "            self.sm_emb = None\n",
    "        # sm emb leveraging SMILES embedding\n",
    "        self.sm_lin = Linear(768, hidden_channels)\n",
    "        \n",
    "        # Instantiate homogeneous GNN:\n",
    "        self.gnn = GNN(hidden_channels=hidden_channels, p_dropout=p_dropout)\n",
    "        # Convert GNN model into a heterogeneous variant:\n",
    "        self.gnn = to_hetero(self.gnn, metadata=data.metadata())\n",
    "        \n",
    "        self.MLP = MLP(hidden_channels=hidden_channels, p_dropout=p_dropout)\n",
    "        \n",
    "                \n",
    "    def forward(self, data):\n",
    "        # calculate node embedding\n",
    "        #x_cell = self.cell_emb(data[\"cell\"].node_id)\n",
    "        x_cell = torch.cat((self.cell_emb(data[\"cell\"].node_id), self.cell_lin(data[\"cell\"].x)), dim=1)\n",
    "        \n",
    "        \n",
    "        if self.sm_emb:\n",
    "            x_sm = torch.cat((self.sm_emb(data[\"sm\"].node_id), self.sm_lin(data[\"sm\"].x)), dim=1)\n",
    "        else:\n",
    "            x_sm = self.sm_lin(data[\"sm\"].x)\n",
    "            \n",
    "        \n",
    "        x_dict = {\n",
    "          \"cell\": x_cell,\n",
    "          \"sm\": x_sm,\n",
    "        } \n",
    "\n",
    "        # compute final node embedding\n",
    "        x_dict = self.gnn(x_dict, data.edge_index_dict)\n",
    "\n",
    "        # Use node embedding to predict gene expression\n",
    "        pred = self.MLP(\n",
    "            x_dict[\"cell\"],\n",
    "            x_dict[\"sm\"],\n",
    "            data[\"cell\", \"gene_exp\", \"sm\"].edge_label_index,\n",
    "        )\n",
    "        return pred"
   ]
  },
  {
   "cell_type": "code",
   "execution_count": 50,
   "id": "64aa41fd-befc-4b0a-bbe7-fbf4f8ae442b",
   "metadata": {
    "tags": []
   },
   "outputs": [
    {
     "name": "stderr",
     "output_type": "stream",
     "text": [
      "100%|███████████████████████████████████████████████████████████████████| 2000/2000 [01:26<00:00, 23.11it/s]\n"
     ]
    },
    {
     "name": "stdout",
     "output_type": "stream",
     "text": [
      "Cell_emb: 2, sm_emb: 32, lr = 0.0005, hidden_channels = 16  >>>  Best epoch: 1882/2000, val_loss: 5.2758\n",
      "---------------------------------\n"
     ]
    },
    {
     "name": "stderr",
     "output_type": "stream",
     "text": [
      "100%|███████████████████████████████████████████████████████████████████| 2000/2000 [01:24<00:00, 23.69it/s]\n"
     ]
    },
    {
     "name": "stdout",
     "output_type": "stream",
     "text": [
      "Cell_emb: 2, sm_emb: 32, lr = 0.0005, hidden_channels = 16  >>>  Best epoch: 1491/2000, val_loss: 5.8024\n",
      "---------------------------------\n"
     ]
    },
    {
     "name": "stderr",
     "output_type": "stream",
     "text": [
      "100%|███████████████████████████████████████████████████████████████████| 2000/2000 [01:24<00:00, 23.74it/s]\n"
     ]
    },
    {
     "name": "stdout",
     "output_type": "stream",
     "text": [
      "Cell_emb: 2, sm_emb: 32, lr = 0.0005, hidden_channels = 16  >>>  Best epoch: 1803/2000, val_loss: 4.1337\n",
      "---------------------------------\n",
      "model_1109_exp5_3\n",
      "Model(\n",
      "  (cell_emb): Embedding(6, 2)\n",
      "  (cell_lin): Linear(in_features=18211, out_features=64, bias=True)\n",
      "  (sm_emb): Embedding(146, 32)\n",
      "  (sm_lin): Linear(in_features=768, out_features=16, bias=True)\n",
      "  (gnn): GraphModule(\n",
      "    (conv1): Module(\n",
      "      (cell__gene_exp__sm): SAGEConv(-1, 16, aggr=mean)\n",
      "      (sm__rev_gene_exp__cell): SAGEConv(-1, 16, aggr=mean)\n",
      "    )\n",
      "    (dropout1): Module(\n",
      "      (cell): Dropout(p=0.2, inplace=False)\n",
      "      (sm): Dropout(p=0.2, inplace=False)\n",
      "    )\n",
      "    (conv2): Module(\n",
      "      (cell__gene_exp__sm): SAGEConv(16, 16, aggr=mean)\n",
      "      (sm__rev_gene_exp__cell): SAGEConv(16, 16, aggr=mean)\n",
      "    )\n",
      "  )\n",
      "  (MLP): MLP(\n",
      "    (dropout1): Dropout(p=0.2, inplace=False)\n",
      "    (dropout2): Dropout(p=0.2, inplace=False)\n",
      "    (layer1): Linear(in_features=32, out_features=512, bias=True)\n",
      "    (layer2): Linear(in_features=512, out_features=2048, bias=True)\n",
      "    (layer3): Linear(in_features=2048, out_features=18211, bias=True)\n",
      "  )\n",
      ")\n"
     ]
    },
    {
     "name": "stderr",
     "output_type": "stream",
     "text": [
      "100%|█████████████████████████████████████████████████████████████████████| 255/255 [01:03<00:00,  4.00it/s]\n"
     ]
    },
    {
     "name": "stdout",
     "output_type": "stream",
     "text": [
      "File saved.\n",
      "(255, 18212)\n"
     ]
    },
    {
     "name": "stderr",
     "output_type": "stream",
     "text": [
      "100%|███████████████████████████████████████████████████████████████████| 2000/2000 [01:24<00:00, 23.61it/s]\n"
     ]
    },
    {
     "name": "stdout",
     "output_type": "stream",
     "text": [
      "Cell_emb: 2, sm_emb: 32, lr = 0.0005, hidden_channels = 16  >>>  Best epoch: 1561/2000, val_loss: 4.6954\n",
      "---------------------------------\n"
     ]
    },
    {
     "name": "stderr",
     "output_type": "stream",
     "text": [
      "100%|███████████████████████████████████████████████████████████████████| 2000/2000 [01:24<00:00, 23.73it/s]\n"
     ]
    },
    {
     "name": "stdout",
     "output_type": "stream",
     "text": [
      "Cell_emb: 2, sm_emb: 32, lr = 0.0005, hidden_channels = 16  >>>  Best epoch: 676/2000, val_loss: 5.5468\n",
      "---------------------------------\n"
     ]
    },
    {
     "name": "stderr",
     "output_type": "stream",
     "text": [
      "100%|███████████████████████████████████████████████████████████████████| 2000/2000 [01:26<00:00, 23.17it/s]\n"
     ]
    },
    {
     "name": "stdout",
     "output_type": "stream",
     "text": [
      "Cell_emb: 2, sm_emb: 32, lr = 0.0005, hidden_channels = 16  >>>  Best epoch: 1315/2000, val_loss: 4.4636\n",
      "---------------------------------\n",
      "model_1109_exp5_6\n",
      "Model(\n",
      "  (cell_emb): Embedding(6, 2)\n",
      "  (cell_lin): Linear(in_features=18211, out_features=64, bias=True)\n",
      "  (sm_emb): Embedding(146, 32)\n",
      "  (sm_lin): Linear(in_features=768, out_features=16, bias=True)\n",
      "  (gnn): GraphModule(\n",
      "    (conv1): Module(\n",
      "      (cell__gene_exp__sm): SAGEConv(-1, 16, aggr=mean)\n",
      "      (sm__rev_gene_exp__cell): SAGEConv(-1, 16, aggr=mean)\n",
      "    )\n",
      "    (dropout1): Module(\n",
      "      (cell): Dropout(p=0.2, inplace=False)\n",
      "      (sm): Dropout(p=0.2, inplace=False)\n",
      "    )\n",
      "    (conv2): Module(\n",
      "      (cell__gene_exp__sm): SAGEConv(16, 16, aggr=mean)\n",
      "      (sm__rev_gene_exp__cell): SAGEConv(16, 16, aggr=mean)\n",
      "    )\n",
      "  )\n",
      "  (MLP): MLP(\n",
      "    (dropout1): Dropout(p=0.2, inplace=False)\n",
      "    (dropout2): Dropout(p=0.2, inplace=False)\n",
      "    (layer1): Linear(in_features=32, out_features=512, bias=True)\n",
      "    (layer2): Linear(in_features=512, out_features=2048, bias=True)\n",
      "    (layer3): Linear(in_features=2048, out_features=18211, bias=True)\n",
      "  )\n",
      ")\n"
     ]
    },
    {
     "name": "stderr",
     "output_type": "stream",
     "text": [
      "100%|█████████████████████████████████████████████████████████████████████| 255/255 [01:04<00:00,  3.98it/s]\n"
     ]
    },
    {
     "name": "stdout",
     "output_type": "stream",
     "text": [
      "File saved.\n",
      "(255, 18212)\n"
     ]
    },
    {
     "name": "stderr",
     "output_type": "stream",
     "text": [
      "100%|███████████████████████████████████████████████████████████████████| 2000/2000 [01:24<00:00, 23.58it/s]\n"
     ]
    },
    {
     "name": "stdout",
     "output_type": "stream",
     "text": [
      "Cell_emb: 2, sm_emb: 32, lr = 0.0005, hidden_channels = 16  >>>  Best epoch: 1927/2000, val_loss: 4.3343\n",
      "---------------------------------\n",
      "model_1109_exp5_7\n",
      "Model(\n",
      "  (cell_emb): Embedding(6, 2)\n",
      "  (cell_lin): Linear(in_features=18211, out_features=64, bias=True)\n",
      "  (sm_emb): Embedding(146, 32)\n",
      "  (sm_lin): Linear(in_features=768, out_features=16, bias=True)\n",
      "  (gnn): GraphModule(\n",
      "    (conv1): Module(\n",
      "      (cell__gene_exp__sm): SAGEConv(-1, 16, aggr=mean)\n",
      "      (sm__rev_gene_exp__cell): SAGEConv(-1, 16, aggr=mean)\n",
      "    )\n",
      "    (dropout1): Module(\n",
      "      (cell): Dropout(p=0.2, inplace=False)\n",
      "      (sm): Dropout(p=0.2, inplace=False)\n",
      "    )\n",
      "    (conv2): Module(\n",
      "      (cell__gene_exp__sm): SAGEConv(16, 16, aggr=mean)\n",
      "      (sm__rev_gene_exp__cell): SAGEConv(16, 16, aggr=mean)\n",
      "    )\n",
      "  )\n",
      "  (MLP): MLP(\n",
      "    (dropout1): Dropout(p=0.2, inplace=False)\n",
      "    (dropout2): Dropout(p=0.2, inplace=False)\n",
      "    (layer1): Linear(in_features=32, out_features=512, bias=True)\n",
      "    (layer2): Linear(in_features=512, out_features=2048, bias=True)\n",
      "    (layer3): Linear(in_features=2048, out_features=18211, bias=True)\n",
      "  )\n",
      ")\n"
     ]
    },
    {
     "name": "stderr",
     "output_type": "stream",
     "text": [
      "100%|█████████████████████████████████████████████████████████████████████| 255/255 [01:04<00:00,  3.95it/s]\n"
     ]
    },
    {
     "name": "stdout",
     "output_type": "stream",
     "text": [
      "File saved.\n",
      "(255, 18212)\n"
     ]
    },
    {
     "name": "stderr",
     "output_type": "stream",
     "text": [
      "100%|███████████████████████████████████████████████████████████████████| 2000/2000 [01:25<00:00, 23.34it/s]\n"
     ]
    },
    {
     "name": "stdout",
     "output_type": "stream",
     "text": [
      "Cell_emb: 2, sm_emb: 32, lr = 0.0005, hidden_channels = 16  >>>  Best epoch: 957/2000, val_loss: 5.6597\n",
      "---------------------------------\n"
     ]
    },
    {
     "name": "stderr",
     "output_type": "stream",
     "text": [
      "100%|███████████████████████████████████████████████████████████████████| 2000/2000 [01:25<00:00, 23.34it/s]\n"
     ]
    },
    {
     "name": "stdout",
     "output_type": "stream",
     "text": [
      "Cell_emb: 2, sm_emb: 32, lr = 0.0005, hidden_channels = 16  >>>  Best epoch: 1765/2000, val_loss: 4.8355\n",
      "---------------------------------\n"
     ]
    },
    {
     "name": "stderr",
     "output_type": "stream",
     "text": [
      "100%|███████████████████████████████████████████████████████████████████| 2000/2000 [01:25<00:00, 23.29it/s]"
     ]
    },
    {
     "name": "stdout",
     "output_type": "stream",
     "text": [
      "Cell_emb: 2, sm_emb: 32, lr = 0.0005, hidden_channels = 16  >>>  Best epoch: 1834/2000, val_loss: 5.1686\n",
      "---------------------------------\n"
     ]
    },
    {
     "name": "stderr",
     "output_type": "stream",
     "text": [
      "\n"
     ]
    }
   ],
   "source": [
    "cur_model = None\n",
    "cur_valid_loss = float('inf')\n",
    "\n",
    "while not cur_model:\n",
    "    \n",
    "    cur_sub_index = 0\n",
    "    \n",
    "    for _ in range(10):\n",
    "\n",
    "        cur_sub_index += 1\n",
    "\n",
    "        tmp_model, tmp_valid_loss = train(data,\n",
    "                                          train_edge_indeces,\n",
    "                                          valid_edge_indeces,\n",
    "                                          train_edge2feat,\n",
    "                                          valid_edge2feat,\n",
    "                                          train_mask,\n",
    "                                          valid_mask,\n",
    "                                          BM_mask,\n",
    "                                          alpha=1.0,\n",
    "                                          cell_emb_dim=2,\n",
    "                                          sm_emb_dim=32,\n",
    "                                          lr=5e-4,\n",
    "                                          hidden_channels=16,\n",
    "                                          p_dropout=0.2,\n",
    "                                          num_epochs=2000,\n",
    "                                          print_every=-1)\n",
    "\n",
    "        if tmp_valid_loss >= 4.5:\n",
    "            continue\n",
    "\n",
    "        \"\"\"\n",
    "        Save all models\n",
    "        \"\"\"\n",
    "        cur_valid_loss = tmp_valid_loss\n",
    "        cur_model = tmp_model\n",
    "        cur_model_name = 'model_1109_exp5_' + str(cur_sub_index)\n",
    "        print(cur_model_name)\n",
    "        print(cur_model)\n",
    "        final_submission(data=data, model_name=cur_model_name, model=cur_model)\n",
    "        torch.save(cur_model.state_dict(), os.path.join('../pyg_models/', cur_model_name+'.pth'))"
   ]
  },
  {
   "cell_type": "markdown",
   "id": "d38ac6ad-ba40-4177-89c9-70d410651452",
   "metadata": {},
   "source": [
    "### Experiment 6 -- Validation error only considers B and G cells\n",
    "\n",
    "### Model backbone is from 0.594"
   ]
  },
  {
   "cell_type": "code",
   "execution_count": 59,
   "id": "fd8e76ca-74ba-4e26-bcf4-d10fec55f608",
   "metadata": {
    "tags": []
   },
   "outputs": [],
   "source": [
    "def train(data,\n",
    "          train_edge_indeces,\n",
    "          valid_edge_indeces,\n",
    "          train_edge2feat,\n",
    "          valid_edge2feat,\n",
    "          train_mask,\n",
    "          valid_mask,\n",
    "          BM_mask,\n",
    "          alpha=1.0,\n",
    "          cell_emb_dim=1,\n",
    "          sm_emb_dim=4,\n",
    "          lr=0.01,\n",
    "          hidden_channels=32,\n",
    "          p_dropout=0.1,\n",
    "          num_epochs=100,\n",
    "          print_every=1):\n",
    "    \n",
    "    # clone data\n",
    "    data = data.clone()\n",
    "    \n",
    "    # show device information\n",
    "    device = torch.device('cuda' if torch.cuda.is_available() else 'cpu')\n",
    "\n",
    "    # create model (data, cell_emb_dim, sm_emb_dim, hidden_channels, p_dropout)\n",
    "    model = Model(data=data,\n",
    "                  cell_emb_dim=cell_emb_dim,\n",
    "                  sm_emb_dim=sm_emb_dim,\n",
    "                  hidden_channels=hidden_channels,\n",
    "                  p_dropout=p_dropout).to(device)\n",
    "    \n",
    "    model = model.to(device)\n",
    "    \n",
    "    # print hypoparameters and model settings\n",
    "    if print_every > 0:\n",
    "        print(\"Device: {}, lr = {}, hidden_channels = {}, num_epochs = {}\".format(device, lr, hidden_channels, num_epochs))\n",
    "        print(model)\n",
    "\n",
    "    # prepare data\n",
    "    data = data.to(device)\n",
    "    \n",
    "    train_BM_mask = np.logical_and(train_mask, BM_mask).to(device).bool()\n",
    "    valid_BM_mask = np.logical_and(valid_mask, BM_mask).to(device).bool()\n",
    "    \n",
    "    train_mask = train_mask.to(device)\n",
    "    valid_mask = valid_mask.to(device)\n",
    "    BM_mask = BM_mask.to(device)\n",
    "    \n",
    "    # optimizer\n",
    "    optimizer = torch.optim.Adam(model.parameters(), lr=lr)\n",
    "    \n",
    "    # model with best performance\n",
    "    best_epoch = 0\n",
    "    best_valid_loss = float('inf')\n",
    "    best_model = copy.deepcopy(model)\n",
    "    \n",
    "    # ground truths for training and validation\n",
    "    with torch.no_grad():\n",
    "        target = []\n",
    "        traget_BM = []\n",
    "        \n",
    "        valid_target = []\n",
    "        valid_target_BM = []\n",
    "        \n",
    "        for i in range(data['cell', 'gene_exp', 'sm'].edge_label_index.shape[1]):\n",
    "            cell_idx = data['cell', 'gene_exp', 'sm'].edge_label_index[0, i].item()\n",
    "            sm_idx = data['cell', 'gene_exp', 'sm'].edge_label_index[1, i].item()\n",
    "\n",
    "            # training\n",
    "            if (cell_idx, sm_idx) in train_edge_indeces:\n",
    "                target.append([train_edge2feat[(cell_idx, sm_idx)]])\n",
    "                \n",
    "                # training + kaggle targets\n",
    "                if cell_idx in [c2index['B cells'], c2index['Myeloid cells']]:\n",
    "                    traget_BM.append([train_edge2feat[(cell_idx, sm_idx)]])\n",
    "            \n",
    "            # validation\n",
    "            elif (cell_idx, sm_idx) in valid_edge_indeces:\n",
    "                valid_target.append([valid_edge2feat[(cell_idx, sm_idx)]])\n",
    "                \n",
    "                # validation + kaggle targets\n",
    "                if cell_idx in [c2index['B cells'], c2index['Myeloid cells']]:\n",
    "                    valid_target_BM.append([valid_edge2feat[(cell_idx, sm_idx)]])    \n",
    "                    \n",
    "\n",
    "        target = torch.from_numpy(np.array(target)).float().squeeze().to(device)  # (491, 18211)\n",
    "        target_BM = torch.from_numpy(np.array(traget_BM)).float().squeeze().to(device)  # (27, 18211)\n",
    "\n",
    "        valid_target = torch.from_numpy(np.array(valid_target)).float().squeeze()  # (123, 18211)\n",
    "        valid_target_BM = torch.from_numpy(np.array(valid_target_BM)).float().squeeze()  # (7, 18211)\n",
    "        \n",
    "        \n",
    "        N_train = target.shape[0]\n",
    "        N_train_BM = target_BM.shape[0]\n",
    "        \n",
    "        N_valid = valid_target.shape[0]\n",
    "        N_valid_BM = valid_target_BM.shape[0]\n",
    "    \n",
    "    \n",
    "    for epoch in tqdm.tqdm(range(1, num_epochs+1)):\n",
    "                \n",
    "        optimizer.zero_grad()\n",
    "        \n",
    "        \"\"\"\n",
    "        Train\n",
    "        \"\"\"\n",
    "        model.train()\n",
    "        pred = model(data)  # (876, 18211)\n",
    "               \n",
    "        # 1107 edited\n",
    "        total_train_loss = (alpha-1.0)*(N_train_BM/N_train)*F.mse_loss(pred[train_BM_mask[0]], target_BM) + F.mse_loss(pred[train_mask[0]], target)\n",
    "\n",
    "        total_train_loss.backward()\n",
    "        optimizer.step()\n",
    "        \n",
    "        \"\"\"\n",
    "        Validation\n",
    "        \"\"\"\n",
    "        model.eval()\n",
    "        with torch.no_grad():\n",
    "            \n",
    "            total_valid_loss = mean_squared_error(valid_target_BM.numpy(), pred[valid_BM_mask[0]].detach().cpu().numpy())\n",
    "               \n",
    "            # check if model is better\n",
    "            if total_valid_loss < best_valid_loss:\n",
    "                best_epoch = epoch\n",
    "                best_valid_loss = total_valid_loss\n",
    "                best_model = copy.deepcopy(model)\n",
    "                best_status = '<<<'\n",
    "            else:\n",
    "                best_status = ''\n",
    "\n",
    "        if print_every > 0:\n",
    "            if (epoch-1) % print_every == 0:\n",
    "                print(\"Epoch: {:03d}, Loss: {:.4f}, Val: {:.4f} {}\".format(epoch, total_train_loss, total_valid_loss, best_status))\n",
    "            elif epoch == num_epochs:\n",
    "                print(\"Epoch: {:03d}, Loss: {:.4f}, Val: {:.4f} {}\".format(epoch, total_train_loss, total_valid_loss, best_status))\n",
    "\n",
    "    if print_every > 0:\n",
    "        print(\"\\nBest epoch: {}, val_loss: {:.4f}\".format(best_epoch, best_valid_loss))\n",
    "    else:\n",
    "        print(\"Cell_emb: {}, sm_emb: {}, lr = {}, hidden_channels = {}  >>>  \".format(cell_emb_dim, sm_emb_dim, lr, hidden_channels) +\n",
    "              \"Best epoch: {}/{}, val_loss: {:.4f}\".format(best_epoch, num_epochs, best_valid_loss))\n",
    "        \n",
    "    print(\"---------------------------------\")\n",
    "    return best_model, best_valid_loss"
   ]
  },
  {
   "cell_type": "code",
   "execution_count": 60,
   "id": "9ca4ca9b-c95e-40da-850b-6c50fa5b44a6",
   "metadata": {
    "tags": []
   },
   "outputs": [],
   "source": [
    "from torch_geometric.nn import SAGEConv, to_hetero\n",
    "from torch.nn import Linear, Dropout, Embedding\n",
    "import torch.nn.functional as F\n",
    "\n",
    "class GNN(torch.nn.Module):\n",
    "    \"\"\"\n",
    "    Compute node embedding\n",
    "    \"\"\"\n",
    "    def __init__(self, hidden_channels, p_dropout=0.2):\n",
    "        super().__init__()       \n",
    "        self.conv1 = SAGEConv(-1, hidden_channels, normalize=True)\n",
    "        self.conv2 = SAGEConv(hidden_channels, hidden_channels, normalize=True)\n",
    "        self.dropout1 = Dropout(p=p_dropout)\n",
    "        \n",
    "    def forward(self, x, edge_index):\n",
    "        x = self.dropout1(F.elu(self.conv1(x, edge_index)))        \n",
    "        x = self.conv2(x, edge_index)\n",
    "        return x\n",
    "\n",
    "class MLP(torch.nn.Module):\n",
    "    \"\"\"\n",
    "    Model that predicts the gene expression given node features at the two ends\n",
    "    \n",
    "    1020: Change inner layer from (1024, 1024) units to (256, 256) units \n",
    "    \"\"\"\n",
    "    def __init__(self, hidden_channels, p_dropout=0.2):\n",
    "        super().__init__()\n",
    "\n",
    "        self.dropout1 = Dropout(p=p_dropout)\n",
    "        self.dropout2 = Dropout(p=p_dropout)\n",
    "        \n",
    "        self.layer1 = Linear(2*hidden_channels, 256)\n",
    "        self.layer2 = Linear(256, 1024)\n",
    "        self.layer3 = Linear(1024, 18211)\n",
    "    \n",
    "    def forward(self, x_cell, x_sm, edge_label_index):\n",
    "        \n",
    "        # Retrieve embeddings from the two nodes\n",
    "        feat_cell = x_cell[edge_label_index[0]]  # dim = hidden_channels\n",
    "        feat_sm = x_sm[edge_label_index[1]]  #  dim = hidden_channels\n",
    "\n",
    "        # calculate the gene expression\n",
    "        y = torch.cat((feat_cell, feat_sm), dim=1)  # dim = 2*hidden_channels\n",
    "        \n",
    "        y = F.relu(self.layer1(y))  # dim = 256\n",
    "        y = self.dropout1(y)\n",
    "        \n",
    "        y = F.relu(self.layer2(y))  # dim = 1024\n",
    "        y = self.dropout2(y)\n",
    "        \n",
    "        y = self.layer3(y)  # dim = 18211\n",
    "        \n",
    "        return y\n",
    "\n",
    "\n",
    "class Model(torch.nn.Module):\n",
    "    def __init__(self, data, cell_emb_dim, sm_emb_dim, hidden_channels, p_dropout):\n",
    "        super().__init__()\n",
    "\n",
    "        # cell emb for each cell type\n",
    "        self.cell_emb = Embedding(data[\"cell\"].num_nodes, cell_emb_dim)\n",
    "        \n",
    "        \"\"\"\n",
    "        1027 - change from hidden_channels to 64\n",
    "        \"\"\"\n",
    "        # cell emb leveraging control gene expression\n",
    "        #self.cell_lin = Linear(18211, hidden_channels)\n",
    "        self.cell_lin = Linear(18211, 64)\n",
    "\n",
    "        # sm emb for each sm type\n",
    "        if sm_emb_dim > 0:\n",
    "            self.sm_emb = Embedding(data[\"sm\"].num_nodes, sm_emb_dim)\n",
    "        else:\n",
    "            self.sm_emb = None\n",
    "        # sm emb leveraging SMILES embedding\n",
    "        self.sm_lin = Linear(768, hidden_channels)\n",
    "        \n",
    "        # Instantiate homogeneous GNN:\n",
    "        self.gnn = GNN(hidden_channels=hidden_channels, p_dropout=p_dropout)\n",
    "        # Convert GNN model into a heterogeneous variant:\n",
    "        self.gnn = to_hetero(self.gnn, metadata=data.metadata())\n",
    "        \n",
    "        self.MLP = MLP(hidden_channels=hidden_channels, p_dropout=p_dropout)\n",
    "        \n",
    "                \n",
    "    def forward(self, data):\n",
    "        # calculate node embedding\n",
    "        #x_cell = self.cell_emb(data[\"cell\"].node_id)\n",
    "        x_cell = torch.cat((self.cell_emb(data[\"cell\"].node_id), self.cell_lin(data[\"cell\"].x)), dim=1)\n",
    "        \n",
    "        \n",
    "        if self.sm_emb:\n",
    "            x_sm = torch.cat((self.sm_emb(data[\"sm\"].node_id), self.sm_lin(data[\"sm\"].x)), dim=1)\n",
    "        else:\n",
    "            x_sm = self.sm_lin(data[\"sm\"].x)\n",
    "            \n",
    "        \n",
    "        x_dict = {\n",
    "          \"cell\": x_cell,\n",
    "          \"sm\": x_sm,\n",
    "        } \n",
    "\n",
    "        # compute final node embedding\n",
    "        x_dict = self.gnn(x_dict, data.edge_index_dict)\n",
    "\n",
    "        # Use node embedding to predict gene expression\n",
    "        pred = self.MLP(\n",
    "            x_dict[\"cell\"],\n",
    "            x_dict[\"sm\"],\n",
    "            data[\"cell\", \"gene_exp\", \"sm\"].edge_label_index,\n",
    "        )\n",
    "        return pred"
   ]
  },
  {
   "cell_type": "code",
   "execution_count": 61,
   "id": "ef92a26e-3fe2-4394-a979-52f755f9273f",
   "metadata": {
    "tags": []
   },
   "outputs": [
    {
     "name": "stderr",
     "output_type": "stream",
     "text": [
      "100%|███████████████████████████████████████████████████████████████████| 2000/2000 [00:45<00:00, 44.40it/s]\n"
     ]
    },
    {
     "name": "stdout",
     "output_type": "stream",
     "text": [
      "Cell_emb: 2, sm_emb: 32, lr = 0.0005, hidden_channels = 16  >>>  Best epoch: 749/2000, val_loss: 9.1092\n",
      "---------------------------------\n"
     ]
    },
    {
     "name": "stderr",
     "output_type": "stream",
     "text": [
      "100%|███████████████████████████████████████████████████████████████████| 2000/2000 [00:44<00:00, 44.52it/s]\n"
     ]
    },
    {
     "name": "stdout",
     "output_type": "stream",
     "text": [
      "Cell_emb: 2, sm_emb: 32, lr = 0.0005, hidden_channels = 16  >>>  Best epoch: 986/2000, val_loss: 8.2229\n",
      "---------------------------------\n"
     ]
    },
    {
     "name": "stderr",
     "output_type": "stream",
     "text": [
      "100%|███████████████████████████████████████████████████████████████████| 2000/2000 [00:44<00:00, 45.00it/s]\n"
     ]
    },
    {
     "name": "stdout",
     "output_type": "stream",
     "text": [
      "Cell_emb: 2, sm_emb: 32, lr = 0.0005, hidden_channels = 16  >>>  Best epoch: 760/2000, val_loss: 8.2096\n",
      "---------------------------------\n"
     ]
    },
    {
     "name": "stderr",
     "output_type": "stream",
     "text": [
      "100%|███████████████████████████████████████████████████████████████████| 2000/2000 [00:45<00:00, 43.94it/s]\n"
     ]
    },
    {
     "name": "stdout",
     "output_type": "stream",
     "text": [
      "Cell_emb: 2, sm_emb: 32, lr = 0.0005, hidden_channels = 16  >>>  Best epoch: 819/2000, val_loss: 8.4633\n",
      "---------------------------------\n"
     ]
    },
    {
     "name": "stderr",
     "output_type": "stream",
     "text": [
      "100%|███████████████████████████████████████████████████████████████████| 2000/2000 [00:44<00:00, 44.68it/s]\n"
     ]
    },
    {
     "name": "stdout",
     "output_type": "stream",
     "text": [
      "Cell_emb: 2, sm_emb: 32, lr = 0.0005, hidden_channels = 16  >>>  Best epoch: 711/2000, val_loss: 8.3839\n",
      "---------------------------------\n"
     ]
    },
    {
     "name": "stderr",
     "output_type": "stream",
     "text": [
      "100%|███████████████████████████████████████████████████████████████████| 2000/2000 [00:45<00:00, 44.17it/s]\n"
     ]
    },
    {
     "name": "stdout",
     "output_type": "stream",
     "text": [
      "Cell_emb: 2, sm_emb: 32, lr = 0.0005, hidden_channels = 16  >>>  Best epoch: 1542/2000, val_loss: 7.1488\n",
      "---------------------------------\n"
     ]
    },
    {
     "name": "stderr",
     "output_type": "stream",
     "text": [
      "100%|███████████████████████████████████████████████████████████████████| 2000/2000 [00:45<00:00, 44.13it/s]\n"
     ]
    },
    {
     "name": "stdout",
     "output_type": "stream",
     "text": [
      "Cell_emb: 2, sm_emb: 32, lr = 0.0005, hidden_channels = 16  >>>  Best epoch: 789/2000, val_loss: 7.5599\n",
      "---------------------------------\n"
     ]
    },
    {
     "name": "stderr",
     "output_type": "stream",
     "text": [
      "100%|███████████████████████████████████████████████████████████████████| 2000/2000 [00:44<00:00, 44.49it/s]\n"
     ]
    },
    {
     "name": "stdout",
     "output_type": "stream",
     "text": [
      "Cell_emb: 2, sm_emb: 32, lr = 0.0005, hidden_channels = 16  >>>  Best epoch: 668/2000, val_loss: 7.8817\n",
      "---------------------------------\n"
     ]
    },
    {
     "name": "stderr",
     "output_type": "stream",
     "text": [
      "100%|███████████████████████████████████████████████████████████████████| 2000/2000 [00:45<00:00, 44.33it/s]\n"
     ]
    },
    {
     "name": "stdout",
     "output_type": "stream",
     "text": [
      "Cell_emb: 2, sm_emb: 32, lr = 0.0005, hidden_channels = 16  >>>  Best epoch: 747/2000, val_loss: 7.9478\n",
      "---------------------------------\n"
     ]
    },
    {
     "name": "stderr",
     "output_type": "stream",
     "text": [
      "100%|███████████████████████████████████████████████████████████████████| 2000/2000 [00:45<00:00, 44.12it/s]\n"
     ]
    },
    {
     "name": "stdout",
     "output_type": "stream",
     "text": [
      "Cell_emb: 2, sm_emb: 32, lr = 0.0005, hidden_channels = 16  >>>  Best epoch: 957/2000, val_loss: 7.8973\n",
      "---------------------------------\n"
     ]
    },
    {
     "name": "stderr",
     "output_type": "stream",
     "text": [
      "100%|███████████████████████████████████████████████████████████████████| 2000/2000 [00:44<00:00, 44.63it/s]\n"
     ]
    },
    {
     "name": "stdout",
     "output_type": "stream",
     "text": [
      "Cell_emb: 2, sm_emb: 32, lr = 0.0005, hidden_channels = 16  >>>  Best epoch: 1005/2000, val_loss: 7.8590\n",
      "---------------------------------\n"
     ]
    },
    {
     "name": "stderr",
     "output_type": "stream",
     "text": [
      "100%|███████████████████████████████████████████████████████████████████| 2000/2000 [00:45<00:00, 44.22it/s]\n"
     ]
    },
    {
     "name": "stdout",
     "output_type": "stream",
     "text": [
      "Cell_emb: 2, sm_emb: 32, lr = 0.0005, hidden_channels = 16  >>>  Best epoch: 731/2000, val_loss: 9.0770\n",
      "---------------------------------\n"
     ]
    },
    {
     "name": "stderr",
     "output_type": "stream",
     "text": [
      "100%|███████████████████████████████████████████████████████████████████| 2000/2000 [00:45<00:00, 44.00it/s]\n"
     ]
    },
    {
     "name": "stdout",
     "output_type": "stream",
     "text": [
      "Cell_emb: 2, sm_emb: 32, lr = 0.0005, hidden_channels = 16  >>>  Best epoch: 535/2000, val_loss: 8.1703\n",
      "---------------------------------\n"
     ]
    },
    {
     "name": "stderr",
     "output_type": "stream",
     "text": [
      "100%|███████████████████████████████████████████████████████████████████| 2000/2000 [00:45<00:00, 43.60it/s]\n"
     ]
    },
    {
     "name": "stdout",
     "output_type": "stream",
     "text": [
      "Cell_emb: 2, sm_emb: 32, lr = 0.0005, hidden_channels = 16  >>>  Best epoch: 1035/2000, val_loss: 7.9565\n",
      "---------------------------------\n"
     ]
    },
    {
     "name": "stderr",
     "output_type": "stream",
     "text": [
      "100%|███████████████████████████████████████████████████████████████████| 2000/2000 [00:45<00:00, 44.16it/s]\n"
     ]
    },
    {
     "name": "stdout",
     "output_type": "stream",
     "text": [
      "Cell_emb: 2, sm_emb: 32, lr = 0.0005, hidden_channels = 16  >>>  Best epoch: 679/2000, val_loss: 7.6298\n",
      "---------------------------------\n"
     ]
    },
    {
     "name": "stderr",
     "output_type": "stream",
     "text": [
      "100%|███████████████████████████████████████████████████████████████████| 2000/2000 [00:44<00:00, 44.61it/s]\n"
     ]
    },
    {
     "name": "stdout",
     "output_type": "stream",
     "text": [
      "Cell_emb: 2, sm_emb: 32, lr = 0.0005, hidden_channels = 16  >>>  Best epoch: 1482/2000, val_loss: 8.1742\n",
      "---------------------------------\n"
     ]
    },
    {
     "name": "stderr",
     "output_type": "stream",
     "text": [
      "100%|███████████████████████████████████████████████████████████████████| 2000/2000 [00:45<00:00, 44.30it/s]\n"
     ]
    },
    {
     "name": "stdout",
     "output_type": "stream",
     "text": [
      "Cell_emb: 2, sm_emb: 32, lr = 0.0005, hidden_channels = 16  >>>  Best epoch: 1312/2000, val_loss: 7.8740\n",
      "---------------------------------\n"
     ]
    },
    {
     "name": "stderr",
     "output_type": "stream",
     "text": [
      "100%|███████████████████████████████████████████████████████████████████| 2000/2000 [00:44<00:00, 44.47it/s]\n"
     ]
    },
    {
     "name": "stdout",
     "output_type": "stream",
     "text": [
      "Cell_emb: 2, sm_emb: 32, lr = 0.0005, hidden_channels = 16  >>>  Best epoch: 1117/2000, val_loss: 7.0806\n",
      "---------------------------------\n"
     ]
    },
    {
     "name": "stderr",
     "output_type": "stream",
     "text": [
      "100%|███████████████████████████████████████████████████████████████████| 2000/2000 [00:44<00:00, 44.59it/s]\n"
     ]
    },
    {
     "name": "stdout",
     "output_type": "stream",
     "text": [
      "Cell_emb: 2, sm_emb: 32, lr = 0.0005, hidden_channels = 16  >>>  Best epoch: 951/2000, val_loss: 8.9297\n",
      "---------------------------------\n"
     ]
    },
    {
     "name": "stderr",
     "output_type": "stream",
     "text": [
      "100%|███████████████████████████████████████████████████████████████████| 2000/2000 [00:45<00:00, 44.22it/s]"
     ]
    },
    {
     "name": "stdout",
     "output_type": "stream",
     "text": [
      "Cell_emb: 2, sm_emb: 32, lr = 0.0005, hidden_channels = 16  >>>  Best epoch: 1061/2000, val_loss: 9.0092\n",
      "---------------------------------\n"
     ]
    },
    {
     "name": "stderr",
     "output_type": "stream",
     "text": [
      "\n"
     ]
    }
   ],
   "source": [
    "for _ in range(20):\n",
    "\n",
    "    tmp_model, tmp_valid_loss = train(data,\n",
    "                                      train_edge_indeces,\n",
    "                                      valid_edge_indeces,\n",
    "                                      train_edge2feat,\n",
    "                                      valid_edge2feat,\n",
    "                                      train_mask,\n",
    "                                      valid_mask,\n",
    "                                      BM_mask,\n",
    "                                      alpha=1.0,\n",
    "                                      cell_emb_dim=2,\n",
    "                                      sm_emb_dim=32,\n",
    "                                      lr=5e-4,\n",
    "                                      hidden_channels=16,\n",
    "                                      p_dropout=0.2,\n",
    "                                      num_epochs=2000,\n",
    "                                      print_every=-1)"
   ]
  },
  {
   "cell_type": "code",
   "execution_count": 62,
   "id": "044a55e7-70df-4628-aa44-bfd51c4cc9cd",
   "metadata": {
    "tags": []
   },
   "outputs": [
    {
     "name": "stderr",
     "output_type": "stream",
     "text": [
      "100%|███████████████████████████████████████████████████████████████████| 2000/2000 [00:45<00:00, 44.37it/s]\n"
     ]
    },
    {
     "name": "stdout",
     "output_type": "stream",
     "text": [
      "Cell_emb: 2, sm_emb: 32, lr = 0.0005, hidden_channels = 16  >>>  Best epoch: 1352/2000, val_loss: 7.7714\n",
      "---------------------------------\n"
     ]
    },
    {
     "name": "stderr",
     "output_type": "stream",
     "text": [
      "100%|███████████████████████████████████████████████████████████████████| 2000/2000 [00:44<00:00, 44.60it/s]\n"
     ]
    },
    {
     "name": "stdout",
     "output_type": "stream",
     "text": [
      "Cell_emb: 2, sm_emb: 32, lr = 0.0005, hidden_channels = 16  >>>  Best epoch: 1064/2000, val_loss: 7.8516\n",
      "---------------------------------\n"
     ]
    },
    {
     "name": "stderr",
     "output_type": "stream",
     "text": [
      "100%|███████████████████████████████████████████████████████████████████| 2000/2000 [00:45<00:00, 44.34it/s]\n"
     ]
    },
    {
     "name": "stdout",
     "output_type": "stream",
     "text": [
      "Cell_emb: 2, sm_emb: 32, lr = 0.0005, hidden_channels = 16  >>>  Best epoch: 751/2000, val_loss: 8.1462\n",
      "---------------------------------\n"
     ]
    },
    {
     "name": "stderr",
     "output_type": "stream",
     "text": [
      "100%|███████████████████████████████████████████████████████████████████| 2000/2000 [00:45<00:00, 44.25it/s]\n"
     ]
    },
    {
     "name": "stdout",
     "output_type": "stream",
     "text": [
      "Cell_emb: 2, sm_emb: 32, lr = 0.0005, hidden_channels = 16  >>>  Best epoch: 859/2000, val_loss: 7.7518\n",
      "---------------------------------\n"
     ]
    },
    {
     "name": "stderr",
     "output_type": "stream",
     "text": [
      "100%|███████████████████████████████████████████████████████████████████| 2000/2000 [00:46<00:00, 42.77it/s]\n"
     ]
    },
    {
     "name": "stdout",
     "output_type": "stream",
     "text": [
      "Cell_emb: 2, sm_emb: 32, lr = 0.0005, hidden_channels = 16  >>>  Best epoch: 1246/2000, val_loss: 7.4393\n",
      "---------------------------------\n",
      "model_1109_exp6_5\n",
      "Model(\n",
      "  (cell_emb): Embedding(6, 2)\n",
      "  (cell_lin): Linear(in_features=18211, out_features=64, bias=True)\n",
      "  (sm_emb): Embedding(146, 32)\n",
      "  (sm_lin): Linear(in_features=768, out_features=16, bias=True)\n",
      "  (gnn): GraphModule(\n",
      "    (conv1): Module(\n",
      "      (cell__gene_exp__sm): SAGEConv(-1, 16, aggr=mean)\n",
      "      (sm__rev_gene_exp__cell): SAGEConv(-1, 16, aggr=mean)\n",
      "    )\n",
      "    (dropout1): Module(\n",
      "      (cell): Dropout(p=0.2, inplace=False)\n",
      "      (sm): Dropout(p=0.2, inplace=False)\n",
      "    )\n",
      "    (conv2): Module(\n",
      "      (cell__gene_exp__sm): SAGEConv(16, 16, aggr=mean)\n",
      "      (sm__rev_gene_exp__cell): SAGEConv(16, 16, aggr=mean)\n",
      "    )\n",
      "  )\n",
      "  (MLP): MLP(\n",
      "    (dropout1): Dropout(p=0.2, inplace=False)\n",
      "    (dropout2): Dropout(p=0.2, inplace=False)\n",
      "    (layer1): Linear(in_features=32, out_features=256, bias=True)\n",
      "    (layer2): Linear(in_features=256, out_features=1024, bias=True)\n",
      "    (layer3): Linear(in_features=1024, out_features=18211, bias=True)\n",
      "  )\n",
      ")\n"
     ]
    },
    {
     "name": "stderr",
     "output_type": "stream",
     "text": [
      "100%|█████████████████████████████████████████████████████████████████████| 255/255 [01:05<00:00,  3.89it/s]\n"
     ]
    },
    {
     "name": "stdout",
     "output_type": "stream",
     "text": [
      "File saved.\n",
      "(255, 18212)\n"
     ]
    },
    {
     "name": "stderr",
     "output_type": "stream",
     "text": [
      "100%|███████████████████████████████████████████████████████████████████| 2000/2000 [00:44<00:00, 44.48it/s]\n"
     ]
    },
    {
     "name": "stdout",
     "output_type": "stream",
     "text": [
      "Cell_emb: 2, sm_emb: 32, lr = 0.0005, hidden_channels = 16  >>>  Best epoch: 518/2000, val_loss: 8.6442\n",
      "---------------------------------\n"
     ]
    },
    {
     "name": "stderr",
     "output_type": "stream",
     "text": [
      "100%|███████████████████████████████████████████████████████████████████| 2000/2000 [00:45<00:00, 44.11it/s]\n"
     ]
    },
    {
     "name": "stdout",
     "output_type": "stream",
     "text": [
      "Cell_emb: 2, sm_emb: 32, lr = 0.0005, hidden_channels = 16  >>>  Best epoch: 1224/2000, val_loss: 7.8396\n",
      "---------------------------------\n"
     ]
    },
    {
     "name": "stderr",
     "output_type": "stream",
     "text": [
      "100%|███████████████████████████████████████████████████████████████████| 2000/2000 [00:46<00:00, 43.15it/s]\n"
     ]
    },
    {
     "name": "stdout",
     "output_type": "stream",
     "text": [
      "Cell_emb: 2, sm_emb: 32, lr = 0.0005, hidden_channels = 16  >>>  Best epoch: 1055/2000, val_loss: 8.0958\n",
      "---------------------------------\n"
     ]
    },
    {
     "name": "stderr",
     "output_type": "stream",
     "text": [
      "100%|███████████████████████████████████████████████████████████████████| 2000/2000 [00:45<00:00, 43.68it/s]\n"
     ]
    },
    {
     "name": "stdout",
     "output_type": "stream",
     "text": [
      "Cell_emb: 2, sm_emb: 32, lr = 0.0005, hidden_channels = 16  >>>  Best epoch: 1976/2000, val_loss: 8.5091\n",
      "---------------------------------\n"
     ]
    },
    {
     "name": "stderr",
     "output_type": "stream",
     "text": [
      "100%|███████████████████████████████████████████████████████████████████| 2000/2000 [00:45<00:00, 43.91it/s]"
     ]
    },
    {
     "name": "stdout",
     "output_type": "stream",
     "text": [
      "Cell_emb: 2, sm_emb: 32, lr = 0.0005, hidden_channels = 16  >>>  Best epoch: 660/2000, val_loss: 8.8226\n",
      "---------------------------------\n"
     ]
    },
    {
     "name": "stderr",
     "output_type": "stream",
     "text": [
      "\n"
     ]
    }
   ],
   "source": [
    "cur_model = None\n",
    "cur_valid_loss = float('inf')\n",
    "\n",
    "while not cur_model:\n",
    "    \n",
    "    cur_sub_index = 0\n",
    "    \n",
    "    for _ in range(10):\n",
    "\n",
    "        cur_sub_index += 1\n",
    "\n",
    "        tmp_model, tmp_valid_loss = train(data,\n",
    "                                          train_edge_indeces,\n",
    "                                          valid_edge_indeces,\n",
    "                                          train_edge2feat,\n",
    "                                          valid_edge2feat,\n",
    "                                          train_mask,\n",
    "                                          valid_mask,\n",
    "                                          BM_mask,\n",
    "                                          alpha=1.0,\n",
    "                                          cell_emb_dim=2,\n",
    "                                          sm_emb_dim=32,\n",
    "                                          lr=5e-4,\n",
    "                                          hidden_channels=16,\n",
    "                                          p_dropout=0.2,\n",
    "                                          num_epochs=2000,\n",
    "                                          print_every=-1)\n",
    "\n",
    "        if tmp_valid_loss >= 7.5:\n",
    "            continue\n",
    "\n",
    "        \"\"\"\n",
    "        Save all models\n",
    "        \"\"\"\n",
    "        cur_valid_loss = tmp_valid_loss\n",
    "        cur_model = tmp_model\n",
    "        cur_model_name = 'model_1109_exp6_' + str(cur_sub_index)\n",
    "        print(cur_model_name)\n",
    "        print(cur_model)\n",
    "        final_submission(data=data, model_name=cur_model_name, model=cur_model)\n",
    "        torch.save(cur_model.state_dict(), os.path.join('../pyg_models/', cur_model_name+'.pth'))"
   ]
  }
 ],
 "metadata": {
  "kernelspec": {
   "display_name": "Python 3 (ipykernel)",
   "language": "python",
   "name": "python3"
  },
  "language_info": {
   "codemirror_mode": {
    "name": "ipython",
    "version": 3
   },
   "file_extension": ".py",
   "mimetype": "text/x-python",
   "name": "python",
   "nbconvert_exporter": "python",
   "pygments_lexer": "ipython3",
   "version": "3.11.5"
  }
 },
 "nbformat": 4,
 "nbformat_minor": 5
}
